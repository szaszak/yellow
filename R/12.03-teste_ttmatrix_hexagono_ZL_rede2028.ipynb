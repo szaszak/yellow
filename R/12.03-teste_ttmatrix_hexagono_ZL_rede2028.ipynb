{
 "cells": [
  {
   "cell_type": "markdown",
   "id": "0ac633ed",
   "metadata": {},
   "source": [
    "### Este é o mesmo script do anterior, só mudando a rede para 2028 e as pastas de destino\n",
    "\n",
    "Comando para rodar o GraphHopper no terminal - atenção para o PBF a ser carregado:\n",
    "\n",
    "**PBF da Rede 2028; custom model ajustado (LTS)**\n",
    "\n",
    "clear && cd /home/livre/Desktop/Base_GtsRegionais/GitLab/yellow_src/graphhopper/ && rm -rf graph-cache/ && java -Ddw.graphhopper.datareader.file=/home/livre/Desktop/Base_GtsRegionais/GitLab/yellow_dados/07_graphhopper/05_PBFs_SP_rede_2028/20220216_sao_paulo_edited_20230527_B_infraciclo_referencia.osm.pbf -jar graphhopper/web/target/graphhopper-web-*.jar server graphhopper/config-example_LTS.yml"
   ]
  },
  {
   "cell_type": "code",
   "execution_count": 1,
   "id": "88593da8",
   "metadata": {},
   "outputs": [],
   "source": [
    "# carregar bibliotecas\n",
    "suppressPackageStartupMessages(library('tidyverse'))\n",
    "suppressPackageStartupMessages(library('tidylog'))\n",
    "suppressPackageStartupMessages(library('sf'))\n",
    "suppressPackageStartupMessages(library('httr'))\n",
    "suppressPackageStartupMessages(library('jsonlite'))"
   ]
  },
  {
   "cell_type": "code",
   "execution_count": 2,
   "id": "65e16264",
   "metadata": {},
   "outputs": [
    {
     "name": "stderr",
     "output_type": "stream",
     "text": [
      "Loading required package: future\n",
      "\n"
     ]
    },
    {
     "data": {
      "text/html": [
       "TRUE"
      ],
      "text/latex": [
       "TRUE"
      ],
      "text/markdown": [
       "TRUE"
      ],
      "text/plain": [
       "[1] TRUE"
      ]
     },
     "metadata": {},
     "output_type": "display_data"
    }
   ],
   "source": [
    "# Aplicar funcoes em paralelo\n",
    "library('future.apply')\n",
    "# Checando: Jupyter suporta multicore?\n",
    "future::supportsMulticore()"
   ]
  },
  {
   "cell_type": "code",
   "execution_count": 3,
   "id": "da556e38",
   "metadata": {},
   "outputs": [
    {
     "data": {
      "text/html": [
       "<strong>system:</strong> 8"
      ],
      "text/latex": [
       "\\textbf{system:} 8"
      ],
      "text/markdown": [
       "**system:** 8"
      ],
      "text/plain": [
       "system \n",
       "     8 "
      ]
     },
     "metadata": {},
     "output_type": "display_data"
    }
   ],
   "source": [
    "# https://stackoverflow.com/questions/40536067/how-to-adjust-future-global-maxsize\n",
    "# For 850MB: 850*1024^2 = 891289600\n",
    "# For +1.3GB: 1500*1024^2 = 1572864000\n",
    "# options(future.globals.maxSize = 891289600)\n",
    "options(future.globals.maxSize = 5e6) # 5 MB\n",
    "options(future.globals.maxSize = 50*1024^2) # 50 MB\n",
    "parallelly::availableCores()"
   ]
  },
  {
   "cell_type": "code",
   "execution_count": 4,
   "id": "73184f23",
   "metadata": {},
   "outputs": [],
   "source": [
    "# Estrutura de pastas\n",
    "pasta_dados       <- \"../../yellow_dados\"\n",
    "dados_originais   <- sprintf(\"%s/00_dados_originais/IPEA\", pasta_dados)\n",
    "pasta_aop_rev     <- sprintf(\"%s/12_aop_revisitado\", pasta_dados)\n",
    "pasta_aoprev_hex  <- sprintf(\"%s/01_hexagonos_26_vizinhos\", pasta_aop_rev)\n",
    "pasta_aoprv_teste <- sprintf(\"%s/02_teste_aop_alternatives\", pasta_aop_rev)\n",
    "pasta_osmids_aopt2 <- sprintf(\"%s/C_2028_osm_way_ids_aop\", pasta_aoprv_teste)\n",
    "pasta_rotas_aopt2  <- sprintf(\"%s/D_2028_rotas_modeladas_alternatives\", pasta_aoprv_teste)\n",
    "dir.create(pasta_osmids_aopt2, recursive = TRUE, showWarnings = FALSE)\n",
    "dir.create(pasta_rotas_aopt2, recursive = TRUE, showWarnings = FALSE)"
   ]
  },
  {
   "cell_type": "code",
   "execution_count": 5,
   "id": "4c86ec61",
   "metadata": {},
   "outputs": [],
   "source": [
    "# ------------------------------------------------------------------------------\n",
    "# Routing a partir de dois pontos com rotas alternativas (até 3 por par OD)\n",
    "# ------------------------------------------------------------------------------\n",
    "\n",
    "# Faz query de routing no GraphHopper e retorna resultados principais em dataframe,\n",
    "# com rotas até 3 alternativas por par OD - aceita um dataframe de uma linha como\n",
    "# entrada\n",
    "gh_route_alt <- function(hex_id) {\n",
    "  # url <- 'http://localhost:8989/route/?point=-23.5314933121698%2C-46.634354542765&point=-23.5390199310058%2C-46.6376369484305&profile=bike&instructions=false&calc_points=true&details=average_speed'\n",
    "  # url <- ods_vgs %>% slice(1) %>% select(url) %>% pull()\n",
    "  # Estação Vila Madalena: -23.546258,-46.690898\n",
    "  # IME: -23.559007,-46.73208\n",
    "  # CCSP: -23.571498,-46.639806\n",
    "  \n",
    "  # hex_id <- '89a81046b2fffff-89a81044d8fffff'\n",
    "  # hex_id <- hex_com_vizinhos %>% head(1) %>% select(id) %>% pull()\n",
    "  df_line <- hex_com_vizinhos %>% filter(id == hex_id)\n",
    "  # Encurtar hex_id - todos aqui são '89a81' + 6 caracteres de dígito ou letra = 'ffff'\n",
    "  hex_id_short <- str_replace(hex_id, '^89a81([a-z0-9]{6})ffff-89a81([a-z0-9]{6})ffff', '\\\\1-\\\\2')\n",
    "  hex_id_base  <- str_sub(hex_id_short, 1, 6)\n",
    "  \n",
    "  # Fazer a GET de roteamento no Grahphopper\n",
    "  # print(df_line$url)\n",
    "  gh_response <- GET(df_line$url)\n",
    "  \n",
    "  # Mensagem tem que ser \"Success: (200) OK\"\n",
    "  if (http_status(gh_response)$message == 'Success: (200) OK') {\n",
    "    \n",
    "    # Resposta da query, já colapsada e transformada em dataframe\n",
    "    # Remover aviso de 'No encoding supplied: defaulting to UTF-8' na linha fromJSON()\n",
    "    suppressMessages(\n",
    "      response_text <- \n",
    "        # Ignorar aviso 'argument is not an atomic vector; coercing'\n",
    "        suppressWarnings(str_c(content(gh_response, 'text'), collapse = \", \")) %>% \n",
    "        # Concatenar toda a string de resultados\n",
    "        str_c(\"[\", ., \"]\") %>% \n",
    "        # Transformar em dataframe\n",
    "        fromJSON() %>% \n",
    "        as.data.frame()\n",
    "    )\n",
    "    \n",
    "    # Nos interessa a coluna de 'paths', como um novo dataframe\n",
    "    paths <- response_text$paths %>% as.data.frame()\n",
    "    \n",
    "    # Puxar osm_way_ids dos resultados de cada alternativa e gravar em pasta separada\n",
    "    for (i in seq(1, length(paths$details$osm_way_id))) {\n",
    "      # i <- 1\n",
    "      osm_ways <- paths$details$osm_way_id[i] %>% as.data.frame()\n",
    "      \n",
    "      if (nrow(osm_ways) > 0) {\n",
    "        # Manter somente osm_ids e inserir número da rota alternativa\n",
    "        osm_ways <- osm_ways %>% select(osm_way_id = X3) %>% mutate(hex_id = hex_id_short,\n",
    "                                                                    alt = i,\n",
    "                                                                    index = row_number(),\n",
    "                                                                    .before = 'osm_way_id')\n",
    "        # Gravar resultados agrupados por hex_id_short de origem\n",
    "        osm_way_out <- sprintf('%s/%s.csv', pasta_osmids_aopt2, hex_id_base)\n",
    "        if (file.exists(osm_way_out)) {\n",
    "          write_delim(osm_ways, osm_way_out, delim = ';', append = TRUE)\n",
    "        } else {\n",
    "          write_delim(osm_ways, osm_way_out, delim = ';', append = FALSE)\n",
    "        }\n",
    "        \n",
    "      } else {\n",
    "        # Se não há osm_way_ids, é porque os pontos estão muito próximos uns dos\n",
    "        # outros, mesmo que seja um osm_way_id diferente entre a origem e o \n",
    "        # destino. A distância e a velocidade calculadas vão ser zero também - \n",
    "        # pular este registro, que vai ser vazio\n",
    "        return(sprintf('Pulando: %s não tem osm_way_ids (provavelmente tem distância = 0)', hex_id))\n",
    "      }\n",
    "      \n",
    "    }\n",
    "    \n",
    "    \n",
    "    # Isolar colunas de interesse\n",
    "    paths <- \n",
    "      paths %>% \n",
    "      # Calcular tempo em segundos e velocidade média\n",
    "      mutate(time = time / 1000,\n",
    "             speed = distance / time * 3.6) %>% \n",
    "      # Descartar colunas extras - a coluna poly é o shape da rota traçada\n",
    "      select(distance, weight, time, speed, poly = points)\n",
    "    \n",
    "    # Testar polyline:\n",
    "    # https://valhalla.github.io/demos/polyline/?unescape=true&polyline6=false#%0A\n",
    "    \n",
    "    # Adicionar colunas de informação vindas do dataframe original\n",
    "    paths <- \n",
    "      paths %>% \n",
    "      mutate(hex_id    = hex_id_short,\n",
    "             alt       = row_number(),\n",
    "             # id_hex.x  = df_line$id_hex_x,\n",
    "             # id_hex.y  = df_line$id_hex_y,\n",
    "             .before = 'distance') #%>% \n",
    "    # mutate(lon.x     = df_line$lon.x,\n",
    "    #        lat.x     = df_line$lat.x,\n",
    "    #        lon.y     = df_line$lon.y,\n",
    "    #        lat.y     = df_line$lat.y,\n",
    "    #        .after = 'poly')\n",
    "    \n",
    "  } else {\n",
    "    \n",
    "    # Se a query no GraphHopper não deu resultados, guardar como dataframe vazio\n",
    "    paths <- data.frame(hex_id    = hex_id_short,\n",
    "                        alt       = NA,\n",
    "                        # id_hex.x  = df_line$id_hex_x,\n",
    "                        # id_hex.y  = df_line$id_hex_y,\n",
    "                        distance  = NA,\n",
    "                        weight    = NA,\n",
    "                        time      = NA,\n",
    "                        speed     = NA,\n",
    "                        poly      = NA\n",
    "                        # lon.x     = df_line$lon.x,\n",
    "                        # lat.x     = df_line$lat.x,\n",
    "                        # lon.y     = df_line$lon.y,\n",
    "                        # lat.y     = df_line$lat.y\n",
    "    )\n",
    "    \n",
    "  }\n",
    "  \n",
    "  # Guardar resultados temporários agrupados por hex_id_short de origem\n",
    "  tmp_file <- sprintf('%s/%s_modalt.csv', pasta_rotas_aopt2, hex_id_base)\n",
    "  if (file.exists(tmp_file)) {\n",
    "    write_delim(paths, tmp_file, delim = ';', append = TRUE)\n",
    "  } else {\n",
    "    write_delim(paths, tmp_file, delim = ';', append = FALSE)\n",
    "  }\n",
    "  \n",
    "  # Guardar ids já processados em arquivo próprio\n",
    "  df_line <- df_line %>% select(id)\n",
    "  ids_processados <- sprintf('%s/tmp_00_ids_processados_2028.csv', pasta_aoprv_teste)\n",
    "  \n",
    "  if (file.exists(ids_processados)) {\n",
    "    write_delim(df_line, ids_processados, delim = ';', append = TRUE)\n",
    "  } else {\n",
    "    write_delim(df_line, ids_processados, delim = ';', append = FALSE)\n",
    "  }\n",
    "  \n",
    "}\n"
   ]
  },
  {
   "cell_type": "code",
   "execution_count": 6,
   "id": "36da85a3",
   "metadata": {},
   "outputs": [
    {
     "data": {
      "text/html": [
       "<table class=\"dataframe\">\n",
       "<caption>A tibble: 2 × 2</caption>\n",
       "<thead>\n",
       "\t<tr><th scope=col>id</th><th scope=col>url</th></tr>\n",
       "\t<tr><th scope=col>&lt;chr&gt;</th><th scope=col>&lt;chr&gt;</th></tr>\n",
       "</thead>\n",
       "<tbody>\n",
       "\t<tr><td>89a81044d93ffff-89a81046b67ffff</td><td>http://localhost:8989/route/?point=-23.5484803103983%2C-46.3960561003811&amp;point=-23.5501510338434%2C-46.3930422919616&amp;profile=bike&amp;instructions=false&amp;calc_points=true&amp;algorithm=alternative_route&amp;details=osm_way_id</td></tr>\n",
       "\t<tr><td>89a81044d93ffff-89a81044d9bffff</td><td>http://localhost:8989/route/?point=-23.5484803103983%2C-46.3960561003811&amp;point=-23.5470831732102%2C-46.392953008774&amp;profile=bike&amp;instructions=false&amp;calc_points=true&amp;algorithm=alternative_route&amp;details=osm_way_id </td></tr>\n",
       "</tbody>\n",
       "</table>\n"
      ],
      "text/latex": [
       "A tibble: 2 × 2\n",
       "\\begin{tabular}{ll}\n",
       " id & url\\\\\n",
       " <chr> & <chr>\\\\\n",
       "\\hline\n",
       "\t 89a81044d93ffff-89a81046b67ffff & http://localhost:8989/route/?point=-23.5484803103983\\%2C-46.3960561003811\\&point=-23.5501510338434\\%2C-46.3930422919616\\&profile=bike\\&instructions=false\\&calc\\_points=true\\&algorithm=alternative\\_route\\&details=osm\\_way\\_id\\\\\n",
       "\t 89a81044d93ffff-89a81044d9bffff & http://localhost:8989/route/?point=-23.5484803103983\\%2C-46.3960561003811\\&point=-23.5470831732102\\%2C-46.392953008774\\&profile=bike\\&instructions=false\\&calc\\_points=true\\&algorithm=alternative\\_route\\&details=osm\\_way\\_id \\\\\n",
       "\\end{tabular}\n"
      ],
      "text/markdown": [
       "\n",
       "A tibble: 2 × 2\n",
       "\n",
       "| id &lt;chr&gt; | url &lt;chr&gt; |\n",
       "|---|---|\n",
       "| 89a81044d93ffff-89a81046b67ffff | http://localhost:8989/route/?point=-23.5484803103983%2C-46.3960561003811&amp;point=-23.5501510338434%2C-46.3930422919616&amp;profile=bike&amp;instructions=false&amp;calc_points=true&amp;algorithm=alternative_route&amp;details=osm_way_id |\n",
       "| 89a81044d93ffff-89a81044d9bffff | http://localhost:8989/route/?point=-23.5484803103983%2C-46.3960561003811&amp;point=-23.5470831732102%2C-46.392953008774&amp;profile=bike&amp;instructions=false&amp;calc_points=true&amp;algorithm=alternative_route&amp;details=osm_way_id  |\n",
       "\n"
      ],
      "text/plain": [
       "  id                             \n",
       "1 89a81044d93ffff-89a81046b67ffff\n",
       "2 89a81044d93ffff-89a81044d9bffff\n",
       "  url                                                                                                                                                                                                                 \n",
       "1 http://localhost:8989/route/?point=-23.5484803103983%2C-46.3960561003811&point=-23.5501510338434%2C-46.3930422919616&profile=bike&instructions=false&calc_points=true&algorithm=alternative_route&details=osm_way_id\n",
       "2 http://localhost:8989/route/?point=-23.5484803103983%2C-46.3960561003811&point=-23.5470831732102%2C-46.392953008774&profile=bike&instructions=false&calc_points=true&algorithm=alternative_route&details=osm_way_id "
      ]
     },
     "metadata": {},
     "output_type": "display_data"
    }
   ],
   "source": [
    "# ------------------------------------------------------------------------------\n",
    "# Routing a partir de dois pontos\n",
    "# ------------------------------------------------------------------------------\n",
    "\n",
    "# Guardar resultados - base integral\n",
    "hex_com_vizinhos <- sprintf('%s/00_base_para_teste_routing_res09_26vizinhos.csv', pasta_aoprv_teste)\n",
    "hex_com_vizinhos <- read_delim(hex_com_vizinhos, delim = ';', col_types = 'cc')\n",
    "head(hex_com_vizinhos, 2)\n",
    "\n",
    "\n",
    "# # Checar quais resultados já foram rodados - abrir lista, puxar ids e remover\n",
    "# # do dataframe hex_com_vizinhos se houver\n",
    "# # library('tidylog')\n",
    "# arqs_resultados  <- data.frame(arq = list.files(pasta_rotas_aopt, recursive = FALSE, full.names = FALSE))\n",
    "# arqs_resultados  <- arqs_resultados %>% mutate(hex_id = str_replace(arq, '_modalt.csv', ''))\n",
    "# hex_com_vizinhos <- hex_com_vizinhos %>% filter(!id %in% arqs_resultados$hex_id)\n",
    "# rm(arqs_resultados)"
   ]
  },
  {
   "cell_type": "code",
   "execution_count": 7,
   "id": "406d2cfc",
   "metadata": {},
   "outputs": [
    {
     "data": {
      "text/html": [
       "<table class=\"dataframe\">\n",
       "<caption>A matrix: 2 × 6 of type dbl</caption>\n",
       "<thead>\n",
       "\t<tr><th></th><th scope=col>used</th><th scope=col>(Mb)</th><th scope=col>gc trigger</th><th scope=col>(Mb)</th><th scope=col>max used</th><th scope=col>(Mb)</th></tr>\n",
       "</thead>\n",
       "<tbody>\n",
       "\t<tr><th scope=row>Ncells</th><td>1147073</td><td>61.3</td><td>2036520</td><td>108.8</td><td>2036520</td><td>108.8</td></tr>\n",
       "\t<tr><th scope=row>Vcells</th><td>2058556</td><td>15.8</td><td>8388608</td><td> 64.0</td><td>3021787</td><td> 23.1</td></tr>\n",
       "</tbody>\n",
       "</table>\n"
      ],
      "text/latex": [
       "A matrix: 2 × 6 of type dbl\n",
       "\\begin{tabular}{r|llllll}\n",
       "  & used & (Mb) & gc trigger & (Mb) & max used & (Mb)\\\\\n",
       "\\hline\n",
       "\tNcells & 1147073 & 61.3 & 2036520 & 108.8 & 2036520 & 108.8\\\\\n",
       "\tVcells & 2058556 & 15.8 & 8388608 &  64.0 & 3021787 &  23.1\\\\\n",
       "\\end{tabular}\n"
      ],
      "text/markdown": [
       "\n",
       "A matrix: 2 × 6 of type dbl\n",
       "\n",
       "| <!--/--> | used | (Mb) | gc trigger | (Mb) | max used | (Mb) |\n",
       "|---|---|---|---|---|---|---|\n",
       "| Ncells | 1147073 | 61.3 | 2036520 | 108.8 | 2036520 | 108.8 |\n",
       "| Vcells | 2058556 | 15.8 | 8388608 |  64.0 | 3021787 |  23.1 |\n",
       "\n"
      ],
      "text/plain": [
       "       used    (Mb) gc trigger (Mb)  max used (Mb) \n",
       "Ncells 1147073 61.3 2036520    108.8 2036520  108.8\n",
       "Vcells 2058556 15.8 8388608     64.0 3021787   23.1"
      ]
     },
     "metadata": {},
     "output_type": "display_data"
    },
    {
     "data": {
      "text/html": [
       "<table class=\"dataframe\">\n",
       "<caption>A tibble: 2 × 2</caption>\n",
       "<thead>\n",
       "\t<tr><th scope=col>id</th><th scope=col>url</th></tr>\n",
       "\t<tr><th scope=col>&lt;chr&gt;</th><th scope=col>&lt;chr&gt;</th></tr>\n",
       "</thead>\n",
       "<tbody>\n",
       "\t<tr><td>89a81044d93ffff-89a81046b67ffff</td><td>http://localhost:8989/route/?point=-23.5484803103983%2C-46.3960561003811&amp;point=-23.5501510338434%2C-46.3930422919616&amp;profile=bike&amp;instructions=false&amp;calc_points=true&amp;algorithm=alternative_route&amp;details=osm_way_id</td></tr>\n",
       "\t<tr><td>89a81044d93ffff-89a81044d9bffff</td><td>http://localhost:8989/route/?point=-23.5484803103983%2C-46.3960561003811&amp;point=-23.5470831732102%2C-46.392953008774&amp;profile=bike&amp;instructions=false&amp;calc_points=true&amp;algorithm=alternative_route&amp;details=osm_way_id </td></tr>\n",
       "</tbody>\n",
       "</table>\n"
      ],
      "text/latex": [
       "A tibble: 2 × 2\n",
       "\\begin{tabular}{ll}\n",
       " id & url\\\\\n",
       " <chr> & <chr>\\\\\n",
       "\\hline\n",
       "\t 89a81044d93ffff-89a81046b67ffff & http://localhost:8989/route/?point=-23.5484803103983\\%2C-46.3960561003811\\&point=-23.5501510338434\\%2C-46.3930422919616\\&profile=bike\\&instructions=false\\&calc\\_points=true\\&algorithm=alternative\\_route\\&details=osm\\_way\\_id\\\\\n",
       "\t 89a81044d93ffff-89a81044d9bffff & http://localhost:8989/route/?point=-23.5484803103983\\%2C-46.3960561003811\\&point=-23.5470831732102\\%2C-46.392953008774\\&profile=bike\\&instructions=false\\&calc\\_points=true\\&algorithm=alternative\\_route\\&details=osm\\_way\\_id \\\\\n",
       "\\end{tabular}\n"
      ],
      "text/markdown": [
       "\n",
       "A tibble: 2 × 2\n",
       "\n",
       "| id &lt;chr&gt; | url &lt;chr&gt; |\n",
       "|---|---|\n",
       "| 89a81044d93ffff-89a81046b67ffff | http://localhost:8989/route/?point=-23.5484803103983%2C-46.3960561003811&amp;point=-23.5501510338434%2C-46.3930422919616&amp;profile=bike&amp;instructions=false&amp;calc_points=true&amp;algorithm=alternative_route&amp;details=osm_way_id |\n",
       "| 89a81044d93ffff-89a81044d9bffff | http://localhost:8989/route/?point=-23.5484803103983%2C-46.3960561003811&amp;point=-23.5470831732102%2C-46.392953008774&amp;profile=bike&amp;instructions=false&amp;calc_points=true&amp;algorithm=alternative_route&amp;details=osm_way_id  |\n",
       "\n"
      ],
      "text/plain": [
       "  id                             \n",
       "1 89a81044d93ffff-89a81046b67ffff\n",
       "2 89a81044d93ffff-89a81044d9bffff\n",
       "  url                                                                                                                                                                                                                 \n",
       "1 http://localhost:8989/route/?point=-23.5484803103983%2C-46.3960561003811&point=-23.5501510338434%2C-46.3930422919616&profile=bike&instructions=false&calc_points=true&algorithm=alternative_route&details=osm_way_id\n",
       "2 http://localhost:8989/route/?point=-23.5484803103983%2C-46.3960561003811&point=-23.5470831732102%2C-46.392953008774&profile=bike&instructions=false&calc_points=true&algorithm=alternative_route&details=osm_way_id "
      ]
     },
     "metadata": {},
     "output_type": "display_data"
    },
    {
     "data": {
      "text/html": [
       "2114"
      ],
      "text/latex": [
       "2114"
      ],
      "text/markdown": [
       "2114"
      ],
      "text/plain": [
       "[1] 2114"
      ]
     },
     "metadata": {},
     "output_type": "display_data"
    }
   ],
   "source": [
    "# Arquivos já processados\n",
    "ids_processados <- sprintf('%s/tmp_00_ids_processados_2028.csv', pasta_aoprv_teste)\n",
    "\n",
    "# Checar quais resultados já foram rodados - abrir lista, puxar ids e remover\n",
    "# do dataframe hex_com_vizinhos se houver\n",
    "# library('tidylog')\n",
    "if (file.exists(ids_processados)) {\n",
    "  arqs_resultados  <- read_delim(ids_processados, delim = ';', col_types = \"c\")\n",
    "  hex_com_vizinhos <- hex_com_vizinhos %>% filter(!id %in% arqs_resultados$id)\n",
    "  rm(arqs_resultados)\n",
    "  print(nrow(hex_com_vizinhos))\n",
    "}\n",
    "\n",
    "# Limpar memória\n",
    "gc(T)\n",
    "\n",
    "head(hex_com_vizinhos, 2)\n",
    "nrow(hex_com_vizinhos)"
   ]
  },
  {
   "cell_type": "code",
   "execution_count": 8,
   "id": "ea20846c",
   "metadata": {},
   "outputs": [],
   "source": [
    "# Para cada linha de origem e destino, gerar rotas modeladas com alternativas\n",
    "detach(\"package:tidylog\")"
   ]
  },
  {
   "cell_type": "code",
   "execution_count": 9,
   "id": "a0cdf2de",
   "metadata": {},
   "outputs": [
    {
     "data": {
      "text/plain": [
       "[1] \"2024-06-09 14:29:37 -03\""
      ]
     },
     "metadata": {},
     "output_type": "display_data"
    },
    {
     "data": {
      "text/plain": [
       "[1] \"2024-06-09 14:30:13 -03\""
      ]
     },
     "metadata": {},
     "output_type": "display_data"
    },
    {
     "data": {
      "text/plain": [
       "Time difference of 36.29759 secs"
      ]
     },
     "metadata": {},
     "output_type": "display_data"
    },
    {
     "data": {
      "text/html": [
       "<table class=\"dataframe\">\n",
       "<caption>A matrix: 2 × 6 of type dbl</caption>\n",
       "<thead>\n",
       "\t<tr><th></th><th scope=col>used</th><th scope=col>(Mb)</th><th scope=col>gc trigger</th><th scope=col>(Mb)</th><th scope=col>max used</th><th scope=col>(Mb)</th></tr>\n",
       "</thead>\n",
       "<tbody>\n",
       "\t<tr><th scope=row>Ncells</th><td>1202259</td><td>64.3</td><td>2036520</td><td>108.8</td><td>2036520</td><td>108.8</td></tr>\n",
       "\t<tr><th scope=row>Vcells</th><td>2119595</td><td>16.2</td><td>8388608</td><td> 64.0</td><td>3704043</td><td> 28.3</td></tr>\n",
       "</tbody>\n",
       "</table>\n"
      ],
      "text/latex": [
       "A matrix: 2 × 6 of type dbl\n",
       "\\begin{tabular}{r|llllll}\n",
       "  & used & (Mb) & gc trigger & (Mb) & max used & (Mb)\\\\\n",
       "\\hline\n",
       "\tNcells & 1202259 & 64.3 & 2036520 & 108.8 & 2036520 & 108.8\\\\\n",
       "\tVcells & 2119595 & 16.2 & 8388608 &  64.0 & 3704043 &  28.3\\\\\n",
       "\\end{tabular}\n"
      ],
      "text/markdown": [
       "\n",
       "A matrix: 2 × 6 of type dbl\n",
       "\n",
       "| <!--/--> | used | (Mb) | gc trigger | (Mb) | max used | (Mb) |\n",
       "|---|---|---|---|---|---|---|\n",
       "| Ncells | 1202259 | 64.3 | 2036520 | 108.8 | 2036520 | 108.8 |\n",
       "| Vcells | 2119595 | 16.2 | 8388608 |  64.0 | 3704043 |  28.3 |\n",
       "\n"
      ],
      "text/plain": [
       "       used    (Mb) gc trigger (Mb)  max used (Mb) \n",
       "Ncells 1202259 64.3 2036520    108.8 2036520  108.8\n",
       "Vcells 2119595 16.2 8388608     64.0 3704043   28.3"
      ]
     },
     "metadata": {},
     "output_type": "display_data"
    }
   ],
   "source": [
    "# Criar ttmatrix a partir do GrahHopper - melhor rodar no Jupyter se for AOP;\n",
    "# se forem só as rotas originais, é ok rodar no RStudio\n",
    "# for (id in hex_com_vizinhos$id) { gh_route_alt(id) }\n",
    "# Rodar função para todos os arquivos- multi thread (Jupyter)\n",
    "(start = Sys.time())\n",
    "future::plan(future::multicore)\n",
    "invisible(future.apply::future_lapply(X   = hex_com_vizinhos$id,\n",
    "                                    FUN = gh_route_alt,\n",
    "                                    future.seed = TRUE))\n",
    "Sys.time()\n",
    "Sys.time() - start\n",
    "\n",
    "# Limpar memória\n",
    "rm(hex_com_vizinhos)  \n",
    "gc(T)"
   ]
  },
  {
   "cell_type": "code",
   "execution_count": null,
   "id": "8233c557",
   "metadata": {},
   "outputs": [],
   "source": []
  }
 ],
 "metadata": {
  "kernelspec": {
   "display_name": "R [conda env:r4_env]",
   "language": "R",
   "name": "conda-env-r4_env-r"
  },
  "language_info": {
   "codemirror_mode": "r",
   "file_extension": ".r",
   "mimetype": "text/x-r-source",
   "name": "R",
   "pygments_lexer": "r",
   "version": "4.0.5"
  }
 },
 "nbformat": 4,
 "nbformat_minor": 5
}
