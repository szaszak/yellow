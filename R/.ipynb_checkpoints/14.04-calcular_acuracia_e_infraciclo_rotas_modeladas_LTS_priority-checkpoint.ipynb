{
 "cells": [
  {
   "cell_type": "code",
   "execution_count": 1,
   "id": "fd37139b",
   "metadata": {},
   "outputs": [],
   "source": [
    "suppressPackageStartupMessages(library('tidyverse'))\n",
    "suppressPackageStartupMessages(library('tidylog'))\n",
    "suppressPackageStartupMessages(library('sf'))\n",
    "# suppressPackageStartupMessageslibrary(('mapview'))\n",
    "suppressPackageStartupMessages(library('googlePolylines'))"
   ]
  },
  {
   "cell_type": "code",
   "execution_count": 2,
   "id": "64ebea4c",
   "metadata": {},
   "outputs": [
    {
     "name": "stderr",
     "output_type": "stream",
     "text": [
      "Carregando pacotes exigidos: future\n",
      "\n"
     ]
    },
    {
     "data": {
      "text/html": [
       "TRUE"
      ],
      "text/latex": [
       "TRUE"
      ],
      "text/markdown": [
       "TRUE"
      ],
      "text/plain": [
       "[1] TRUE"
      ]
     },
     "metadata": {},
     "output_type": "display_data"
    }
   ],
   "source": [
    "# Aplicar funcoes em paralelo\n",
    "library('future.apply')\n",
    "# Checando: Jupyter suporta multicore?\n",
    "future::supportsMulticore()"
   ]
  },
  {
   "cell_type": "code",
   "execution_count": 3,
   "id": "f00d0f24",
   "metadata": {},
   "outputs": [
    {
     "data": {
      "text/html": [
       "<strong>system:</strong> 8"
      ],
      "text/latex": [
       "\\textbf{system:} 8"
      ],
      "text/markdown": [
       "**system:** 8"
      ],
      "text/plain": [
       "system \n",
       "     8 "
      ]
     },
     "metadata": {},
     "output_type": "display_data"
    }
   ],
   "source": [
    "# https://stackoverflow.com/questions/40536067/how-to-adjust-future-global-maxsize\n",
    "# For 850MB: 850*1024^2 = 891289600\n",
    "# For +1.3GB: 1500*1024^2 = 1572864000\n",
    "# options(future.globals.maxSize = 891289600)\n",
    "options(future.globals.maxSize = 5e6) # 5 MB\n",
    "options(future.globals.maxSize = 320*1024^2) # 320 MB\n",
    "parallelly::availableCores()"
   ]
  },
  {
   "cell_type": "code",
   "execution_count": 4,
   "id": "86195a81",
   "metadata": {},
   "outputs": [],
   "source": [
    "# Estrutura de pastas\n",
    "pasta_dados        <- \"../../yellow_dados\"\n",
    "pasta_osm_sp       <- sprintf(\"%s/02_osm_simplificado_sp\", pasta_dados)\n",
    "pasta_map_matching <- sprintf(\"%s/05_map_matching\", pasta_dados)\n",
    "pasta_graphhopper  <- sprintf(\"%s/07_graphhopper\", pasta_dados)\n",
    "pasta_gh_pbfs      <- sprintf(\"%s/03_PBFs_SP_rede_2019\", pasta_graphhopper)\n",
    "pasta_orig_vs_mod  <- sprintf('%s/10_rotas_originais_vs_modeladas', pasta_dados)\n",
    "\n",
    "pasta_aop_2024_2028 <- sprintf(\"%s/14_aop_2024_2028\", pasta_dados)\n",
    "pasta_lts_priority  <- sprintf(\"%s/02_teste_lts_priority\", pasta_aop_2024_2028)\n",
    "pasta_osm_way_ids   <- sprintf(\"%s/01_osm_way_ids_rotas_modeladas\", pasta_lts_priority)\n",
    "# pasta_rotas_modalt <- sprintf(\"%s/02_rotas_modeladas_alternatives\", pasta_lts_priority)\n",
    "pasta_rotas_modalc <- sprintf(\"%s/03_rotas_modeladas_alter_carac\", pasta_lts_priority)\n",
    "dir.create(pasta_rotas_modalc, recursive = TRUE, showWarnings = FALSE)"
   ]
  },
  {
   "cell_type": "code",
   "execution_count": 5,
   "id": "766c0138",
   "metadata": {},
   "outputs": [],
   "source": [
    "# ------------------------------------------------------------------------------\n",
    "# Funções\n",
    "# ------------------------------------------------------------------------------\n",
    "\n",
    "# Transforma linha de polyline para dataframe com latlongs\n",
    "polyline_to_latlong <- function(polyline, trip_id){\n",
    "  # polyline <- viagem$poly; trip_id <- viagem$trip_id\n",
    "  this <- as.data.frame(decode(as.character(polyline)))\n",
    "  this <- this %>% \n",
    "    # Formatação dos pontos está fora do lugar: \n",
    "    # de -235.641 para -23.5641 - ajeitar\n",
    "    mutate(trip_id  = trip_id,\n",
    "           lat = str_replace(lat, '\\\\.', ''),\n",
    "           lon = str_replace(lon, '\\\\.', ''),\n",
    "           lat = as.double(str_replace(lat, '-23', '-23.')),\n",
    "           lon = as.double(str_replace(lon, '-46', '-46.')))\n",
    "  \n",
    "  return(this)\n",
    "}\n",
    "\n",
    "\n",
    "# Transforma dataframe com várias linhas de latlon em sf\n",
    "df_latlong_to_sf <- function(df, trip_id, st_type = 'LINESTRING'){\n",
    "  # df <- this\n",
    "  this <- df %>% \n",
    "    # Transformar em sf\n",
    "    st_as_sf(coords = c(\"lon\", \"lat\"), crs = 4326) %>% \n",
    "    # Transformar pontos em linha - ver possíveis erros em\n",
    "    # https://github.com/r-spatial/sf/issues/321\n",
    "    # # Modo 1 - Com st_coordinates, retorna matriz\n",
    "    # Retrieve coordinates in matrix form \n",
    "    # st_coordinates() %>%\n",
    "    # st_linestring()\n",
    "    # Modo 2 - Com summarize, retorna sf\n",
    "    # Aqui, o summarize pode ser qualquer coisa, o \n",
    "    # importante é o 'do_union=FALSE'\n",
    "    group_by(trip_id) %>% \n",
    "    summarize(m = n(), do_union = FALSE) %>% \n",
    "    select(-m) %>% \n",
    "    st_cast(st_type)\n",
    "  \n",
    "  return(this)\n",
    "}\n",
    "\n",
    "\n",
    "# Insere as distâncias calculadas em vias comuns ou infra cicloviária no df original\n",
    "calcular_dist_ciclo <- function(trip_id_alt) {\n",
    "  # trip_id_alt <- rotas_m$tmp_id[3]\n",
    "  line <- rotas_m %>% filter(tmp_id == trip_id_alt)\n",
    "  \n",
    "  # Puxar osm_ids da rota modelada\n",
    "  trip_id_alt <- list.files(pasta_osm_way_ids, pattern = trip_id_alt, recursive = FALSE, full.names = TRUE)\n",
    "  trip_id_alt <- read_delim(trip_id_alt, delim = ';', col_types = 'cc')\n",
    "  # trip_way_ids <- paste0(\"'\", trip_id_alt$osm_way_id, \"'\", collapse = \",\")\n",
    "  \n",
    "  # Filtrar osm_ids da rota modelada do viário completo de SP\n",
    "  viario_rota <- viario_sp %>% filter(osm_id %in% trip_id_alt$osm_way_id)\n",
    "  # mapview(viario_rota)\n",
    "  \n",
    "  # Transformar o polyline da rota modelada em shapefile\n",
    "  shape_rota <- polyline_to_latlong(line$poly, line$trip_id)\n",
    "  shape_rota <- df_latlong_to_sf(shape_rota, line$trip_id)\n",
    "  shape_rota <- shape_rota %>% st_transform(31983) %>% mutate(dist = round(st_length(.), 4))\n",
    "  # mapview(shape_rota)\n",
    "  \n",
    "  \n",
    "  # ----------------------------------------------------------------------------\n",
    "  # Calcular detour\n",
    "  # ----------------------------------------------------------------------------\n",
    "  \n",
    "  # Adicionar extensão da linha do shapefile da rota modelada e calcular detour\n",
    "  line <- line %>% mutate(dist_linha_modalt = as.double(shape_rota$dist),\n",
    "                          detour_modalt = dist_linha_modalt / dist_reta, \n",
    "                          .after = 'detour_mm')\n",
    "  # line %>% select(trip_id, dist_total, dist_reta, dist_linha, detour_mm, dist_linha_modalt, detour_modalt)\n",
    "  \n",
    "  \n",
    "  # ----------------------------------------------------------------------------\n",
    "  # Calcular extensões percorridas em vias comuns e infra cicloviária\n",
    "  # ----------------------------------------------------------------------------\n",
    "  \n",
    "  # A partir de um pequeno buffer criado no polyline da rota modelada, fazer uma \n",
    "  # interseção nos osm_ids originais - isso porque os osm_ids podem ter várias \n",
    "  # quadras e o segmento percorrido ser só um trechinho dele\n",
    "  buffer_rota <- st_buffer(shape_rota, 2)\n",
    "  viario_rota_cropped <- suppressWarnings(st_intersection(viario_rota, buffer_rota))\n",
    "  # mapview(viario_rota_cropped) + mapview(buffer_rota)\n",
    "  \n",
    "  # Recaulcular as extensões dos arcos (no caso, as extensões percorridas dentro\n",
    "  # daquele osm_id), transformar em dataframe e isolar colunas de interesse\n",
    "  viario_rota_cropped <- viario_rota_cropped %>% mutate(new_ext = as.double(st_length(.)), .after = 'length_m')\n",
    "  viario_rota_cropped <- viario_rota_cropped %>% st_drop_geometry() %>% select(osm_id, new_ext)\n",
    "  \n",
    "  # Juntar com dados da infraestrutura cicloviária\n",
    "  viario_rota_cropped <- \n",
    "    viario_rota_cropped %>% \n",
    "    left_join(infra_ciclo, by = 'osm_id') %>% \n",
    "    mutate(infra_ciclo = ifelse(is.na(infra_ciclo), 'via_comum', infra_ciclo))\n",
    "  \n",
    "  # Fator de ajuste para as distâncias - vamos aplicar um proporcional geral a partir\n",
    "  # da diferença entre a extensão total da rota modelada e a calculada agora\n",
    "  fator_correcao <- line$distance / sum(viario_rota_cropped$new_ext)\n",
    "  viario_rota_cropped <- viario_rota_cropped %>% mutate(ext_rev = new_ext * fator_correcao)\n",
    "  \n",
    "  # Agrupar extensões por tipo de viário percorrido\n",
    "  viario_rota_cropped <- \n",
    "    viario_rota_cropped %>% \n",
    "    group_by(infra_ciclo) %>% \n",
    "    summarise(ext = sum(ext_rev)) %>% \n",
    "    ungroup() %>% \n",
    "    mutate(trip_id = line$trip_id) %>% \n",
    "    pivot_wider(id_cols = trip_id,\n",
    "                names_from = 'infra_ciclo',\n",
    "                values_from = ext)\n",
    "  \n",
    "  # Checar se todas as colunas de tipo de viário estão como colunas - se não, inserir\n",
    "  for (i in c('ciclo_expressa', 'ciclo_comum', 'ciclofaixa', 'via_comum')) {\n",
    "    if (!i %in% names(viario_rota_cropped)) {\n",
    "      # Inserir nova coluna como NA (NA_real_, NA_character_)\n",
    "      viario_rota_cropped <- viario_rota_cropped %>% mutate(!!i := 0)\n",
    "    }\n",
    "    \n",
    "  }\n",
    "  \n",
    "  # Somar extensões percorridas em infra cicloviária\n",
    "  viario_rota_cropped <- viario_rota_cropped %>% mutate(infra_ciclo = ciclo_expressa + ciclo_comum + ciclofaixa,\n",
    "                                                        .after = 'via_comum')\n",
    "  \n",
    "  # Juntar todas as infos ao dataframe original e reordenar colunas\n",
    "  trip_out <- \n",
    "    line %>% \n",
    "    left_join(viario_rota_cropped, by = 'trip_id') %>% \n",
    "    relocate(c(via_comum, infra_ciclo, ciclo_expressa, ciclo_comum, ciclofaixa), \n",
    "             .before = 'vg_contramao')\n",
    "  \n",
    "  \n",
    "  # ----------------------------------------------------------------------------\n",
    "  # Calcular acurácia da rota modelada - por pontos\n",
    "  # ----------------------------------------------------------------------------\n",
    "  \n",
    "  # Aplicar buffer de 50 metros - a distância está sendo definida pela \n",
    "  # literatura, mas poderia ser menor até\n",
    "  buffer <- st_buffer(shape_rota, 50)\n",
    "  # mapview(buffer)\n",
    "  \n",
    "  # Abrir arquivo com latlon da viagem original - as coordenadas que serão\n",
    "  # consideradas são as resultantes do map matching\n",
    "  that <- mm_files %>% filter(str_detect(arq, line$trip_id)) %>% pull()\n",
    "  that <- read_delim(that, delim = ';', col_types = \"cidddddddicddcccddd\")\n",
    "  that <- that %>% select(trip_id, lat = matched_points.lat, lon = matched_points.lon)\n",
    "  that <- that %>% distinct()\n",
    "  that <- df_latlong_to_sf(that, trip, st_type = 'POINT')\n",
    "  that <- st_transform(that, 31983) %>% add_column(idx = 1:nrow(.))\n",
    "  # mapview(that, cex = 3, zcol = 'idx') + mapview(buffer)\n",
    "  \n",
    "  # Quantos pontos do map matching estão dentro do buffer considerado?\n",
    "  those <- filter(that, st_intersects(that, buffer, sparse = FALSE))\n",
    "  # mapview(those)\n",
    "  \n",
    "  # Guardar resultados em um dataframe\n",
    "  resultado <- data.frame(trip_id      = line$trip_id,\n",
    "                          pts_intsct   = nrow(those),\n",
    "                          pts_viagem   = nrow(that),\n",
    "                          acuracia_pontos  = nrow(those) / nrow(that) * 100)\n",
    "  \n",
    "  # Juntar todas as infos ao dataframe original e reordenar colunas\n",
    "  trip_out <- \n",
    "    trip_out %>% \n",
    "    left_join(resultado, by = 'trip_id') %>% \n",
    "    relocate(c(pts_intsct, pts_viagem, acuracia_pontos), .after = 'speed')\n",
    "  \n",
    "  \n",
    "  # ----------------------------------------------------------------------------\n",
    "  # Calcular acurácia da rota modelada - por extensão\n",
    "  # ----------------------------------------------------------------------------\n",
    "  \n",
    "  # Transformar pontos da rota original (map matching) em linestring\n",
    "  this <- df_latlong_to_sf(that, line$trip_id)\n",
    "  # mapview(this)\n",
    "  \n",
    "  # Quanto das linhas da rota original está dentro do buffer considerado?\n",
    "  thou <- suppressWarnings(st_intersection(this, buffer))\n",
    "  # mapview(thou) + mapview(buffer)\n",
    "  \n",
    "  # Calcular extensão dos trechos que estão dentro do buffer\n",
    "  thou <- thou %>% mutate(ext_linhas = as.double(st_length(.)))\n",
    "  thou <- thou %>% st_drop_geometry() %>% select(trip_id = trip_id.1 , ext_linhas)\n",
    "  \n",
    "  # Calcular acurácia das linhas - se a extensão das linhas for maior do que\n",
    "  # a distância da rota, acurácia vai ser 100%\n",
    "  thou <- thou %>% mutate(acuracia_linhas = ifelse(line$distance >= ext_linhas,\n",
    "                                                   ext_linhas / line$distance * 100,\n",
    "                                                   100))\n",
    "  \n",
    "  \n",
    "  # Juntar todas as infos ao dataframe original e reordenar colunas\n",
    "  trip_out <- \n",
    "    trip_out %>% \n",
    "    left_join(thou, by = 'trip_id') %>% \n",
    "    relocate(c(ext_linhas, acuracia_linhas), .after = 'speed')\n",
    "  \n",
    "  \n",
    "  # Gravar resultados\n",
    "  out_file <- sprintf('%s/%s_modalt_c.csv', pasta_rotas_modalc, line$tmp_id)\n",
    "  write_delim(trip_out, out_file, delim = ';')\n",
    "  \n",
    "}"
   ]
  },
  {
   "cell_type": "code",
   "execution_count": 6,
   "id": "4aea6407",
   "metadata": {},
   "outputs": [
    {
     "name": "stderr",
     "output_type": "stream",
     "text": [
      "distinct: removed 19 rows (46%), 22 rows remaining\n",
      "mutate: new variable 'infra_ciclo' (character) with one unique value and 0% NA\n",
      "distinct: removed 64 rows (2%), 2,767 rows remaining\n",
      "mutate: new variable 'infra_ciclo' (character) with one unique value and 0% NA\n",
      "distinct: removed 29 rows (4%), 768 rows remaining\n",
      "distinct: no rows removed\n",
      "mutate: new variable 'infra_ciclo' (character) with one unique value and 0% NA\n",
      "rename: renamed one variable (arq)\n"
     ]
    },
    {
     "data": {
      "text/html": [
       "<table class=\"dataframe\">\n",
       "<caption>A data.frame: 2 × 1</caption>\n",
       "<thead>\n",
       "\t<tr><th></th><th scope=col>arq</th></tr>\n",
       "\t<tr><th></th><th scope=col>&lt;chr&gt;</th></tr>\n",
       "</thead>\n",
       "<tbody>\n",
       "\t<tr><th scope=row>1</th><td>../../yellow_dados/05_map_matching/201811/viagens_processadas_csv/000130_00.csv</td></tr>\n",
       "\t<tr><th scope=row>2</th><td>../../yellow_dados/05_map_matching/201811/viagens_processadas_csv/000135_00.csv</td></tr>\n",
       "</tbody>\n",
       "</table>\n"
      ],
      "text/latex": [
       "A data.frame: 2 × 1\n",
       "\\begin{tabular}{r|l}\n",
       "  & arq\\\\\n",
       "  & <chr>\\\\\n",
       "\\hline\n",
       "\t1 & ../../yellow\\_dados/05\\_map\\_matching/201811/viagens\\_processadas\\_csv/000130\\_00.csv\\\\\n",
       "\t2 & ../../yellow\\_dados/05\\_map\\_matching/201811/viagens\\_processadas\\_csv/000135\\_00.csv\\\\\n",
       "\\end{tabular}\n"
      ],
      "text/markdown": [
       "\n",
       "A data.frame: 2 × 1\n",
       "\n",
       "| <!--/--> | arq &lt;chr&gt; |\n",
       "|---|---|\n",
       "| 1 | ../../yellow_dados/05_map_matching/201811/viagens_processadas_csv/000130_00.csv |\n",
       "| 2 | ../../yellow_dados/05_map_matching/201811/viagens_processadas_csv/000135_00.csv |\n",
       "\n"
      ],
      "text/plain": [
       "  arq                                                                            \n",
       "1 ../../yellow_dados/05_map_matching/201811/viagens_processadas_csv/000130_00.csv\n",
       "2 ../../yellow_dados/05_map_matching/201811/viagens_processadas_csv/000135_00.csv"
      ]
     },
     "metadata": {},
     "output_type": "display_data"
    },
    {
     "name": "stderr",
     "output_type": "stream",
     "text": [
      "filter: no rows removed\n",
      "select: dropped 9 variables (via_comum, infra_ciclo, ciclo_expressa, ciclo_comum, ciclofaixa, …)\n"
     ]
    },
    {
     "data": {
      "text/html": [
       "<table class=\"dataframe\">\n",
       "<caption>A tibble: 2 × 11</caption>\n",
       "<thead>\n",
       "\t<tr><th scope=col>trip_id</th><th scope=col>qgis_id.x</th><th scope=col>qgis_id.y</th><th scope=col>vg_contramao</th><th scope=col>vg_loop</th><th scope=col>vg_exper</th><th scope=col>vg_parques</th><th scope=col>dist_total</th><th scope=col>dist_reta</th><th scope=col>dist_linha</th><th scope=col>detour_mm</th></tr>\n",
       "\t<tr><th scope=col>&lt;chr&gt;</th><th scope=col>&lt;chr&gt;</th><th scope=col>&lt;chr&gt;</th><th scope=col>&lt;chr&gt;</th><th scope=col>&lt;chr&gt;</th><th scope=col>&lt;chr&gt;</th><th scope=col>&lt;chr&gt;</th><th scope=col>&lt;dbl&gt;</th><th scope=col>&lt;dbl&gt;</th><th scope=col>&lt;dbl&gt;</th><th scope=col>&lt;dbl&gt;</th></tr>\n",
       "</thead>\n",
       "<tbody>\n",
       "\t<tr><td>000135_00</td><td>271157</td><td>104168</td><td>não</td><td>não</td><td>não</td><td>não</td><td> 821.4461</td><td> 562.5676</td><td> 802.6903</td><td>1.426834</td></tr>\n",
       "\t<tr><td>000138_00</td><td>161929</td><td>161977</td><td>não</td><td>não</td><td>não</td><td>não</td><td>1585.3999</td><td>1127.1086</td><td>1559.4857</td><td>1.383616</td></tr>\n",
       "</tbody>\n",
       "</table>\n"
      ],
      "text/latex": [
       "A tibble: 2 × 11\n",
       "\\begin{tabular}{lllllllllll}\n",
       " trip\\_id & qgis\\_id.x & qgis\\_id.y & vg\\_contramao & vg\\_loop & vg\\_exper & vg\\_parques & dist\\_total & dist\\_reta & dist\\_linha & detour\\_mm\\\\\n",
       " <chr> & <chr> & <chr> & <chr> & <chr> & <chr> & <chr> & <dbl> & <dbl> & <dbl> & <dbl>\\\\\n",
       "\\hline\n",
       "\t 000135\\_00 & 271157 & 104168 & não & não & não & não &  821.4461 &  562.5676 &  802.6903 & 1.426834\\\\\n",
       "\t 000138\\_00 & 161929 & 161977 & não & não & não & não & 1585.3999 & 1127.1086 & 1559.4857 & 1.383616\\\\\n",
       "\\end{tabular}\n"
      ],
      "text/markdown": [
       "\n",
       "A tibble: 2 × 11\n",
       "\n",
       "| trip_id &lt;chr&gt; | qgis_id.x &lt;chr&gt; | qgis_id.y &lt;chr&gt; | vg_contramao &lt;chr&gt; | vg_loop &lt;chr&gt; | vg_exper &lt;chr&gt; | vg_parques &lt;chr&gt; | dist_total &lt;dbl&gt; | dist_reta &lt;dbl&gt; | dist_linha &lt;dbl&gt; | detour_mm &lt;dbl&gt; |\n",
       "|---|---|---|---|---|---|---|---|---|---|---|\n",
       "| 000135_00 | 271157 | 104168 | não | não | não | não |  821.4461 |  562.5676 |  802.6903 | 1.426834 |\n",
       "| 000138_00 | 161929 | 161977 | não | não | não | não | 1585.3999 | 1127.1086 | 1559.4857 | 1.383616 |\n",
       "\n"
      ],
      "text/plain": [
       "  trip_id   qgis_id.x qgis_id.y vg_contramao vg_loop vg_exper vg_parques\n",
       "1 000135_00 271157    104168    não          não     não      não       \n",
       "2 000138_00 161929    161977    não          não     não      não       \n",
       "  dist_total dist_reta dist_linha detour_mm\n",
       "1  821.4461   562.5676  802.6903  1.426834 \n",
       "2 1585.3999  1127.1086 1559.4857  1.383616 "
      ]
     },
     "metadata": {},
     "output_type": "display_data"
    },
    {
     "name": "stderr",
     "output_type": "stream",
     "text": [
      "select: dropped 3 variables (name, highway, qgis_id)\n"
     ]
    }
   ],
   "source": [
    "# ------------------------------------------------------------------------------\n",
    "# Rede cicloviária 2019\n",
    "# ------------------------------------------------------------------------------\n",
    "\n",
    "# Abrir arquivo com osm_ids de ciclovias expressas em 2019 - a classificação que\n",
    "# está no dataframe de atributos do viário, acima, contém osm_ids das vias \n",
    "# próximas, já que o map matching foi feito no modo 'pedestrian' e ao passar\n",
    "# por essas vias, o osm_id que ia ser considerado era o do viário\n",
    "ciclo_expressas <- sprintf('%s/00_atributos_ciclovias_expressas_2019.csv', pasta_gh_pbfs)\n",
    "ciclo_expressas <- read_delim(ciclo_expressas, delim = ';', col_types = 'c') %>% distinct()\n",
    "ciclo_expressas <- ciclo_expressas %>% mutate(infra_ciclo = 'ciclo_expressa')\n",
    "\n",
    "# Abrir o arquivo com osm_ids de vias com ciclofaixa em 2019\n",
    "ciclo_ciclofx <- sprintf('%s/02_atributos_ciclofaixas_lcn.csv', pasta_gh_pbfs)\n",
    "ciclo_ciclofx <- read_delim(ciclo_ciclofx, delim = ';', col_types = 'c') %>% distinct()\n",
    "ciclo_ciclofx <- ciclo_ciclofx %>% mutate(infra_ciclo = 'ciclofaixa')\n",
    "\n",
    "# Abrir o arquivo com osm_ids de ciclovias comuns (não expressas) em 2019\n",
    "ciclo_comuns <- sprintf('%s/01_atributos_ciclovias_comuns_2019.csv', pasta_gh_pbfs)\n",
    "ciclo_comuns <- read_delim(ciclo_comuns, delim = ';', col_types = 'c') %>% distinct()\n",
    "\n",
    "# Abrir arquivo de trechos de ciclovias comuns em que não há semáforos ou interseções\n",
    "ciclo_ciclov_semsem <- sprintf('%s/03_atributos_ciclovias_comuns_sem_semaforo.csv', pasta_gh_pbfs)\n",
    "ciclo_ciclov_semsem <- read_delim(ciclo_ciclov_semsem, delim = ';', col_types = 'c') %>% distinct()\n",
    "\n",
    "# Ciclovias comuns serão ciclo_comuns + ciclovias sem semáforos ou interseções\n",
    "ciclo_comuns <- rbind(ciclo_comuns, ciclo_ciclov_semsem)\n",
    "ciclo_comuns <- ciclo_comuns %>% mutate(infra_ciclo = 'ciclo_comum')\n",
    "\n",
    "\n",
    "# Juntar tudo em um único dataframe\n",
    "infra_ciclo <- rbind(ciclo_expressas, ciclo_ciclofx, ciclo_comuns)\n",
    "rm(ciclo_expressas, ciclo_ciclofx, ciclo_comuns, ciclo_ciclov_semsem)\n",
    "\n",
    "\n",
    "# ------------------------------------------------------------------------------\n",
    "# Bases de dados a serem utilizadas\n",
    "# ------------------------------------------------------------------------------\n",
    "\n",
    "# Puxar listagem de viagens originais (latlon virá do map matching)\n",
    "pasta_mm_1 <- sprintf('%s/201811/viagens_processadas_csv', pasta_map_matching)\n",
    "pasta_mm_2 <- sprintf('%s/201812/viagens_processadas_csv', pasta_map_matching)\n",
    "pasta_mm_3 <- sprintf('%s/201901/viagens_processadas_csv', pasta_map_matching)\n",
    "mm_files1 <- list.files(pasta_mm_1, pattern = '^([0-9]{6})_([0-9]{2}).csv', recursive = FALSE, full.names = TRUE) %>% as.data.frame()\n",
    "mm_files2 <- list.files(pasta_mm_2, pattern = '^([0-9]{6})_([0-9]{2}).csv', recursive = FALSE, full.names = TRUE) %>% as.data.frame()\n",
    "mm_files3 <- list.files(pasta_mm_3, pattern = '^([0-9]{6})_([0-9]{2}).csv', recursive = FALSE, full.names = TRUE) %>% as.data.frame()\n",
    "mm_files <- rbind(mm_files1, mm_files2, mm_files3) %>% rename(arq = '.')\n",
    "rm(mm_files1, mm_files2, mm_files3, pasta_mm_1, pasta_mm_2, pasta_mm_3)\n",
    "head(mm_files, 2)\n",
    "\n",
    "\n",
    "# Abrir origens e destinos das rotas iniciais da Yellow - são consideradas aqui\n",
    "# (pelos scripts anteriores) as rotas que (a) tiveram algum trecho considerado\n",
    "# no modelo; (b) que não foram divididas em trechos menores; e (c) em que o\n",
    "# trecho único considerado é o inicial (possui trip_id com _00)\n",
    "ods_vgs <- sprintf('%s/03_rotas_originais_infraciclo_detour_carac_viagens.csv', pasta_orig_vs_mod)\n",
    "ods_vgs <- read_delim(ods_vgs, delim = ';', col_types = 'cccdddddccccdddddddd')\n",
    "# Remover viagens com origem e destino no mesmo qgis_id\n",
    "ods_vgs <- ods_vgs %>% filter(qgis_id.x != qgis_id.y)\n",
    "# Remover colunas de uso de infraestrutura cicloviária das rotas originais (map\n",
    "# matching). Dados de latlong já vão estar presentes nas rotas modeladas\n",
    "ods_vgs <- ods_vgs %>% select(-c(via_comum, infra_ciclo, ciclo_expressa, ciclo_comum, ciclofaixa,\n",
    "                                 lat.x, lon.x, lat.y, lon.y))\n",
    "head(ods_vgs, 2)\n",
    "\n",
    "\n",
    "# Abrir viário de SP com osm_ids\n",
    "viario_sp <- read_sf(sprintf('%s/sao_paulo_osm_filtrado_com_qgis_id.gpkg', pasta_osm_sp))\n",
    "# Nos interessam os osm_ids e, talvez, a extensão original dos arcos da rede\n",
    "viario_sp <- viario_sp %>% select(osm_id, length_m)\n",
    "#head(viario_sp, 2)"
   ]
  },
  {
   "cell_type": "code",
   "execution_count": 7,
   "id": "bc325034",
   "metadata": {},
   "outputs": [
    {
     "name": "stderr",
     "output_type": "stream",
     "text": [
      "select: dropped 2 variables (qgis_id.x, qgis_id.y)\n",
      "left_join: added 9 columns (distance, weight, time, speed, poly, …)\n",
      "           > rows only in ods_vgs        0\n",
      "           > rows only in rotas_m (      0)\n",
      "           > matched rows          184,899    (includes duplicates)\n",
      "           >                      =========\n",
      "           > rows total            184,899\n",
      "relocate: columns reordered (trip_id, qgis_id.x, qgis_id.y, distance, weight, …)\n"
     ]
    },
    {
     "data": {
      "text/html": [
       "<table class=\"dataframe\">\n",
       "<caption>A tibble: 2 × 20</caption>\n",
       "<thead>\n",
       "\t<tr><th scope=col>trip_id</th><th scope=col>qgis_id.x</th><th scope=col>qgis_id.y</th><th scope=col>distance</th><th scope=col>weight</th><th scope=col>time</th><th scope=col>speed</th><th scope=col>vg_contramao</th><th scope=col>vg_loop</th><th scope=col>vg_exper</th><th scope=col>vg_parques</th><th scope=col>dist_total</th><th scope=col>dist_reta</th><th scope=col>dist_linha</th><th scope=col>detour_mm</th><th scope=col>poly</th><th scope=col>lon.x</th><th scope=col>lat.x</th><th scope=col>lon.y</th><th scope=col>lat.y</th></tr>\n",
       "\t<tr><th scope=col>&lt;chr&gt;</th><th scope=col>&lt;chr&gt;</th><th scope=col>&lt;chr&gt;</th><th scope=col>&lt;dbl&gt;</th><th scope=col>&lt;dbl&gt;</th><th scope=col>&lt;dbl&gt;</th><th scope=col>&lt;dbl&gt;</th><th scope=col>&lt;chr&gt;</th><th scope=col>&lt;chr&gt;</th><th scope=col>&lt;chr&gt;</th><th scope=col>&lt;chr&gt;</th><th scope=col>&lt;dbl&gt;</th><th scope=col>&lt;dbl&gt;</th><th scope=col>&lt;dbl&gt;</th><th scope=col>&lt;dbl&gt;</th><th scope=col>&lt;chr&gt;</th><th scope=col>&lt;dbl&gt;</th><th scope=col>&lt;dbl&gt;</th><th scope=col>&lt;dbl&gt;</th><th scope=col>&lt;dbl&gt;</th></tr>\n",
       "</thead>\n",
       "<tbody>\n",
       "\t<tr><td>000135_00</td><td>271157</td><td>104168</td><td> 779.082</td><td>252.2743</td><td>252.275</td><td>11.11761</td><td>não</td><td>não</td><td>não</td><td>não</td><td> 821.4461</td><td> 562.5676</td><td> 802.6903</td><td>1.426834</td><td>jgznCvic|G|@gENYROdNtb@                                                        </td><td>-46.71660</td><td>-23.56869</td><td>-46.72109</td><td>-23.57161</td></tr>\n",
       "\t<tr><td>000138_00</td><td>161929</td><td>161977</td><td>1569.142</td><td>414.7177</td><td>517.355</td><td>10.91883</td><td>não</td><td>não</td><td>não</td><td>não</td><td>1585.3999</td><td>1127.1086</td><td>1559.4857</td><td>1.383616</td><td>`u{nCtu}{GGMsNjHsMnHHr@JEJC`ApCCNhClG~BlFHFF@BDAJ@JnEzJ`@dAH^A\\Sx@iBrBy@dAMPEJ</td><td>-46.68779</td><td>-23.57601</td><td>-46.69842</td><td>-23.57327</td></tr>\n",
       "</tbody>\n",
       "</table>\n"
      ],
      "text/latex": [
       "A tibble: 2 × 20\n",
       "\\begin{tabular}{llllllllllllllllllll}\n",
       " trip\\_id & qgis\\_id.x & qgis\\_id.y & distance & weight & time & speed & vg\\_contramao & vg\\_loop & vg\\_exper & vg\\_parques & dist\\_total & dist\\_reta & dist\\_linha & detour\\_mm & poly & lon.x & lat.x & lon.y & lat.y\\\\\n",
       " <chr> & <chr> & <chr> & <dbl> & <dbl> & <dbl> & <dbl> & <chr> & <chr> & <chr> & <chr> & <dbl> & <dbl> & <dbl> & <dbl> & <chr> & <dbl> & <dbl> & <dbl> & <dbl>\\\\\n",
       "\\hline\n",
       "\t 000135\\_00 & 271157 & 104168 &  779.082 & 252.2743 & 252.275 & 11.11761 & não & não & não & não &  821.4461 &  562.5676 &  802.6903 & 1.426834 & jgznCvic\\textbar{}G\\textbar{}@gENYROdNtb@                                                         & -46.71660 & -23.56869 & -46.72109 & -23.57161\\\\\n",
       "\t 000138\\_00 & 161929 & 161977 & 1569.142 & 414.7177 & 517.355 & 10.91883 & não & não & não & não & 1585.3999 & 1127.1086 & 1559.4857 & 1.383616 & `u\\{nCtu\\}\\{GGMsNjHsMnHHr@JEJC`ApCCNhClG\\textasciitilde{}BlFHFF@BDAJ@JnEzJ`@dAH\\textasciicircum{}A\\textbackslash{}Sx@iBrBy@dAMPEJ & -46.68779 & -23.57601 & -46.69842 & -23.57327\\\\\n",
       "\\end{tabular}\n"
      ],
      "text/markdown": [
       "\n",
       "A tibble: 2 × 20\n",
       "\n",
       "| trip_id &lt;chr&gt; | qgis_id.x &lt;chr&gt; | qgis_id.y &lt;chr&gt; | distance &lt;dbl&gt; | weight &lt;dbl&gt; | time &lt;dbl&gt; | speed &lt;dbl&gt; | vg_contramao &lt;chr&gt; | vg_loop &lt;chr&gt; | vg_exper &lt;chr&gt; | vg_parques &lt;chr&gt; | dist_total &lt;dbl&gt; | dist_reta &lt;dbl&gt; | dist_linha &lt;dbl&gt; | detour_mm &lt;dbl&gt; | poly &lt;chr&gt; | lon.x &lt;dbl&gt; | lat.x &lt;dbl&gt; | lon.y &lt;dbl&gt; | lat.y &lt;dbl&gt; |\n",
       "|---|---|---|---|---|---|---|---|---|---|---|---|---|---|---|---|---|---|---|---|\n",
       "| 000135_00 | 271157 | 104168 |  779.082 | 252.2743 | 252.275 | 11.11761 | não | não | não | não |  821.4461 |  562.5676 |  802.6903 | 1.426834 | jgznCvic|G|@gENYROdNtb@                                                         | -46.71660 | -23.56869 | -46.72109 | -23.57161 |\n",
       "| 000138_00 | 161929 | 161977 | 1569.142 | 414.7177 | 517.355 | 10.91883 | não | não | não | não | 1585.3999 | 1127.1086 | 1559.4857 | 1.383616 | `u{nCtu}{GGMsNjHsMnHHr@JEJC`ApCCNhClG~BlFHFF@BDAJ@JnEzJ`@dAH^A\\Sx@iBrBy@dAMPEJ | -46.68779 | -23.57601 | -46.69842 | -23.57327 |\n",
       "\n"
      ],
      "text/plain": [
       "  trip_id   qgis_id.x qgis_id.y distance weight   time    speed    vg_contramao\n",
       "1 000135_00 271157    104168     779.082 252.2743 252.275 11.11761 não         \n",
       "2 000138_00 161929    161977    1569.142 414.7177 517.355 10.91883 não         \n",
       "  vg_loop vg_exper vg_parques dist_total dist_reta dist_linha detour_mm\n",
       "1 não     não      não         821.4461   562.5676  802.6903  1.426834 \n",
       "2 não     não      não        1585.3999  1127.1086 1559.4857  1.383616 \n",
       "  poly                                                                           \n",
       "1 jgznCvic|G|@gENYROdNtb@                                                        \n",
       "2 `u{nCtu}{GGMsNjHsMnHHr@JEJC`ApCCNhClG~BlFHFF@BDAJ@JnEzJ`@dAH^A\\\\Sx@iBrBy@dAMPEJ\n",
       "  lon.x     lat.x     lon.y     lat.y    \n",
       "1 -46.71660 -23.56869 -46.72109 -23.57161\n",
       "2 -46.68779 -23.57601 -46.69842 -23.57327"
      ]
     },
     "metadata": {},
     "output_type": "display_data"
    },
    {
     "name": "stderr",
     "output_type": "stream",
     "text": [
      "group_by: one grouping variable (trip_id)\n",
      "mutate (grouped): new variable 'alt' (integer) with 3 unique values and 0% NA\n",
      "ungroup: no grouping variables remain\n",
      "mutate: new variable 'tmp_id' (character) with 184,899 unique values and 0% NA\n"
     ]
    },
    {
     "data": {
      "text/html": [
       "<table class=\"dataframe\">\n",
       "<caption>A tibble: 2 × 22</caption>\n",
       "<thead>\n",
       "\t<tr><th scope=col>tmp_id</th><th scope=col>trip_id</th><th scope=col>alt</th><th scope=col>qgis_id.x</th><th scope=col>qgis_id.y</th><th scope=col>distance</th><th scope=col>weight</th><th scope=col>time</th><th scope=col>speed</th><th scope=col>vg_contramao</th><th scope=col>⋯</th><th scope=col>vg_parques</th><th scope=col>dist_total</th><th scope=col>dist_reta</th><th scope=col>dist_linha</th><th scope=col>detour_mm</th><th scope=col>poly</th><th scope=col>lon.x</th><th scope=col>lat.x</th><th scope=col>lon.y</th><th scope=col>lat.y</th></tr>\n",
       "\t<tr><th scope=col>&lt;chr&gt;</th><th scope=col>&lt;chr&gt;</th><th scope=col>&lt;int&gt;</th><th scope=col>&lt;chr&gt;</th><th scope=col>&lt;chr&gt;</th><th scope=col>&lt;dbl&gt;</th><th scope=col>&lt;dbl&gt;</th><th scope=col>&lt;dbl&gt;</th><th scope=col>&lt;dbl&gt;</th><th scope=col>&lt;chr&gt;</th><th scope=col>⋯</th><th scope=col>&lt;chr&gt;</th><th scope=col>&lt;dbl&gt;</th><th scope=col>&lt;dbl&gt;</th><th scope=col>&lt;dbl&gt;</th><th scope=col>&lt;dbl&gt;</th><th scope=col>&lt;chr&gt;</th><th scope=col>&lt;dbl&gt;</th><th scope=col>&lt;dbl&gt;</th><th scope=col>&lt;dbl&gt;</th><th scope=col>&lt;dbl&gt;</th></tr>\n",
       "</thead>\n",
       "<tbody>\n",
       "\t<tr><td>000135_00_1</td><td>000135_00</td><td>1</td><td>271157</td><td>104168</td><td> 779.082</td><td>252.2743</td><td>252.275</td><td>11.11761</td><td>não</td><td>⋯</td><td>não</td><td> 821.4461</td><td> 562.5676</td><td> 802.6903</td><td>1.426834</td><td>jgznCvic|G|@gENYROdNtb@                                                        </td><td>-46.71660</td><td>-23.56869</td><td>-46.72109</td><td>-23.57161</td></tr>\n",
       "\t<tr><td>000138_00_1</td><td>000138_00</td><td>1</td><td>161929</td><td>161977</td><td>1569.142</td><td>414.7177</td><td>517.355</td><td>10.91883</td><td>não</td><td>⋯</td><td>não</td><td>1585.3999</td><td>1127.1086</td><td>1559.4857</td><td>1.383616</td><td>`u{nCtu}{GGMsNjHsMnHHr@JEJC`ApCCNhClG~BlFHFF@BDAJ@JnEzJ`@dAH^A\\Sx@iBrBy@dAMPEJ</td><td>-46.68779</td><td>-23.57601</td><td>-46.69842</td><td>-23.57327</td></tr>\n",
       "</tbody>\n",
       "</table>\n"
      ],
      "text/latex": [
       "A tibble: 2 × 22\n",
       "\\begin{tabular}{lllllllllllllllllllll}\n",
       " tmp\\_id & trip\\_id & alt & qgis\\_id.x & qgis\\_id.y & distance & weight & time & speed & vg\\_contramao & ⋯ & vg\\_parques & dist\\_total & dist\\_reta & dist\\_linha & detour\\_mm & poly & lon.x & lat.x & lon.y & lat.y\\\\\n",
       " <chr> & <chr> & <int> & <chr> & <chr> & <dbl> & <dbl> & <dbl> & <dbl> & <chr> & ⋯ & <chr> & <dbl> & <dbl> & <dbl> & <dbl> & <chr> & <dbl> & <dbl> & <dbl> & <dbl>\\\\\n",
       "\\hline\n",
       "\t 000135\\_00\\_1 & 000135\\_00 & 1 & 271157 & 104168 &  779.082 & 252.2743 & 252.275 & 11.11761 & não & ⋯ & não &  821.4461 &  562.5676 &  802.6903 & 1.426834 & jgznCvic\\textbar{}G\\textbar{}@gENYROdNtb@                                                         & -46.71660 & -23.56869 & -46.72109 & -23.57161\\\\\n",
       "\t 000138\\_00\\_1 & 000138\\_00 & 1 & 161929 & 161977 & 1569.142 & 414.7177 & 517.355 & 10.91883 & não & ⋯ & não & 1585.3999 & 1127.1086 & 1559.4857 & 1.383616 & `u\\{nCtu\\}\\{GGMsNjHsMnHHr@JEJC`ApCCNhClG\\textasciitilde{}BlFHFF@BDAJ@JnEzJ`@dAH\\textasciicircum{}A\\textbackslash{}Sx@iBrBy@dAMPEJ & -46.68779 & -23.57601 & -46.69842 & -23.57327\\\\\n",
       "\\end{tabular}\n"
      ],
      "text/markdown": [
       "\n",
       "A tibble: 2 × 22\n",
       "\n",
       "| tmp_id &lt;chr&gt; | trip_id &lt;chr&gt; | alt &lt;int&gt; | qgis_id.x &lt;chr&gt; | qgis_id.y &lt;chr&gt; | distance &lt;dbl&gt; | weight &lt;dbl&gt; | time &lt;dbl&gt; | speed &lt;dbl&gt; | vg_contramao &lt;chr&gt; | ⋯ ⋯ | vg_parques &lt;chr&gt; | dist_total &lt;dbl&gt; | dist_reta &lt;dbl&gt; | dist_linha &lt;dbl&gt; | detour_mm &lt;dbl&gt; | poly &lt;chr&gt; | lon.x &lt;dbl&gt; | lat.x &lt;dbl&gt; | lon.y &lt;dbl&gt; | lat.y &lt;dbl&gt; |\n",
       "|---|---|---|---|---|---|---|---|---|---|---|---|---|---|---|---|---|---|---|---|---|\n",
       "| 000135_00_1 | 000135_00 | 1 | 271157 | 104168 |  779.082 | 252.2743 | 252.275 | 11.11761 | não | ⋯ | não |  821.4461 |  562.5676 |  802.6903 | 1.426834 | jgznCvic|G|@gENYROdNtb@                                                         | -46.71660 | -23.56869 | -46.72109 | -23.57161 |\n",
       "| 000138_00_1 | 000138_00 | 1 | 161929 | 161977 | 1569.142 | 414.7177 | 517.355 | 10.91883 | não | ⋯ | não | 1585.3999 | 1127.1086 | 1559.4857 | 1.383616 | `u{nCtu}{GGMsNjHsMnHHr@JEJC`ApCCNhClG~BlFHFF@BDAJ@JnEzJ`@dAH^A\\Sx@iBrBy@dAMPEJ | -46.68779 | -23.57601 | -46.69842 | -23.57327 |\n",
       "\n"
      ],
      "text/plain": [
       "  tmp_id      trip_id   alt qgis_id.x qgis_id.y distance weight   time   \n",
       "1 000135_00_1 000135_00 1   271157    104168     779.082 252.2743 252.275\n",
       "2 000138_00_1 000138_00 1   161929    161977    1569.142 414.7177 517.355\n",
       "  speed    vg_contramao ⋯ vg_parques dist_total dist_reta dist_linha detour_mm\n",
       "1 11.11761 não          ⋯ não         821.4461   562.5676  802.6903  1.426834 \n",
       "2 10.91883 não          ⋯ não        1585.3999  1127.1086 1559.4857  1.383616 \n",
       "  poly                                                                           \n",
       "1 jgznCvic|G|@gENYROdNtb@                                                        \n",
       "2 `u{nCtu}{GGMsNjHsMnHHr@JEJC`ApCCNhClG~BlFHFF@BDAJ@JnEzJ`@dAH^A\\\\Sx@iBrBy@dAMPEJ\n",
       "  lon.x     lat.x     lon.y     lat.y    \n",
       "1 -46.71660 -23.56869 -46.72109 -23.57161\n",
       "2 -46.68779 -23.57601 -46.69842 -23.57327"
      ]
     },
     "metadata": {},
     "output_type": "display_data"
    }
   ],
   "source": [
    "# ------------------------------------------------------------------------------\n",
    "# Calcular acurácia das rotas modeladas e distâncias percorridas em infra ciclo\n",
    "# ------------------------------------------------------------------------------\n",
    "\n",
    "# Abrir rotas modeladas com alternativas\n",
    "rotas_m <- sprintf('%s/01_ttmatrix_rotas_modeladas_de_viagens_originais_com_alternativas.csv', pasta_lts_priority)\n",
    "rotas_m <- read_delim(rotas_m, delim = ';', col_types = 'cccddddcdddd')\n",
    "rotas_m <- rotas_m %>% select(-c(qgis_id.x, qgis_id.y))\n",
    "\n",
    "# Remover rotas com origem muito perto do destino (qgis_id diferente, mas \n",
    "# distance igual a zero)\n",
    "# rotas_m <- rotas_m %>% filter(distance != 0)\n",
    "\n",
    "# Juntar com dados das viagens originais\n",
    "rotas_m <- left_join(ods_vgs, rotas_m, by = 'trip_id')\n",
    "rotas_m <- rotas_m %>% relocate(c(distance, weight, time, speed), .after = 'qgis_id.y')\n",
    "head(rotas_m, 2)\n",
    "\n",
    "# Adicionar identificação da rota alternativa no dataframe, conforme o trip_id\n",
    "# https://stackoverflow.com/questions/28647954/add-an-index-or-counter-to-a-dataframe-by-group-in-r\n",
    "rotas_m <- rotas_m %>% group_by(trip_id) %>% mutate(alt = row_number(trip_id), .after = 'trip_id') %>% ungroup()\n",
    "rotas_m <- rotas_m %>% mutate(tmp_id = str_c(trip_id, alt, sep = '_'), .before = 'trip_id')\n",
    "head(rotas_m, 2)"
   ]
  },
  {
   "cell_type": "code",
   "execution_count": 12,
   "id": "c0dec967",
   "metadata": {},
   "outputs": [
    {
     "data": {
      "text/html": [
       "<table class=\"dataframe\">\n",
       "<caption>A data.frame: 2 × 2</caption>\n",
       "<thead>\n",
       "\t<tr><th></th><th scope=col>arq</th><th scope=col>tmp_id</th></tr>\n",
       "\t<tr><th></th><th scope=col>&lt;chr&gt;</th><th scope=col>&lt;chr&gt;</th></tr>\n",
       "</thead>\n",
       "<tbody>\n",
       "\t<tr><th scope=row>1</th><td>../../yellow_dados/14_aop_2024_2028/02_teste_lts_priority/03_rotas_modeladas_alter_carac/000135_00_1_modalt_c.csv</td><td>000135_00_1</td></tr>\n",
       "\t<tr><th scope=row>2</th><td>../../yellow_dados/14_aop_2024_2028/02_teste_lts_priority/03_rotas_modeladas_alter_carac/000138_00_1_modalt_c.csv</td><td>000138_00_1</td></tr>\n",
       "</tbody>\n",
       "</table>\n"
      ],
      "text/latex": [
       "A data.frame: 2 × 2\n",
       "\\begin{tabular}{r|ll}\n",
       "  & arq & tmp\\_id\\\\\n",
       "  & <chr> & <chr>\\\\\n",
       "\\hline\n",
       "\t1 & ../../yellow\\_dados/14\\_aop\\_2024\\_2028/02\\_teste\\_lts\\_priority/03\\_rotas\\_modeladas\\_alter\\_carac/000135\\_00\\_1\\_modalt\\_c.csv & 000135\\_00\\_1\\\\\n",
       "\t2 & ../../yellow\\_dados/14\\_aop\\_2024\\_2028/02\\_teste\\_lts\\_priority/03\\_rotas\\_modeladas\\_alter\\_carac/000138\\_00\\_1\\_modalt\\_c.csv & 000138\\_00\\_1\\\\\n",
       "\\end{tabular}\n"
      ],
      "text/markdown": [
       "\n",
       "A data.frame: 2 × 2\n",
       "\n",
       "| <!--/--> | arq &lt;chr&gt; | tmp_id &lt;chr&gt; |\n",
       "|---|---|---|\n",
       "| 1 | ../../yellow_dados/14_aop_2024_2028/02_teste_lts_priority/03_rotas_modeladas_alter_carac/000135_00_1_modalt_c.csv | 000135_00_1 |\n",
       "| 2 | ../../yellow_dados/14_aop_2024_2028/02_teste_lts_priority/03_rotas_modeladas_alter_carac/000138_00_1_modalt_c.csv | 000138_00_1 |\n",
       "\n"
      ],
      "text/plain": [
       "  arq                                                                                                              \n",
       "1 ../../yellow_dados/14_aop_2024_2028/02_teste_lts_priority/03_rotas_modeladas_alter_carac/000135_00_1_modalt_c.csv\n",
       "2 ../../yellow_dados/14_aop_2024_2028/02_teste_lts_priority/03_rotas_modeladas_alter_carac/000138_00_1_modalt_c.csv\n",
       "  tmp_id     \n",
       "1 000135_00_1\n",
       "2 000138_00_1"
      ]
     },
     "metadata": {},
     "output_type": "display_data"
    }
   ],
   "source": [
    "# suppressPackageStartupMessages(library('tidylog'))\n",
    "\n",
    "# Listar todos os arquivos de resultados em um dataframe único\n",
    "arqs_resultados <- data.frame(arq = list.files(pasta_rotas_modalc, recursive = FALSE, full.names = TRUE))\n",
    "arqs_resultados <- arqs_resultados %>% mutate(tmp_id = str_sub(arq, -24, -14))\n",
    "head(arqs_resultados, 2)"
   ]
  },
  {
   "cell_type": "code",
   "execution_count": 13,
   "id": "8b2a1ff4",
   "metadata": {},
   "outputs": [
    {
     "data": {
      "text/html": [
       "184899"
      ],
      "text/latex": [
       "184899"
      ],
      "text/markdown": [
       "184899"
      ],
      "text/plain": [
       "[1] 184899"
      ]
     },
     "metadata": {},
     "output_type": "display_data"
    },
    {
     "data": {
      "text/html": [
       "0"
      ],
      "text/latex": [
       "0"
      ],
      "text/markdown": [
       "0"
      ],
      "text/plain": [
       "[1] 0"
      ]
     },
     "metadata": {},
     "output_type": "display_data"
    },
    {
     "name": "stderr",
     "output_type": "stream",
     "text": [
      "Warning message in cbind(parts$left, chars$ellip_h, parts$right, deparse.level = 0L):\n",
      "“number of rows of result is not a multiple of vector length (arg 2)”\n",
      "Warning message in cbind(parts$left, chars$ellip_h, parts$right, deparse.level = 0L):\n",
      "“number of rows of result is not a multiple of vector length (arg 2)”\n",
      "Warning message in cbind(parts$left, chars$ellip_h, parts$right, deparse.level = 0L):\n",
      "“number of rows of result is not a multiple of vector length (arg 2)”\n",
      "Warning message in cbind(parts$left, chars$ellip_h, parts$right, deparse.level = 0L):\n",
      "“number of rows of result is not a multiple of vector length (arg 2)”\n"
     ]
    },
    {
     "data": {
      "text/html": [
       "<table class=\"dataframe\">\n",
       "<caption>A tibble: 0 × 22</caption>\n",
       "<thead>\n",
       "\t<tr><th scope=col>tmp_id</th><th scope=col>trip_id</th><th scope=col>alt</th><th scope=col>qgis_id.x</th><th scope=col>qgis_id.y</th><th scope=col>distance</th><th scope=col>weight</th><th scope=col>time</th><th scope=col>speed</th><th scope=col>vg_contramao</th><th scope=col>⋯</th><th scope=col>vg_parques</th><th scope=col>dist_total</th><th scope=col>dist_reta</th><th scope=col>dist_linha</th><th scope=col>detour_mm</th><th scope=col>poly</th><th scope=col>lon.x</th><th scope=col>lat.x</th><th scope=col>lon.y</th><th scope=col>lat.y</th></tr>\n",
       "\t<tr><th scope=col>&lt;chr&gt;</th><th scope=col>&lt;chr&gt;</th><th scope=col>&lt;int&gt;</th><th scope=col>&lt;chr&gt;</th><th scope=col>&lt;chr&gt;</th><th scope=col>&lt;dbl&gt;</th><th scope=col>&lt;dbl&gt;</th><th scope=col>&lt;dbl&gt;</th><th scope=col>&lt;dbl&gt;</th><th scope=col>&lt;chr&gt;</th><th scope=col>⋯</th><th scope=col>&lt;chr&gt;</th><th scope=col>&lt;dbl&gt;</th><th scope=col>&lt;dbl&gt;</th><th scope=col>&lt;dbl&gt;</th><th scope=col>&lt;dbl&gt;</th><th scope=col>&lt;chr&gt;</th><th scope=col>&lt;dbl&gt;</th><th scope=col>&lt;dbl&gt;</th><th scope=col>&lt;dbl&gt;</th><th scope=col>&lt;dbl&gt;</th></tr>\n",
       "</thead>\n",
       "<tbody>\n",
       "</tbody>\n",
       "</table>\n"
      ],
      "text/latex": [
       "A tibble: 0 × 22\n",
       "\\begin{tabular}{lllllllllllllllllllll}\n",
       " tmp\\_id & trip\\_id & alt & qgis\\_id.x & qgis\\_id.y & distance & weight & time & speed & vg\\_contramao & ⋯ & vg\\_parques & dist\\_total & dist\\_reta & dist\\_linha & detour\\_mm & poly & lon.x & lat.x & lon.y & lat.y\\\\\n",
       " <chr> & <chr> & <int> & <chr> & <chr> & <dbl> & <dbl> & <dbl> & <dbl> & <chr> & ⋯ & <chr> & <dbl> & <dbl> & <dbl> & <dbl> & <chr> & <dbl> & <dbl> & <dbl> & <dbl>\\\\\n",
       "\\hline\n",
       "\\end{tabular}\n"
      ],
      "text/markdown": [
       "\n",
       "A tibble: 0 × 22\n",
       "\n",
       "| tmp_id &lt;chr&gt; | trip_id &lt;chr&gt; | alt &lt;int&gt; | qgis_id.x &lt;chr&gt; | qgis_id.y &lt;chr&gt; | distance &lt;dbl&gt; | weight &lt;dbl&gt; | time &lt;dbl&gt; | speed &lt;dbl&gt; | vg_contramao &lt;chr&gt; | ⋯ ⋯ | vg_parques &lt;chr&gt; | dist_total &lt;dbl&gt; | dist_reta &lt;dbl&gt; | dist_linha &lt;dbl&gt; | detour_mm &lt;dbl&gt; | poly &lt;chr&gt; | lon.x &lt;dbl&gt; | lat.x &lt;dbl&gt; | lon.y &lt;dbl&gt; | lat.y &lt;dbl&gt; |\n",
       "|---|---|---|---|---|---|---|---|---|---|---|---|---|---|---|---|---|---|---|---|---|\n",
       "\n"
      ],
      "text/plain": [
       "     tmp_id trip_id alt qgis_id.x qgis_id.y distance weight time speed\n",
       "     vg_contramao ⋯ vg_parques dist_total dist_reta dist_linha detour_mm poly\n",
       "     lon.x lat.x lon.y lat.y"
      ]
     },
     "metadata": {},
     "output_type": "display_data"
    }
   ],
   "source": [
    "# Remover arquivos que já foram executados\n",
    "nrow(rotas_m)\n",
    "rotas_m <- rotas_m %>% filter(!tmp_id %in% arqs_resultados$tmp_id)\n",
    "rm(arqs_resultados)\n",
    "nrow(rotas_m)\n",
    "head(rotas_m, 2)"
   ]
  },
  {
   "cell_type": "code",
   "execution_count": 14,
   "id": "ac2de437",
   "metadata": {},
   "outputs": [],
   "source": [
    "# ATENÇÃO: Demora cerca de 12h30 para rodar"
   ]
  },
  {
   "cell_type": "code",
   "execution_count": 16,
   "id": "971f4d56",
   "metadata": {},
   "outputs": [
    {
     "data": {
      "text/plain": [
       "[1] \"2025-03-05 11:44:12 -03\""
      ]
     },
     "metadata": {},
     "output_type": "display_data"
    },
    {
     "data": {
      "text/plain": [
       "[1] \"2025-03-05 11:44:12 -03\""
      ]
     },
     "metadata": {},
     "output_type": "display_data"
    }
   ],
   "source": [
    "# Inserir cálculos de extensões percorridas em vias comuns ou infra cicloviária\n",
    "# para cada uma das rotas calculadas\n",
    "detach(\"package:tidylog\")\n",
    "# for (tmpid in rotas_m$tmp_id) { \n",
    "#   calcular_dist_ciclo(tmpid) \n",
    "#  }\n",
    "\n",
    "# Rodar função para todos os arquivos- multi thread (Jupyter)\n",
    "(start = Sys.time())\n",
    "future::plan(future::multicore)\n",
    "invisible(future.apply::future_lapply(X   = rotas_m$tmp_id, \n",
    "                                      FUN = calcular_dist_ciclo,\n",
    "                                      future.seed = TRUE))\n",
    "Sys.time()\n",
    "end_future = Sys.time() - start\n",
    "\n",
    "# Se der erro de Error in `select()`: ! Can't select columns that don't exist. ✖ Column `trip_id` doesn't exist.\n",
    "# é porque precisa descompactar as pastas:\n",
    "# pasta_mm_1 <- sprintf('%s/201811/viagens_processadas_csv', pasta_map_matching)\n",
    "# pasta_mm_2 <- sprintf('%s/201812/viagens_processadas_csv', pasta_map_matching)\n",
    "# pasta_mm_3 <- sprintf('%s/201901/viagens_processadas_csv', pasta_map_matching)"
   ]
  },
  {
   "cell_type": "code",
   "execution_count": 11,
   "id": "8c571819",
   "metadata": {},
   "outputs": [
    {
     "data": {
      "text/plain": [
       "Time difference of 12.10028 hours"
      ]
     },
     "metadata": {},
     "output_type": "display_data"
    },
    {
     "ename": "ERROR",
     "evalue": "Error: objeto 'end_future' não encontrado\n",
     "output_type": "error",
     "traceback": [
      "Error: objeto 'end_future' não encontrado\nTraceback:\n"
     ]
    }
   ],
   "source": [
    "# Time difference of 12.10028 hours\n",
    "Sys.time() - start\n",
    "end_future"
   ]
  },
  {
   "cell_type": "code",
   "execution_count": 17,
   "id": "8ca59de5",
   "metadata": {},
   "outputs": [],
   "source": [
    "# ------------------------------------------------------------------------------\n",
    "# Juntar todos os resultados\n",
    "# ------------------------------------------------------------------------------\n",
    "\n",
    "# Arquivo de saída\n",
    "out_file <- sprintf('%s/02_ttmatrix_rotas_modeladas_alternativas_acuracia_infraciclo_carac_viagens.csv', pasta_lts_priority)\n",
    "\n",
    "# Listar todos os arquivos de resultados em um dataframe único\n",
    "arqs_resultados <- data.frame(arq = list.files(pasta_rotas_modalc, recursive = FALSE, full.names = TRUE))\n",
    "\n",
    "# Resultados já vão estar ordenados conforme o nome, o que significa \n",
    "# que já estarão ordenados com relação ao trip_id e à coluna alt\n",
    "for (arq in arqs_resultados$arq) {\n",
    "  # Abrir arquivo de resultados\n",
    "  arq <- read_delim(arq, delim = ';', col_types = cols(.default = \"c\"))\n",
    "  \n",
    "  # Guardar resultados \n",
    "  if (file.exists(out_file)) {\n",
    "    write_delim(arq, out_file, delim = ';', append = TRUE)\n",
    "  } else {\n",
    "    write_delim(arq, out_file, delim = ';', append = FALSE)\n",
    "  }\n",
    "  \n",
    "}"
   ]
  },
  {
   "cell_type": "code",
   "execution_count": 18,
   "id": "b7d9ac2b",
   "metadata": {},
   "outputs": [
    {
     "data": {
      "text/plain": [
       "Time difference of 34.62291 mins"
      ]
     },
     "metadata": {},
     "output_type": "display_data"
    }
   ],
   "source": [
    "Sys.time() - start"
   ]
  },
  {
   "cell_type": "code",
   "execution_count": null,
   "id": "e2993bda",
   "metadata": {},
   "outputs": [],
   "source": []
  }
 ],
 "metadata": {
  "kernelspec": {
   "display_name": "R [conda env:r4.4]",
   "language": "R",
   "name": "conda-env-r4.4-r"
  },
  "language_info": {
   "codemirror_mode": "r",
   "file_extension": ".r",
   "mimetype": "text/x-r-source",
   "name": "R",
   "pygments_lexer": "r",
   "version": "4.4.1"
  }
 },
 "nbformat": 4,
 "nbformat_minor": 5
}
