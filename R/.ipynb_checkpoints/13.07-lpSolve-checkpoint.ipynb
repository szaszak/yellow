{
 "cells": [
  {
   "cell_type": "code",
   "execution_count": 1,
   "id": "27dbb5b3",
   "metadata": {},
   "outputs": [
    {
     "name": "stderr",
     "output_type": "stream",
     "text": [
      "── \u001b[1mAttaching packages\u001b[22m ─────────────────────────────────────────────────────────────────────────────── tidyverse 1.3.1 ──\n",
      "\n",
      "\u001b[32m✔\u001b[39m \u001b[34mggplot2\u001b[39m 3.3.3     \u001b[32m✔\u001b[39m \u001b[34mpurrr  \u001b[39m 0.3.4\n",
      "\u001b[32m✔\u001b[39m \u001b[34mtibble \u001b[39m 3.1.1     \u001b[32m✔\u001b[39m \u001b[34mdplyr  \u001b[39m 1.0.5\n",
      "\u001b[32m✔\u001b[39m \u001b[34mtidyr  \u001b[39m 1.1.3     \u001b[32m✔\u001b[39m \u001b[34mstringr\u001b[39m 1.4.0\n",
      "\u001b[32m✔\u001b[39m \u001b[34mreadr  \u001b[39m 1.4.0     \u001b[32m✔\u001b[39m \u001b[34mforcats\u001b[39m 0.5.1\n",
      "\n",
      "── \u001b[1mConflicts\u001b[22m ────────────────────────────────────────────────────────────────────────────────── tidyverse_conflicts() ──\n",
      "\u001b[31m✖\u001b[39m \u001b[34mdplyr\u001b[39m::\u001b[32mfilter()\u001b[39m masks \u001b[34mstats\u001b[39m::filter()\n",
      "\u001b[31m✖\u001b[39m \u001b[34mdplyr\u001b[39m::\u001b[32mlag()\u001b[39m    masks \u001b[34mstats\u001b[39m::lag()\n",
      "\n"
     ]
    }
   ],
   "source": [
    "# Aplica o lpSolve para carregar a rede - resulta na quantidade de viagens entre\n",
    "# cada hexágono de origem e destino (relação população vs matrículas)\n",
    "\n",
    "# carregar bibliotecas\n",
    "library('tidyverse')\n",
    "# library('tidylog')\n",
    "library('lpSolve')\n",
    "options(scipen = 999)"
   ]
  },
  {
   "cell_type": "code",
   "execution_count": 2,
   "id": "7b80c064",
   "metadata": {},
   "outputs": [],
   "source": [
    "# Definir ano de análise e limite máximo de tempo\n",
    "ano <- '2019'; tempo_max <- '15'\n",
    "\n",
    "# Estrutura de pastas e arquivos\n",
    "pasta_dados       <- \"../../yellow_dados\"\n",
    "pasta_aop_optimum <- sprintf(\"%s/13_aop_optimum\", pasta_dados)\n",
    "pasta_opaop_ano   <- sprintf(\"%s/%s\", pasta_aop_optimum, ano)"
   ]
  },
  {
   "cell_type": "code",
   "execution_count": 3,
   "id": "d49d0141",
   "metadata": {},
   "outputs": [
    {
     "data": {
      "text/html": [
       "<table class=\"dataframe\">\n",
       "<caption>A tibble: 2 × 2</caption>\n",
       "<thead>\n",
       "\t<tr><th scope=col>orig</th><th scope=col>pop</th></tr>\n",
       "\t<tr><th scope=col>&lt;chr&gt;</th><th scope=col>&lt;dbl&gt;</th></tr>\n",
       "</thead>\n",
       "<tbody>\n",
       "\t<tr><td>89a81000003ffff</td><td>40</td></tr>\n",
       "\t<tr><td>89a81000007ffff</td><td> 2</td></tr>\n",
       "</tbody>\n",
       "</table>\n"
      ],
      "text/latex": [
       "A tibble: 2 × 2\n",
       "\\begin{tabular}{ll}\n",
       " orig & pop\\\\\n",
       " <chr> & <dbl>\\\\\n",
       "\\hline\n",
       "\t 89a81000003ffff & 40\\\\\n",
       "\t 89a81000007ffff &  2\\\\\n",
       "\\end{tabular}\n"
      ],
      "text/markdown": [
       "\n",
       "A tibble: 2 × 2\n",
       "\n",
       "| orig &lt;chr&gt; | pop &lt;dbl&gt; |\n",
       "|---|---|\n",
       "| 89a81000003ffff | 40 |\n",
       "| 89a81000007ffff |  2 |\n",
       "\n"
      ],
      "text/plain": [
       "  orig            pop\n",
       "1 89a81000003ffff 40 \n",
       "2 89a81000007ffff  2 "
      ]
     },
     "metadata": {},
     "output_type": "display_data"
    },
    {
     "data": {
      "text/html": [
       "<table class=\"dataframe\">\n",
       "<caption>A tibble: 2 × 2</caption>\n",
       "<thead>\n",
       "\t<tr><th scope=col>dest</th><th scope=col>mat</th></tr>\n",
       "\t<tr><th scope=col>&lt;chr&gt;</th><th scope=col>&lt;dbl&gt;</th></tr>\n",
       "</thead>\n",
       "<tbody>\n",
       "\t<tr><td>89a81000027ffff</td><td>1048</td></tr>\n",
       "\t<tr><td>89a8100002bffff</td><td> 369</td></tr>\n",
       "</tbody>\n",
       "</table>\n"
      ],
      "text/latex": [
       "A tibble: 2 × 2\n",
       "\\begin{tabular}{ll}\n",
       " dest & mat\\\\\n",
       " <chr> & <dbl>\\\\\n",
       "\\hline\n",
       "\t 89a81000027ffff & 1048\\\\\n",
       "\t 89a8100002bffff &  369\\\\\n",
       "\\end{tabular}\n"
      ],
      "text/markdown": [
       "\n",
       "A tibble: 2 × 2\n",
       "\n",
       "| dest &lt;chr&gt; | mat &lt;dbl&gt; |\n",
       "|---|---|\n",
       "| 89a81000027ffff | 1048 |\n",
       "| 89a8100002bffff |  369 |\n",
       "\n"
      ],
      "text/plain": [
       "  dest            mat \n",
       "1 89a81000027ffff 1048\n",
       "2 89a8100002bffff  369"
      ]
     },
     "metadata": {},
     "output_type": "display_data"
    },
    {
     "name": "stdout",
     "output_type": "stream",
     "text": [
      "[1] \"População: 505207; Matrículas: 374710 (Diferença: 130497)\"\n"
     ]
    },
    {
     "data": {
      "text/html": [
       "<table class=\"dataframe\">\n",
       "<caption>A tibble: 2 × 3</caption>\n",
       "<thead>\n",
       "\t<tr><th scope=col>orig</th><th scope=col>dest</th><th scope=col>time</th></tr>\n",
       "\t<tr><th scope=col>&lt;chr&gt;</th><th scope=col>&lt;chr&gt;</th><th scope=col>&lt;chr&gt;</th></tr>\n",
       "</thead>\n",
       "<tbody>\n",
       "\t<tr><td>89a81000003ffff</td><td>89a8100000bffff</td><td>399.459</td></tr>\n",
       "\t<tr><td>89a81000003ffff</td><td>89a81000017ffff</td><td>140.424</td></tr>\n",
       "</tbody>\n",
       "</table>\n"
      ],
      "text/latex": [
       "A tibble: 2 × 3\n",
       "\\begin{tabular}{lll}\n",
       " orig & dest & time\\\\\n",
       " <chr> & <chr> & <chr>\\\\\n",
       "\\hline\n",
       "\t 89a81000003ffff & 89a8100000bffff & 399.459\\\\\n",
       "\t 89a81000003ffff & 89a81000017ffff & 140.424\\\\\n",
       "\\end{tabular}\n"
      ],
      "text/markdown": [
       "\n",
       "A tibble: 2 × 3\n",
       "\n",
       "| orig &lt;chr&gt; | dest &lt;chr&gt; | time &lt;chr&gt; |\n",
       "|---|---|---|\n",
       "| 89a81000003ffff | 89a8100000bffff | 399.459 |\n",
       "| 89a81000003ffff | 89a81000017ffff | 140.424 |\n",
       "\n"
      ],
      "text/plain": [
       "  orig            dest            time   \n",
       "1 89a81000003ffff 89a8100000bffff 399.459\n",
       "2 89a81000003ffff 89a81000017ffff 140.424"
      ]
     },
     "metadata": {},
     "output_type": "display_data"
    }
   ],
   "source": [
    "# ------------------------------------------------------------------------------\n",
    "# Bases de dados - população (demanda) > matrículas (oferta)\n",
    "# ------------------------------------------------------------------------------\n",
    "\n",
    "# No nosso caso, teremos uma população maior do que a quantidade de matrículas,\n",
    "# o que nos fará ter de transpor (inverter) as linhas com as colunas, deixando\n",
    "# a população na origem como linhas e as matrículas no destino como colunas.\n",
    "\n",
    "# Demanda: quantidade de pessoas por hexágono\n",
    "pop <- sprintf('%s/hex_grid_sp_res09_dados_censo_por_hexagono.csv', pasta_aop_optimum)\n",
    "pop <- read_delim(pop, delim = ';', col_types = cols(.default = \"c\"))\n",
    "pop <- pop %>% mutate_at(2:ncol(.), as.numeric)\n",
    "pop <- pop %>% select(orig = id_hex, pop = pessoas_15_17_hex)\n",
    "# Checar se algum id ficou duplicado por qualquer motivo\n",
    "# pop %>% group_by(orig) %>% tally() %>% filter(n > 1) %>% nrow()\n",
    "head(pop, 2)\n",
    "\n",
    "# Oferta: quantidade de matrículas por hexágono\n",
    "mat <- sprintf('%s/matriculas_censo_escolar_2019_por_hexagono.csv', pasta_aop_optimum)\n",
    "mat <- read_delim(mat, delim = ';', col_types = cols(.default = \"c\"))\n",
    "mat <- mat %>% mutate_at(2:ncol(.), as.numeric)\n",
    "mat <- mat %>% select(dest = id_hex, mat = matriculas_idades_15_17)\n",
    "# Checar se algum id ficou duplicado por qualquer motivo\n",
    "# mat %>% group_by(dest) %>% tally() %>% filter(n > 1) %>% nrow()\n",
    "head(mat, 2)\n",
    "\n",
    "# Neste caso, temos uma demanda de população MAIOR do que a oferta de matrículas\n",
    "print(sprintf('População: %s; Matrículas: %s (Diferença: %s)', sum(pop$pop), sum(mat$mat), sum(pop$pop) - sum(mat$mat)))\n",
    "\n",
    "# Matriz de tempo entre hexágonos, já removidos os tempos acima do limite\n",
    "# estabelecido (15, 30, 40 minutos)\n",
    "custos <- sprintf('%s/01_ttmatrix_%s_res09_%smin.csv', pasta_opaop_ano, ano, tempo_max)\n",
    "custos <- read_delim(custos, delim = ';', col_types = cols(.default = \"c\"))\n",
    "custos <- custos %>% select(hex_id, time = time_adj)\n",
    "# Checar se algum id ficou duplicado por qualquer motivo\n",
    "# custos %>% group_by(hex_id) %>% tally() %>% filter(n > 1) %>% nrow()\n",
    "custos <- custos %>% separate(hex_id, into = c('orig', 'dest'), sep = '-', remove = TRUE)\n",
    "head(custos, 2)"
   ]
  },
  {
   "cell_type": "code",
   "execution_count": 5,
   "id": "9bc1f55d",
   "metadata": {},
   "outputs": [
    {
     "data": {
      "text/html": [
       "<table class=\"dataframe\">\n",
       "<caption>A tibble: 6 × 3</caption>\n",
       "<thead>\n",
       "\t<tr><th scope=col>orig</th><th scope=col>dest</th><th scope=col>time</th></tr>\n",
       "\t<tr><th scope=col>&lt;chr&gt;</th><th scope=col>&lt;chr&gt;</th><th scope=col>&lt;chr&gt;</th></tr>\n",
       "</thead>\n",
       "<tbody>\n",
       "\t<tr><td>89a81000003ffff</td><td>89a81000027ffff</td><td>644.656</td></tr>\n",
       "\t<tr><td>89a81000003ffff</td><td>89a8100002bffff</td><td>693.182</td></tr>\n",
       "\t<tr><td>89a81000003ffff</td><td>89a81000077ffff</td><td>601.127</td></tr>\n",
       "\t<tr><td>89a81000003ffff</td><td>89a8100008fffff</td><td>258.346</td></tr>\n",
       "\t<tr><td>89a81000003ffff</td><td>89a81000133ffff</td><td>NA     </td></tr>\n",
       "\t<tr><td>89a81000003ffff</td><td>89a81000163ffff</td><td>NA     </td></tr>\n",
       "</tbody>\n",
       "</table>\n"
      ],
      "text/latex": [
       "A tibble: 6 × 3\n",
       "\\begin{tabular}{lll}\n",
       " orig & dest & time\\\\\n",
       " <chr> & <chr> & <chr>\\\\\n",
       "\\hline\n",
       "\t 89a81000003ffff & 89a81000027ffff & 644.656\\\\\n",
       "\t 89a81000003ffff & 89a8100002bffff & 693.182\\\\\n",
       "\t 89a81000003ffff & 89a81000077ffff & 601.127\\\\\n",
       "\t 89a81000003ffff & 89a8100008fffff & 258.346\\\\\n",
       "\t 89a81000003ffff & 89a81000133ffff & NA     \\\\\n",
       "\t 89a81000003ffff & 89a81000163ffff & NA     \\\\\n",
       "\\end{tabular}\n"
      ],
      "text/markdown": [
       "\n",
       "A tibble: 6 × 3\n",
       "\n",
       "| orig &lt;chr&gt; | dest &lt;chr&gt; | time &lt;chr&gt; |\n",
       "|---|---|---|\n",
       "| 89a81000003ffff | 89a81000027ffff | 644.656 |\n",
       "| 89a81000003ffff | 89a8100002bffff | 693.182 |\n",
       "| 89a81000003ffff | 89a81000077ffff | 601.127 |\n",
       "| 89a81000003ffff | 89a8100008fffff | 258.346 |\n",
       "| 89a81000003ffff | 89a81000133ffff | NA      |\n",
       "| 89a81000003ffff | 89a81000163ffff | NA      |\n",
       "\n"
      ],
      "text/plain": [
       "  orig            dest            time   \n",
       "1 89a81000003ffff 89a81000027ffff 644.656\n",
       "2 89a81000003ffff 89a8100002bffff 693.182\n",
       "3 89a81000003ffff 89a81000077ffff 601.127\n",
       "4 89a81000003ffff 89a8100008fffff 258.346\n",
       "5 89a81000003ffff 89a81000133ffff NA     \n",
       "6 89a81000003ffff 89a81000163ffff NA     "
      ]
     },
     "metadata": {},
     "output_type": "display_data"
    }
   ],
   "source": [
    "# ------------------------------------------------------------------------------\n",
    "# Etapa 1 - Chegar se há origens ou destinos impossíveis de satisfazer\n",
    "# ------------------------------------------------------------------------------\n",
    "\n",
    "# Gerar a matriz de custos por combinações entre origens e destinos\n",
    "cost.mat <-\n",
    "  # Combinar todos os valores de origem para todos os de destino em um dataframe\n",
    "  expand_grid(orig = pop$orig, dest = mat$dest) %>% \n",
    "  # Juntar com a matriz de custos\n",
    "  left_join(custos, by = c('orig', 'dest')) %>% \n",
    "  # Se origem for igual ao destino, é um par OD possível e o custo é zero\n",
    "  mutate(time = ifelse(orig == dest, '0', time))\n",
    "\n",
    "# cost.mat %>% filter(orig == dest)\n",
    "head(cost.mat)"
   ]
  },
  {
   "cell_type": "code",
   "execution_count": 6,
   "id": "e4306604",
   "metadata": {},
   "outputs": [
    {
     "name": "stdout",
     "output_type": "stream",
     "text": [
      "[1] \"População: 483781; Matrículas: 369307; Diferença: 114474\"\n"
     ]
    },
    {
     "name": "stderr",
     "output_type": "stream",
     "text": [
      "Warning message in mask$eval_all_mutate(quo):\n",
      "“NAs introduzidos por coerção”\n"
     ]
    },
    {
     "data": {
      "text/html": [
       "<table class=\"dataframe\">\n",
       "<caption>A tibble: 2 × 1220</caption>\n",
       "<thead>\n",
       "\t<tr><th scope=col>89a81000027ffff</th><th scope=col>89a8100002bffff</th><th scope=col>89a81000077ffff</th><th scope=col>89a8100008fffff</th><th scope=col>89a81000133ffff</th><th scope=col>89a81000163ffff</th><th scope=col>89a8100016fffff</th><th scope=col>89a810001cfffff</th><th scope=col>89a8100032bffff</th><th scope=col>89a810003b7ffff</th><th scope=col>⋯</th><th scope=col>89a8107756bffff</th><th scope=col>89a8107758bffff</th><th scope=col>89a810775a7ffff</th><th scope=col>89a81077683ffff</th><th scope=col>89a81077693ffff</th><th scope=col>89a81077697ffff</th><th scope=col>89a8107769bffff</th><th scope=col>89a8107a5a7ffff</th><th scope=col>89a8107a5b7ffff</th><th scope=col>89a8108de6bffff</th></tr>\n",
       "\t<tr><th scope=col>&lt;dbl&gt;</th><th scope=col>&lt;dbl&gt;</th><th scope=col>&lt;dbl&gt;</th><th scope=col>&lt;dbl&gt;</th><th scope=col>&lt;dbl&gt;</th><th scope=col>&lt;dbl&gt;</th><th scope=col>&lt;dbl&gt;</th><th scope=col>&lt;dbl&gt;</th><th scope=col>&lt;dbl&gt;</th><th scope=col>&lt;dbl&gt;</th><th scope=col>⋯</th><th scope=col>&lt;dbl&gt;</th><th scope=col>&lt;dbl&gt;</th><th scope=col>&lt;dbl&gt;</th><th scope=col>&lt;dbl&gt;</th><th scope=col>&lt;dbl&gt;</th><th scope=col>&lt;dbl&gt;</th><th scope=col>&lt;dbl&gt;</th><th scope=col>&lt;dbl&gt;</th><th scope=col>&lt;dbl&gt;</th><th scope=col>&lt;dbl&gt;</th></tr>\n",
       "</thead>\n",
       "<tbody>\n",
       "\t<tr><td>644.656</td><td>693.182</td><td>601.127</td><td>258.346</td><td>100000</td><td>100000</td><td>100000</td><td>   800.498</td><td>100000</td><td>100000</td><td>⋯</td><td>100000</td><td>100000</td><td>100000</td><td>100000</td><td>100000</td><td>100000</td><td>100000</td><td>100000</td><td>100000</td><td>100000</td></tr>\n",
       "\t<tr><td>755.751</td><td>528.600</td><td>368.786</td><td>397.740</td><td>100000</td><td>100000</td><td>100000</td><td>100000.000</td><td>100000</td><td>100000</td><td>⋯</td><td>100000</td><td>100000</td><td>100000</td><td>100000</td><td>100000</td><td>100000</td><td>100000</td><td>100000</td><td>100000</td><td>100000</td></tr>\n",
       "</tbody>\n",
       "</table>\n"
      ],
      "text/latex": [
       "A tibble: 2 × 1220\n",
       "\\begin{tabular}{lllllllllllllllllllll}\n",
       " 89a81000027ffff & 89a8100002bffff & 89a81000077ffff & 89a8100008fffff & 89a81000133ffff & 89a81000163ffff & 89a8100016fffff & 89a810001cfffff & 89a8100032bffff & 89a810003b7ffff & ⋯ & 89a8107756bffff & 89a8107758bffff & 89a810775a7ffff & 89a81077683ffff & 89a81077693ffff & 89a81077697ffff & 89a8107769bffff & 89a8107a5a7ffff & 89a8107a5b7ffff & 89a8108de6bffff\\\\\n",
       " <dbl> & <dbl> & <dbl> & <dbl> & <dbl> & <dbl> & <dbl> & <dbl> & <dbl> & <dbl> & ⋯ & <dbl> & <dbl> & <dbl> & <dbl> & <dbl> & <dbl> & <dbl> & <dbl> & <dbl> & <dbl>\\\\\n",
       "\\hline\n",
       "\t 644.656 & 693.182 & 601.127 & 258.346 & 100000 & 100000 & 100000 &    800.498 & 100000 & 100000 & ⋯ & 100000 & 100000 & 100000 & 100000 & 100000 & 100000 & 100000 & 100000 & 100000 & 100000\\\\\n",
       "\t 755.751 & 528.600 & 368.786 & 397.740 & 100000 & 100000 & 100000 & 100000.000 & 100000 & 100000 & ⋯ & 100000 & 100000 & 100000 & 100000 & 100000 & 100000 & 100000 & 100000 & 100000 & 100000\\\\\n",
       "\\end{tabular}\n"
      ],
      "text/markdown": [
       "\n",
       "A tibble: 2 × 1220\n",
       "\n",
       "| 89a81000027ffff &lt;dbl&gt; | 89a8100002bffff &lt;dbl&gt; | 89a81000077ffff &lt;dbl&gt; | 89a8100008fffff &lt;dbl&gt; | 89a81000133ffff &lt;dbl&gt; | 89a81000163ffff &lt;dbl&gt; | 89a8100016fffff &lt;dbl&gt; | 89a810001cfffff &lt;dbl&gt; | 89a8100032bffff &lt;dbl&gt; | 89a810003b7ffff &lt;dbl&gt; | ⋯ ⋯ | 89a8107756bffff &lt;dbl&gt; | 89a8107758bffff &lt;dbl&gt; | 89a810775a7ffff &lt;dbl&gt; | 89a81077683ffff &lt;dbl&gt; | 89a81077693ffff &lt;dbl&gt; | 89a81077697ffff &lt;dbl&gt; | 89a8107769bffff &lt;dbl&gt; | 89a8107a5a7ffff &lt;dbl&gt; | 89a8107a5b7ffff &lt;dbl&gt; | 89a8108de6bffff &lt;dbl&gt; |\n",
       "|---|---|---|---|---|---|---|---|---|---|---|---|---|---|---|---|---|---|---|---|---|\n",
       "| 644.656 | 693.182 | 601.127 | 258.346 | 100000 | 100000 | 100000 |    800.498 | 100000 | 100000 | ⋯ | 100000 | 100000 | 100000 | 100000 | 100000 | 100000 | 100000 | 100000 | 100000 | 100000 |\n",
       "| 755.751 | 528.600 | 368.786 | 397.740 | 100000 | 100000 | 100000 | 100000.000 | 100000 | 100000 | ⋯ | 100000 | 100000 | 100000 | 100000 | 100000 | 100000 | 100000 | 100000 | 100000 | 100000 |\n",
       "\n"
      ],
      "text/plain": [
       "  89a81000027ffff 89a8100002bffff 89a81000077ffff 89a8100008fffff\n",
       "1 644.656         693.182         601.127         258.346        \n",
       "2 755.751         528.600         368.786         397.740        \n",
       "  89a81000133ffff 89a81000163ffff 89a8100016fffff 89a810001cfffff\n",
       "1 100000          100000          100000             800.498     \n",
       "2 100000          100000          100000          100000.000     \n",
       "  89a8100032bffff 89a810003b7ffff ⋯ 89a8107756bffff 89a8107758bffff\n",
       "1 100000          100000          ⋯ 100000          100000         \n",
       "2 100000          100000          ⋯ 100000          100000         \n",
       "  89a810775a7ffff 89a81077683ffff 89a81077693ffff 89a81077697ffff\n",
       "1 100000          100000          100000          100000         \n",
       "2 100000          100000          100000          100000         \n",
       "  89a8107769bffff 89a8107a5a7ffff 89a8107a5b7ffff 89a8108de6bffff\n",
       "1 100000          100000          100000          100000         \n",
       "2 100000          100000          100000          100000         "
      ]
     },
     "metadata": {},
     "output_type": "display_data"
    }
   ],
   "source": [
    "# Se o tempo for NA, é porque a origem está no dataframe de origem (há \n",
    "# população), mas o destino não está no dataframe da matriz de custos, ou\n",
    "# seja, não é possível chegar naquelas matrículas (está acima do limite de \n",
    "# tempo estabelecido previamente - 15, 30 , 40 minutos). O que vamos fazer é\n",
    "# checar se não é possível chegar de nenhuma forma a esses destinos (não estão\n",
    "# na matriz de custos) - se não for, vamos registrar e remover de cost.mat. Caso\n",
    "# seja possível chegar neles por alguma combinação (ou seja, o destino está\n",
    "# na matriz \"custos\", esses NA serão substituídos por valores proibitivos adiante\n",
    "destinos_impossiveis <- \n",
    "  cost.mat %>% \n",
    "  filter(is.na(time)) %>% \n",
    "  select(dest) %>% \n",
    "  distinct() %>% \n",
    "  filter(!dest %in% custos$dest)\n",
    "\n",
    "# destinos_impossiveis %>% summarise(this = toString(dest)) %>% pull()\n",
    "\n",
    "# De forma similar, o mesmo acontece com as origens - detectar as isoladas\n",
    "origens_impossiveis <- \n",
    "  cost.mat %>% \n",
    "  filter(is.na(time)) %>% \n",
    "  select(orig) %>% \n",
    "  distinct() %>% \n",
    "  filter(!orig %in% custos$orig)\n",
    "\n",
    "# origens_impossiveis %>% summarise(this = toString(orig)) %>% pull()\n",
    "\n",
    "\n",
    "# Remover destinos e origens impossíveis, caso existam\n",
    "cost.mat <- cost.mat %>% filter(!dest %in% destinos_impossiveis$dest)\n",
    "cost.mat <- cost.mat %>% filter(!orig %in% origens_impossiveis$orig)\n",
    "\n",
    "# Atualizar dataframes de matrículas (destinos) e população (origens)\n",
    "mat <- mat %>% filter(!dest %in% destinos_impossiveis$dest)\n",
    "pop <- pop %>% filter(!orig %in% origens_impossiveis$orig)\n",
    "\n",
    "# Como fica a relação entre demanda e oferta?\n",
    "print(sprintf('População: %s; Matrículas: %s; Diferença: %s', sum(pop$pop), sum(mat$mat), sum(pop$pop) - sum(mat$mat)))\n",
    "\n",
    "# Registrar composição de linhas e colunas\n",
    "reg_linhas  <- cost.mat %>% select(orig) %>% arrange() %>% distinct()\n",
    "reg_colunas <- cost.mat %>% select(dest) %>% arrange() %>% distinct()\n",
    "\n",
    "# Continuar a gerar a matriz de custos\n",
    "cost.mat <- \n",
    "  cost.mat %>% \n",
    "  # Aqui, destinos (oferta) ficam como COLUNAS; origens (demanda) ficam como LINHAS\n",
    "  pivot_wider(id_cols     = orig,\n",
    "              names_from  = dest,\n",
    "              values_from = time) %>%\n",
    "  # Precisamos ordenar as colunas para que a ordem seja a mesma dos DESTINOS/OFERTA\n",
    "  select(orig, order(colnames(.))) %>%\n",
    "  # Precisamos ordenar as linhas para que a ordem seja a mesma das ORIGENS/DEMANDA\n",
    "  arrange(orig) %>%\n",
    "  # Garantir que conteúdo da matriz esteja em número e que valores NA serão\n",
    "  # considerados como valores proibitivos\n",
    "  mutate(across(where(is.character), as.numeric),\n",
    "         across(where(is.numeric), ~ replace_na(.x, 100000))) %>% \n",
    "  # across(where(is.numeric), ~ replace_na(.x, 0))) %>%\n",
    "  # Tendo garantido que linhas e colunas estão ordenadas, remover nomes das linhas\n",
    "  select(-orig)\n",
    "\n",
    "head(cost.mat, 2)"
   ]
  },
  {
   "cell_type": "code",
   "execution_count": 7,
   "id": "d0b98c16",
   "metadata": {},
   "outputs": [],
   "source": [
    "# ------------------------------------------------------------------------------\n",
    "# Etapa 2 - lpSolve\n",
    "# ------------------------------------------------------------------------------\n",
    "\n",
    "# Este é um problema de minimização de custos (tempo)\n",
    "direction <- 'min'\n",
    "\n",
    "# Aqui, as linhas são os hexágonos h3 resolução 09 com a POPULAÇÃO na faixa etária escolhida\n",
    "row.signs <- rep('<=', nrow(pop))\n",
    "row.rhs <- pop$pop\n",
    "\n",
    "# As colunas são os hexágonos h3 resolução 09 com as quantidades de MATRÍCULAS\n",
    "col.signs <- rep('>=', nrow(mat))\n",
    "col.rhs <- mat$mat\n",
    "\n",
    "# Solucionando o problema\n",
    "(start = Sys.time())\n",
    "solution <- lp.transport(cost.mat  = as.matrix(cost.mat),\n",
    "                         direction = direction,\n",
    "                         row.signs = row.signs,\n",
    "                         row.rhs   = row.rhs,\n",
    "                         col.signs = col.signs,\n",
    "                         col.rhs   = col.rhs)\n",
    "Sys.time()\n",
    "Sys.time() - start"
   ]
  },
  {
   "cell_type": "code",
   "execution_count": 8,
   "id": "6f7dfd33",
   "metadata": {},
   "outputs": [
    {
     "data": {
      "text/plain": [
       "[1] \"2024-07-15 12:43:48 -03\""
      ]
     },
     "metadata": {},
     "output_type": "display_data"
    }
   ],
   "source": [
    "Sys.time()"
   ]
  },
  {
   "cell_type": "code",
   "execution_count": null,
   "id": "f9159a3c",
   "metadata": {},
   "outputs": [],
   "source": []
  }
 ],
 "metadata": {
  "kernelspec": {
   "display_name": "R [conda env:r4_env]",
   "language": "R",
   "name": "conda-env-r4_env-r"
  },
  "language_info": {
   "codemirror_mode": "r",
   "file_extension": ".r",
   "mimetype": "text/x-r-source",
   "name": "R",
   "pygments_lexer": "r",
   "version": "4.0.5"
  }
 },
 "nbformat": 4,
 "nbformat_minor": 5
}
