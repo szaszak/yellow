{
 "cells": [
  {
   "cell_type": "markdown",
   "id": "401058bc",
   "metadata": {},
   "source": [
    "### Comando para rodar o GraphHopper no terminal - atenção para o PBF a ser carregado:\n",
    "\n",
    "PBF da Rede 2024; custom model ajustado (LTS) com priority para cycleways e lcn\n",
    "\n",
    "clear && cd /home/livre/Desktop/Base_GtsRegionais/GitLab/yellow_src/graphhopper/ && rm -rf graph-cache/ && java -Ddw.graphhopper.datareader.file=/home/livre/Desktop/Base_GtsRegionais/GitLab/yellow_dados/14_aop_2024_2028/01_redes_2024_2028/20220216_sao_paulo_edited_20250304_A_infraciclo_2024.osm.pbf -jar graphhopper/web/target/graphhopper-web-*.jar server graphhopper/config-example_LTS_priority_cycleway_lcn.yml"
   ]
  },
  {
   "cell_type": "code",
   "execution_count": 1,
   "id": "b38189a8",
   "metadata": {},
   "outputs": [],
   "source": [
    "# carregar bibliotecas\n",
    "suppressPackageStartupMessages(library('tidyverse'))\n",
    "suppressPackageStartupMessages(library('tidylog'))\n",
    "suppressPackageStartupMessages(library('httr'))\n",
    "suppressPackageStartupMessages(library('jsonlite'))"
   ]
  },
  {
   "cell_type": "code",
   "execution_count": 2,
   "id": "312123bc",
   "metadata": {},
   "outputs": [
    {
     "name": "stderr",
     "output_type": "stream",
     "text": [
      "Carregando pacotes exigidos: future\n",
      "\n"
     ]
    },
    {
     "data": {
      "text/html": [
       "TRUE"
      ],
      "text/latex": [
       "TRUE"
      ],
      "text/markdown": [
       "TRUE"
      ],
      "text/plain": [
       "[1] TRUE"
      ]
     },
     "metadata": {},
     "output_type": "display_data"
    }
   ],
   "source": [
    "# Aplicar funcoes em paralelo\n",
    "library('future.apply')\n",
    "# Checando: Jupyter suporta multicore?\n",
    "future::supportsMulticore()"
   ]
  },
  {
   "cell_type": "code",
   "execution_count": 3,
   "id": "c1c3dc97",
   "metadata": {},
   "outputs": [
    {
     "data": {
      "text/html": [
       "<strong>system:</strong> 8"
      ],
      "text/latex": [
       "\\textbf{system:} 8"
      ],
      "text/markdown": [
       "**system:** 8"
      ],
      "text/plain": [
       "system \n",
       "     8 "
      ]
     },
     "metadata": {},
     "output_type": "display_data"
    }
   ],
   "source": [
    "# https://stackoverflow.com/questions/40536067/how-to-adjust-future-global-maxsize\n",
    "# For 850MB: 850*1024^2 = 891289600\n",
    "# For +1.3GB: 1500*1024^2 = 1572864000\n",
    "# options(future.globals.maxSize = 891289600)\n",
    "options(future.globals.maxSize = 5e6) # 5 MB\n",
    "options(future.globals.maxSize = 80*1024^2) # 45 MB\n",
    "parallelly::availableCores()"
   ]
  },
  {
   "cell_type": "markdown",
   "id": "90520316",
   "metadata": {},
   "source": [
    "#### Rodar com 5 núcleos vai bem mais rápido, pois não entra no SWAP"
   ]
  },
  {
   "cell_type": "code",
   "execution_count": 4,
   "id": "b79625ac",
   "metadata": {},
   "outputs": [
    {
     "data": {
      "text/html": [
       "<strong>mc.cores:</strong> 5"
      ],
      "text/latex": [
       "\\textbf{mc.cores:} 5"
      ],
      "text/markdown": [
       "**mc.cores:** 5"
      ],
      "text/plain": [
       "mc.cores \n",
       "       5 "
      ]
     },
     "metadata": {},
     "output_type": "display_data"
    }
   ],
   "source": [
    "options(parallelly.availableCores.methods = \"mc.cores\")\n",
    "options(mc.cores = 5)\n",
    "parallelly::availableCores()"
   ]
  },
  {
   "cell_type": "code",
   "execution_count": 5,
   "id": "edec9680",
   "metadata": {},
   "outputs": [],
   "source": [
    "# Estrutura de pastas\n",
    "pasta_dados       <- \"../../yellow_dados\"\n",
    "pasta_aop_2024_2028  <- sprintf(\"%s/14_aop_2024_2028\", pasta_dados)\n",
    "pasta_ttmatrix_24_28 <- sprintf(\"%s/04_ttmatrix_2024_2028\", pasta_aop_2024_2028)\n",
    "pasta_ids_aopt_24 <- sprintf(\"%s/A_2024_osm_way_ids_aop\", pasta_ttmatrix_24_28)\n",
    "pasta_rts_aopt_24 <- sprintf(\"%s/B_2024_rotas_modeladas_alternatives\", pasta_ttmatrix_24_28)\n",
    "dir.create(pasta_ids_aopt_24, recursive = TRUE, showWarnings = FALSE)\n",
    "dir.create(pasta_rts_aopt_24, recursive = TRUE, showWarnings = FALSE)"
   ]
  },
  {
   "cell_type": "code",
   "execution_count": 6,
   "id": "3f8938b3",
   "metadata": {},
   "outputs": [],
   "source": [
    "# ------------------------------------------------------------------------------\n",
    "# Routing a partir de dois pontos com rotas alternativas (até 3 por par OD)\n",
    "# ------------------------------------------------------------------------------\n",
    "\n",
    "# Faz query de routing no GraphHopper e retorna resultados principais em dataframe,\n",
    "# com rotas até 3 alternativas por par OD - aceita um dataframe de uma linha como\n",
    "# entrada\n",
    "gh_route_alt <- function(hex_id, route_options) {\n",
    "  # url <- 'http://localhost:8989/route/?point=-23.5314933121698%2C-46.634354542765&point=-23.5390199310058%2C-46.6376369484305&profile=bike&instructions=false&calc_points=true&details=average_speed'\n",
    "  # url <- ods_vgs %>% slice(1) %>% select(url) %>% pull()\n",
    "  # Estação Vila Madalena: -23.546258,-46.690898\n",
    "  # IME: -23.559007,-46.73208\n",
    "  # CCSP: -23.571498,-46.639806\n",
    "  \n",
    "  # df_line$url <- paste('http://localhost:8989/route/?point=', \n",
    "  # '-23.541504', '%2C', '-46.685779', '&point=', \n",
    "  # '-23.571498', '%2C', '-46.639806', route_options,\n",
    "  # sep = '')\n",
    "  \n",
    "  # hex_id <- '89a8100d9d7ffff-89a8100dd6bffff'\n",
    "  # hex_id <- hex_com_vizinhos %>% head(1) %>% select(id) %>% pull()\n",
    "  df_line <- hex_com_vizinhos %>% filter(id == hex_id)\n",
    "  # Encurtar hex_id - todos aqui são '89a81' + 6 caracteres de dígito ou letra = 'ffff'\n",
    "  hex_id_short <- str_replace(hex_id, '^89a81([a-z0-9]{6})ffff-89a81([a-z0-9]{6})ffff', '\\\\1-\\\\2')\n",
    "  hex_id_base  <- str_sub(hex_id_short, 1, 6)\n",
    "  \n",
    "  # Fazer a GET de roteamento no Grahphopper\n",
    "  # print(df_line$url)\n",
    "  gh_response <- GET(df_line$url)\n",
    "  \n",
    "  # Mensagem tem que ser \"Success: (200) OK\"\n",
    "  if (http_status(gh_response)$message == 'Success: (200) OK') {\n",
    "    \n",
    "    # Resposta da query, já colapsada e transformada em dataframe\n",
    "    # Remover aviso de 'No encoding supplied: defaulting to UTF-8' na linha fromJSON()\n",
    "    suppressMessages(\n",
    "      response_text <- \n",
    "        # Ignorar aviso 'argument is not an atomic vector; coercing'\n",
    "        suppressWarnings(str_c(content(gh_response, 'text'), collapse = \", \")) %>% \n",
    "        # Concatenar toda a string de resultados\n",
    "        str_c(\"[\", ., \"]\") %>% \n",
    "        # Transformar em dataframe\n",
    "        fromJSON() %>% \n",
    "        as.data.frame()\n",
    "    )\n",
    "    \n",
    "    # Nos interessa a coluna de 'paths', como um novo dataframe\n",
    "    paths <- response_text$paths %>% as.data.frame()\n",
    "    \n",
    "    # Puxar osm_way_ids dos resultados de cada alternativa e gravar em pasta separada\n",
    "    for (i in seq(1, length(paths$details$osm_way_id))) {\n",
    "      # i <- 1\n",
    "      osm_ways <- paths$details$osm_way_id[i] %>% as.data.frame()\n",
    "      \n",
    "      if (nrow(osm_ways) > 0) {\n",
    "        # Manter somente osm_ids e inserir número da rota alternativa\n",
    "        osm_ways <- osm_ways %>% select(osm_way_id = X3) %>% mutate(hex_id = hex_id_short,\n",
    "                                                                    alt = i,\n",
    "                                                                    index = row_number(),\n",
    "                                                                    .before = 'osm_way_id')\n",
    "        # Gravar resultados agrupados por hex_id_short de origem\n",
    "        osm_way_out <- sprintf('%s/%s.csv', pasta_ids_aopt_24, hex_id_base)\n",
    "        if (file.exists(osm_way_out)) {\n",
    "          write_delim(osm_ways, osm_way_out, delim = ';', append = TRUE)\n",
    "        } else {\n",
    "          write_delim(osm_ways, osm_way_out, delim = ';', append = FALSE)\n",
    "        }\n",
    "        \n",
    "      } else {\n",
    "        # Se não há osm_way_ids, é porque os pontos estão muito próximos uns dos\n",
    "        # outros, mesmo que seja um osm_way_id diferente entre a origem e o \n",
    "        # destino. A distância e a velocidade calculadas vão ser zero também - \n",
    "        # pular este registro, que vai ser vazio\n",
    "        return(sprintf('Pulando: %s não tem osm_way_ids (provavelmente tem distância = 0)', hex_id))\n",
    "      }\n",
    "      \n",
    "    }\n",
    "    \n",
    "    \n",
    "    # Isolar colunas de interesse\n",
    "    paths <- \n",
    "      paths %>% \n",
    "      # Calcular tempo em segundos e velocidade média\n",
    "      mutate(time = time / 1000,\n",
    "             speed = distance / time * 3.6) %>% \n",
    "      # Descartar colunas extras - a coluna poly é o shape da rota traçada\n",
    "      select(distance, weight, time, speed, poly = points)\n",
    "    \n",
    "    # Testar polyline:\n",
    "    # https://valhalla.github.io/demos/polyline/?unescape=true&polyline6=false#%0A\n",
    "    \n",
    "    # Adicionar colunas de informação vindas do dataframe original\n",
    "    paths <- \n",
    "      paths %>% \n",
    "      mutate(hex_id    = hex_id_short,\n",
    "             alt       = row_number(),\n",
    "             # id_hex.x  = df_line$id_hex_x,\n",
    "             # id_hex.y  = df_line$id_hex_y,\n",
    "             .before = 'distance') #%>% \n",
    "    # mutate(lon.x     = df_line$lon.x,\n",
    "    #        lat.x     = df_line$lat.x,\n",
    "    #        lon.y     = df_line$lon.y,\n",
    "    #        lat.y     = df_line$lat.y,\n",
    "    #        .after = 'poly')\n",
    "    \n",
    "  } else {\n",
    "    \n",
    "    # Se a query no GraphHopper não deu resultados, guardar como dataframe vazio\n",
    "    paths <- data.frame(hex_id    = hex_id_short,\n",
    "                        alt       = NA,\n",
    "                        # id_hex.x  = df_line$id_hex_x,\n",
    "                        # id_hex.y  = df_line$id_hex_y,\n",
    "                        distance  = NA,\n",
    "                        weight    = NA,\n",
    "                        time      = NA,\n",
    "                        speed     = NA,\n",
    "                        poly      = NA\n",
    "                        # lon.x     = df_line$lon.x,\n",
    "                        # lat.x     = df_line$lat.x,\n",
    "                        # lon.y     = df_line$lon.y,\n",
    "                        # lat.y     = df_line$lat.y\n",
    "    )\n",
    "    \n",
    "  }\n",
    "  \n",
    "  # Guardar resultados temporários agrupados por hex_id_short de origem\n",
    "  tmp_file <- sprintf('%s/%s_modalt.csv', pasta_rts_aopt_24, hex_id_base)\n",
    "  if (file.exists(tmp_file)) {\n",
    "    write_delim(paths, tmp_file, delim = ';', append = TRUE)\n",
    "  } else {\n",
    "    write_delim(paths, tmp_file, delim = ';', append = FALSE)\n",
    "  }\n",
    "  \n",
    "  # Guardar ids já processados em arquivo próprio\n",
    "  df_line <- df_line %>% select(id)\n",
    "  ids_processados <- sprintf('%s/tmp_00_ids_processados_2024.csv', pasta_ttmatrix_24_28)\n",
    "  \n",
    "  if (file.exists(ids_processados)) {\n",
    "    write_delim(df_line, ids_processados, delim = ';', append = TRUE)\n",
    "  } else {\n",
    "    write_delim(df_line, ids_processados, delim = ';', append = FALSE)\n",
    "  }\n",
    "  \n",
    "}"
   ]
  },
  {
   "cell_type": "code",
   "execution_count": 7,
   "id": "ddc94d3b",
   "metadata": {},
   "outputs": [],
   "source": [
    "detach(\"package:tidylog\")"
   ]
  },
  {
   "cell_type": "code",
   "execution_count": 8,
   "id": "2a0f76b8",
   "metadata": {},
   "outputs": [
    {
     "data": {
      "text/html": [
       "'../../yellow_dados/14_aop_2024_2028/04_ttmatrix_2024_2028/03_base_routing_res09_12vizinhos.csv'"
      ],
      "text/latex": [
       "'../../yellow\\_dados/14\\_aop\\_2024\\_2028/04\\_ttmatrix\\_2024\\_2028/03\\_base\\_routing\\_res09\\_12vizinhos.csv'"
      ],
      "text/markdown": [
       "'../../yellow_dados/14_aop_2024_2028/04_ttmatrix_2024_2028/03_base_routing_res09_12vizinhos.csv'"
      ],
      "text/plain": [
       "[1] \"../../yellow_dados/14_aop_2024_2028/04_ttmatrix_2024_2028/03_base_routing_res09_12vizinhos.csv\""
      ]
     },
     "metadata": {},
     "output_type": "display_data"
    }
   ],
   "source": [
    "# Arquivos a processar\n",
    "arqs <- sprintf(\"%s/03_base_routing_res09_12vizinhos.csv\", pasta_ttmatrix_24_28)\n",
    "arqs"
   ]
  },
  {
   "cell_type": "code",
   "execution_count": 9,
   "id": "eab1d2b7",
   "metadata": {},
   "outputs": [
    {
     "name": "stdout",
     "output_type": "stream",
     "text": [
      "[1] \"../../yellow_dados/14_aop_2024_2028/04_ttmatrix_2024_2028/03_base_routing_res09_12vizinhos.csv\"\n"
     ]
    }
   ],
   "source": [
    "# Arquivos já processados\n",
    "ids_processados <- sprintf('%s/tmp_00_ids_processados_2024.csv', pasta_ttmatrix_24_28)\n",
    "\n",
    "for (arq in arqs) {\n",
    "  # arq <- arqs[1]\n",
    "  print(arq)\n",
    "  \n",
    "  # Abrir base para routing com 12 vizinhos, manter só id e url  \n",
    "  hex_com_vizinhos <- read_delim(arq, delim = ';', col_types = cols(.default = \"c\"))\n",
    "  \n",
    "  # Checar quais resultados já foram rodados - abrir lista, puxar ids e remover\n",
    "  # do dataframe hex_com_vizinhos se houver\n",
    "  # library('tidylog')\n",
    "  if (file.exists(ids_processados)) {\n",
    "    arqs_resultados <- read_delim(ids_processados, delim = ';', col_types = \"c\")\n",
    "    hex_com_vizinhos <- hex_com_vizinhos %>% filter(!id %in% arqs_resultados$hex_id)\n",
    "    rm(arqs_resultados)\n",
    "    print(nrow(hex_com_vizinhos))\n",
    "  }\n",
    "  \n",
    "  # Se arquivo já foi completamente processado, removê-lo e passar para o seguinte\n",
    "  if (nrow(hex_com_vizinhos) == 0) { \n",
    "    file.remove(arq) \n",
    "    next\n",
    "  }\n",
    "  \n",
    "  # Limpar memória\n",
    "  gc(T)\n",
    "  \n",
    "  # Criar ttmatrix a partir do GrahHopper - melhor rodar no Jupyter se for AOP;\n",
    "  # se forem só as rotas originais, é ok rodar no RStudio\n",
    "  # for (id in hex_com_vizinhos$id) { gh_route_alt(id, route_options = route_options) }\n",
    "  # Rodar função para todos os arquivos- multi thread (Jupyter)\n",
    "  (start = Sys.time())\n",
    "  future::plan(future::multicore)\n",
    "  invisible(future.apply::future_lapply(X   = hex_com_vizinhos$id,\n",
    "                                        FUN = gh_route_alt,\n",
    "                                        future.seed = TRUE))\n",
    "  Sys.time()\n",
    "  Sys.time() - start\n",
    "  \n",
    "  # Remover arquivo inteiramente processado\n",
    "  # file.remove(arq) \n",
    "  \n",
    "  # Limpar memória\n",
    "  rm(hex_com_vizinhos)  \n",
    "  gc(T)\n",
    "  \n",
    "}"
   ]
  },
  {
   "cell_type": "code",
   "execution_count": 10,
   "id": "4ba457ea",
   "metadata": {},
   "outputs": [
    {
     "data": {
      "text/plain": [
       "Time difference of 1.119653 hours"
      ]
     },
     "metadata": {},
     "output_type": "display_data"
    }
   ],
   "source": [
    "Sys.time() - start"
   ]
  },
  {
   "cell_type": "code",
   "execution_count": null,
   "id": "82f1effd",
   "metadata": {},
   "outputs": [],
   "source": []
  }
 ],
 "metadata": {
  "kernelspec": {
   "display_name": "R [conda env:r4.4]",
   "language": "R",
   "name": "conda-env-r4.4-r"
  },
  "language_info": {
   "codemirror_mode": "r",
   "file_extension": ".r",
   "mimetype": "text/x-r-source",
   "name": "R",
   "pygments_lexer": "r",
   "version": "4.4.1"
  }
 },
 "nbformat": 4,
 "nbformat_minor": 5
}
