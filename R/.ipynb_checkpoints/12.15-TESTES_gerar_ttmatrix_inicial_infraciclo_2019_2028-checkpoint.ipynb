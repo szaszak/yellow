{
 "cells": [
  {
   "cell_type": "code",
   "execution_count": 1,
   "id": "2ab6a436",
   "metadata": {},
   "outputs": [],
   "source": [
    "# carregar bibliotecas\n",
    "suppressPackageStartupMessages(library('tidyverse'))\n",
    "suppressPackageStartupMessages(library('tidylog'))\n",
    "suppressPackageStartupMessages(library('sf'))\n",
    "suppressPackageStartupMessages(library('googlePolylines'))"
   ]
  },
  {
   "cell_type": "code",
   "execution_count": 2,
   "id": "c9432fbe",
   "metadata": {},
   "outputs": [
    {
     "name": "stderr",
     "output_type": "stream",
     "text": [
      "Loading required package: future\n",
      "\n"
     ]
    },
    {
     "data": {
      "text/html": [
       "TRUE"
      ],
      "text/latex": [
       "TRUE"
      ],
      "text/markdown": [
       "TRUE"
      ],
      "text/plain": [
       "[1] TRUE"
      ]
     },
     "metadata": {},
     "output_type": "display_data"
    }
   ],
   "source": [
    "# Aplicar funcoes em paralelo\n",
    "library('future.apply')\n",
    "# Checando: Jupyter suporta multicore?\n",
    "future::supportsMulticore()"
   ]
  },
  {
   "cell_type": "code",
   "execution_count": 3,
   "id": "a3a42e53",
   "metadata": {},
   "outputs": [
    {
     "data": {
      "text/html": [
       "<strong>system:</strong> 8"
      ],
      "text/latex": [
       "\\textbf{system:} 8"
      ],
      "text/markdown": [
       "**system:** 8"
      ],
      "text/plain": [
       "system \n",
       "     8 "
      ]
     },
     "metadata": {},
     "output_type": "display_data"
    }
   ],
   "source": [
    "# https://stackoverflow.com/questions/40536067/how-to-adjust-future-global-maxsize\n",
    "# For 850MB: 850*1024^2 = 891289600\n",
    "# For +1.3GB: 1500*1024^2 = 1572864000\n",
    "# options(future.globals.maxSize = 891289600)\n",
    "options(future.globals.maxSize = 5e6) # 5 MB\n",
    "# options(future.globals.maxSize = 140*1024^2) # 140 MB\n",
    "parallelly::availableCores()"
   ]
  },
  {
   "cell_type": "code",
   "execution_count": 4,
   "id": "608a6c46",
   "metadata": {},
   "outputs": [],
   "source": [
    "# Estrutura de pastas\n",
    "pasta_ssd         <- \"/media/livre/SSD120GB/yellow\"\n",
    "pasta_dados       <- \"../../yellow_dados\"\n",
    "pasta_aop_rev     <- sprintf(\"%s/12_aop_revisitado\", pasta_dados)\n",
    "pasta_aoprv_alter <- sprintf(\"%s/03_aop_alternatives_2019_2028\", pasta_aop_rev)\n",
    "pasta_ids_aopt_19 <- sprintf(\"%s/A_2019_osm_way_ids_aop\", pasta_aoprv_alter)\n",
    "# pasta_rts_aopt_19 <- sprintf(\"%s/B_2019_rotas_modeladas_alternatives\", pasta_aoprv_alter)\n",
    "pasta_ids_aopt_28 <- sprintf(\"%s/C_2028_osm_way_ids_aop\", pasta_aoprv_alter)\n",
    "# pasta_rts_aopt_28 <- sprintf(\"%s/D_2028_rotas_modeladas_alternatives\", pasta_aoprv_alter)\n",
    "\n",
    "ano <- '2019'; min_thres <- 40 #; sec_thres <- min_thres * 60\n",
    "# ano <- '2028'; min_thres <- 40 #; sec_thres <- min_thres * 60\n",
    "\n",
    "if (ano == '2019') {\n",
    "  pasta_tmp_osmids  <- sprintf(\"%s/E_%s_osm_way_ids_tmp_%s_min\", pasta_ssd, ano, min_thres)\n",
    "} else if (ano == '2028') {\n",
    "  pasta_tmp_osmids  <- sprintf(\"%s/F_%s_osm_way_ids_tmp_%s_min\", pasta_ssd, ano, min_thres)\n",
    "}\n",
    "dir.create(pasta_tmp_osmids, recursive = TRUE, showWarnings = FALSE)\n",
    "rm(min_thres)\n",
    "\n",
    "if (ano == '2019') {\n",
    "  pasta_tmp_divididas <- sprintf(\"%s/X_%s_tmp_base_dividida\", pasta_ssd, ano)\n",
    "} else if (ano == '2028') {\n",
    "  pasta_tmp_divididas <- sprintf(\"%s/Y_%s_tmp_base_dividida\", pasta_ssd, ano)\n",
    "}\n",
    "\n",
    "# Criar pasta para colocar arquivos de ttmatrix temporários\n",
    "pasta_tmp_ttmatrix <- sprintf(\"%s/Z_%s_tmp_ttmatrix\", pasta_ssd, ano)\n",
    "dir.create(pasta_tmp_ttmatrix, recursive = TRUE, showWarnings = FALSE)"
   ]
  },
  {
   "cell_type": "code",
   "execution_count": 5,
   "id": "7bdb30e7",
   "metadata": {},
   "outputs": [],
   "source": [
    "# ------------------------------------------------------------------------------\n",
    "# Funções\n",
    "# ------------------------------------------------------------------------------\n",
    "\n",
    "# Insere as distâncias calculadas em vias comuns ou infra cicloviária no df original\n",
    "dist_ciclo_map <- function(rotas_ciclo) {\n",
    "  # trip_id_alt <- rotas_ciclo$alt_id[1]\n",
    "  # 89a81044d93ffff-89a81046d53ffff-1\n",
    "  # base_id <- '000003'\n",
    "  \n",
    "  \n",
    "  # Puxar osm_ids da rota modelada\n",
    "  if (ano == '2019') {\n",
    "    trip_osm_ids <- list.files(pasta_ids_aopt_19, pattern = base_id, recursive = FALSE, full.names = TRUE) \n",
    "  } else if (ano == '2028') {\n",
    "    trip_osm_ids <- list.files(pasta_ids_aopt_28, pattern = base_id, recursive = FALSE, full.names = TRUE) \n",
    "  }\n",
    "  \n",
    "  trip_osm_ids <- read_delim(trip_osm_ids, delim = ';', col_types = 'ciic')\n",
    "  \n",
    "  # Criar um id que contemple o número da rota alternativa\n",
    "  trip_osm_ids <- trip_osm_ids %>% mutate(alt_id = str_c(hex_id, alt, sep = '-'))\n",
    "  # Selecionar somente os que estão em rotas_ciclo\n",
    "  trip_osm_ids <- trip_osm_ids %>% filter(alt_id %in% rotas_ciclo$alt_id)\n",
    "  \n",
    "  # Remover osm_ids repetidos - no momento do buffer com o shapefile da rota,\n",
    "  # o intersection vai pegar todos os trechos que os osm_ids aparecem e vai\n",
    "  # somar essas distâncias. Osm_ids repetidos são quando a rota entra, sai e\n",
    "  # entra de novo em um mesmo osm_id\n",
    "  # trip_osm_ids <- trip_osm_ids %>% group_by(alt_id, osm_way_id) %>% tally() %>% ungroup() %>% select(-n)\n",
    "  \n",
    "  # ----------------------------------------------------------------------------\n",
    "  # Calcular extensões percorridas em vias comuns e infra cicloviária\n",
    "  # ----------------------------------------------------------------------------\n",
    "  \n",
    "  # Filtrar osm_ids da rota modelada do viário completo de SP\n",
    "  viario_rota <- viario_sp %>% filter(osm_id %in% trip_osm_ids$osm_way_id)\n",
    "  rm(trip_osm_ids)\n",
    "  # mapview(viario_rota)\n",
    "  \n",
    "  # Transformar os polylines das rotas modeladas em shapefile (lista)\n",
    "  shape_rotas <- decode(as.character(rotas_ciclo$poly))\n",
    "  # Formatação dos pontos está fora do lugar: \n",
    "  # de -235.641 para -23.5641 - ajeitar\n",
    "  shape_rotas <- shape_rotas %>% map(mutate, \n",
    "                                     lat = str_replace(lat, '\\\\.', ''),\n",
    "                                     lon = str_replace(lon, '\\\\.', ''),\n",
    "                                     lat = as.double(str_replace(lat, '-23', '-23.')),\n",
    "                                     lon = as.double(str_replace(lon, '-46', '-46.')))\n",
    "  \n",
    "  # Aqui, teremos a antiga função df_latlong_to_sf, só que aplicada em uma lista\n",
    "  # em vez de um dataframe único\n",
    "  shape_rotas <- \n",
    "    shape_rotas %>% \n",
    "    # Transformar em sf\n",
    "    map(st_as_sf, coords = c(\"lon\", \"lat\"), crs = 4326) %>% \n",
    "    # Transformar pontos em linha - ver possíveis erros em\n",
    "    # https://github.com/r-spatial/sf/issues/321\n",
    "    # # Modo 1 - Com st_coordinates, retorna matriz\n",
    "    # Retrieve coordinates in matrix form \n",
    "    # st_coordinates() %>%\n",
    "    # st_linestring()\n",
    "    # Modo 2 - Com summarize, retorna sf\n",
    "    # Aqui, o summarize pode ser qualquer coisa, o \n",
    "    # importante é o 'do_union=FALSE'\n",
    "    map(function(x) {\n",
    "      x <- x %>%\n",
    "        mutate(boo = 'lala') %>% \n",
    "        group_by(boo) %>% \n",
    "        summarize(m = n(), do_union = FALSE) %>% \n",
    "        select(-c(m, boo)) %>% \n",
    "        st_cast('LINESTRING') %>% \n",
    "        # Transformar em SIRGAS\n",
    "        st_transform(31983) %>%\n",
    "        # Calcular a extensão da rota\n",
    "        mutate(dist = st_length(geometry))\n",
    "      \n",
    "      return(x)\n",
    "    })\n",
    "  # mapview(shape_rotas)\n",
    "  \n",
    "  # A partir de um pequeno buffer criado no polyline da rota modelada, fazer uma \n",
    "  # interseção nos osm_ids originais - isso porque os osm_ids podem ter várias \n",
    "  # quadras e o segmento percorrido ser só um trechinho dele\n",
    "  buffer_rotas <- shape_rotas %>% map(st_buffer, 2)\n",
    "  viario_rotas_cropped <- suppressWarnings(buffer_rotas %>% map(st_intersection, viario_rota))\n",
    "  # mapview(viario_rotas_cropped) + mapview(buffer_rotas)\n",
    "  rm(buffer_rotas, shape_rotas, viario_rota)\n",
    "  \n",
    "  # Recaulcular as extensões dos arcos (no caso, as extensões percorridas dentro\n",
    "  # daquele osm_id), transformar em dataframe e isolar colunas de interesse\n",
    "  viario_rotas_cropped <- viario_rotas_cropped %>% map(mutate, new_ext = as.double(st_length(geometry)), .after = 'length_m')\n",
    "  viario_rotas_cropped <- viario_rotas_cropped %>% map(st_drop_geometry) %>% map(select, c(osm_id, new_ext))\n",
    "  # Quantidade de linhas por dataframe\n",
    "  # data.frame(n = map_int(viario_rotas_cropped, nrow))\n",
    "  \n",
    "  # Quantidade de ids em rotas_ciclo tem que ser a mesma do número de dataframes na lista\n",
    "  if (nrow(rotas_ciclo) == length(viario_rotas_cropped)) {\n",
    "    # Juntar alt_ids aos dataframes da lista, para join a seguir\n",
    "    viario_rotas_cropped <- map2(viario_rotas_cropped, rotas_ciclo$alt_id, ~ mutate(.x, alt_id = .y))\n",
    "    \n",
    "    # Juntar infraestrutura cicloviária do ano de referência\n",
    "    viario_rotas_cropped <- \n",
    "      viario_rotas_cropped %>% \n",
    "      map(function(x) {\n",
    "        x %>% \n",
    "          left_join(infra_ciclo, by = 'osm_id') %>% \n",
    "          mutate(infra_ciclo = ifelse(is.na(infra_ciclo), 'via_comum', infra_ciclo))\n",
    "      })\n",
    "    \n",
    "    # Fator de ajuste para as distâncias - vamos aplicar um proporcional geral a partir\n",
    "    # da diferença entre a extensão total da rota modelada e a calculada agora\n",
    "    # 1. Gerar fatores de correção para cada dataframe da lista\n",
    "    fator_correcao <-\n",
    "      # Puxar novas extensões de cada dataframe da lista, mantendo o id\n",
    "      map_df(viario_rotas_cropped, \n",
    "             ~ summarise(.x, \n",
    "                         alt_id = first(alt_id), \n",
    "                         total_new_ext = sum(new_ext, na.rm = TRUE))) %>% \n",
    "      # Juntar com distâncias originais, vindas de rotas_ciclo\n",
    "      left_join(subset(rotas_ciclo, select = c(alt_id, distance)), by = 'alt_id') %>% \n",
    "      # Calcular o fator de correção\n",
    "      mutate(fator_correcao = distance / total_new_ext)\n",
    "    \n",
    "    # 2. Aplicar o fator de correção - cada linha corresponde será usada no \n",
    "    # respectivo dataframe, conforme a ordem da lista\n",
    "    viario_rotas_cropped <- map2(viario_rotas_cropped, fator_correcao$fator_correcao, ~ mutate(.x, ext_rev = new_ext * .y))\n",
    "    # sum(map_int(viario_rotas_cropped, nrow)) # número de linhas de todos os dataframes\n",
    "    \n",
    "    # Exportar osm_ids com infra cicloviária e extensões percorridas\n",
    "    ids_out <- bind_rows(viario_rotas_cropped)\n",
    "    ids_out <- \n",
    "      ids_out %>% \n",
    "      filter(infra_ciclo != 'via_comum') %>% \n",
    "      select(hex_id_alt = alt_id, osm_way_id = osm_id, infra_ciclo, new_ext, ext_rev)\n",
    "    \n",
    "    out_ids_tmp_file <- sprintf('%s/%s_%s_tmp_osmids.csv', pasta_tmp_osmids, ano, base_id)\n",
    "    if (file.exists(out_ids_tmp_file)) {\n",
    "      write_delim(ids_out, out_ids_tmp_file, delim = ';', append = TRUE)\n",
    "    } else {\n",
    "      write_delim(ids_out, out_ids_tmp_file, delim = ';', append = FALSE)\n",
    "    }\n",
    "    \n",
    "    rm(ids_out, fator_correcao)\n",
    "    \n",
    "    \n",
    "    # Agrupar extensões por tipo de viário percorrido\n",
    "    viario_rotas_cropped <- \n",
    "      viario_rotas_cropped %>% \n",
    "      map(function(x) {\n",
    "        x <- x %>%\n",
    "          group_by(alt_id, infra_ciclo) %>% \n",
    "          summarise(ext = sum(ext_rev), .groups = 'keep') %>% \n",
    "          ungroup() %>% \n",
    "          pivot_wider(id_cols    = alt_id,\n",
    "                      names_from = 'infra_ciclo',\n",
    "                      values_from = ext)\n",
    "        \n",
    "        # Checar se todas as colunas de tipo de viário estão como colunas - se não, inserir\n",
    "        for (i in c('ciclo_expressa', 'ciclo_comum', 'ciclofaixa', 'via_comum')) {\n",
    "          if (!i %in% names(x)) { x <- x %>% mutate(!!i := 0) }\n",
    "        }\n",
    "        \n",
    "        # Somar extensões percorridas em infra cicloviária\n",
    "        x <- x %>% mutate(infra_ciclo = ciclo_expressa + ciclo_comum + ciclofaixa)\n",
    "        # Reordenar colunas\n",
    "        x <- x %>% select(alt_id, via_comum, infra_ciclo, ciclo_expressa, ciclo_comum, ciclofaixa)\n",
    "        \n",
    "        return(x)\n",
    "      })\n",
    "    \n",
    "    # Juntar lista de dataframes em um só\n",
    "    viario_rotas_cropped <- bind_rows(viario_rotas_cropped)\n",
    "    \n",
    "    # Juntar todas as infos ao dataframe original e reordenar colunas\n",
    "    rotas_ciclo <- \n",
    "      rotas_ciclo %>% \n",
    "      left_join(viario_rotas_cropped, by = 'alt_id') %>% \n",
    "      relocate(c(via_comum, infra_ciclo, ciclo_expressa, ciclo_comum, ciclofaixa), \n",
    "               .before = 'poly') %>% \n",
    "      # Reconstituir hex_ids originais e coluna com a numeração da rota alternativa\n",
    "      mutate(alt_id = str_replace(alt_id, \n",
    "                                  '^([a-z0-9]{6})-([a-z0-9]{6})-([0-9])', \n",
    "                                  '89a81\\\\1ffff-89a81\\\\2ffff_\\\\3'),\n",
    "             .before = 'alt_id') %>% \n",
    "      separate(alt_id, into = c('hex_id', 'alt'), sep = '_', remove = TRUE)\n",
    "    \n",
    "    # Gravar resultados\n",
    "    if (file.exists(out_file)) {\n",
    "      write_delim(rotas_ciclo, out_file, delim = ';', append = TRUE)\n",
    "    } else {\n",
    "      write_delim(rotas_ciclo, out_file, delim = ';', append = FALSE)\n",
    "    }\n",
    "    \n",
    "    \n",
    "    # shape_rotas <- \n",
    "    #   shape_rotas %>% \n",
    "    #   map(st_as_sf, coords = c(\"lon\", \"lat\"), crs = 4326) %>% \n",
    "    #   reduce(function(x, y) {\n",
    "    #     y <- y %>% \n",
    "    #       mutate(boo = 'lala') %>% \n",
    "    #       group_by(boo) %>% \n",
    "    #       summarize(m = n(), do_union = FALSE) %>% \n",
    "    #       select(-c(m, boo)) %>% \n",
    "    #       st_cast('LINESTRING') %>% \n",
    "    #       st_transform(31983) %>% \n",
    "    #       mutate(dist = st_length(geometry))\n",
    "    #     bind_rows(x, y)\n",
    "    #   })\n",
    "    \n",
    "    \n",
    "  } else {\n",
    "    # Se quantidade de ids em rotas_ciclo não for a mesma que o número de dataframes,\n",
    "    # temos um problema sério\n",
    "    warning(sprintf('CHECAR: PROBLEMAS AO EXECUTAR CONJUNTO: %s', base_id))\n",
    "    \n",
    "  }\n",
    "  \n",
    "  \n",
    "}"
   ]
  },
  {
   "cell_type": "code",
   "execution_count": 6,
   "id": "bea4a82d",
   "metadata": {},
   "outputs": [
    {
     "name": "stderr",
     "output_type": "stream",
     "text": [
      "Warning message in fun(libname, pkgname):\n",
      "“rgeos: versions of GEOS runtime 3.9.1-CAPI-1.14.2\n",
      "and GEOS at installation 3.9.1dev-CAPI-1.14.1differ”\n",
      "Registered S3 method overwritten by 'geojsonsf':\n",
      "  method        from   \n",
      "  print.geojson geojson\n",
      "\n"
     ]
    },
    {
     "data": {
      "application/geo+json": {
       "features": [
        {
         "geometry": {
          "coordinates": [
           [
            325675.283,
            7372276.9605
           ],
           [
            325691.3736,
            7372312.3424
           ],
           [
            325710.7099,
            7372346.5893
           ],
           [
            325781.4923,
            7372459.6289
           ],
           [
            325815.5357,
            7372514.6537
           ],
           [
            325889.9791,
            7372633.7066
           ]
          ],
          "type": "LineString"
         },
         "properties": {
          "length_m": 416.6857,
          "osm_id": "1000285228"
         },
         "type": "Feature"
        },
        {
         "geometry": {
          "coordinates": [
           [
            325658.3918,
            7372179.3218
           ],
           [
            325660.5773,
            7372188.3307
           ],
           [
            325663.1204,
            7372204.056
           ],
           [
            325667.1785,
            7372220.9735
           ],
           [
            325676.127,
            7372248.3281
           ]
          ],
          "type": "LineString"
         },
         "properties": {
          "length_m": 71.3783,
          "osm_id": "1000285229"
         },
         "type": "Feature"
        }
       ],
       "type": "FeatureCollection"
      },
      "text/html": [
       "<table class=\"dataframe\">\n",
       "<caption>A sf: 2 × 3</caption>\n",
       "<thead>\n",
       "\t<tr><th scope=col>osm_id</th><th scope=col>length_m</th><th scope=col>geom</th></tr>\n",
       "\t<tr><th scope=col>&lt;chr&gt;</th><th scope=col>&lt;dbl&gt;</th><th scope=col>&lt;LINESTRING [m]&gt;</th></tr>\n",
       "</thead>\n",
       "<tbody>\n",
       "\t<tr><td>1000285228</td><td>416.6857</td><td>LINESTRING (325675.3 737227...</td></tr>\n",
       "\t<tr><td>1000285229</td><td> 71.3783</td><td>LINESTRING (325658.4 737217...</td></tr>\n",
       "</tbody>\n",
       "</table>\n"
      ],
      "text/latex": [
       "A sf: 2 × 3\n",
       "\\begin{tabular}{lll}\n",
       " osm\\_id & length\\_m & geom\\\\\n",
       " <chr> & <dbl> & <LINESTRING {[}m{]}>\\\\\n",
       "\\hline\n",
       "\t 1000285228 & 416.6857 & LINESTRING (325675.3 737227...\\\\\n",
       "\t 1000285229 &  71.3783 & LINESTRING (325658.4 737217...\\\\\n",
       "\\end{tabular}\n"
      ],
      "text/markdown": [
       "\n",
       "A sf: 2 × 3\n",
       "\n",
       "| osm_id &lt;chr&gt; | length_m &lt;dbl&gt; | geom &lt;LINESTRING [m]&gt; |\n",
       "|---|---|---|\n",
       "| 1000285228 | 416.6857 | LINESTRING (325675.3 737227... |\n",
       "| 1000285229 |  71.3783 | LINESTRING (325658.4 737217... |\n",
       "\n"
      ],
      "text/plain": [
       "  osm_id     length_m geom                          \n",
       "1 1000285228 416.6857 LINESTRING (325675.3 737227...\n",
       "2 1000285229  71.3783 LINESTRING (325658.4 737217..."
      ]
     },
     "metadata": {},
     "output_type": "display_data"
    },
    {
     "data": {
      "text/html": [
       "<table class=\"dataframe\">\n",
       "<caption>A tibble: 2 × 2</caption>\n",
       "<thead>\n",
       "\t<tr><th scope=col>osm_id</th><th scope=col>infra_ciclo</th></tr>\n",
       "\t<tr><th scope=col>&lt;chr&gt;</th><th scope=col>&lt;chr&gt;</th></tr>\n",
       "</thead>\n",
       "<tbody>\n",
       "\t<tr><td>38937645</td><td>ciclo_expressa</td></tr>\n",
       "\t<tr><td>51392253</td><td>ciclo_expressa</td></tr>\n",
       "</tbody>\n",
       "</table>\n"
      ],
      "text/latex": [
       "A tibble: 2 × 2\n",
       "\\begin{tabular}{ll}\n",
       " osm\\_id & infra\\_ciclo\\\\\n",
       " <chr> & <chr>\\\\\n",
       "\\hline\n",
       "\t 38937645 & ciclo\\_expressa\\\\\n",
       "\t 51392253 & ciclo\\_expressa\\\\\n",
       "\\end{tabular}\n"
      ],
      "text/markdown": [
       "\n",
       "A tibble: 2 × 2\n",
       "\n",
       "| osm_id &lt;chr&gt; | infra_ciclo &lt;chr&gt; |\n",
       "|---|---|\n",
       "| 38937645 | ciclo_expressa |\n",
       "| 51392253 | ciclo_expressa |\n",
       "\n"
      ],
      "text/plain": [
       "  osm_id   infra_ciclo   \n",
       "1 38937645 ciclo_expressa\n",
       "2 51392253 ciclo_expressa"
      ]
     },
     "metadata": {},
     "output_type": "display_data"
    }
   ],
   "source": [
    "# ------------------------------------------------------------------------------\n",
    "# Tratamento - rotas que passaram por alguma infra cicloviária\n",
    "# ------------------------------------------------------------------------------\n",
    "\n",
    "# Abrir cópia do viário de SP com osm_ids\n",
    "viario_sp <- read_sf(sprintf('%s/tmp_sao_paulo_osm_filtrado.gpkg', pasta_aoprv_alter))\n",
    "head(viario_sp, 2)\n",
    "\n",
    "# Abrir infra cicloviária\n",
    "infra_ciclo <- sprintf('%s/tmp_infra_ciclo_%s.csv', pasta_aoprv_alter, ano)\n",
    "infra_ciclo <- read_delim(infra_ciclo, delim = ';', col_types = 'cc')\n",
    "head(infra_ciclo, 2)"
   ]
  },
  {
   "cell_type": "code",
   "execution_count": null,
   "id": "6aed658c",
   "metadata": {},
   "outputs": [],
   "source": [
    "detach(\"package:tidylog\")\n",
    "# Arquivos a processar\n",
    "arqs <- list.files(pasta_tmp_divididas, pattern = '^[0-9a-z]{6}_dividida_20[0-9]{2}.csv', full.names = TRUE)\n",
    "\n",
    "(start = Sys.time())\n",
    "for (arq in arqs) {\n",
    "  # arq <- arqs[1]\n",
    "  # print(arq)\n",
    "  \n",
    "  # Puxar id do hexágono de origem\n",
    "  base_id <- str_extract(arq, '[0-9a-z]{6}_dividida_20[0-9]{2}.csv') %>% str_extract('[0-9a-z]{6}')\n",
    "  \n",
    "  # Abrir base de rotas a serem processadas\n",
    "  grupo_rotas <- read_delim(arq, delim = ';', col_types = 'cddddc')\n",
    "  \n",
    "  # Definir arquivo de saída\n",
    "  out_file <- sprintf('%s/tmp_ttmatrix_%s_%s_infraciclo.csv', pasta_tmp_ttmatrix, base_id, ano)\n",
    "  \n",
    "  # Checar quais resultados já foram rodados - abrir lista, puxar ids e remover\n",
    "  # do dataframe grupo_rotas se houver\n",
    "  if (file.exists(out_file)) {\n",
    "    arq_resultados <- read_delim(out_file, delim = ';', col_select = c('hex_id', 'alt'), col_types = \"cc\")\n",
    "    # Reconstituir id para comparar\n",
    "    arq_resultados <- arq_resultados %>% mutate(hex_id = str_replace(hex_id, '^89a81', ''),\n",
    "                                                hex_id = str_replace(hex_id, 'ffff-89a81', '-'),\n",
    "                                                hex_id = str_replace(hex_id, 'ffff$', ''),\n",
    "                                                id = str_c(hex_id, alt, sep = '-'))\n",
    "    grupo_rotas <- grupo_rotas %>% filter(!alt_id %in% arq_resultados$id)\n",
    "    rm(arqs_resultados)\n",
    "    \n",
    "  }\n",
    "\n",
    "  # Se arquivo já foi completamente processado, removê-lo e passar para o seguinte\n",
    "  if (nrow(grupo_rotas) == 0) {\n",
    "    file.remove(arq)\n",
    "    next\n",
    "  }\n",
    "  \n",
    "  # Processar rotas com infraciclo - melhor rodar no Jupyter;\n",
    "  # se forem só as rotas originais, é ok rodar no RStudio\n",
    "  # dist_ciclo_map(grupo_rotas)\n",
    "  future::plan(future::multicore)\n",
    "  invisible(future.apply::future_lapply(X   = grupo_rotas,\n",
    "                                        FUN = dist_ciclo_map,\n",
    "                                        future.seed = TRUE))\n",
    "  \n",
    "  \n",
    "  # Remover arquivo inteiramente processado\n",
    "  file.remove(arq) \n",
    "  \n",
    "  # Limpar memória\n",
    "  # rm(rotas_ciclo)  \n",
    "  # gc(T)\n",
    "  \n",
    "}\n",
    "Sys.time()\n",
    "Sys.time() - start"
   ]
  },
  {
   "cell_type": "code",
   "execution_count": null,
   "id": "3b118ed8",
   "metadata": {},
   "outputs": [],
   "source": []
  }
 ],
 "metadata": {
  "kernelspec": {
   "display_name": "R [conda env:r4_env]",
   "language": "R",
   "name": "conda-env-r4_env-r"
  },
  "language_info": {
   "codemirror_mode": "r",
   "file_extension": ".r",
   "mimetype": "text/x-r-source",
   "name": "R",
   "pygments_lexer": "r",
   "version": "4.0.5"
  }
 },
 "nbformat": 4,
 "nbformat_minor": 5
}
