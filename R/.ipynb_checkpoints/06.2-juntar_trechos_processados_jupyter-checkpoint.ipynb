{
 "cells": [
  {
   "cell_type": "code",
   "execution_count": 1,
   "id": "f2b75256",
   "metadata": {},
   "outputs": [
    {
     "name": "stderr",
     "output_type": "stream",
     "text": [
      "GDAL version >= 3.1.0 | setting mapviewOptions(fgb = TRUE)\n",
      "\n",
      "Linking to GEOS 3.9.1, GDAL 3.2.2, PROJ 8.0.0\n",
      "\n",
      "\n",
      "Attaching package: ‘jsonlite’\n",
      "\n",
      "\n",
      "The following object is masked from ‘package:purrr’:\n",
      "\n",
      "    flatten\n",
      "\n",
      "\n"
     ]
    }
   ],
   "source": [
    "# carregar bibliotecas\n",
    "source('fun/setup.R')\n",
    "\n",
    "# Dados a atualizar de acordo com o mês a rodar\n",
    "# ano_mes <- '201811'\n",
    "# ano_mes <- '201812'\n",
    "ano_mes <- '201901'\n",
    "\n",
    "# Estrutura de pastas\n",
    "pasta_dados        <- \"../../yellow_dados\"\n",
    "pasta_modelos      <- sprintf('%s/06_bases_para_modelo', pasta_dados)\n",
    "pasta_trechos_proc <- sprintf('%s/A_trechos_processados/%s', pasta_modelos, ano_mes)\n",
    "pasta_base_agrup   <- sprintf('%s/B_processados_agrupados', pasta_modelos)\n",
    "dir.create(pasta_base_agrup, recursive = TRUE, showWarnings = FALSE)"
   ]
  },
  {
   "cell_type": "code",
   "execution_count": 2,
   "id": "85f932d8",
   "metadata": {},
   "outputs": [
    {
     "data": {
      "text/html": [
       "<style>\n",
       ".list-inline {list-style: none; margin:0; padding: 0}\n",
       ".list-inline>li {display: inline-block}\n",
       ".list-inline>li:not(:last-child)::after {content: \"\\00b7\"; padding: 0 .5ex}\n",
       "</style>\n",
       "<ol class=list-inline><li>82124</li><li>1</li></ol>\n"
      ],
      "text/latex": [
       "\\begin{enumerate*}\n",
       "\\item 82124\n",
       "\\item 1\n",
       "\\end{enumerate*}\n"
      ],
      "text/markdown": [
       "1. 82124\n",
       "2. 1\n",
       "\n",
       "\n"
      ],
      "text/plain": [
       "[1] 82124     1"
      ]
     },
     "metadata": {},
     "output_type": "display_data"
    },
    {
     "data": {
      "text/html": [
       "<table class=\"dataframe\">\n",
       "<caption>A data.frame: 6 × 1</caption>\n",
       "<thead>\n",
       "\t<tr><th></th><th scope=col>f_path</th></tr>\n",
       "\t<tr><th></th><th scope=col>&lt;chr&gt;</th></tr>\n",
       "</thead>\n",
       "<tbody>\n",
       "\t<tr><th scope=row>1</th><td>../../yellow_dados/06_bases_para_modelo/A_trechos_processados/201812/000202_00_agrupado.csv</td></tr>\n",
       "\t<tr><th scope=row>2</th><td>../../yellow_dados/06_bases_para_modelo/A_trechos_processados/201812/000206_00_agrupado.csv</td></tr>\n",
       "\t<tr><th scope=row>3</th><td>../../yellow_dados/06_bases_para_modelo/A_trechos_processados/201812/000207_00_agrupado.csv</td></tr>\n",
       "\t<tr><th scope=row>4</th><td>../../yellow_dados/06_bases_para_modelo/A_trechos_processados/201812/000210_00_agrupado.csv</td></tr>\n",
       "\t<tr><th scope=row>5</th><td>../../yellow_dados/06_bases_para_modelo/A_trechos_processados/201812/000211_00_agrupado.csv</td></tr>\n",
       "\t<tr><th scope=row>6</th><td>../../yellow_dados/06_bases_para_modelo/A_trechos_processados/201812/000215_00_agrupado.csv</td></tr>\n",
       "</tbody>\n",
       "</table>\n"
      ],
      "text/latex": [
       "A data.frame: 6 × 1\n",
       "\\begin{tabular}{r|l}\n",
       "  & f\\_path\\\\\n",
       "  & <chr>\\\\\n",
       "\\hline\n",
       "\t1 & ../../yellow\\_dados/06\\_bases\\_para\\_modelo/A\\_trechos\\_processados/201812/000202\\_00\\_agrupado.csv\\\\\n",
       "\t2 & ../../yellow\\_dados/06\\_bases\\_para\\_modelo/A\\_trechos\\_processados/201812/000206\\_00\\_agrupado.csv\\\\\n",
       "\t3 & ../../yellow\\_dados/06\\_bases\\_para\\_modelo/A\\_trechos\\_processados/201812/000207\\_00\\_agrupado.csv\\\\\n",
       "\t4 & ../../yellow\\_dados/06\\_bases\\_para\\_modelo/A\\_trechos\\_processados/201812/000210\\_00\\_agrupado.csv\\\\\n",
       "\t5 & ../../yellow\\_dados/06\\_bases\\_para\\_modelo/A\\_trechos\\_processados/201812/000211\\_00\\_agrupado.csv\\\\\n",
       "\t6 & ../../yellow\\_dados/06\\_bases\\_para\\_modelo/A\\_trechos\\_processados/201812/000215\\_00\\_agrupado.csv\\\\\n",
       "\\end{tabular}\n"
      ],
      "text/markdown": [
       "\n",
       "A data.frame: 6 × 1\n",
       "\n",
       "| <!--/--> | f_path &lt;chr&gt; |\n",
       "|---|---|\n",
       "| 1 | ../../yellow_dados/06_bases_para_modelo/A_trechos_processados/201812/000202_00_agrupado.csv |\n",
       "| 2 | ../../yellow_dados/06_bases_para_modelo/A_trechos_processados/201812/000206_00_agrupado.csv |\n",
       "| 3 | ../../yellow_dados/06_bases_para_modelo/A_trechos_processados/201812/000207_00_agrupado.csv |\n",
       "| 4 | ../../yellow_dados/06_bases_para_modelo/A_trechos_processados/201812/000210_00_agrupado.csv |\n",
       "| 5 | ../../yellow_dados/06_bases_para_modelo/A_trechos_processados/201812/000211_00_agrupado.csv |\n",
       "| 6 | ../../yellow_dados/06_bases_para_modelo/A_trechos_processados/201812/000215_00_agrupado.csv |\n",
       "\n"
      ],
      "text/plain": [
       "  f_path                                                                                     \n",
       "1 ../../yellow_dados/06_bases_para_modelo/A_trechos_processados/201812/000202_00_agrupado.csv\n",
       "2 ../../yellow_dados/06_bases_para_modelo/A_trechos_processados/201812/000206_00_agrupado.csv\n",
       "3 ../../yellow_dados/06_bases_para_modelo/A_trechos_processados/201812/000207_00_agrupado.csv\n",
       "4 ../../yellow_dados/06_bases_para_modelo/A_trechos_processados/201812/000210_00_agrupado.csv\n",
       "5 ../../yellow_dados/06_bases_para_modelo/A_trechos_processados/201812/000211_00_agrupado.csv\n",
       "6 ../../yellow_dados/06_bases_para_modelo/A_trechos_processados/201812/000215_00_agrupado.csv"
      ]
     },
     "metadata": {},
     "output_type": "display_data"
    }
   ],
   "source": [
    "# ----------------------------------------------------------\n",
    "# Juntar e salvar resultados em arquivo único\n",
    "# ----------------------------------------------------------\n",
    "\n",
    "# Pegar nomes de todos os .csvs de resultado\n",
    "result_files <- list.files(pasta_trechos_proc, \n",
    "                           pattern = '^\\\\d{6}_\\\\d{2}_agrupado.csv', \n",
    "                           recursive = TRUE, \n",
    "                           full.names = TRUE)\n",
    "\n",
    "# Criar um dataframe único para todos os registros daquele dia\n",
    "# https://stackoverflow.com/questions/46299777/add-filename-column-to-table-as-multiple-files-are-read-and-bound\n",
    "result_files <- data.frame(f_path = result_files)\n",
    "\n",
    "dim(result_files)\n",
    "head(result_files)"
   ]
  },
  {
   "cell_type": "code",
   "execution_count": 3,
   "id": "adb75699",
   "metadata": {},
   "outputs": [
    {
     "name": "stderr",
     "output_type": "stream",
     "text": [
      "mutate: new variable 'reg' (list) with 82,109 unique values and 0% NA\n",
      "\n",
      "select: dropped one variable (f_path)\n",
      "\n"
     ]
    },
    {
     "data": {
      "text/html": [
       "<style>\n",
       ".list-inline {list-style: none; margin:0; padding: 0}\n",
       ".list-inline>li {display: inline-block}\n",
       ".list-inline>li:not(:last-child)::after {content: \"\\00b7\"; padding: 0 .5ex}\n",
       "</style>\n",
       "<ol class=list-inline><li>2303297</li><li>16</li></ol>\n"
      ],
      "text/latex": [
       "\\begin{enumerate*}\n",
       "\\item 2303297\n",
       "\\item 16\n",
       "\\end{enumerate*}\n"
      ],
      "text/markdown": [
       "1. 2303297\n",
       "2. 16\n",
       "\n",
       "\n"
      ],
      "text/plain": [
       "[1] 2303297      16"
      ]
     },
     "metadata": {},
     "output_type": "display_data"
    },
    {
     "data": {
      "text/html": [
       "<table class=\"dataframe\">\n",
       "<caption>A tibble: 6 × 16</caption>\n",
       "<thead>\n",
       "\t<tr><th scope=col>trip_id</th><th scope=col>edges.way_id</th><th scope=col>qgis_id</th><th scope=col>cluster</th><th scope=col>edges.length</th><th scope=col>linha_sent</th><th scope=col>elev_sent</th><th scope=col>n_pontos</th><th scope=col>ts_inicio</th><th scope=col>tempo_trecho</th><th scope=col>qgisid_ext_m</th><th scope=col>speed_kph</th><th scope=col>vel_med_gps</th><th scope=col>vel_med_m3</th><th scope=col>vel_med_m5</th><th scope=col>elev_grad_rev</th></tr>\n",
       "\t<tr><th scope=col>&lt;chr&gt;</th><th scope=col>&lt;chr&gt;</th><th scope=col>&lt;chr&gt;</th><th scope=col>&lt;chr&gt;</th><th scope=col>&lt;chr&gt;</th><th scope=col>&lt;chr&gt;</th><th scope=col>&lt;chr&gt;</th><th scope=col>&lt;chr&gt;</th><th scope=col>&lt;chr&gt;</th><th scope=col>&lt;chr&gt;</th><th scope=col>&lt;chr&gt;</th><th scope=col>&lt;chr&gt;</th><th scope=col>&lt;chr&gt;</th><th scope=col>&lt;chr&gt;</th><th scope=col>&lt;chr&gt;</th><th scope=col>&lt;chr&gt;</th></tr>\n",
       "</thead>\n",
       "<tbody>\n",
       "\t<tr><td>000202_00</td><td>27951309</td><td>144190</td><td>1</td><td>53</td><td>opo_linha</td><td>subida </td><td>18</td><td>1544174689.346</td><td>79.50999999046326 </td><td>52.44 </td><td>2.399698151463782 </td><td>2.5157382498248797</td><td>3.078125448503478 </td><td>3.595375857209621 </td><td>0.16590389016016227 </td></tr>\n",
       "\t<tr><td>000202_00</td><td>27951309</td><td>144189</td><td>2</td><td>53</td><td>opo_linha</td><td>descida</td><td>3 </td><td>1544174848.853</td><td>10.163000106811523</td><td>53.118</td><td>18.77398386251325 </td><td>11.672261751624076</td><td>11.867063022049637</td><td>12.062838128158454</td><td>-0.46876764938443394</td></tr>\n",
       "\t<tr><td>000202_00</td><td>27951309</td><td>241058</td><td>3</td><td>43</td><td>opo_linha</td><td>descida</td><td>2 </td><td>1544174864.017</td><td>4.999000072479248 </td><td>42.895</td><td>30.966192789676665</td><td>12.506763126036478</td><td>12.506763126036478</td><td>12.960075846057121</td><td>-0.3380347359831724 </td></tr>\n",
       "\t<tr><td>000202_00</td><td>27951309</td><td>241057</td><td>4</td><td>22</td><td>opo_linha</td><td>subida </td><td>2 </td><td>1544174873.996</td><td>5.020999908447266 </td><td>21.657</td><td>15.773750536572397</td><td>12.80671335514759 </td><td>13.089667003690876</td><td>13.000885998238012</td><td>0.6695294823843645  </td></tr>\n",
       "\t<tr><td>000202_00</td><td>27951309</td><td>241056</td><td>5</td><td>44</td><td>opo_linha</td><td>subida </td><td>2 </td><td>1544174883.994</td><td>5.000999927520752 </td><td>43.632</td><td>31.673665725991498</td><td>12.981385297256868</td><td>13.071677975838814</td><td>13.091178676819956</td><td>1.0015584891822786  </td></tr>\n",
       "\t<tr><td>000202_00</td><td>27951309</td><td>241055</td><td>6</td><td>15</td><td>opo_linha</td><td>subida </td><td>1 </td><td>1544174894.027</td><td>0                 </td><td>15.254</td><td>Inf               </td><td>13.128668405653162</td><td>13.128668405653162</td><td>13.263400096719396</td><td>1.1013504654517263  </td></tr>\n",
       "</tbody>\n",
       "</table>\n"
      ],
      "text/latex": [
       "A tibble: 6 × 16\n",
       "\\begin{tabular}{llllllllllllllll}\n",
       " trip\\_id & edges.way\\_id & qgis\\_id & cluster & edges.length & linha\\_sent & elev\\_sent & n\\_pontos & ts\\_inicio & tempo\\_trecho & qgisid\\_ext\\_m & speed\\_kph & vel\\_med\\_gps & vel\\_med\\_m3 & vel\\_med\\_m5 & elev\\_grad\\_rev\\\\\n",
       " <chr> & <chr> & <chr> & <chr> & <chr> & <chr> & <chr> & <chr> & <chr> & <chr> & <chr> & <chr> & <chr> & <chr> & <chr> & <chr>\\\\\n",
       "\\hline\n",
       "\t 000202\\_00 & 27951309 & 144190 & 1 & 53 & opo\\_linha & subida  & 18 & 1544174689.346 & 79.50999999046326  & 52.44  & 2.399698151463782  & 2.5157382498248797 & 3.078125448503478  & 3.595375857209621  & 0.16590389016016227 \\\\\n",
       "\t 000202\\_00 & 27951309 & 144189 & 2 & 53 & opo\\_linha & descida & 3  & 1544174848.853 & 10.163000106811523 & 53.118 & 18.77398386251325  & 11.672261751624076 & 11.867063022049637 & 12.062838128158454 & -0.46876764938443394\\\\\n",
       "\t 000202\\_00 & 27951309 & 241058 & 3 & 43 & opo\\_linha & descida & 2  & 1544174864.017 & 4.999000072479248  & 42.895 & 30.966192789676665 & 12.506763126036478 & 12.506763126036478 & 12.960075846057121 & -0.3380347359831724 \\\\\n",
       "\t 000202\\_00 & 27951309 & 241057 & 4 & 22 & opo\\_linha & subida  & 2  & 1544174873.996 & 5.020999908447266  & 21.657 & 15.773750536572397 & 12.80671335514759  & 13.089667003690876 & 13.000885998238012 & 0.6695294823843645  \\\\\n",
       "\t 000202\\_00 & 27951309 & 241056 & 5 & 44 & opo\\_linha & subida  & 2  & 1544174883.994 & 5.000999927520752  & 43.632 & 31.673665725991498 & 12.981385297256868 & 13.071677975838814 & 13.091178676819956 & 1.0015584891822786  \\\\\n",
       "\t 000202\\_00 & 27951309 & 241055 & 6 & 15 & opo\\_linha & subida  & 1  & 1544174894.027 & 0                  & 15.254 & Inf                & 13.128668405653162 & 13.128668405653162 & 13.263400096719396 & 1.1013504654517263  \\\\\n",
       "\\end{tabular}\n"
      ],
      "text/markdown": [
       "\n",
       "A tibble: 6 × 16\n",
       "\n",
       "| trip_id &lt;chr&gt; | edges.way_id &lt;chr&gt; | qgis_id &lt;chr&gt; | cluster &lt;chr&gt; | edges.length &lt;chr&gt; | linha_sent &lt;chr&gt; | elev_sent &lt;chr&gt; | n_pontos &lt;chr&gt; | ts_inicio &lt;chr&gt; | tempo_trecho &lt;chr&gt; | qgisid_ext_m &lt;chr&gt; | speed_kph &lt;chr&gt; | vel_med_gps &lt;chr&gt; | vel_med_m3 &lt;chr&gt; | vel_med_m5 &lt;chr&gt; | elev_grad_rev &lt;chr&gt; |\n",
       "|---|---|---|---|---|---|---|---|---|---|---|---|---|---|---|---|\n",
       "| 000202_00 | 27951309 | 144190 | 1 | 53 | opo_linha | subida  | 18 | 1544174689.346 | 79.50999999046326  | 52.44  | 2.399698151463782  | 2.5157382498248797 | 3.078125448503478  | 3.595375857209621  | 0.16590389016016227  |\n",
       "| 000202_00 | 27951309 | 144189 | 2 | 53 | opo_linha | descida | 3  | 1544174848.853 | 10.163000106811523 | 53.118 | 18.77398386251325  | 11.672261751624076 | 11.867063022049637 | 12.062838128158454 | -0.46876764938443394 |\n",
       "| 000202_00 | 27951309 | 241058 | 3 | 43 | opo_linha | descida | 2  | 1544174864.017 | 4.999000072479248  | 42.895 | 30.966192789676665 | 12.506763126036478 | 12.506763126036478 | 12.960075846057121 | -0.3380347359831724  |\n",
       "| 000202_00 | 27951309 | 241057 | 4 | 22 | opo_linha | subida  | 2  | 1544174873.996 | 5.020999908447266  | 21.657 | 15.773750536572397 | 12.80671335514759  | 13.089667003690876 | 13.000885998238012 | 0.6695294823843645   |\n",
       "| 000202_00 | 27951309 | 241056 | 5 | 44 | opo_linha | subida  | 2  | 1544174883.994 | 5.000999927520752  | 43.632 | 31.673665725991498 | 12.981385297256868 | 13.071677975838814 | 13.091178676819956 | 1.0015584891822786   |\n",
       "| 000202_00 | 27951309 | 241055 | 6 | 15 | opo_linha | subida  | 1  | 1544174894.027 | 0                  | 15.254 | Inf                | 13.128668405653162 | 13.128668405653162 | 13.263400096719396 | 1.1013504654517263   |\n",
       "\n"
      ],
      "text/plain": [
       "  trip_id   edges.way_id qgis_id cluster edges.length linha_sent elev_sent\n",
       "1 000202_00 27951309     144190  1       53           opo_linha  subida   \n",
       "2 000202_00 27951309     144189  2       53           opo_linha  descida  \n",
       "3 000202_00 27951309     241058  3       43           opo_linha  descida  \n",
       "4 000202_00 27951309     241057  4       22           opo_linha  subida   \n",
       "5 000202_00 27951309     241056  5       44           opo_linha  subida   \n",
       "6 000202_00 27951309     241055  6       15           opo_linha  subida   \n",
       "  n_pontos ts_inicio      tempo_trecho       qgisid_ext_m speed_kph         \n",
       "1 18       1544174689.346 79.50999999046326  52.44        2.399698151463782 \n",
       "2 3        1544174848.853 10.163000106811523 53.118       18.77398386251325 \n",
       "3 2        1544174864.017 4.999000072479248  42.895       30.966192789676665\n",
       "4 2        1544174873.996 5.020999908447266  21.657       15.773750536572397\n",
       "5 2        1544174883.994 5.000999927520752  43.632       31.673665725991498\n",
       "6 1        1544174894.027 0                  15.254       Inf               \n",
       "  vel_med_gps        vel_med_m3         vel_med_m5         elev_grad_rev       \n",
       "1 2.5157382498248797 3.078125448503478  3.595375857209621  0.16590389016016227 \n",
       "2 11.672261751624076 11.867063022049637 12.062838128158454 -0.46876764938443394\n",
       "3 12.506763126036478 12.506763126036478 12.960075846057121 -0.3380347359831724 \n",
       "4 12.80671335514759  13.089667003690876 13.000885998238012 0.6695294823843645  \n",
       "5 12.981385297256868 13.071677975838814 13.091178676819956 1.0015584891822786  \n",
       "6 13.128668405653162 13.128668405653162 13.263400096719396 1.1013504654517263  "
      ]
     },
     "metadata": {},
     "output_type": "display_data"
    }
   ],
   "source": [
    "# Processar todos os arquivos das linhas em um df único\n",
    "tmp_df <- \n",
    "  result_files %>%\n",
    "  # Abrir cada arquivo e extrair conteúdo em nova coluna\n",
    "  mutate(reg = lapply(f_path, read_delim, delim = ';', col_types = cols(.default = \"c\"))) %>% \n",
    "  # Transformar cada linha de conteúdo em uma linha nova no tibble (linhas com\n",
    "  # nomes de arquivos vão se repetir para cada linha de conteúdo)\n",
    "  unnest(reg, keep_empty = TRUE) %>% \n",
    "  # Retirar primeira coluna, com referência aos endereços do arquivo\n",
    "  select(2:17)\n",
    "\n",
    "dim(tmp_df)\n",
    "head(tmp_df)"
   ]
  },
  {
   "cell_type": "code",
   "execution_count": 4,
   "id": "940b8c8f",
   "metadata": {},
   "outputs": [],
   "source": [
    "# Definir arquivo de saída\n",
    "out_file <- sprintf('%s/%s_trechos_processados_todos.csv', pasta_base_agrup, ano_mes)\n",
    "write_delim(tmp_df, out_file, delim = ';')"
   ]
  },
  {
   "cell_type": "code",
   "execution_count": null,
   "id": "9f0ba94a",
   "metadata": {},
   "outputs": [],
   "source": []
  }
 ],
 "metadata": {
  "kernelspec": {
   "display_name": "R [conda env:r4_env]",
   "language": "R",
   "name": "conda-env-r4_env-r"
  },
  "language_info": {
   "codemirror_mode": "r",
   "file_extension": ".r",
   "mimetype": "text/x-r-source",
   "name": "R",
   "pygments_lexer": "r",
   "version": "4.0.5"
  }
 },
 "nbformat": 4,
 "nbformat_minor": 5
}
