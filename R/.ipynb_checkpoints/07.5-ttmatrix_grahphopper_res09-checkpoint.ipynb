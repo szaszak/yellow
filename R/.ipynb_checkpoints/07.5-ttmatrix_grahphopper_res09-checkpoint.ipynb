{
 "cells": [
  {
   "cell_type": "code",
   "execution_count": 1,
   "id": "e0f422ec",
   "metadata": {},
   "outputs": [
    {
     "name": "stderr",
     "output_type": "stream",
     "text": [
      "GDAL version >= 3.1.0 | setting mapviewOptions(fgb = TRUE)\n",
      "\n",
      "Linking to GEOS 3.9.1, GDAL 3.2.2, PROJ 8.0.0\n",
      "\n",
      "\n",
      "Attaching package: ‘jsonlite’\n",
      "\n",
      "\n",
      "The following object is masked from ‘package:purrr’:\n",
      "\n",
      "    flatten\n",
      "\n",
      "\n",
      "Loading required package: future\n",
      "\n"
     ]
    }
   ],
   "source": [
    "# carregar bibliotecas\n",
    "source('fun/setup.R')\n",
    "library('httr')\n",
    "library('jsonlite')\n",
    "\n",
    "# Aplicar funcoes em paralelo\n",
    "library('future.apply')"
   ]
  },
  {
   "cell_type": "code",
   "execution_count": 2,
   "id": "9731ef8a",
   "metadata": {},
   "outputs": [
    {
     "data": {
      "text/html": [
       "TRUE"
      ],
      "text/latex": [
       "TRUE"
      ],
      "text/markdown": [
       "TRUE"
      ],
      "text/plain": [
       "[1] TRUE"
      ]
     },
     "metadata": {},
     "output_type": "display_data"
    }
   ],
   "source": [
    "# Checando: Jupyter suporta multicore?\n",
    "future::supportsMulticore()"
   ]
  },
  {
   "cell_type": "code",
   "execution_count": 3,
   "id": "77b08a4e",
   "metadata": {},
   "outputs": [],
   "source": [
    "# https://stackoverflow.com/questions/40536067/how-to-adjust-future-global-maxsize\n",
    "# For 850MB: 850*1024^2 = 891289600\n",
    "# For +1.3GB: 1500*1024^2 = 1572864000\n",
    "# options(future.globals.maxSize = 891289600)"
   ]
  },
  {
   "cell_type": "code",
   "execution_count": 4,
   "id": "7506bc77",
   "metadata": {},
   "outputs": [],
   "source": [
    "# Estrutura de pastas\n",
    "pasta_dados        <- \"../../yellow_dados\"\n",
    "dados_originais  <- sprintf(\"%s/00_dados_originais/IPEA\", pasta_dados)\n",
    "pasta_graphhopper  <- sprintf(\"%s/07_graphhopper\", pasta_dados)\n",
    "pasta_gh_ttmarix   <- sprintf(\"%s/03_ttmatrix\", pasta_graphhopper)\n",
    "# dir.create(pasta_gh_ttmarix, recursive = TRUE, showWarnings = FALSE)"
   ]
  },
  {
   "cell_type": "code",
   "execution_count": 5,
   "id": "aff87ca8",
   "metadata": {},
   "outputs": [
    {
     "name": "stderr",
     "output_type": "stream",
     "text": [
      "filter: removed 374,971 rows (96%), 15,059 rows remaining\n",
      "\n",
      "select: dropped 3 variables (abbrev_muni, name_muni, code_muni)\n",
      "\n",
      "Warning message in st_centroid.sf(hex_sp):\n",
      "“st_centroid assumes attributes are constant over geometries of x”\n",
      "Warning message in st_centroid.sfc(st_geometry(x), of_largest_polygon = of_largest_polygon):\n",
      "“st_centroid does not give correct centroids for longitude/latitude data”\n",
      "mutate: new variable 'centroides' (character) with 15,059 unique values and 0% NA\n",
      "\n",
      "filter: removed 374,971 rows (96%), 15,059 rows remaining\n",
      "\n",
      "select: dropped 4 variables (year, abbrev_muni, name_muni, code_muni)\n",
      "\n",
      "mutate: new variable 'oportunidades' (double) with 2,051 unique values and 0% NA\n",
      "\n",
      "select: dropped 17 variables (T001, T002, T003, T004, E001, …)\n",
      "\n",
      "filter: removed 374,971 rows (96%), 15,059 rows remaining\n",
      "\n",
      "select: dropped 4 variables (year, abbrev_muni, name_muni, code_muni)\n",
      "\n",
      "select: renamed one variable (populacao) and dropped 16 variables\n",
      "\n",
      "left_join: added one column (oportunidades)\n",
      "\n",
      "           > rows only in x        0\n",
      "\n",
      "           > rows only in y  (     0)\n",
      "\n",
      "           > matched rows     15,059\n",
      "\n",
      "           >                 ========\n",
      "\n",
      "           > rows total       15,059\n",
      "\n",
      "left_join: added one column (populacao)\n",
      "\n",
      "           > rows only in x        0\n",
      "\n",
      "           > rows only in y  (     0)\n",
      "\n",
      "           > matched rows     15,059\n",
      "\n",
      "           >                 ========\n",
      "\n",
      "           > rows total       15,059\n",
      "\n",
      "filter: removed 6,867 rows (46%), 8,192 rows remaining\n",
      "\n"
     ]
    },
    {
     "data": {
      "text/html": [
       "<table class=\"dataframe\">\n",
       "<caption>A tibble: 6 × 4</caption>\n",
       "<thead>\n",
       "\t<tr><th scope=col>id_hex</th><th scope=col>centroides</th><th scope=col>oportunidades</th><th scope=col>populacao</th></tr>\n",
       "\t<tr><th scope=col>&lt;chr&gt;</th><th scope=col>&lt;chr&gt;</th><th scope=col>&lt;dbl&gt;</th><th scope=col>&lt;dbl&gt;</th></tr>\n",
       "</thead>\n",
       "<tbody>\n",
       "\t<tr><td>89a8100d9d7ffff</td><td>c(-46.6243269389247, -23.5027719122434)</td><td>4696</td><td> 338</td></tr>\n",
       "\t<tr><td>89a8100986fffff</td><td>c(-46.4551023034772, -23.5780741727837)</td><td>  22</td><td> 488</td></tr>\n",
       "\t<tr><td>89a8103986fffff</td><td>c(-46.7502131069765, -23.4139123856488)</td><td>  45</td><td>2403</td></tr>\n",
       "\t<tr><td>89a81015653ffff</td><td>c(-46.690778409091, -23.7834099811074) </td><td> 114</td><td> 692</td></tr>\n",
       "\t<tr><td>89a81039653ffff</td><td>c(-46.6818936790765, -23.4832021869071)</td><td>  52</td><td>1611</td></tr>\n",
       "\t<tr><td>89a8100f437ffff</td><td>c(-46.5971911117835, -23.6207040761765)</td><td> 927</td><td>2807</td></tr>\n",
       "</tbody>\n",
       "</table>\n"
      ],
      "text/latex": [
       "A tibble: 6 × 4\n",
       "\\begin{tabular}{llll}\n",
       " id\\_hex & centroides & oportunidades & populacao\\\\\n",
       " <chr> & <chr> & <dbl> & <dbl>\\\\\n",
       "\\hline\n",
       "\t 89a8100d9d7ffff & c(-46.6243269389247, -23.5027719122434) & 4696 &  338\\\\\n",
       "\t 89a8100986fffff & c(-46.4551023034772, -23.5780741727837) &   22 &  488\\\\\n",
       "\t 89a8103986fffff & c(-46.7502131069765, -23.4139123856488) &   45 & 2403\\\\\n",
       "\t 89a81015653ffff & c(-46.690778409091, -23.7834099811074)  &  114 &  692\\\\\n",
       "\t 89a81039653ffff & c(-46.6818936790765, -23.4832021869071) &   52 & 1611\\\\\n",
       "\t 89a8100f437ffff & c(-46.5971911117835, -23.6207040761765) &  927 & 2807\\\\\n",
       "\\end{tabular}\n"
      ],
      "text/markdown": [
       "\n",
       "A tibble: 6 × 4\n",
       "\n",
       "| id_hex &lt;chr&gt; | centroides &lt;chr&gt; | oportunidades &lt;dbl&gt; | populacao &lt;dbl&gt; |\n",
       "|---|---|---|---|\n",
       "| 89a8100d9d7ffff | c(-46.6243269389247, -23.5027719122434) | 4696 |  338 |\n",
       "| 89a8100986fffff | c(-46.4551023034772, -23.5780741727837) |   22 |  488 |\n",
       "| 89a8103986fffff | c(-46.7502131069765, -23.4139123856488) |   45 | 2403 |\n",
       "| 89a81015653ffff | c(-46.690778409091, -23.7834099811074)  |  114 |  692 |\n",
       "| 89a81039653ffff | c(-46.6818936790765, -23.4832021869071) |   52 | 1611 |\n",
       "| 89a8100f437ffff | c(-46.5971911117835, -23.6207040761765) |  927 | 2807 |\n",
       "\n"
      ],
      "text/plain": [
       "  id_hex          centroides                              oportunidades\n",
       "1 89a8100d9d7ffff c(-46.6243269389247, -23.5027719122434) 4696         \n",
       "2 89a8100986fffff c(-46.4551023034772, -23.5780741727837)   22         \n",
       "3 89a8103986fffff c(-46.7502131069765, -23.4139123856488)   45         \n",
       "4 89a81015653ffff c(-46.690778409091, -23.7834099811074)   114         \n",
       "5 89a81039653ffff c(-46.6818936790765, -23.4832021869071)   52         \n",
       "6 89a8100f437ffff c(-46.5971911117835, -23.6207040761765)  927         \n",
       "  populacao\n",
       "1  338     \n",
       "2  488     \n",
       "3 2403     \n",
       "4  692     \n",
       "5 1611     \n",
       "6 2807     "
      ]
     },
     "metadata": {},
     "output_type": "display_data"
    }
   ],
   "source": [
    "# ------------------------------------------------------------------------------\n",
    "# Agregar totais de população e oportunidades aos hexágonos\n",
    "# ------------------------------------------------------------------------------\n",
    "\n",
    "# Abrir hexágonos para SP à resolução 9, com distância de ~350m entre os vértices\n",
    "hex_sp <- read_sf(sprintf(\"%s/aop_hex_grid_v2.gpkg\", dados_originais))\n",
    "hex_sp <- hex_sp %>% filter(abbrev_muni == 'spo') %>% select(-c(abbrev_muni, name_muni, code_muni))\n",
    "\n",
    "# Tratar como dataframe e selecionar somente colunas de interesse\n",
    "hex_sp <- st_centroid(hex_sp) %>% mutate(centroides = as.character(geom)) %>% st_drop_geometry()\n",
    "\n",
    "# Oportunidades por hexágono\n",
    "# https://ipeagit.github.io/aopdata/reference/read_landuse.html\n",
    "open_file <- sprintf('%s/aop_landuse_2019_v2.csv', dados_originais)\n",
    "dados_ipea <- read_delim(open_file, delim = ',', col_types = \"cccccddddddddddddddddd\")\n",
    "dados_ipea <- dados_ipea %>% filter(abbrev_muni == 'spo') %>% select(-c(year, abbrev_muni, name_muni, code_muni))\n",
    "# Deixar só totais de oportunidades\n",
    "dados_ipea <- dados_ipea %>% mutate(oportunidades = T001 + E001 + M001 + S001 + C001) %>% select(id_hex, oportunidades)\n",
    "# head(dados_ipea)\n",
    "\n",
    "# População por hexágono\n",
    "# https://ipeagit.github.io/aopdata/reference/read_landuse.html\n",
    "open_file <- sprintf('%s/aop_population_2010_v2.csv', dados_originais)\n",
    "dados_ipea_pop <- read_delim(open_file, delim = ',', col_types = \"cccccddddddddddddddddd\")\n",
    "dados_ipea_pop <- dados_ipea_pop %>% filter(abbrev_muni == 'spo') %>% select(-c(year, abbrev_muni, name_muni, code_muni))\n",
    "# Deixar neste momento só dados totais da população\n",
    "dados_ipea_pop <- dados_ipea_pop %>% select(id_hex, populacao = P001)\n",
    "# head(dados_ipea_pop)\n",
    "\n",
    "# Juntar dados de oportunidades e população\n",
    "hex_sp <- \n",
    "  hex_sp %>% \n",
    "  left_join(dados_ipea, by = 'id_hex') %>% \n",
    "  left_join(dados_ipea_pop, by = 'id_hex')\n",
    "\n",
    "# Hexágonos sem oportunidade e sem população devem ser descartados\n",
    "hex_sp <- hex_sp %>% filter(oportunidades > 0 & populacao > 0)\n",
    "\n",
    "# Limpar ambiente\n",
    "rm(dados_ipea, dados_ipea_pop)\n",
    "\n",
    "head(hex_sp)"
   ]
  },
  {
   "cell_type": "code",
   "execution_count": 6,
   "id": "ed1031cf",
   "metadata": {},
   "outputs": [
    {
     "name": "stderr",
     "output_type": "stream",
     "text": [
      "select: dropped 6 variables (x, y, z, u, oportunidades, …)\n",
      "\n",
      "left_join: added 2 columns (lat, lon)\n",
      "\n",
      "           > rows only in x   11,371,752\n",
      "\n",
      "           > rows only in y  (         0)\n",
      "\n",
      "           > matched rows     13,565,952\n",
      "\n",
      "           >                 ============\n",
      "\n",
      "           > rows total       24,937,704\n",
      "\n",
      "left_join: added 4 columns (lat.x, lon.x, lat.y, lon.y)\n",
      "\n",
      "           > rows only in x   13,737,942\n",
      "\n",
      "           > rows only in y  (         0)\n",
      "\n",
      "           > matched rows     11,199,762\n",
      "\n",
      "           >                 ============\n",
      "\n",
      "           > rows total       24,937,704\n",
      "\n",
      "filter: removed 13,737,942 rows (55%), 11,199,762 rows remaining\n",
      "\n",
      "filter: removed 2,339,800 rows (21%), 8,859,962 rows remaining\n",
      "\n"
     ]
    }
   ],
   "source": [
    "# ------------------------------------------------------------------------------\n",
    "# Gerar latlong para as origens e destinos (centroides dos hexágonos)\n",
    "# ------------------------------------------------------------------------------\n",
    "\n",
    "# Separar coluna de centroides em latlon\n",
    "hex_sp <-\n",
    "  hex_sp %>%\n",
    "  separate(centroides, '[c\\\\(\\\\), )]', into = c('x', 'y', 'lon', 'z', 'lat', 'u')) %>%\n",
    "  select(id_hex, lat, lon)\n",
    "\n",
    "# hex_sp %>% filter(is.na(lat) | is.na(lon))\n",
    "\n",
    "# Abrir hexágonos para SP combinados com vizinhos\n",
    "hex_com_vizinhos <- sprintf(\"%s/01_hex_spo_res09_23vizinhos.csv\", pasta_gh_ttmarix)\n",
    "hex_com_vizinhos <- read_delim(hex_com_vizinhos, delim = ';', col_types = cols(.default = \"c\"))\n",
    "\n",
    "# Juntar hexágonos de origem e destino às cordenadas latlong de seus centroides\n",
    "hex_com_vizinhos <-\n",
    "  hex_com_vizinhos %>%\n",
    "  left_join(hex_sp, by = c('id_hex_x' = 'id_hex')) %>%\n",
    "  left_join(hex_sp, by = c('id_hex_y' = 'id_hex'))\n",
    "\n",
    "# Remover hexágonos vizinhos que estão fora do shape de São Paulo\n",
    "hex_com_vizinhos <- hex_com_vizinhos %>% filter(!is.na(lat.y) & !is.na(lon.y))\n",
    "hex_com_vizinhos <- hex_com_vizinhos %>% filter(!is.na(lat.x) & !is.na(lon.x))\n",
    "# 8859962 / 1267988 = 7 vezes as queries com resolução 8\n",
    "\n",
    "# Limpar ambiente\n",
    "rm(hex_sp)"
   ]
  },
  {
   "cell_type": "code",
   "execution_count": 7,
   "id": "d3fd92c1",
   "metadata": {},
   "outputs": [],
   "source": [
    "# ------------------------------------------------------------------------------\n",
    "# Routing a partir de dois pontos\n",
    "# ------------------------------------------------------------------------------\n",
    "\n",
    "# Faz query de routing no GraphHopper e retorna resultados principais em dataframe\n",
    "gh_route <- function(url, n) {\n",
    "  # url <- 'http://localhost:8989/route/?point=-23.5314933121698%2C-46.634354542765&point=-23.5390199310058%2C-46.6376369484305&profile=bike&instructions=false&calc_points=true&details=average_speed'\n",
    "  \n",
    "  # Fazer a GET de roteamento no Grahphopper\n",
    "  # print(url)\n",
    "  gh_response <- GET(url)\n",
    "  \n",
    "  # Encurtar url para guardar no dataframe de resultado\n",
    "  url <- \n",
    "    url %>% \n",
    "    str_replace('http:\\\\/\\\\/localhost:8989\\\\/route\\\\/\\\\?point=', '') %>% \n",
    "    str_replace('&point=', ';') %>%\n",
    "    str_replace_all('%2C', ',') %>% \n",
    "    str_replace('&profile=bike&instructions=false&calc_points=true&details=average_speed', '')\n",
    "  \n",
    "  # Mensagem tem que ser \"Success: (200) OK\"\n",
    "  if (http_status(gh_response)$message == 'Success: (200) OK') {\n",
    "    \n",
    "    # Resposta da query, já colapsada e transformada em dataframe\n",
    "    # Remover aviso de 'No encoding supplied: defaulting to UTF-8' na linha fromJSON()\n",
    "    suppressMessages(\n",
    "      response_text <- \n",
    "        # Ignorar aviso 'argument is not an atomic vector; coercing'\n",
    "        suppressWarnings(str_c(gh_response, collapse = \", \")) %>% \n",
    "        # Concatenar toda a string de resultados\n",
    "        str_c(\"[\", ., \"]\") %>% \n",
    "        # Transformar em dataframe\n",
    "        fromJSON() %>% \n",
    "        as.data.frame()\n",
    "    )\n",
    "    \n",
    "    # Nos interessa a coluna de 'paths', como um novo dataframe\n",
    "    paths <- response_text$paths %>% as.data.frame()\n",
    "    \n",
    "    # Isolar colunas de interesse\n",
    "    paths <- \n",
    "      paths %>% \n",
    "      # Calcular tempo em segundos e velocidade média\n",
    "      mutate(time = time / 1000,\n",
    "             speed = distance / time * 3.6) %>% \n",
    "      # Descartar colunas extras - a coluna poly é o shape da rota traçada\n",
    "      select(distance, weight, time, speed, poly = points) %>% \n",
    "      mutate(url = url)\n",
    "    \n",
    "  } else {\n",
    "    \n",
    "    # Se a query no GraphHopper não deu resultados, guardar como dataframe vazio\n",
    "    paths <- data.frame(distance = NA,\n",
    "                        weight   = NA,\n",
    "                        time     = NA,\n",
    "                        speed    = NA,\n",
    "                        poly     = NA,\n",
    "                        url      = url\n",
    "    )\n",
    "    \n",
    "  }\n",
    "  \n",
    "  # Guardar resultados temporários\n",
    "  out_file <- sprintf('%s/02_ttmatrix_res09_%s.csv', pasta_gh_ttmarix, n)\n",
    "  write_delim(paths, out_file, delim = ';', append = TRUE)\n",
    "  \n",
    "}"
   ]
  },
  {
   "cell_type": "code",
   "execution_count": 8,
   "id": "8f299cd7",
   "metadata": {},
   "outputs": [
    {
     "name": "stderr",
     "output_type": "stream",
     "text": [
      "mutate: new variable 'url' (character) with 8,859,962 unique values and 0% NA\n",
      "\n"
     ]
    },
    {
     "data": {
      "text/html": [
       "<table class=\"dataframe\">\n",
       "<caption>A tibble: 2 × 7</caption>\n",
       "<thead>\n",
       "\t<tr><th scope=col>id_hex_x</th><th scope=col>id_hex_y</th><th scope=col>lat.x</th><th scope=col>lon.x</th><th scope=col>lat.y</th><th scope=col>lon.y</th><th scope=col>url</th></tr>\n",
       "\t<tr><th scope=col>&lt;chr&gt;</th><th scope=col>&lt;chr&gt;</th><th scope=col>&lt;chr&gt;</th><th scope=col>&lt;chr&gt;</th><th scope=col>&lt;chr&gt;</th><th scope=col>&lt;chr&gt;</th><th scope=col>&lt;chr&gt;</th></tr>\n",
       "</thead>\n",
       "<tbody>\n",
       "\t<tr><td>89a8100d9d7ffff</td><td>89a8100d9d3ffff</td><td>-23.5027719122434</td><td>-46.6243269389247</td><td>-23.5044472587788</td><td>-46.6213157795618</td><td>http://localhost:8989/route/?point=-23.5027719122434%2C-46.6243269389247&amp;point=-23.5044472587788%2C-46.6213157795618&amp;profile=bike&amp;instructions=false&amp;calc_points=true&amp;details=average_speed</td></tr>\n",
       "\t<tr><td>89a8100d9d7ffff</td><td>89a8100d9c3ffff</td><td>-23.5027719122434</td><td>-46.6243269389247</td><td>-23.5013787666731</td><td>-46.6212254402001</td><td>http://localhost:8989/route/?point=-23.5027719122434%2C-46.6243269389247&amp;point=-23.5013787666731%2C-46.6212254402001&amp;profile=bike&amp;instructions=false&amp;calc_points=true&amp;details=average_speed</td></tr>\n",
       "</tbody>\n",
       "</table>\n"
      ],
      "text/latex": [
       "A tibble: 2 × 7\n",
       "\\begin{tabular}{lllllll}\n",
       " id\\_hex\\_x & id\\_hex\\_y & lat.x & lon.x & lat.y & lon.y & url\\\\\n",
       " <chr> & <chr> & <chr> & <chr> & <chr> & <chr> & <chr>\\\\\n",
       "\\hline\n",
       "\t 89a8100d9d7ffff & 89a8100d9d3ffff & -23.5027719122434 & -46.6243269389247 & -23.5044472587788 & -46.6213157795618 & http://localhost:8989/route/?point=-23.5027719122434\\%2C-46.6243269389247\\&point=-23.5044472587788\\%2C-46.6213157795618\\&profile=bike\\&instructions=false\\&calc\\_points=true\\&details=average\\_speed\\\\\n",
       "\t 89a8100d9d7ffff & 89a8100d9c3ffff & -23.5027719122434 & -46.6243269389247 & -23.5013787666731 & -46.6212254402001 & http://localhost:8989/route/?point=-23.5027719122434\\%2C-46.6243269389247\\&point=-23.5013787666731\\%2C-46.6212254402001\\&profile=bike\\&instructions=false\\&calc\\_points=true\\&details=average\\_speed\\\\\n",
       "\\end{tabular}\n"
      ],
      "text/markdown": [
       "\n",
       "A tibble: 2 × 7\n",
       "\n",
       "| id_hex_x &lt;chr&gt; | id_hex_y &lt;chr&gt; | lat.x &lt;chr&gt; | lon.x &lt;chr&gt; | lat.y &lt;chr&gt; | lon.y &lt;chr&gt; | url &lt;chr&gt; |\n",
       "|---|---|---|---|---|---|---|\n",
       "| 89a8100d9d7ffff | 89a8100d9d3ffff | -23.5027719122434 | -46.6243269389247 | -23.5044472587788 | -46.6213157795618 | http://localhost:8989/route/?point=-23.5027719122434%2C-46.6243269389247&amp;point=-23.5044472587788%2C-46.6213157795618&amp;profile=bike&amp;instructions=false&amp;calc_points=true&amp;details=average_speed |\n",
       "| 89a8100d9d7ffff | 89a8100d9c3ffff | -23.5027719122434 | -46.6243269389247 | -23.5013787666731 | -46.6212254402001 | http://localhost:8989/route/?point=-23.5027719122434%2C-46.6243269389247&amp;point=-23.5013787666731%2C-46.6212254402001&amp;profile=bike&amp;instructions=false&amp;calc_points=true&amp;details=average_speed |\n",
       "\n"
      ],
      "text/plain": [
       "  id_hex_x        id_hex_y        lat.x             lon.x            \n",
       "1 89a8100d9d7ffff 89a8100d9d3ffff -23.5027719122434 -46.6243269389247\n",
       "2 89a8100d9d7ffff 89a8100d9c3ffff -23.5027719122434 -46.6243269389247\n",
       "  lat.y             lon.y            \n",
       "1 -23.5044472587788 -46.6213157795618\n",
       "2 -23.5013787666731 -46.6212254402001\n",
       "  url                                                                                                                                                                                        \n",
       "1 http://localhost:8989/route/?point=-23.5027719122434%2C-46.6243269389247&point=-23.5044472587788%2C-46.6213157795618&profile=bike&instructions=false&calc_points=true&details=average_speed\n",
       "2 http://localhost:8989/route/?point=-23.5027719122434%2C-46.6243269389247&point=-23.5013787666731%2C-46.6212254402001&profile=bike&instructions=false&calc_points=true&details=average_speed"
      ]
     },
     "metadata": {},
     "output_type": "display_data"
    }
   ],
   "source": [
    "# Criar coluna com URL para GET no GraphHopper\n",
    "hex_com_vizinhos <- \n",
    "  hex_com_vizinhos %>% \n",
    "  mutate(url = paste('http://localhost:8989/route/?point=', \n",
    "                     lat.x, '%2C', lon.x, '&point=', \n",
    "                     lat.y, '%2C', lon.y, '&profile=bike&instructions=false&calc_points=true&details=average_speed',\n",
    "                     sep = ''))\n",
    "\n",
    "head(hex_com_vizinhos, 2)"
   ]
  },
  {
   "cell_type": "code",
   "execution_count": 9,
   "id": "55a82b8c",
   "metadata": {},
   "outputs": [
    {
     "name": "stderr",
     "output_type": "stream",
     "text": [
      "slice: removed 7,609,962 rows (86%), 1,250,000 rows remaining\n",
      "\n"
     ]
    },
    {
     "name": "stdout",
     "output_type": "stream",
     "text": [
      "[1] \"03\"\n"
     ]
    },
    {
     "data": {
      "text/html": [
       "<table class=\"dataframe\">\n",
       "<caption>A tibble: 2 × 7</caption>\n",
       "<thead>\n",
       "\t<tr><th scope=col>id_hex_x</th><th scope=col>id_hex_y</th><th scope=col>lat.x</th><th scope=col>lon.x</th><th scope=col>lat.y</th><th scope=col>lon.y</th><th scope=col>url</th></tr>\n",
       "\t<tr><th scope=col>&lt;chr&gt;</th><th scope=col>&lt;chr&gt;</th><th scope=col>&lt;chr&gt;</th><th scope=col>&lt;chr&gt;</th><th scope=col>&lt;chr&gt;</th><th scope=col>&lt;chr&gt;</th><th scope=col>&lt;chr&gt;</th></tr>\n",
       "</thead>\n",
       "<tbody>\n",
       "\t<tr><td>89a8100f487ffff</td><td>89a8100e247ffff</td><td>-23.6315691474912</td><td>-46.5944497877008</td><td>-23.599514057312 </td><td>-46.6241167273322</td><td>http://localhost:8989/route/?point=-23.6315691474912%2C-46.5944497877008&amp;point=-23.599514057312%2C-46.6241167273322&amp;profile=bike&amp;instructions=false&amp;calc_points=true&amp;details=average_speed </td></tr>\n",
       "\t<tr><td>89a8100f487ffff</td><td>89a8100e20bffff</td><td>-23.6315691474912</td><td>-46.5944497877008</td><td>-23.6009050842264</td><td>-46.6272186938058</td><td>http://localhost:8989/route/?point=-23.6315691474912%2C-46.5944497877008&amp;point=-23.6009050842264%2C-46.6272186938058&amp;profile=bike&amp;instructions=false&amp;calc_points=true&amp;details=average_speed</td></tr>\n",
       "</tbody>\n",
       "</table>\n"
      ],
      "text/latex": [
       "A tibble: 2 × 7\n",
       "\\begin{tabular}{lllllll}\n",
       " id\\_hex\\_x & id\\_hex\\_y & lat.x & lon.x & lat.y & lon.y & url\\\\\n",
       " <chr> & <chr> & <chr> & <chr> & <chr> & <chr> & <chr>\\\\\n",
       "\\hline\n",
       "\t 89a8100f487ffff & 89a8100e247ffff & -23.6315691474912 & -46.5944497877008 & -23.599514057312  & -46.6241167273322 & http://localhost:8989/route/?point=-23.6315691474912\\%2C-46.5944497877008\\&point=-23.599514057312\\%2C-46.6241167273322\\&profile=bike\\&instructions=false\\&calc\\_points=true\\&details=average\\_speed \\\\\n",
       "\t 89a8100f487ffff & 89a8100e20bffff & -23.6315691474912 & -46.5944497877008 & -23.6009050842264 & -46.6272186938058 & http://localhost:8989/route/?point=-23.6315691474912\\%2C-46.5944497877008\\&point=-23.6009050842264\\%2C-46.6272186938058\\&profile=bike\\&instructions=false\\&calc\\_points=true\\&details=average\\_speed\\\\\n",
       "\\end{tabular}\n"
      ],
      "text/markdown": [
       "\n",
       "A tibble: 2 × 7\n",
       "\n",
       "| id_hex_x &lt;chr&gt; | id_hex_y &lt;chr&gt; | lat.x &lt;chr&gt; | lon.x &lt;chr&gt; | lat.y &lt;chr&gt; | lon.y &lt;chr&gt; | url &lt;chr&gt; |\n",
       "|---|---|---|---|---|---|---|\n",
       "| 89a8100f487ffff | 89a8100e247ffff | -23.6315691474912 | -46.5944497877008 | -23.599514057312  | -46.6241167273322 | http://localhost:8989/route/?point=-23.6315691474912%2C-46.5944497877008&amp;point=-23.599514057312%2C-46.6241167273322&amp;profile=bike&amp;instructions=false&amp;calc_points=true&amp;details=average_speed  |\n",
       "| 89a8100f487ffff | 89a8100e20bffff | -23.6315691474912 | -46.5944497877008 | -23.6009050842264 | -46.6272186938058 | http://localhost:8989/route/?point=-23.6315691474912%2C-46.5944497877008&amp;point=-23.6009050842264%2C-46.6272186938058&amp;profile=bike&amp;instructions=false&amp;calc_points=true&amp;details=average_speed |\n",
       "\n"
      ],
      "text/plain": [
       "  id_hex_x        id_hex_y        lat.x             lon.x            \n",
       "1 89a8100f487ffff 89a8100e247ffff -23.6315691474912 -46.5944497877008\n",
       "2 89a8100f487ffff 89a8100e20bffff -23.6315691474912 -46.5944497877008\n",
       "  lat.y             lon.y            \n",
       "1 -23.599514057312  -46.6241167273322\n",
       "2 -23.6009050842264 -46.6272186938058\n",
       "  url                                                                                                                                                                                        \n",
       "1 http://localhost:8989/route/?point=-23.6315691474912%2C-46.5944497877008&point=-23.599514057312%2C-46.6241167273322&profile=bike&instructions=false&calc_points=true&details=average_speed \n",
       "2 http://localhost:8989/route/?point=-23.6315691474912%2C-46.5944497877008&point=-23.6009050842264%2C-46.6272186938058&profile=bike&instructions=false&calc_points=true&details=average_speed"
      ]
     },
     "metadata": {},
     "output_type": "display_data"
    }
   ],
   "source": [
    "# Dividir dataframe em várias partes (7 partes) para rodar\n",
    "# nrow(hex_com_vizinhos) # 8,859,962\n",
    "\n",
    "# hex_com_vizinhos <- hex_com_vizinhos %>% slice(1:1250000); n_secao = '01'\n",
    "# hex_com_vizinhos <- hex_com_vizinhos %>% slice(1250001:2500000); n_secao = '02'\n",
    "# hex_com_vizinhos <- hex_com_vizinhos %>% slice(2500001:3750000); n_secao = '03'\n",
    "hex_com_vizinhos <- hex_com_vizinhos %>% slice(3750001:5000000); n_secao = '04'\n",
    "# hex_com_vizinhos <- hex_com_vizinhos %>% slice(5000001:6250000); n_secao = '05'\n",
    "# hex_com_vizinhos <- hex_com_vizinhos %>% slice(6250001:7500000); n_secao = '06'\n",
    "# hex_com_vizinhos <- hex_com_vizinhos %>% slice(7500001:8860000); n_secao = '07'\n",
    "\n",
    "# nrow(hex_com_vizinhos)\n",
    "print(n_secao)\n",
    "\n",
    "head(hex_com_vizinhos, 2)"
   ]
  },
  {
   "cell_type": "code",
   "execution_count": 10,
   "id": "8c487627",
   "metadata": {},
   "outputs": [
    {
     "data": {
      "text/html": [
       "<table class=\"dataframe\">\n",
       "<caption>A matrix: 2 × 6 of type dbl</caption>\n",
       "<thead>\n",
       "\t<tr><th></th><th scope=col>used</th><th scope=col>(Mb)</th><th scope=col>gc trigger</th><th scope=col>(Mb)</th><th scope=col>max used</th><th scope=col>(Mb)</th></tr>\n",
       "</thead>\n",
       "<tbody>\n",
       "\t<tr><th scope=row>Ncells</th><td> 3546509</td><td>189.5</td><td> 13962871</td><td> 745.7</td><td> 11495941</td><td> 614.0</td></tr>\n",
       "\t<tr><th scope=row>Vcells</th><td>50728540</td><td>387.1</td><td>321667848</td><td>2454.2</td><td>402084806</td><td>3067.7</td></tr>\n",
       "</tbody>\n",
       "</table>\n"
      ],
      "text/latex": [
       "A matrix: 2 × 6 of type dbl\n",
       "\\begin{tabular}{r|llllll}\n",
       "  & used & (Mb) & gc trigger & (Mb) & max used & (Mb)\\\\\n",
       "\\hline\n",
       "\tNcells &  3546509 & 189.5 &  13962871 &  745.7 &  11495941 &  614.0\\\\\n",
       "\tVcells & 50728540 & 387.1 & 321667848 & 2454.2 & 402084806 & 3067.7\\\\\n",
       "\\end{tabular}\n"
      ],
      "text/markdown": [
       "\n",
       "A matrix: 2 × 6 of type dbl\n",
       "\n",
       "| <!--/--> | used | (Mb) | gc trigger | (Mb) | max used | (Mb) |\n",
       "|---|---|---|---|---|---|---|\n",
       "| Ncells |  3546509 | 189.5 |  13962871 |  745.7 |  11495941 |  614.0 |\n",
       "| Vcells | 50728540 | 387.1 | 321667848 | 2454.2 | 402084806 | 3067.7 |\n",
       "\n"
      ],
      "text/plain": [
       "       used     (Mb)  gc trigger (Mb)   max used  (Mb)  \n",
       "Ncells  3546509 189.5  13962871   745.7  11495941  614.0\n",
       "Vcells 50728540 387.1 321667848  2454.2 402084806 3067.7"
      ]
     },
     "metadata": {},
     "output_type": "display_data"
    }
   ],
   "source": [
    "gc(T)"
   ]
  },
  {
   "cell_type": "code",
   "execution_count": 11,
   "id": "0845e8e0",
   "metadata": {},
   "outputs": [
    {
     "data": {
      "text/plain": [
       "[1] \"2023-05-23 09:44:17 -03\""
      ]
     },
     "metadata": {},
     "output_type": "display_data"
    },
    {
     "data": {
      "text/plain": [
       "[1] \"2023-05-23 12:24:24 -03\""
      ]
     },
     "metadata": {},
     "output_type": "display_data"
    },
    {
     "data": {
      "text/plain": [
       "Time difference of 2.668822 hours"
      ]
     },
     "metadata": {},
     "output_type": "display_data"
    }
   ],
   "source": [
    "# Criar ttmatrix a partir do GrahHopper\n",
    "detach(\"package:tidylog\")\n",
    "# lapply(hex_com_vizinhos$url, gh_route, n = n_secao)\n",
    "\n",
    "# Rodar função para todos os arquivos- multi thread (Jupyter)\n",
    "(start = Sys.time())\n",
    "future::plan(future::multicore)\n",
    "invisible(future.apply::future_lapply(X   = hex_com_vizinhos$url, \n",
    "                                      FUN = gh_route, \n",
    "                                      n   = n_secao,\n",
    "                                      # future.packages = c('dplyr'), \n",
    "                                      future.seed = TRUE))\n",
    "Sys.time()\n",
    "Sys.time() - start"
   ]
  },
  {
   "cell_type": "code",
   "execution_count": 12,
   "id": "6b79416e",
   "metadata": {},
   "outputs": [
    {
     "data": {
      "text/html": [
       "<table class=\"dataframe\">\n",
       "<caption>A matrix: 2 × 6 of type dbl</caption>\n",
       "<thead>\n",
       "\t<tr><th></th><th scope=col>used</th><th scope=col>(Mb)</th><th scope=col>gc trigger</th><th scope=col>(Mb)</th><th scope=col>max used</th><th scope=col>(Mb)</th></tr>\n",
       "</thead>\n",
       "<tbody>\n",
       "\t<tr><th scope=row>Ncells</th><td> 2339481</td><td>125.0</td><td>103712180</td><td>5538.9</td><td>129640225</td><td>6923.6</td></tr>\n",
       "\t<tr><th scope=row>Vcells</th><td>12078580</td><td> 92.2</td><td>247104908</td><td>1885.3</td><td>402084806</td><td>3067.7</td></tr>\n",
       "</tbody>\n",
       "</table>\n"
      ],
      "text/latex": [
       "A matrix: 2 × 6 of type dbl\n",
       "\\begin{tabular}{r|llllll}\n",
       "  & used & (Mb) & gc trigger & (Mb) & max used & (Mb)\\\\\n",
       "\\hline\n",
       "\tNcells &  2339481 & 125.0 & 103712180 & 5538.9 & 129640225 & 6923.6\\\\\n",
       "\tVcells & 12078580 &  92.2 & 247104908 & 1885.3 & 402084806 & 3067.7\\\\\n",
       "\\end{tabular}\n"
      ],
      "text/markdown": [
       "\n",
       "A matrix: 2 × 6 of type dbl\n",
       "\n",
       "| <!--/--> | used | (Mb) | gc trigger | (Mb) | max used | (Mb) |\n",
       "|---|---|---|---|---|---|---|\n",
       "| Ncells |  2339481 | 125.0 | 103712180 | 5538.9 | 129640225 | 6923.6 |\n",
       "| Vcells | 12078580 |  92.2 | 247104908 | 1885.3 | 402084806 | 3067.7 |\n",
       "\n"
      ],
      "text/plain": [
       "       used     (Mb)  gc trigger (Mb)   max used  (Mb)  \n",
       "Ncells  2339481 125.0 103712180  5538.9 129640225 6923.6\n",
       "Vcells 12078580  92.2 247104908  1885.3 402084806 3067.7"
      ]
     },
     "metadata": {},
     "output_type": "display_data"
    }
   ],
   "source": [
    "rm(hex_com_vizinhos)\n",
    "gc(T)"
   ]
  },
  {
   "cell_type": "code",
   "execution_count": null,
   "id": "6ac7e076",
   "metadata": {},
   "outputs": [],
   "source": []
  }
 ],
 "metadata": {
  "kernelspec": {
   "display_name": "R [conda env:r4_env]",
   "language": "R",
   "name": "conda-env-r4_env-r"
  },
  "language_info": {
   "codemirror_mode": "r",
   "file_extension": ".r",
   "mimetype": "text/x-r-source",
   "name": "R",
   "pygments_lexer": "r",
   "version": "4.0.5"
  }
 },
 "nbformat": 4,
 "nbformat_minor": 5
}
