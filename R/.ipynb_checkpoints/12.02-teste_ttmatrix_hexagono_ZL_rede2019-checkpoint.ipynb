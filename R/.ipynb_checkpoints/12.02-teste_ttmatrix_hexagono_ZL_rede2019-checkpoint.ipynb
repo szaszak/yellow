{
 "cells": [
  {
   "cell_type": "markdown",
   "id": "ea1efdac",
   "metadata": {},
   "source": [
    "Comando para rodar o GraphHopper no terminal - atenção para o PBF a ser carregado:\n",
    "\n",
    "**PBF da Rede 2019; custom model ajustado (LTS)**\n",
    "\n",
    "clear && cd /home/livre/Desktop/Base_GtsRegionais/GitLab/yellow_src/graphhopper/ && rm -rf graph-cache/ && java -Ddw.graphhopper.datareader.file=/home/livre/Desktop/Base_GtsRegionais/GitLab/yellow_dados/07_graphhopper/03_PBFs_SP_rede_2019/20220216_sao_paulo_edited_20230521_A_infraciclo_atual.osm.pbf -jar graphhopper/web/target/graphhopper-web-*.jar server graphhopper/config-example_LTS.yml"
   ]
  },
  {
   "cell_type": "code",
   "execution_count": 6,
   "id": "10f2749b",
   "metadata": {},
   "outputs": [],
   "source": [
    "# carregar bibliotecas\n",
    "suppressPackageStartupMessages(library('tidyverse'))\n",
    "suppressPackageStartupMessages(library('tidylog'))\n",
    "suppressPackageStartupMessages(library('sf'))\n",
    "suppressPackageStartupMessages(library('httr'))\n",
    "suppressPackageStartupMessages(library('jsonlite'))"
   ]
  },
  {
   "cell_type": "code",
   "execution_count": 2,
   "id": "4a569b5a",
   "metadata": {},
   "outputs": [
    {
     "name": "stderr",
     "output_type": "stream",
     "text": [
      "Loading required package: future\n",
      "\n"
     ]
    },
    {
     "data": {
      "text/html": [
       "TRUE"
      ],
      "text/latex": [
       "TRUE"
      ],
      "text/markdown": [
       "TRUE"
      ],
      "text/plain": [
       "[1] TRUE"
      ]
     },
     "metadata": {},
     "output_type": "display_data"
    }
   ],
   "source": [
    "# Aplicar funcoes em paralelo\n",
    "library('future.apply')\n",
    "# Checando: Jupyter suporta multicore?\n",
    "future::supportsMulticore()"
   ]
  },
  {
   "cell_type": "code",
   "execution_count": 3,
   "id": "42e50949",
   "metadata": {},
   "outputs": [
    {
     "data": {
      "text/html": [
       "<strong>system:</strong> 8"
      ],
      "text/latex": [
       "\\textbf{system:} 8"
      ],
      "text/markdown": [
       "**system:** 8"
      ],
      "text/plain": [
       "system \n",
       "     8 "
      ]
     },
     "metadata": {},
     "output_type": "display_data"
    }
   ],
   "source": [
    "# https://stackoverflow.com/questions/40536067/how-to-adjust-future-global-maxsize\n",
    "# For 850MB: 850*1024^2 = 891289600\n",
    "# For +1.3GB: 1500*1024^2 = 1572864000\n",
    "# options(future.globals.maxSize = 891289600)\n",
    "options(future.globals.maxSize = 5e6) # 5 MB\n",
    "options(future.globals.maxSize = 50*1024^2) # 50 MB\n",
    "parallelly::availableCores()"
   ]
  },
  {
   "cell_type": "code",
   "execution_count": 4,
   "id": "cedd9055",
   "metadata": {},
   "outputs": [],
   "source": [
    "# Estrutura de pastas\n",
    "pasta_dados       <- \"../../yellow_dados\"\n",
    "dados_originais   <- sprintf(\"%s/00_dados_originais/IPEA\", pasta_dados)\n",
    "pasta_aop_rev     <- sprintf(\"%s/12_aop_revisitado\", pasta_dados)\n",
    "pasta_aoprev_hex  <- sprintf(\"%s/01_hexagonos_26_vizinhos\", pasta_aop_rev)\n",
    "pasta_aoprv_teste <- sprintf(\"%s/02_teste_aop_alternatives\", pasta_aop_rev)\n",
    "pasta_osmids_aopt <- sprintf(\"%s/A_2019_osm_way_ids_aop\", pasta_aoprv_teste)\n",
    "pasta_rotas_aopt  <- sprintf(\"%s/B_2019_rotas_modeladas_alternatives\", pasta_aoprv_teste)\n",
    "dir.create(pasta_osmids_aopt, recursive = TRUE, showWarnings = FALSE)\n",
    "dir.create(pasta_rotas_aopt, recursive = TRUE, showWarnings = FALSE)"
   ]
  },
  {
   "cell_type": "code",
   "execution_count": 14,
   "id": "3d89a268",
   "metadata": {},
   "outputs": [],
   "source": [
    "# ------------------------------------------------------------------------------\n",
    "# Routing a partir de dois pontos com rotas alternativas (até 3 por par OD)\n",
    "# ------------------------------------------------------------------------------\n",
    "\n",
    "# Faz query de routing no GraphHopper e retorna resultados principais em dataframe,\n",
    "# com rotas até 3 alternativas por par OD - aceita um dataframe de uma linha como\n",
    "# entrada\n",
    "gh_route_alt <- function(hex_id) {\n",
    "  # url <- 'http://localhost:8989/route/?point=-23.5314933121698%2C-46.634354542765&point=-23.5390199310058%2C-46.6376369484305&profile=bike&instructions=false&calc_points=true&details=average_speed'\n",
    "  # url <- ods_vgs %>% slice(1) %>% select(url) %>% pull()\n",
    "  # Estação Vila Madalena: -23.546258,-46.690898\n",
    "  # IME: -23.559007,-46.73208\n",
    "  # CCSP: -23.571498,-46.639806\n",
    "    \n",
    "  # hex_id <- '89a81046b2fffff-89a81044d8fffff'\n",
    "  # hex_id <- hex_com_vizinhos %>% head(1) %>% select(id) %>% pull()\n",
    "  df_line <- hex_com_vizinhos %>% filter(id == hex_id)\n",
    "  # Encurtar hex_id - todos aqui são '89a81' + 6 caracteres de dígito ou letra = 'ffff'\n",
    "  hex_id_short <- str_replace(hex_id, '^89a81([a-z0-9]{6})ffff-89a81([a-z0-9]{6})ffff', '\\\\1-\\\\2')\n",
    "  hex_id_base  <- str_sub(hex_id_short, 1, 6)\n",
    "  \n",
    "  # Fazer a GET de roteamento no Grahphopper\n",
    "  # print(df_line$url)\n",
    "  gh_response <- GET(df_line$url)\n",
    "  \n",
    "  # Mensagem tem que ser \"Success: (200) OK\"\n",
    "  if (http_status(gh_response)$message == 'Success: (200) OK') {\n",
    "    \n",
    "    # Resposta da query, já colapsada e transformada em dataframe\n",
    "    # Remover aviso de 'No encoding supplied: defaulting to UTF-8' na linha fromJSON()\n",
    "    suppressMessages(\n",
    "      response_text <- \n",
    "        # Ignorar aviso 'argument is not an atomic vector; coercing'\n",
    "        suppressWarnings(str_c(content(gh_response, 'text'), collapse = \", \")) %>% \n",
    "        # Concatenar toda a string de resultados\n",
    "        str_c(\"[\", ., \"]\") %>% \n",
    "        # Transformar em dataframe\n",
    "        fromJSON() %>% \n",
    "        as.data.frame()\n",
    "    )\n",
    "    \n",
    "    # Nos interessa a coluna de 'paths', como um novo dataframe\n",
    "    paths <- response_text$paths %>% as.data.frame()\n",
    "    \n",
    "    # Puxar osm_way_ids dos resultados de cada alternativa e gravar em pasta separada\n",
    "    for (i in seq(1, length(paths$details$osm_way_id))) {\n",
    "      # i <- 1\n",
    "      osm_ways <- paths$details$osm_way_id[i] %>% as.data.frame()\n",
    "      \n",
    "      if (nrow(osm_ways) > 0) {\n",
    "        # Manter somente osm_ids e inserir número da rota alternativa\n",
    "        osm_ways <- osm_ways %>% select(osm_way_id = X3) %>% mutate(hex_id = hex_id_short,\n",
    "                                                                    alt = i,\n",
    "                                                                    index = row_number(),\n",
    "                                                                    .before = 'osm_way_id')\n",
    "        # Gravar resultados agrupados por hex_id_short de origem\n",
    "        osm_way_out <- sprintf('%s/%s.csv', pasta_osmids_aopt, hex_id_base)\n",
    "        if (file.exists(osm_way_out)) {\n",
    "          write_delim(osm_ways, osm_way_out, delim = ';', append = TRUE)\n",
    "        } else {\n",
    "          write_delim(osm_ways, osm_way_out, delim = ';', append = FALSE)\n",
    "        }\n",
    "        \n",
    "      } else {\n",
    "        # Se não há osm_way_ids, é porque os pontos estão muito próximos uns dos\n",
    "        # outros, mesmo que seja um osm_way_id diferente entre a origem e o \n",
    "        # destino. A distância e a velocidade calculadas vão ser zero também - \n",
    "        # pular este registro, que vai ser vazio\n",
    "        return(sprintf('Pulando: %s não tem osm_way_ids (provavelmente tem distância = 0)', hex_id))\n",
    "      }\n",
    "      \n",
    "    }\n",
    "    \n",
    "    \n",
    "    # Isolar colunas de interesse\n",
    "    paths <- \n",
    "      paths %>% \n",
    "      # Calcular tempo em segundos e velocidade média\n",
    "      mutate(time = time / 1000,\n",
    "             speed = distance / time * 3.6) %>% \n",
    "      # Descartar colunas extras - a coluna poly é o shape da rota traçada\n",
    "      select(distance, weight, time, speed, poly = points)\n",
    "    \n",
    "    # Testar polyline:\n",
    "    # https://valhalla.github.io/demos/polyline/?unescape=true&polyline6=false#%0A\n",
    "    \n",
    "    # Adicionar colunas de informação vindas do dataframe original\n",
    "    paths <- \n",
    "      paths %>% \n",
    "      mutate(hex_id    = hex_id_short,\n",
    "             alt       = row_number(),\n",
    "             # id_hex.x  = df_line$id_hex_x,\n",
    "             # id_hex.y  = df_line$id_hex_y,\n",
    "             .before = 'distance') #%>% \n",
    "    # mutate(lon.x     = df_line$lon.x,\n",
    "    #        lat.x     = df_line$lat.x,\n",
    "    #        lon.y     = df_line$lon.y,\n",
    "    #        lat.y     = df_line$lat.y,\n",
    "    #        .after = 'poly')\n",
    "    \n",
    "  } else {\n",
    "    \n",
    "    # Se a query no GraphHopper não deu resultados, guardar como dataframe vazio\n",
    "    paths <- data.frame(hex_id    = hex_id_short,\n",
    "                        alt       = NA,\n",
    "                        # id_hex.x  = df_line$id_hex_x,\n",
    "                        # id_hex.y  = df_line$id_hex_y,\n",
    "                        distance  = NA,\n",
    "                        weight    = NA,\n",
    "                        time      = NA,\n",
    "                        speed     = NA,\n",
    "                        poly      = NA\n",
    "                        # lon.x     = df_line$lon.x,\n",
    "                        # lat.x     = df_line$lat.x,\n",
    "                        # lon.y     = df_line$lon.y,\n",
    "                        # lat.y     = df_line$lat.y\n",
    "    )\n",
    "    \n",
    "  }\n",
    "  \n",
    "  # Guardar resultados temporários agrupados por hex_id_short de origem\n",
    "  tmp_file <- sprintf('%s/%s_modalt.csv', pasta_rotas_aopt, hex_id_base)\n",
    "  if (file.exists(tmp_file)) {\n",
    "    write_delim(paths, tmp_file, delim = ';', append = TRUE)\n",
    "  } else {\n",
    "    write_delim(paths, tmp_file, delim = ';', append = FALSE)\n",
    "  }\n",
    "  \n",
    "  # Guardar ids já processados em arquivo próprio\n",
    "  df_line <- df_line %>% select(id)\n",
    "  ids_processados <- sprintf('%s/tmp_00_ids_processados_2019.csv', pasta_aoprv_teste)\n",
    "  \n",
    "  if (file.exists(ids_processados)) {\n",
    "    write_delim(df_line, ids_processados, delim = ';', append = TRUE)\n",
    "  } else {\n",
    "    write_delim(df_line, ids_processados, delim = ';', append = FALSE)\n",
    "  }\n",
    "  \n",
    "}"
   ]
  },
  {
   "cell_type": "code",
   "execution_count": 7,
   "id": "0e1c0961",
   "metadata": {},
   "outputs": [
    {
     "name": "stderr",
     "output_type": "stream",
     "text": [
      "filter: removed 374,971 rows (96%), 15,059 rows remaining\n",
      "\n",
      "select: dropped 3 variables (abbrev_muni, name_muni, code_muni)\n",
      "\n",
      "Warning message in st_centroid.sf(hex_sp):\n",
      "“st_centroid assumes attributes are constant over geometries of x”\n",
      "Warning message in st_centroid.sfc(st_geometry(x), of_largest_polygon = of_largest_polygon):\n",
      "“st_centroid does not give correct centroids for longitude/latitude data”\n",
      "mutate: new variable 'centroides' (character) with 15,059 unique values and 0% NA\n",
      "\n",
      "filter: removed 374,971 rows (96%), 15,059 rows remaining\n",
      "\n",
      "select: dropped 4 variables (year, abbrev_muni, name_muni, code_muni)\n",
      "\n",
      "mutate: new variable 'oportunidades' (double) with 2,051 unique values and 0% NA\n",
      "\n",
      "select: dropped 17 variables (T001, T002, T003, T004, E001, …)\n",
      "\n",
      "filter: removed 374,971 rows (96%), 15,059 rows remaining\n",
      "\n",
      "select: dropped 4 variables (year, abbrev_muni, name_muni, code_muni)\n",
      "\n",
      "select: renamed one variable (populacao) and dropped 16 variables\n",
      "\n",
      "left_join: added one column (oportunidades)\n",
      "\n",
      "           > rows only in x        0\n",
      "\n",
      "           > rows only in y  (     0)\n",
      "\n",
      "           > matched rows     15,059\n",
      "\n",
      "           >                 ========\n",
      "\n",
      "           > rows total       15,059\n",
      "\n",
      "left_join: added one column (populacao)\n",
      "\n",
      "           > rows only in x        0\n",
      "\n",
      "           > rows only in y  (     0)\n",
      "\n",
      "           > matched rows     15,059\n",
      "\n",
      "           >                 ========\n",
      "\n",
      "           > rows total       15,059\n",
      "\n",
      "filter: removed 6,867 rows (46%), 8,192 rows remaining\n",
      "\n"
     ]
    },
    {
     "data": {
      "text/html": [
       "<table class=\"dataframe\">\n",
       "<caption>A tibble: 3 × 4</caption>\n",
       "<thead>\n",
       "\t<tr><th scope=col>id_hex</th><th scope=col>centroides</th><th scope=col>oportunidades</th><th scope=col>populacao</th></tr>\n",
       "\t<tr><th scope=col>&lt;chr&gt;</th><th scope=col>&lt;chr&gt;</th><th scope=col>&lt;dbl&gt;</th><th scope=col>&lt;dbl&gt;</th></tr>\n",
       "</thead>\n",
       "<tbody>\n",
       "\t<tr><td>89a8100d9d7ffff</td><td>c(-46.6243269389247, -23.5027719122434)</td><td>4696</td><td> 338</td></tr>\n",
       "\t<tr><td>89a8100986fffff</td><td>c(-46.4551023034772, -23.5780741727837)</td><td>  22</td><td> 488</td></tr>\n",
       "\t<tr><td>89a8103986fffff</td><td>c(-46.7502131069765, -23.4139123856488)</td><td>  45</td><td>2403</td></tr>\n",
       "</tbody>\n",
       "</table>\n"
      ],
      "text/latex": [
       "A tibble: 3 × 4\n",
       "\\begin{tabular}{llll}\n",
       " id\\_hex & centroides & oportunidades & populacao\\\\\n",
       " <chr> & <chr> & <dbl> & <dbl>\\\\\n",
       "\\hline\n",
       "\t 89a8100d9d7ffff & c(-46.6243269389247, -23.5027719122434) & 4696 &  338\\\\\n",
       "\t 89a8100986fffff & c(-46.4551023034772, -23.5780741727837) &   22 &  488\\\\\n",
       "\t 89a8103986fffff & c(-46.7502131069765, -23.4139123856488) &   45 & 2403\\\\\n",
       "\\end{tabular}\n"
      ],
      "text/markdown": [
       "\n",
       "A tibble: 3 × 4\n",
       "\n",
       "| id_hex &lt;chr&gt; | centroides &lt;chr&gt; | oportunidades &lt;dbl&gt; | populacao &lt;dbl&gt; |\n",
       "|---|---|---|---|\n",
       "| 89a8100d9d7ffff | c(-46.6243269389247, -23.5027719122434) | 4696 |  338 |\n",
       "| 89a8100986fffff | c(-46.4551023034772, -23.5780741727837) |   22 |  488 |\n",
       "| 89a8103986fffff | c(-46.7502131069765, -23.4139123856488) |   45 | 2403 |\n",
       "\n"
      ],
      "text/plain": [
       "  id_hex          centroides                              oportunidades\n",
       "1 89a8100d9d7ffff c(-46.6243269389247, -23.5027719122434) 4696         \n",
       "2 89a8100986fffff c(-46.4551023034772, -23.5780741727837)   22         \n",
       "3 89a8103986fffff c(-46.7502131069765, -23.4139123856488)   45         \n",
       "  populacao\n",
       "1  338     \n",
       "2  488     \n",
       "3 2403     "
      ]
     },
     "metadata": {},
     "output_type": "display_data"
    }
   ],
   "source": [
    "# ------------------------------------------------------------------------------\n",
    "# Agregar totais de população e oportunidades aos hexágonos\n",
    "# ------------------------------------------------------------------------------\n",
    "\n",
    "# Abrir hexágonos para SP à resolução 9, com distância de ~350m entre os vértices\n",
    "hex_sp <- read_sf(sprintf(\"%s/aop_hex_grid_v2.gpkg\", dados_originais))\n",
    "hex_sp <- hex_sp %>% filter(abbrev_muni == 'spo') %>% select(-c(abbrev_muni, name_muni, code_muni))\n",
    "\n",
    "# Tratar como dataframe e selecionar somente colunas de interesse\n",
    "hex_sp <- st_centroid(hex_sp) %>% mutate(centroides = as.character(geom)) %>% st_drop_geometry()\n",
    "\n",
    "# Oportunidades por hexágono\n",
    "# https://ipeagit.github.io/aopdata/reference/read_landuse.html\n",
    "open_file <- sprintf('%s/aop_landuse_2019_v2.csv', dados_originais)\n",
    "dados_ipea <- read_delim(open_file, delim = ',', col_types = \"cccccddddddddddddddddd\")\n",
    "dados_ipea <- dados_ipea %>% filter(abbrev_muni == 'spo') %>% select(-c(year, abbrev_muni, name_muni, code_muni))\n",
    "# Deixar só totais de oportunidades\n",
    "dados_ipea <- dados_ipea %>% mutate(oportunidades = T001 + E001 + M001 + S001 + C001) %>% select(id_hex, oportunidades)\n",
    "# head(dados_ipea)\n",
    "\n",
    "# População por hexágono\n",
    "# https://ipeagit.github.io/aopdata/reference/read_landuse.html\n",
    "open_file <- sprintf('%s/aop_population_2010_v2.csv', dados_originais)\n",
    "dados_ipea_pop <- read_delim(open_file, delim = ',', col_types = \"cccccddddddddddddddddd\")\n",
    "dados_ipea_pop <- dados_ipea_pop %>% filter(abbrev_muni == 'spo') %>% select(-c(year, abbrev_muni, name_muni, code_muni))\n",
    "# Deixar neste momento só dados totais da população\n",
    "dados_ipea_pop <- dados_ipea_pop %>% select(id_hex, populacao = P001)\n",
    "# head(dados_ipea_pop)\n",
    "\n",
    "# Juntar dados de oportunidades e população\n",
    "hex_sp <- \n",
    "  hex_sp %>% \n",
    "  left_join(dados_ipea, by = 'id_hex') %>% \n",
    "  left_join(dados_ipea_pop, by = 'id_hex')\n",
    "\n",
    "# Hexágonos sem oportunidade e sem população devem ser descartados\n",
    "hex_sp <- hex_sp %>% filter(oportunidades > 0 & populacao > 0)\n",
    "head(hex_sp, 3)"
   ]
  },
  {
   "cell_type": "code",
   "execution_count": 8,
   "id": "3750f914",
   "metadata": {},
   "outputs": [
    {
     "name": "stderr",
     "output_type": "stream",
     "text": [
      "select: dropped 6 variables (x, y, z, u, oportunidades, …)\n",
      "\n",
      "left_join: added 2 columns (lat, lon)\n",
      "\n",
      "           > rows only in x   14,461,902\n",
      "\n",
      "           > rows only in y  (         0)\n",
      "\n",
      "           > matched rows     17,252,352\n",
      "\n",
      "           >                 ============\n",
      "\n",
      "           > rows total       31,714,254\n",
      "\n",
      "left_join: added 4 columns (lat.x, lon.x, lat.y, lon.y)\n",
      "\n",
      "           > rows only in x   17,868,248\n",
      "\n",
      "           > rows only in y  (         0)\n",
      "\n",
      "           > matched rows     13,846,006\n",
      "\n",
      "           >                 ============\n",
      "\n",
      "           > rows total       31,714,254\n",
      "\n",
      "filter: removed 17,868,248 rows (56%), 13,846,006 rows remaining\n",
      "\n",
      "filter: removed 2,934,440 rows (21%), 10,911,566 rows remaining\n",
      "\n"
     ]
    },
    {
     "data": {
      "text/html": [
       "10911566"
      ],
      "text/latex": [
       "10911566"
      ],
      "text/markdown": [
       "10911566"
      ],
      "text/plain": [
       "[1] 10911566"
      ]
     },
     "metadata": {},
     "output_type": "display_data"
    }
   ],
   "source": [
    "# ------------------------------------------------------------------------------\n",
    "# Gerar latlong para as origens e destinos (centroides dos hexágonos)\n",
    "# ------------------------------------------------------------------------------\n",
    "\n",
    "# Separar coluna de centroides em latlon\n",
    "hex_sp <-\n",
    "  hex_sp %>%\n",
    "  separate(centroides, '[c\\\\(\\\\), )]', into = c('x', 'y', 'lon', 'z', 'lat', 'u')) %>%\n",
    "  select(id_hex, lat, lon)\n",
    "\n",
    "# hex_sp %>% filter(is.na(lat) | is.na(lon))\n",
    "\n",
    "# Abrir hexágonos para SP combinados com vizinhos\n",
    "hex_com_vizinhos <- sprintf(\"%s/hex_spo_res09_26vizinhos.csv\", pasta_aoprev_hex)\n",
    "hex_com_vizinhos <- read_delim(hex_com_vizinhos, delim = ';', col_types = cols(.default = \"c\"))\n",
    "\n",
    "# Juntar hexágonos de origem e destino às cordenadas latlong de seus centroides\n",
    "hex_com_vizinhos <-\n",
    "  hex_com_vizinhos %>%\n",
    "  left_join(hex_sp, by = c('id_hex_x' = 'id_hex')) %>%\n",
    "  left_join(hex_sp, by = c('id_hex_y' = 'id_hex'))\n",
    "\n",
    "# Remover hexágonos vizinhos que estão fora do shape de São Paulo\n",
    "hex_com_vizinhos <- hex_com_vizinhos %>% filter(!is.na(lat.y) & !is.na(lon.y))\n",
    "hex_com_vizinhos <- hex_com_vizinhos %>% filter(!is.na(lat.x) & !is.na(lon.x))\n",
    "# 10911566 / 1267988 = 8.6 vezes as queries com resolução 8\n",
    "nrow(hex_com_vizinhos)\n",
    "\n",
    "# Limpar ambiente\n",
    "rm(hex_sp, dados_ipea, dados_ipea_pop)"
   ]
  },
  {
   "cell_type": "code",
   "execution_count": 10,
   "id": "68920271",
   "metadata": {},
   "outputs": [
    {
     "name": "stderr",
     "output_type": "stream",
     "text": [
      "filter: removed 10,909,452 rows (>99%), 2,114 rows remaining\n",
      "\n",
      "mutate: new variable 'url' (character) with 2,114 unique values and 0% NA\n",
      "\n",
      "mutate: new variable 'id' (character) with 2,114 unique values and 0% NA\n",
      "\n",
      "select: dropped 6 variables (id_hex_x, id_hex_y, lat.x, lon.x, lat.y, …)\n",
      "\n"
     ]
    },
    {
     "data": {
      "text/html": [
       "<table class=\"dataframe\">\n",
       "<caption>A tibble: 3 × 2</caption>\n",
       "<thead>\n",
       "\t<tr><th scope=col>id</th><th scope=col>url</th></tr>\n",
       "\t<tr><th scope=col>&lt;chr&gt;</th><th scope=col>&lt;chr&gt;</th></tr>\n",
       "</thead>\n",
       "<tbody>\n",
       "\t<tr><td>89a81044d93ffff-89a81046b67ffff</td><td>http://localhost:8989/route/?point=-23.5484803103983%2C-46.3960561003811&amp;point=-23.5501510338434%2C-46.3930422919616&amp;profile=bike&amp;instructions=false&amp;calc_points=true&amp;algorithm=alternative_route&amp;details=osm_way_id</td></tr>\n",
       "\t<tr><td>89a81044d93ffff-89a81044d9bffff</td><td>http://localhost:8989/route/?point=-23.5484803103983%2C-46.3960561003811&amp;point=-23.5470831732102%2C-46.392953008774&amp;profile=bike&amp;instructions=false&amp;calc_points=true&amp;algorithm=alternative_route&amp;details=osm_way_id </td></tr>\n",
       "\t<tr><td>89a81044d93ffff-89a81044d83ffff</td><td>http://localhost:8989/route/?point=-23.5484803103983%2C-46.3960561003811&amp;point=-23.5454124015954%2C-46.3959668033778&amp;profile=bike&amp;instructions=false&amp;calc_points=true&amp;algorithm=alternative_route&amp;details=osm_way_id</td></tr>\n",
       "</tbody>\n",
       "</table>\n"
      ],
      "text/latex": [
       "A tibble: 3 × 2\n",
       "\\begin{tabular}{ll}\n",
       " id & url\\\\\n",
       " <chr> & <chr>\\\\\n",
       "\\hline\n",
       "\t 89a81044d93ffff-89a81046b67ffff & http://localhost:8989/route/?point=-23.5484803103983\\%2C-46.3960561003811\\&point=-23.5501510338434\\%2C-46.3930422919616\\&profile=bike\\&instructions=false\\&calc\\_points=true\\&algorithm=alternative\\_route\\&details=osm\\_way\\_id\\\\\n",
       "\t 89a81044d93ffff-89a81044d9bffff & http://localhost:8989/route/?point=-23.5484803103983\\%2C-46.3960561003811\\&point=-23.5470831732102\\%2C-46.392953008774\\&profile=bike\\&instructions=false\\&calc\\_points=true\\&algorithm=alternative\\_route\\&details=osm\\_way\\_id \\\\\n",
       "\t 89a81044d93ffff-89a81044d83ffff & http://localhost:8989/route/?point=-23.5484803103983\\%2C-46.3960561003811\\&point=-23.5454124015954\\%2C-46.3959668033778\\&profile=bike\\&instructions=false\\&calc\\_points=true\\&algorithm=alternative\\_route\\&details=osm\\_way\\_id\\\\\n",
       "\\end{tabular}\n"
      ],
      "text/markdown": [
       "\n",
       "A tibble: 3 × 2\n",
       "\n",
       "| id &lt;chr&gt; | url &lt;chr&gt; |\n",
       "|---|---|\n",
       "| 89a81044d93ffff-89a81046b67ffff | http://localhost:8989/route/?point=-23.5484803103983%2C-46.3960561003811&amp;point=-23.5501510338434%2C-46.3930422919616&amp;profile=bike&amp;instructions=false&amp;calc_points=true&amp;algorithm=alternative_route&amp;details=osm_way_id |\n",
       "| 89a81044d93ffff-89a81044d9bffff | http://localhost:8989/route/?point=-23.5484803103983%2C-46.3960561003811&amp;point=-23.5470831732102%2C-46.392953008774&amp;profile=bike&amp;instructions=false&amp;calc_points=true&amp;algorithm=alternative_route&amp;details=osm_way_id  |\n",
       "| 89a81044d93ffff-89a81044d83ffff | http://localhost:8989/route/?point=-23.5484803103983%2C-46.3960561003811&amp;point=-23.5454124015954%2C-46.3959668033778&amp;profile=bike&amp;instructions=false&amp;calc_points=true&amp;algorithm=alternative_route&amp;details=osm_way_id |\n",
       "\n"
      ],
      "text/plain": [
       "  id                             \n",
       "1 89a81044d93ffff-89a81046b67ffff\n",
       "2 89a81044d93ffff-89a81044d9bffff\n",
       "3 89a81044d93ffff-89a81044d83ffff\n",
       "  url                                                                                                                                                                                                                 \n",
       "1 http://localhost:8989/route/?point=-23.5484803103983%2C-46.3960561003811&point=-23.5501510338434%2C-46.3930422919616&profile=bike&instructions=false&calc_points=true&algorithm=alternative_route&details=osm_way_id\n",
       "2 http://localhost:8989/route/?point=-23.5484803103983%2C-46.3960561003811&point=-23.5470831732102%2C-46.392953008774&profile=bike&instructions=false&calc_points=true&algorithm=alternative_route&details=osm_way_id \n",
       "3 http://localhost:8989/route/?point=-23.5484803103983%2C-46.3960561003811&point=-23.5454124015954%2C-46.3959668033778&profile=bike&instructions=false&calc_points=true&algorithm=alternative_route&details=osm_way_id"
      ]
     },
     "metadata": {},
     "output_type": "display_data"
    }
   ],
   "source": [
    "# ------------------------------------------------------------------------------\n",
    "# Routing a partir de dois pontos\n",
    "# ------------------------------------------------------------------------------\n",
    "\n",
    "# Para o primeiro teste, queremos apenas dois hexágonos da zona leste\n",
    "# filter: removed 10,909,452 rows (>99%), 2,114 rows remaining\n",
    "hex_com_vizinhos <- hex_com_vizinhos %>% filter(id_hex_x == '89a81046b2fffff' | id_hex_x == '89a81044d93ffff')\n",
    "# hex_com_vizinhos %>% filter(id_hex_x == id_hex_y)\n",
    "# head(hex_com_vizinhos)\n",
    "\n",
    "# Criar coluna com URL para GET no GraphHopper\n",
    "route_options <- '&profile=bike&instructions=false&calc_points=true&algorithm=alternative_route&details=osm_way_id'\n",
    "\n",
    "hex_com_vizinhos <- \n",
    "  hex_com_vizinhos %>% \n",
    "  mutate(url = paste('http://localhost:8989/route/?point=', \n",
    "                     lat.x, '%2C', lon.x, '&point=', \n",
    "                     lat.y, '%2C', lon.y, route_options,\n",
    "                     sep = ''))\n",
    "\n",
    "\n",
    "# Criar uma coluna de id\n",
    "hex_com_vizinhos <- hex_com_vizinhos %>% mutate(id = str_c(id_hex_x, id_hex_y, sep = '-'), .before = 'id_hex_x')\n",
    "hex_com_vizinhos <- hex_com_vizinhos %>% select(id, url)\n",
    "head(hex_com_vizinhos, 3)\n",
    "\n",
    "\n",
    "# Guardar resultados - base integral\n",
    "out_file <- sprintf('%s/00_base_para_teste_routing_res09_26vizinhos.csv', pasta_aoprv_teste)\n",
    "write_delim(hex_com_vizinhos, out_file, delim = ';')"
   ]
  },
  {
   "cell_type": "code",
   "execution_count": null,
   "id": "7a8b5f80",
   "metadata": {},
   "outputs": [],
   "source": [
    "# # Checar quais resultados já foram rodados - abrir lista, puxar ids e remover\n",
    "# # do dataframe hex_com_vizinhos se houver\n",
    "# # library('tidylog')\n",
    "# arqs_resultados <- data.frame(arq = list.files(pasta_rotas_aopt, recursive = FALSE, full.names = FALSE))\n",
    "# arqs_resultados <- arqs_resultados %>% mutate(hex_id = str_replace(arq, '_modalt.csv', ''))\n",
    "# hex_com_vizinhos <- hex_com_vizinhos %>% filter(!id %in% arqs_resultados$hex_id)\n",
    "# rm(arqs_resultados)"
   ]
  },
  {
   "cell_type": "code",
   "execution_count": 16,
   "id": "44cd792a",
   "metadata": {},
   "outputs": [
    {
     "data": {
      "text/html": [
       "<table class=\"dataframe\">\n",
       "<caption>A matrix: 2 × 6 of type dbl</caption>\n",
       "<thead>\n",
       "\t<tr><th></th><th scope=col>used</th><th scope=col>(Mb)</th><th scope=col>gc trigger</th><th scope=col>(Mb)</th><th scope=col>max used</th><th scope=col>(Mb)</th></tr>\n",
       "</thead>\n",
       "<tbody>\n",
       "\t<tr><th scope=row>Ncells</th><td>1228532</td><td>65.7</td><td>  3912705</td><td> 209</td><td>  7642001</td><td> 408.2</td></tr>\n",
       "\t<tr><th scope=row>Vcells</th><td>2775695</td><td>21.2</td><td>374208010</td><td>2855</td><td>584700014</td><td>4461.0</td></tr>\n",
       "</tbody>\n",
       "</table>\n"
      ],
      "text/latex": [
       "A matrix: 2 × 6 of type dbl\n",
       "\\begin{tabular}{r|llllll}\n",
       "  & used & (Mb) & gc trigger & (Mb) & max used & (Mb)\\\\\n",
       "\\hline\n",
       "\tNcells & 1228532 & 65.7 &   3912705 &  209 &   7642001 &  408.2\\\\\n",
       "\tVcells & 2775695 & 21.2 & 374208010 & 2855 & 584700014 & 4461.0\\\\\n",
       "\\end{tabular}\n"
      ],
      "text/markdown": [
       "\n",
       "A matrix: 2 × 6 of type dbl\n",
       "\n",
       "| <!--/--> | used | (Mb) | gc trigger | (Mb) | max used | (Mb) |\n",
       "|---|---|---|---|---|---|---|\n",
       "| Ncells | 1228532 | 65.7 |   3912705 |  209 |   7642001 |  408.2 |\n",
       "| Vcells | 2775695 | 21.2 | 374208010 | 2855 | 584700014 | 4461.0 |\n",
       "\n"
      ],
      "text/plain": [
       "       used    (Mb) gc trigger (Mb) max used  (Mb)  \n",
       "Ncells 1228532 65.7   3912705   209   7642001  408.2\n",
       "Vcells 2775695 21.2 374208010  2855 584700014 4461.0"
      ]
     },
     "metadata": {},
     "output_type": "display_data"
    },
    {
     "data": {
      "text/html": [
       "<table class=\"dataframe\">\n",
       "<caption>A tibble: 2 × 2</caption>\n",
       "<thead>\n",
       "\t<tr><th scope=col>id</th><th scope=col>url</th></tr>\n",
       "\t<tr><th scope=col>&lt;chr&gt;</th><th scope=col>&lt;chr&gt;</th></tr>\n",
       "</thead>\n",
       "<tbody>\n",
       "\t<tr><td>89a81044d93ffff-89a81046b67ffff</td><td>http://localhost:8989/route/?point=-23.5484803103983%2C-46.3960561003811&amp;point=-23.5501510338434%2C-46.3930422919616&amp;profile=bike&amp;instructions=false&amp;calc_points=true&amp;algorithm=alternative_route&amp;details=osm_way_id</td></tr>\n",
       "\t<tr><td>89a81044d93ffff-89a81044d9bffff</td><td>http://localhost:8989/route/?point=-23.5484803103983%2C-46.3960561003811&amp;point=-23.5470831732102%2C-46.392953008774&amp;profile=bike&amp;instructions=false&amp;calc_points=true&amp;algorithm=alternative_route&amp;details=osm_way_id </td></tr>\n",
       "</tbody>\n",
       "</table>\n"
      ],
      "text/latex": [
       "A tibble: 2 × 2\n",
       "\\begin{tabular}{ll}\n",
       " id & url\\\\\n",
       " <chr> & <chr>\\\\\n",
       "\\hline\n",
       "\t 89a81044d93ffff-89a81046b67ffff & http://localhost:8989/route/?point=-23.5484803103983\\%2C-46.3960561003811\\&point=-23.5501510338434\\%2C-46.3930422919616\\&profile=bike\\&instructions=false\\&calc\\_points=true\\&algorithm=alternative\\_route\\&details=osm\\_way\\_id\\\\\n",
       "\t 89a81044d93ffff-89a81044d9bffff & http://localhost:8989/route/?point=-23.5484803103983\\%2C-46.3960561003811\\&point=-23.5470831732102\\%2C-46.392953008774\\&profile=bike\\&instructions=false\\&calc\\_points=true\\&algorithm=alternative\\_route\\&details=osm\\_way\\_id \\\\\n",
       "\\end{tabular}\n"
      ],
      "text/markdown": [
       "\n",
       "A tibble: 2 × 2\n",
       "\n",
       "| id &lt;chr&gt; | url &lt;chr&gt; |\n",
       "|---|---|\n",
       "| 89a81044d93ffff-89a81046b67ffff | http://localhost:8989/route/?point=-23.5484803103983%2C-46.3960561003811&amp;point=-23.5501510338434%2C-46.3930422919616&amp;profile=bike&amp;instructions=false&amp;calc_points=true&amp;algorithm=alternative_route&amp;details=osm_way_id |\n",
       "| 89a81044d93ffff-89a81044d9bffff | http://localhost:8989/route/?point=-23.5484803103983%2C-46.3960561003811&amp;point=-23.5470831732102%2C-46.392953008774&amp;profile=bike&amp;instructions=false&amp;calc_points=true&amp;algorithm=alternative_route&amp;details=osm_way_id  |\n",
       "\n"
      ],
      "text/plain": [
       "  id                             \n",
       "1 89a81044d93ffff-89a81046b67ffff\n",
       "2 89a81044d93ffff-89a81044d9bffff\n",
       "  url                                                                                                                                                                                                                 \n",
       "1 http://localhost:8989/route/?point=-23.5484803103983%2C-46.3960561003811&point=-23.5501510338434%2C-46.3930422919616&profile=bike&instructions=false&calc_points=true&algorithm=alternative_route&details=osm_way_id\n",
       "2 http://localhost:8989/route/?point=-23.5484803103983%2C-46.3960561003811&point=-23.5470831732102%2C-46.392953008774&profile=bike&instructions=false&calc_points=true&algorithm=alternative_route&details=osm_way_id "
      ]
     },
     "metadata": {},
     "output_type": "display_data"
    },
    {
     "data": {
      "text/html": [
       "2114"
      ],
      "text/latex": [
       "2114"
      ],
      "text/markdown": [
       "2114"
      ],
      "text/plain": [
       "[1] 2114"
      ]
     },
     "metadata": {},
     "output_type": "display_data"
    }
   ],
   "source": [
    "# Arquivos já processados\n",
    "ids_processados <- sprintf('%s/tmp_00_ids_processados_2019.csv', pasta_aoprv_teste)\n",
    "\n",
    "# Checar quais resultados já foram rodados - abrir lista, puxar ids e remover\n",
    "# do dataframe hex_com_vizinhos se houver\n",
    "# library('tidylog')\n",
    "if (file.exists(ids_processados)) {\n",
    "  arqs_resultados  <- read_delim(ids_processados, delim = ';', col_types = \"c\")\n",
    "  hex_com_vizinhos <- hex_com_vizinhos %>% filter(!id %in% arqs_resultados$id)\n",
    "  rm(arqs_resultados)\n",
    "  print(nrow(hex_com_vizinhos))\n",
    "}\n",
    "\n",
    "# Limpar memória\n",
    "gc(T)\n",
    "\n",
    "head(hex_com_vizinhos, 2)\n",
    "nrow(hex_com_vizinhos)"
   ]
  },
  {
   "cell_type": "code",
   "execution_count": 11,
   "id": "a6f1c7ad",
   "metadata": {},
   "outputs": [],
   "source": [
    "# Para cada linha de origem e destino, gerar rotas modeladas com alternativas\n",
    "detach(\"package:tidylog\")"
   ]
  },
  {
   "cell_type": "code",
   "execution_count": 17,
   "id": "2e54be98",
   "metadata": {},
   "outputs": [
    {
     "data": {
      "text/plain": [
       "[1] \"2024-06-09 14:14:35 -03\""
      ]
     },
     "metadata": {},
     "output_type": "display_data"
    },
    {
     "data": {
      "text/plain": [
       "[1] \"2024-06-09 14:15:12 -03\""
      ]
     },
     "metadata": {},
     "output_type": "display_data"
    },
    {
     "data": {
      "text/plain": [
       "Time difference of 37.45399 secs"
      ]
     },
     "metadata": {},
     "output_type": "display_data"
    },
    {
     "data": {
      "text/html": [
       "<table class=\"dataframe\">\n",
       "<caption>A matrix: 2 × 6 of type dbl</caption>\n",
       "<thead>\n",
       "\t<tr><th></th><th scope=col>used</th><th scope=col>(Mb)</th><th scope=col>gc trigger</th><th scope=col>(Mb)</th><th scope=col>max used</th><th scope=col>(Mb)</th></tr>\n",
       "</thead>\n",
       "<tbody>\n",
       "\t<tr><th scope=row>Ncells</th><td>1280377</td><td>68.4</td><td>  3912705</td><td> 209</td><td>  7642001</td><td> 408.2</td></tr>\n",
       "\t<tr><th scope=row>Vcells</th><td>2829619</td><td>21.6</td><td>299366408</td><td>2284</td><td>584700014</td><td>4461.0</td></tr>\n",
       "</tbody>\n",
       "</table>\n"
      ],
      "text/latex": [
       "A matrix: 2 × 6 of type dbl\n",
       "\\begin{tabular}{r|llllll}\n",
       "  & used & (Mb) & gc trigger & (Mb) & max used & (Mb)\\\\\n",
       "\\hline\n",
       "\tNcells & 1280377 & 68.4 &   3912705 &  209 &   7642001 &  408.2\\\\\n",
       "\tVcells & 2829619 & 21.6 & 299366408 & 2284 & 584700014 & 4461.0\\\\\n",
       "\\end{tabular}\n"
      ],
      "text/markdown": [
       "\n",
       "A matrix: 2 × 6 of type dbl\n",
       "\n",
       "| <!--/--> | used | (Mb) | gc trigger | (Mb) | max used | (Mb) |\n",
       "|---|---|---|---|---|---|---|\n",
       "| Ncells | 1280377 | 68.4 |   3912705 |  209 |   7642001 |  408.2 |\n",
       "| Vcells | 2829619 | 21.6 | 299366408 | 2284 | 584700014 | 4461.0 |\n",
       "\n"
      ],
      "text/plain": [
       "       used    (Mb) gc trigger (Mb) max used  (Mb)  \n",
       "Ncells 1280377 68.4   3912705   209   7642001  408.2\n",
       "Vcells 2829619 21.6 299366408  2284 584700014 4461.0"
      ]
     },
     "metadata": {},
     "output_type": "display_data"
    }
   ],
   "source": [
    "# Criar ttmatrix a partir do GrahHopper - melhor rodar no Jupyter se for AOP;\n",
    "# se forem só as rotas originais, é ok rodar no RStudio\n",
    "# for (id in hex_com_vizinhos$id) { gh_route_alt(id) }\n",
    "# Rodar função para todos os arquivos- multi thread (Jupyter)\n",
    "(start = Sys.time())\n",
    "future::plan(future::multicore)\n",
    "invisible(future.apply::future_lapply(X   = hex_com_vizinhos$id,\n",
    "                                    FUN = gh_route_alt,\n",
    "                                    future.seed = TRUE))\n",
    "Sys.time()\n",
    "Sys.time() - start\n",
    "\n",
    "# Limpar memória\n",
    "rm(hex_com_vizinhos)  \n",
    "gc(T)"
   ]
  },
  {
   "cell_type": "code",
   "execution_count": null,
   "id": "a5cb872b",
   "metadata": {},
   "outputs": [],
   "source": []
  }
 ],
 "metadata": {
  "kernelspec": {
   "display_name": "R [conda env:r4_env]",
   "language": "R",
   "name": "conda-env-r4_env-r"
  },
  "language_info": {
   "codemirror_mode": "r",
   "file_extension": ".r",
   "mimetype": "text/x-r-source",
   "name": "R",
   "pygments_lexer": "r",
   "version": "4.0.5"
  }
 },
 "nbformat": 4,
 "nbformat_minor": 5
}
