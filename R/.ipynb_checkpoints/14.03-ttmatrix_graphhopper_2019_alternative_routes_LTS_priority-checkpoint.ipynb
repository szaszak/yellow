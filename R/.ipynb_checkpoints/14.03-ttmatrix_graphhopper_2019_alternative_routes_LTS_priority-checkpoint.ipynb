{
 "cells": [
  {
   "cell_type": "markdown",
   "id": "3dee4731",
   "metadata": {},
   "source": [
    "### Comando para rodar o GraphHopper no terminal - atenção para o PBF a ser carregado:\n",
    "\n",
    "PBF da Rede 2024; custom model ajustado (LTS) com priority para cycleways e lcn\n",
    "\n",
    "clear && cd /home/livre/Desktop/Base_GtsRegionais/GitLab/yellow_src/graphhopper/ && rm -rf graph-cache/ && java -Ddw.graphhopper.datareader.file=/home/livre/Desktop/Base_GtsRegionais/GitLab/yellow_dados/07_graphhopper/03_PBFs_SP_rede_2019/20220216_sao_paulo_edited_20230521_A_infraciclo_atual.osm.pbf -jar graphhopper/web/target/graphhopper-web-*.jar server graphhopper/config-example_LTS_priority_cycleway_lcn.yml"
   ]
  },
  {
   "cell_type": "code",
   "execution_count": 1,
   "id": "3525bebd",
   "metadata": {},
   "outputs": [
    {
     "name": "stderr",
     "output_type": "stream",
     "text": [
      "Carregando pacotes exigidos: future\n",
      "\n"
     ]
    }
   ],
   "source": [
    "suppressPackageStartupMessages(library('tidyverse'))\n",
    "suppressPackageStartupMessages(library('tidylog'))\n",
    "suppressPackageStartupMessages(library('httr'))\n",
    "suppressPackageStartupMessages(library('jsonlite'))\n",
    "# Aplicar funcoes em paralelo\n",
    "library('future.apply')"
   ]
  },
  {
   "cell_type": "code",
   "execution_count": 2,
   "id": "b65057af",
   "metadata": {},
   "outputs": [
    {
     "data": {
      "text/html": [
       "TRUE"
      ],
      "text/latex": [
       "TRUE"
      ],
      "text/markdown": [
       "TRUE"
      ],
      "text/plain": [
       "[1] TRUE"
      ]
     },
     "metadata": {},
     "output_type": "display_data"
    }
   ],
   "source": [
    "# Checando: Jupyter suporta multicore?\n",
    "future::supportsMulticore()"
   ]
  },
  {
   "cell_type": "code",
   "execution_count": 3,
   "id": "1410dd1d",
   "metadata": {},
   "outputs": [
    {
     "data": {
      "text/html": [
       "<strong>system:</strong> 8"
      ],
      "text/latex": [
       "\\textbf{system:} 8"
      ],
      "text/markdown": [
       "**system:** 8"
      ],
      "text/plain": [
       "system \n",
       "     8 "
      ]
     },
     "metadata": {},
     "output_type": "display_data"
    }
   ],
   "source": [
    "# https://stackoverflow.com/questions/40536067/how-to-adjust-future-global-maxsize\n",
    "# For 850MB: 850*1024^2 = 891289600\n",
    "# For +1.3GB: 1500*1024^2 = 1572864000\n",
    "# options(future.globals.maxSize = 891289600)\n",
    "options(future.globals.maxSize = 5e6) # 5 MB\n",
    "options(future.globals.maxSize = 50*1024^2) # 50 MB\n",
    "parallelly::availableCores()"
   ]
  },
  {
   "cell_type": "code",
   "execution_count": 4,
   "id": "8ca1502d",
   "metadata": {},
   "outputs": [],
   "source": [
    "# Estrutura de pastas\n",
    "pasta_dados        <- \"../../yellow_dados\"\n",
    "pasta_orig_vs_mod  <- sprintf('%s/10_rotas_originais_vs_modeladas', pasta_dados)\n",
    "pasta_orig_way_ids <- sprintf(\"%s/01_osm_way_ids_rotas_modeladas\", pasta_orig_vs_mod)\n",
    "# Pasta para novos testes com modelo de priority\n",
    "pasta_aop_2024_2028  <- sprintf(\"%s/14_aop_2024_2028\", pasta_dados)\n",
    "pasta_lts_priority   <- sprintf(\"%s/02_teste_lts_priority\", pasta_aop_2024_2028)\n",
    "pasta_osm_way_ids  <- sprintf(\"%s/01_osm_way_ids_rotas_modeladas\", pasta_lts_priority)\n",
    "pasta_rotas_modalt <- sprintf(\"%s/02_rotas_modeladas_alternatives\", pasta_lts_priority)\n",
    "dir.create(pasta_osm_way_ids, recursive = TRUE, showWarnings = FALSE)\n",
    "dir.create(pasta_rotas_modalt, recursive = TRUE, showWarnings = FALSE)"
   ]
  },
  {
   "cell_type": "code",
   "execution_count": 5,
   "id": "6f97930c",
   "metadata": {},
   "outputs": [],
   "source": [
    "# ------------------------------------------------------------------------------\n",
    "# Routing a partir de dois pontos com rotas alternativas (até 3 por par OD)\n",
    "# ------------------------------------------------------------------------------\n",
    "\n",
    "# Faz query de routing no GraphHopper e retorna resultados principais em dataframe,\n",
    "# com rotas até 3 alternativas por par OD - aceita um dataframe de uma linha como\n",
    "# entrada\n",
    "gh_route_alt <- function(tripid, out_file, route_options) {\n",
    "  # url <- 'http://localhost:8989/route/?point=-23.5314933121698%2C-46.634354542765&point=-23.5390199310058%2C-46.6376369484305&profile=bike&instructions=false&calc_points=true&details=average_speed'\n",
    "  # url <- ods_vgs %>% slice(1) %>% select(url) %>% pull()\n",
    "  # Estação Vila Madalena: -23.546258,-46.690898\n",
    "  # IME: -23.559007,-46.73208\n",
    "  # CCSP: -23.571498,-46.639806\n",
    "  \n",
    "  # df_line$url <- paste('http://localhost:8989/route/?point=', \n",
    "  # '-23.541504', '%2C', '-46.685779', '&point=', \n",
    "  # '-23.571498', '%2C', '-46.639806', route_options,\n",
    "  # sep = '')\n",
    "  \n",
    "  # df_line <- ods_vgs %>% slice(1)\n",
    "  df_line <- ods_vgs %>% filter(trip_id == tripid)\n",
    "  \n",
    "  # Fazer a GET de roteamento no Grahphopper\n",
    "  # print(df_line$url)\n",
    "  gh_response <- GET(df_line$url)\n",
    "  \n",
    "  # Mensagem tem que ser \"Success: (200) OK\"\n",
    "  if (http_status(gh_response)$message == 'Success: (200) OK') {\n",
    "    \n",
    "    # Resposta da query, já colapsada e transformada em dataframe\n",
    "    # Remover aviso de 'No encoding supplied: defaulting to UTF-8' na linha fromJSON()\n",
    "    suppressMessages(\n",
    "      response_text <- \n",
    "        # Ignorar aviso 'argument is not an atomic vector; coercing'\n",
    "        suppressWarnings(str_c(content(gh_response, 'text'), collapse = \", \")) %>% \n",
    "        # Concatenar toda a string de resultados\n",
    "        str_c(\"[\", ., \"]\") %>% \n",
    "        # Transformar em dataframe\n",
    "        fromJSON() %>% \n",
    "        as.data.frame()\n",
    "    )\n",
    "    \n",
    "    # Nos interessa a coluna de 'paths', como um novo dataframe\n",
    "    paths <- response_text$paths %>% as.data.frame()\n",
    "    \n",
    "    # Puxar osm_way_ids dos resultados de cada alternativa e gravar em pasta separada\n",
    "    for (i in seq(1, length(paths$details$osm_way_id))) {\n",
    "      osm_ways <- paths$details$osm_way_id[i] %>% as.data.frame()\n",
    "      \n",
    "      if (nrow(osm_ways) > 0) {\n",
    "        # TODO: Inserir número da rota alternativa aqui\n",
    "        osm_ways <- osm_ways %>% mutate(index = row_number()) %>% select(index, osm_way_id = X3)\n",
    "        \n",
    "        # Gravar resultados\n",
    "        osm_way_out <- sprintf('%s/%s_%i.csv', pasta_osm_way_ids, df_line$trip_id, i)\n",
    "        write_delim(osm_ways, osm_way_out, delim = ';')\n",
    "        \n",
    "      } else {\n",
    "        # Se não há osm_way_ids, é porque os pontos estão muito próximos uns dos\n",
    "        # outros, mesmo que seja um osm_way_id diferente entre a origem e o \n",
    "        # destino. A distância e a velocidade calculadas vão ser zero também - \n",
    "        # pular este registro, que vai ser vazio\n",
    "        return(sprintf('Pulando: %s não tem osm_way_ids (provavelmente tem distância = 0)', tripid))\n",
    "      }\n",
    "      \n",
    "    }\n",
    "    \n",
    "    \n",
    "    # Isolar colunas de interesse\n",
    "    paths <- \n",
    "      paths %>% \n",
    "      # Calcular tempo em segundos e velocidade média\n",
    "      mutate(time = time / 1000,\n",
    "             speed = distance / time * 3.6) %>% \n",
    "      # Descartar colunas extras - a coluna poly é o shape da rota traçada\n",
    "      select(distance, weight, time, speed, poly = points)\n",
    "    \n",
    "    # Testar polyline:\n",
    "    # https://valhalla.github.io/demos/polyline/?unescape=true&polyline6=false#%0A\n",
    "    \n",
    "    # Adicionar colunas de informação vindas do dataframe original\n",
    "    paths <- \n",
    "      paths %>% \n",
    "      mutate(trip_id   = df_line$trip_id,\n",
    "             qgis_id.x = df_line$qgis_id.x,\n",
    "             qgis_id.y = df_line$qgis_id.y,\n",
    "             .before = 'distance') %>% \n",
    "      mutate(lon.x     = df_line$lon.x,\n",
    "             lat.x     = df_line$lat.x,\n",
    "             lon.y     = df_line$lon.y,\n",
    "             lat.y     = df_line$lat.y,\n",
    "             .after = 'poly')\n",
    "    \n",
    "  } else {\n",
    "    \n",
    "    # Se a query no GraphHopper não deu resultados, guardar como dataframe vazio\n",
    "    paths <- data.frame(trip_id   = df_line$trip_id,\n",
    "                        qgis_id.x = df_line$qgis_id.x,\n",
    "                        qgis_id.y = df_line$qgis_id.y,\n",
    "                        distance  = NA,\n",
    "                        weight    = NA,\n",
    "                        time      = NA,\n",
    "                        speed     = NA,\n",
    "                        poly      = NA,\n",
    "                        lon.x     = df_line$lon.x,\n",
    "                        lat.x     = df_line$lat.x,\n",
    "                        lon.y     = df_line$lon.y,\n",
    "                        lat.y     = df_line$lat.y\n",
    "                        )\n",
    "    \n",
    "  }\n",
    "  \n",
    "  # Guardar resultados temporários\n",
    "  tmp_file <- sprintf('%s/%s_%i_modalt.csv', pasta_rotas_modalt, df_line$trip_id, i)\n",
    "  write_delim(paths, tmp_file, delim = ';')\n",
    "  \n",
    "}\n"
   ]
  },
  {
   "cell_type": "code",
   "execution_count": 6,
   "id": "6f4266c5",
   "metadata": {},
   "outputs": [
    {
     "name": "stderr",
     "output_type": "stream",
     "text": [
      "filter: no rows removed\n",
      "select: dropped 13 variables (via_comum, infra_ciclo, ciclo_expressa, ciclo_comum, ciclofaixa, …)\n",
      "mutate: new variable 'url' (character) with 129,026 unique values and 0% NA\n"
     ]
    },
    {
     "data": {
      "text/html": [
       "<table class=\"dataframe\">\n",
       "<caption>A tibble: 3 × 8</caption>\n",
       "<thead>\n",
       "\t<tr><th scope=col>trip_id</th><th scope=col>qgis_id.x</th><th scope=col>qgis_id.y</th><th scope=col>lon.x</th><th scope=col>lat.x</th><th scope=col>lon.y</th><th scope=col>lat.y</th><th scope=col>url</th></tr>\n",
       "\t<tr><th scope=col>&lt;chr&gt;</th><th scope=col>&lt;chr&gt;</th><th scope=col>&lt;chr&gt;</th><th scope=col>&lt;dbl&gt;</th><th scope=col>&lt;dbl&gt;</th><th scope=col>&lt;dbl&gt;</th><th scope=col>&lt;dbl&gt;</th><th scope=col>&lt;chr&gt;</th></tr>\n",
       "</thead>\n",
       "<tbody>\n",
       "\t<tr><td>000135_00</td><td>271157</td><td>104168</td><td>-46.71660</td><td>-23.56869</td><td>-46.72109</td><td>-23.57161</td><td>http://localhost:8989/route/?point=-23.56869%2C-46.716596&amp;point=-23.571614%2C-46.721093&amp;profile=bike&amp;instructions=false&amp;calc_points=true&amp;algorithm=alternative_route&amp;details=osm_way_id </td></tr>\n",
       "\t<tr><td>000138_00</td><td>161929</td><td>161977</td><td>-46.68779</td><td>-23.57601</td><td>-46.69842</td><td>-23.57327</td><td>http://localhost:8989/route/?point=-23.576007%2C-46.687787&amp;point=-23.573271%2C-46.698423&amp;profile=bike&amp;instructions=false&amp;calc_points=true&amp;algorithm=alternative_route&amp;details=osm_way_id</td></tr>\n",
       "\t<tr><td>000139_00</td><td>031336</td><td>143030</td><td>-46.69835</td><td>-23.57297</td><td>-46.68893</td><td>-23.56802</td><td>http://localhost:8989/route/?point=-23.572974%2C-46.698347&amp;point=-23.568022%2C-46.688926&amp;profile=bike&amp;instructions=false&amp;calc_points=true&amp;algorithm=alternative_route&amp;details=osm_way_id</td></tr>\n",
       "</tbody>\n",
       "</table>\n"
      ],
      "text/latex": [
       "A tibble: 3 × 8\n",
       "\\begin{tabular}{llllllll}\n",
       " trip\\_id & qgis\\_id.x & qgis\\_id.y & lon.x & lat.x & lon.y & lat.y & url\\\\\n",
       " <chr> & <chr> & <chr> & <dbl> & <dbl> & <dbl> & <dbl> & <chr>\\\\\n",
       "\\hline\n",
       "\t 000135\\_00 & 271157 & 104168 & -46.71660 & -23.56869 & -46.72109 & -23.57161 & http://localhost:8989/route/?point=-23.56869\\%2C-46.716596\\&point=-23.571614\\%2C-46.721093\\&profile=bike\\&instructions=false\\&calc\\_points=true\\&algorithm=alternative\\_route\\&details=osm\\_way\\_id \\\\\n",
       "\t 000138\\_00 & 161929 & 161977 & -46.68779 & -23.57601 & -46.69842 & -23.57327 & http://localhost:8989/route/?point=-23.576007\\%2C-46.687787\\&point=-23.573271\\%2C-46.698423\\&profile=bike\\&instructions=false\\&calc\\_points=true\\&algorithm=alternative\\_route\\&details=osm\\_way\\_id\\\\\n",
       "\t 000139\\_00 & 031336 & 143030 & -46.69835 & -23.57297 & -46.68893 & -23.56802 & http://localhost:8989/route/?point=-23.572974\\%2C-46.698347\\&point=-23.568022\\%2C-46.688926\\&profile=bike\\&instructions=false\\&calc\\_points=true\\&algorithm=alternative\\_route\\&details=osm\\_way\\_id\\\\\n",
       "\\end{tabular}\n"
      ],
      "text/markdown": [
       "\n",
       "A tibble: 3 × 8\n",
       "\n",
       "| trip_id &lt;chr&gt; | qgis_id.x &lt;chr&gt; | qgis_id.y &lt;chr&gt; | lon.x &lt;dbl&gt; | lat.x &lt;dbl&gt; | lon.y &lt;dbl&gt; | lat.y &lt;dbl&gt; | url &lt;chr&gt; |\n",
       "|---|---|---|---|---|---|---|---|\n",
       "| 000135_00 | 271157 | 104168 | -46.71660 | -23.56869 | -46.72109 | -23.57161 | http://localhost:8989/route/?point=-23.56869%2C-46.716596&amp;point=-23.571614%2C-46.721093&amp;profile=bike&amp;instructions=false&amp;calc_points=true&amp;algorithm=alternative_route&amp;details=osm_way_id  |\n",
       "| 000138_00 | 161929 | 161977 | -46.68779 | -23.57601 | -46.69842 | -23.57327 | http://localhost:8989/route/?point=-23.576007%2C-46.687787&amp;point=-23.573271%2C-46.698423&amp;profile=bike&amp;instructions=false&amp;calc_points=true&amp;algorithm=alternative_route&amp;details=osm_way_id |\n",
       "| 000139_00 | 031336 | 143030 | -46.69835 | -23.57297 | -46.68893 | -23.56802 | http://localhost:8989/route/?point=-23.572974%2C-46.698347&amp;point=-23.568022%2C-46.688926&amp;profile=bike&amp;instructions=false&amp;calc_points=true&amp;algorithm=alternative_route&amp;details=osm_way_id |\n",
       "\n"
      ],
      "text/plain": [
       "  trip_id   qgis_id.x qgis_id.y lon.x     lat.x     lon.y     lat.y    \n",
       "1 000135_00 271157    104168    -46.71660 -23.56869 -46.72109 -23.57161\n",
       "2 000138_00 161929    161977    -46.68779 -23.57601 -46.69842 -23.57327\n",
       "3 000139_00 031336    143030    -46.69835 -23.57297 -46.68893 -23.56802\n",
       "  url                                                                                                                                                                                     \n",
       "1 http://localhost:8989/route/?point=-23.56869%2C-46.716596&point=-23.571614%2C-46.721093&profile=bike&instructions=false&calc_points=true&algorithm=alternative_route&details=osm_way_id \n",
       "2 http://localhost:8989/route/?point=-23.576007%2C-46.687787&point=-23.573271%2C-46.698423&profile=bike&instructions=false&calc_points=true&algorithm=alternative_route&details=osm_way_id\n",
       "3 http://localhost:8989/route/?point=-23.572974%2C-46.698347&point=-23.568022%2C-46.688926&profile=bike&instructions=false&calc_points=true&algorithm=alternative_route&details=osm_way_id"
      ]
     },
     "metadata": {},
     "output_type": "display_data"
    }
   ],
   "source": [
    "# ------------------------------------------------------------------------------\n",
    "# Routing a partir de dois pontos\n",
    "# ------------------------------------------------------------------------------\n",
    "\n",
    "# Abrir origens e destinos das rotas iniciais da Yellow - são consideradas aqui\n",
    "# (pelos scripts anteriores) as rotas que (a) tiveram algum trecho considerado\n",
    "# no modelo; (b) que não foram divididas em trechos menores; e (c) em que o\n",
    "# trecho único considerado é o inicial (possui trip_id com _00)\n",
    "ods_vgs <- sprintf('%s/03_rotas_originais_infraciclo_detour_carac_viagens.csv', pasta_orig_vs_mod)\n",
    "ods_vgs <- read_delim(ods_vgs, delim = ';', col_types = 'cccdddddccccdddddddd')\n",
    "# Remover viagens com origem e destino no mesmo qgis_id\n",
    "ods_vgs <- ods_vgs %>% filter(qgis_id.x != qgis_id.y)\n",
    "ods_vgs <- ods_vgs %>% select(trip_id, qgis_id.x, qgis_id.y, lon.x, lat.x, lon.y, lat.y)\n",
    "# head(ods_vgs)\n",
    "\n",
    "# Criar coluna com URL para GET no GraphHopper\n",
    "route_options <- '&profile=bike&instructions=false&calc_points=true&algorithm=alternative_route&details=osm_way_id'\n",
    "\n",
    "ods_vgs <- \n",
    "  ods_vgs %>% \n",
    "  mutate(url = paste('http://localhost:8989/route/?point=', \n",
    "                     lat.x, '%2C', lon.x, '&point=', \n",
    "                     lat.y, '%2C', lon.y, route_options,\n",
    "                     sep = ''))\n",
    "\n",
    "head(ods_vgs, 3)"
   ]
  },
  {
   "cell_type": "code",
   "execution_count": 7,
   "id": "66aec385",
   "metadata": {},
   "outputs": [
    {
     "data": {
      "text/plain": [
       "[1] \"2025-03-04 22:41:37 -03\""
      ]
     },
     "metadata": {},
     "output_type": "display_data"
    },
    {
     "data": {
      "text/plain": [
       "[1] \"2025-03-04 23:04:50 -03\""
      ]
     },
     "metadata": {},
     "output_type": "display_data"
    },
    {
     "data": {
      "text/plain": [
       "Time difference of 23.20426 mins"
      ]
     },
     "metadata": {},
     "output_type": "display_data"
    }
   ],
   "source": [
    "# Para cada linha de origem e destino, gerar rotas modeladas com alternativas\n",
    "detach(\"package:tidylog\")\n",
    "\n",
    "# Criar ttmatrix a partir do GrahHopper - melhor rodar no Jupyter se for AOP;\n",
    "# se forem só as rotas originais, é ok rodar no RStudio\n",
    "# for (tripid in ods_vgs$trip_id) { gh_route_alt(tripid) }\n",
    "# Rodar função para todos os arquivos- multi thread (Jupyter)\n",
    "(start = Sys.time())\n",
    "future::plan(future::multicore)\n",
    "invisible(future.apply::future_lapply(X   = ods_vgs$trip_id, \n",
    "                                      FUN = gh_route_alt,\n",
    "                                      future.seed = TRUE))\n",
    "Sys.time()\n",
    "Sys.time() - start"
   ]
  },
  {
   "cell_type": "code",
   "execution_count": 8,
   "id": "5e1397a2",
   "metadata": {},
   "outputs": [],
   "source": [
    "# ------------------------------------------------------------------------------\n",
    "# Juntar todos os resultados\n",
    "# ------------------------------------------------------------------------------\n",
    "\n",
    "# Arquivo de saída\n",
    "out_file <- sprintf('%s/01_ttmatrix_rotas_modeladas_de_viagens_originais_com_alternativas.csv', pasta_lts_priority)\n",
    "\n",
    "# Listar todos os arquivos de resultados em um dataframe único\n",
    "arqs_resultados <- data.frame(arq = list.files(pasta_rotas_modalt, recursive = FALSE, full.names = TRUE))\n",
    "\n",
    "for (arq in arqs_resultados$arq) {\n",
    "  # Abrir arquivo de resultados\n",
    "  arq <- read_delim(arq, delim = ';', col_types = cols(.default = \"c\"))\n",
    "  \n",
    "  # Guardar resultados \n",
    "  if (file.exists(out_file)) {\n",
    "    write_delim(arq, out_file, delim = ';', append = TRUE)\n",
    "  } else {\n",
    "    write_delim(arq, out_file, delim = ';', append = FALSE)\n",
    "  }\n",
    "  \n",
    "}"
   ]
  },
  {
   "cell_type": "code",
   "execution_count": 9,
   "id": "494f7eb7",
   "metadata": {},
   "outputs": [
    {
     "data": {
      "text/html": [
       "<table class=\"dataframe\">\n",
       "<caption>A tibble: 6 × 12</caption>\n",
       "<thead>\n",
       "\t<tr><th scope=col>trip_id</th><th scope=col>qgis_id.x</th><th scope=col>qgis_id.y</th><th scope=col>distance</th><th scope=col>weight</th><th scope=col>time</th><th scope=col>speed</th><th scope=col>poly</th><th scope=col>lon.x</th><th scope=col>lat.x</th><th scope=col>lon.y</th><th scope=col>lat.y</th></tr>\n",
       "\t<tr><th scope=col>&lt;chr&gt;</th><th scope=col>&lt;chr&gt;</th><th scope=col>&lt;chr&gt;</th><th scope=col>&lt;chr&gt;</th><th scope=col>&lt;chr&gt;</th><th scope=col>&lt;chr&gt;</th><th scope=col>&lt;chr&gt;</th><th scope=col>&lt;chr&gt;</th><th scope=col>&lt;chr&gt;</th><th scope=col>&lt;chr&gt;</th><th scope=col>&lt;chr&gt;</th><th scope=col>&lt;chr&gt;</th></tr>\n",
       "</thead>\n",
       "<tbody>\n",
       "\t<tr><td>000135_00</td><td>271157</td><td>104168</td><td>779.082 </td><td>252.274255</td><td>252.275</td><td>11.117610544049153</td><td>jgznCvic|G|@gENYROdNtb@                                                                                    </td><td>-46.716596</td><td>-23.56869 </td><td>-46.721093</td><td>-23.571614</td></tr>\n",
       "\t<tr><td>000138_00</td><td>161929</td><td>161977</td><td>1569.142</td><td>414.717662</td><td>517.355</td><td>10.918829817050188</td><td>`u{nCtu}{GGMsNjHsMnHHr@JEJC`ApCCNhClG~BlFHFF@BDAJ@JnEzJ`@dAH^A\\Sx@iBrBy@dAMPEJ                            </td><td>-46.687787</td><td>-23.576007</td><td>-46.698423</td><td>-23.573271</td></tr>\n",
       "\t<tr><td>000138_00</td><td>161929</td><td>161977</td><td>1596.709</td><td>476.185662</td><td>504.696</td><td>11.389336154833801</td><td>`u{nCtu}{GGMkExBFNnGvNdC`FyGlDMYeJdFcClAK@BDAJ@JnEzJ`@dAH^A\\Sx@iBrBy@dAMPEJ                               </td><td>-46.687787</td><td>-23.576007</td><td>-46.698423</td><td>-23.573271</td></tr>\n",
       "\t<tr><td>000139_00</td><td>031336</td><td>143030</td><td>1544.93 </td><td>528.952145</td><td>579.601</td><td>9.595821953378273 </td><td>bb{nCtw_|GCHM[QoAMsAd@u@rAIXQZEBAv@_ABI?Q^YoE{JAK@KCEGAIG_CmFiCmGBOaAqCKBKDIs@i@XC[MFa@T_B|@yC{GiBmE{C~AOy@</td><td>-46.698347</td><td>-23.572974</td><td>-46.688926</td><td>-23.568022</td></tr>\n",
       "\t<tr><td>000139_00</td><td>031336</td><td>143030</td><td>1460.355</td><td>546.551121</td><td>554.978</td><td>9.472948477236937 </td><td>bb{nCtw_|GCHM[QoAMsAK?iAH_A@QIIKW}ECWWqEA[Ag@m@{IU_HAcADw@KDIs@i@XC[MFa@T_B|@yC{GiBmE{C~AOy@               </td><td>-46.698347</td><td>-23.572974</td><td>-46.688926</td><td>-23.568022</td></tr>\n",
       "\t<tr><td>000140_00</td><td>143030</td><td>255789</td><td>1223.188</td><td>376.308685</td><td>405.574</td><td>10.85739421166051 </td><td>|bznC`|}{GKk@FQDAp@c@rBuANSt@e@LIFFFENXrBhFdBxDx@dBXv@FVDZZQHr@JEJC`ApCCNhClG~BlFHFF@BDAJ@JdCrF            </td><td>-46.688804</td><td>-23.567988</td><td>-46.695715</td><td>-23.573713</td></tr>\n",
       "</tbody>\n",
       "</table>\n"
      ],
      "text/latex": [
       "A tibble: 6 × 12\n",
       "\\begin{tabular}{llllllllllll}\n",
       " trip\\_id & qgis\\_id.x & qgis\\_id.y & distance & weight & time & speed & poly & lon.x & lat.x & lon.y & lat.y\\\\\n",
       " <chr> & <chr> & <chr> & <chr> & <chr> & <chr> & <chr> & <chr> & <chr> & <chr> & <chr> & <chr>\\\\\n",
       "\\hline\n",
       "\t 000135\\_00 & 271157 & 104168 & 779.082  & 252.274255 & 252.275 & 11.117610544049153 & jgznCvic\\textbar{}G\\textbar{}@gENYROdNtb@                                                                                     & -46.716596 & -23.56869  & -46.721093 & -23.571614\\\\\n",
       "\t 000138\\_00 & 161929 & 161977 & 1569.142 & 414.717662 & 517.355 & 10.918829817050188 & `u\\{nCtu\\}\\{GGMsNjHsMnHHr@JEJC`ApCCNhClG\\textasciitilde{}BlFHFF@BDAJ@JnEzJ`@dAH\\textasciicircum{}A\\textbackslash{}Sx@iBrBy@dAMPEJ                             & -46.687787 & -23.576007 & -46.698423 & -23.573271\\\\\n",
       "\t 000138\\_00 & 161929 & 161977 & 1596.709 & 476.185662 & 504.696 & 11.389336154833801 & `u\\{nCtu\\}\\{GGMkExBFNnGvNdC`FyGlDMYeJdFcClAK@BDAJ@JnEzJ`@dAH\\textasciicircum{}A\\textbackslash{}Sx@iBrBy@dAMPEJ                                & -46.687787 & -23.576007 & -46.698423 & -23.573271\\\\\n",
       "\t 000139\\_00 & 031336 & 143030 & 1544.93  & 528.952145 & 579.601 & 9.595821953378273  & bb\\{nCtw\\_\\textbar{}GCHM{[}QoAMsAd@u@rAIXQZEBAv@\\_ABI?Q\\textasciicircum{}YoE\\{JAK@KCEGAIG\\_CmFiCmGBOaAqCKBKDIs@i@XC{[}MFa@T\\_B\\textbar{}@yC\\{GiBmE\\{C\\textasciitilde{}AOy@ & -46.698347 & -23.572974 & -46.688926 & -23.568022\\\\\n",
       "\t 000139\\_00 & 031336 & 143030 & 1460.355 & 546.551121 & 554.978 & 9.472948477236937  & bb\\{nCtw\\_\\textbar{}GCHM{[}QoAMsAK?iAH\\_A@QIIKW\\}ECWWqEA{[}Ag@m@\\{IU\\_HAcADw@KDIs@i@XC{[}MFa@T\\_B\\textbar{}@yC\\{GiBmE\\{C\\textasciitilde{}AOy@                & -46.698347 & -23.572974 & -46.688926 & -23.568022\\\\\n",
       "\t 000140\\_00 & 143030 & 255789 & 1223.188 & 376.308685 & 405.574 & 10.85739421166051  & \\textbar{}bznC`\\textbar{}\\}\\{GKk@FQDAp@c@rBuANSt@e@LIFFFENXrBhFdBxDx@dBXv@FVDZZQHr@JEJC`ApCCNhClG\\textasciitilde{}BlFHFF@BDAJ@JdCrF             & -46.688804 & -23.567988 & -46.695715 & -23.573713\\\\\n",
       "\\end{tabular}\n"
      ],
      "text/markdown": [
       "\n",
       "A tibble: 6 × 12\n",
       "\n",
       "| trip_id &lt;chr&gt; | qgis_id.x &lt;chr&gt; | qgis_id.y &lt;chr&gt; | distance &lt;chr&gt; | weight &lt;chr&gt; | time &lt;chr&gt; | speed &lt;chr&gt; | poly &lt;chr&gt; | lon.x &lt;chr&gt; | lat.x &lt;chr&gt; | lon.y &lt;chr&gt; | lat.y &lt;chr&gt; |\n",
       "|---|---|---|---|---|---|---|---|---|---|---|---|\n",
       "| 000135_00 | 271157 | 104168 | 779.082  | 252.274255 | 252.275 | 11.117610544049153 | jgznCvic|G|@gENYROdNtb@                                                                                     | -46.716596 | -23.56869  | -46.721093 | -23.571614 |\n",
       "| 000138_00 | 161929 | 161977 | 1569.142 | 414.717662 | 517.355 | 10.918829817050188 | `u{nCtu}{GGMsNjHsMnHHr@JEJC`ApCCNhClG~BlFHFF@BDAJ@JnEzJ`@dAH^A\\Sx@iBrBy@dAMPEJ                             | -46.687787 | -23.576007 | -46.698423 | -23.573271 |\n",
       "| 000138_00 | 161929 | 161977 | 1596.709 | 476.185662 | 504.696 | 11.389336154833801 | `u{nCtu}{GGMkExBFNnGvNdC`FyGlDMYeJdFcClAK@BDAJ@JnEzJ`@dAH^A\\Sx@iBrBy@dAMPEJ                                | -46.687787 | -23.576007 | -46.698423 | -23.573271 |\n",
       "| 000139_00 | 031336 | 143030 | 1544.93  | 528.952145 | 579.601 | 9.595821953378273  | bb{nCtw_|GCHM[QoAMsAd@u@rAIXQZEBAv@_ABI?Q^YoE{JAK@KCEGAIG_CmFiCmGBOaAqCKBKDIs@i@XC[MFa@T_B|@yC{GiBmE{C~AOy@ | -46.698347 | -23.572974 | -46.688926 | -23.568022 |\n",
       "| 000139_00 | 031336 | 143030 | 1460.355 | 546.551121 | 554.978 | 9.472948477236937  | bb{nCtw_|GCHM[QoAMsAK?iAH_A@QIIKW}ECWWqEA[Ag@m@{IU_HAcADw@KDIs@i@XC[MFa@T_B|@yC{GiBmE{C~AOy@                | -46.698347 | -23.572974 | -46.688926 | -23.568022 |\n",
       "| 000140_00 | 143030 | 255789 | 1223.188 | 376.308685 | 405.574 | 10.85739421166051  | |bznC`|}{GKk@FQDAp@c@rBuANSt@e@LIFFFENXrBhFdBxDx@dBXv@FVDZZQHr@JEJC`ApCCNhClG~BlFHFF@BDAJ@JdCrF             | -46.688804 | -23.567988 | -46.695715 | -23.573713 |\n",
       "\n"
      ],
      "text/plain": [
       "  trip_id   qgis_id.x qgis_id.y distance weight     time    speed             \n",
       "1 000135_00 271157    104168    779.082  252.274255 252.275 11.117610544049153\n",
       "2 000138_00 161929    161977    1569.142 414.717662 517.355 10.918829817050188\n",
       "3 000138_00 161929    161977    1596.709 476.185662 504.696 11.389336154833801\n",
       "4 000139_00 031336    143030    1544.93  528.952145 579.601 9.595821953378273 \n",
       "5 000139_00 031336    143030    1460.355 546.551121 554.978 9.472948477236937 \n",
       "6 000140_00 143030    255789    1223.188 376.308685 405.574 10.85739421166051 \n",
       "  poly                                                                                                       \n",
       "1 jgznCvic|G|@gENYROdNtb@                                                                                    \n",
       "2 `u{nCtu}{GGMsNjHsMnHHr@JEJC`ApCCNhClG~BlFHFF@BDAJ@JnEzJ`@dAH^A\\\\Sx@iBrBy@dAMPEJ                            \n",
       "3 `u{nCtu}{GGMkExBFNnGvNdC`FyGlDMYeJdFcClAK@BDAJ@JnEzJ`@dAH^A\\\\Sx@iBrBy@dAMPEJ                               \n",
       "4 bb{nCtw_|GCHM[QoAMsAd@u@rAIXQZEBAv@_ABI?Q^YoE{JAK@KCEGAIG_CmFiCmGBOaAqCKBKDIs@i@XC[MFa@T_B|@yC{GiBmE{C~AOy@\n",
       "5 bb{nCtw_|GCHM[QoAMsAK?iAH_A@QIIKW}ECWWqEA[Ag@m@{IU_HAcADw@KDIs@i@XC[MFa@T_B|@yC{GiBmE{C~AOy@               \n",
       "6 |bznC`|}{GKk@FQDAp@c@rBuANSt@e@LIFFFENXrBhFdBxDx@dBXv@FVDZZQHr@JEJC`ApCCNhClG~BlFHFF@BDAJ@JdCrF            \n",
       "  lon.x      lat.x      lon.y      lat.y     \n",
       "1 -46.716596 -23.56869  -46.721093 -23.571614\n",
       "2 -46.687787 -23.576007 -46.698423 -23.573271\n",
       "3 -46.687787 -23.576007 -46.698423 -23.573271\n",
       "4 -46.698347 -23.572974 -46.688926 -23.568022\n",
       "5 -46.698347 -23.572974 -46.688926 -23.568022\n",
       "6 -46.688804 -23.567988 -46.695715 -23.573713"
      ]
     },
     "metadata": {},
     "output_type": "display_data"
    }
   ],
   "source": [
    "resultados_final <- read_delim(out_file, delim = ';', col_types = cols(.default = \"c\"))\n",
    "resultados_final <- resultados_final %>% arrange(trip_id, weight)\n",
    "head(resultados_final)"
   ]
  },
  {
   "cell_type": "code",
   "execution_count": 10,
   "id": "68259a40",
   "metadata": {},
   "outputs": [],
   "source": [
    "write_delim(resultados_final, out_file, delim = ';')"
   ]
  },
  {
   "cell_type": "code",
   "execution_count": 11,
   "id": "2a836af1",
   "metadata": {},
   "outputs": [
    {
     "data": {
      "text/plain": [
       "Time difference of 37.73923 mins"
      ]
     },
     "metadata": {},
     "output_type": "display_data"
    }
   ],
   "source": [
    "Sys.time() - start"
   ]
  },
  {
   "cell_type": "code",
   "execution_count": null,
   "id": "769745a9",
   "metadata": {},
   "outputs": [],
   "source": []
  }
 ],
 "metadata": {
  "kernelspec": {
   "display_name": "R [conda env:r4.4]",
   "language": "R",
   "name": "conda-env-r4.4-r"
  },
  "language_info": {
   "codemirror_mode": "r",
   "file_extension": ".r",
   "mimetype": "text/x-r-source",
   "name": "R",
   "pygments_lexer": "r",
   "version": "4.4.1"
  }
 },
 "nbformat": 4,
 "nbformat_minor": 5
}
