{
 "cells": [
  {
   "cell_type": "code",
   "execution_count": 1,
   "id": "7d41159f",
   "metadata": {},
   "outputs": [
    {
     "name": "stderr",
     "output_type": "stream",
     "text": [
      "── \u001b[1mAttaching packages\u001b[22m ───────────────────────────────────────────────────────────────────────────────────────────────── tidyverse 1.3.1 ──\n",
      "\n",
      "\u001b[32m✔\u001b[39m \u001b[34mggplot2\u001b[39m 3.3.3     \u001b[32m✔\u001b[39m \u001b[34mpurrr  \u001b[39m 0.3.4\n",
      "\u001b[32m✔\u001b[39m \u001b[34mtibble \u001b[39m 3.1.1     \u001b[32m✔\u001b[39m \u001b[34mdplyr  \u001b[39m 1.0.5\n",
      "\u001b[32m✔\u001b[39m \u001b[34mtidyr  \u001b[39m 1.1.3     \u001b[32m✔\u001b[39m \u001b[34mstringr\u001b[39m 1.4.0\n",
      "\u001b[32m✔\u001b[39m \u001b[34mreadr  \u001b[39m 1.4.0     \u001b[32m✔\u001b[39m \u001b[34mforcats\u001b[39m 0.5.1\n",
      "\n",
      "── \u001b[1mConflicts\u001b[22m ──────────────────────────────────────────────────────────────────────────────────────────────────── tidyverse_conflicts() ──\n",
      "\u001b[31m✖\u001b[39m \u001b[34mdplyr\u001b[39m::\u001b[32mfilter()\u001b[39m masks \u001b[34mstats\u001b[39m::filter()\n",
      "\u001b[31m✖\u001b[39m \u001b[34mdplyr\u001b[39m::\u001b[32mlag()\u001b[39m    masks \u001b[34mstats\u001b[39m::lag()\n",
      "\n",
      "\n",
      "Attaching package: ‘tidylog’\n",
      "\n",
      "\n",
      "The following objects are masked from ‘package:dplyr’:\n",
      "\n",
      "    add_count, add_tally, anti_join, count, distinct, distinct_all,\n",
      "    distinct_at, distinct_if, filter, filter_all, filter_at, filter_if,\n",
      "    full_join, group_by, group_by_all, group_by_at, group_by_if,\n",
      "    inner_join, left_join, mutate, mutate_all, mutate_at, mutate_if,\n",
      "    relocate, rename, rename_all, rename_at, rename_if, rename_with,\n",
      "    right_join, sample_frac, sample_n, select, select_all, select_at,\n",
      "    select_if, semi_join, slice, slice_head, slice_max, slice_min,\n",
      "    slice_sample, slice_tail, summarise, summarise_all, summarise_at,\n",
      "    summarise_if, summarize, summarize_all, summarize_at, summarize_if,\n",
      "    tally, top_frac, top_n, transmute, transmute_all, transmute_at,\n",
      "    transmute_if, ungroup\n",
      "\n",
      "\n",
      "The following objects are masked from ‘package:tidyr’:\n",
      "\n",
      "    drop_na, fill, gather, pivot_longer, pivot_wider, replace_na,\n",
      "    spread, uncount\n",
      "\n",
      "\n",
      "The following object is masked from ‘package:stats’:\n",
      "\n",
      "    filter\n",
      "\n",
      "\n",
      "Linking to GEOS 3.9.1, GDAL 3.2.2, PROJ 8.0.0\n",
      "\n",
      "GDAL version >= 3.1.0 | setting mapviewOptions(fgb = TRUE)\n",
      "\n"
     ]
    }
   ],
   "source": [
    "# Gerar áreas proporcionais dos setores censitários de acordo com suas interseções\n",
    "# com os hexágonos h3 - resolução 09\n",
    "\n",
    "# carregar bibliotecas\n",
    "library('tidyverse')\n",
    "library('tidylog')\n",
    "library('sf')\n",
    "library('mapview')"
   ]
  },
  {
   "cell_type": "code",
   "execution_count": 2,
   "id": "0d77b40a",
   "metadata": {},
   "outputs": [],
   "source": [
    "# Estrutura de pastas e arquivos\n",
    "pasta_dados       <- \"../../yellow_dados\"\n",
    "dados_originais   <- sprintf(\"%s/00_dados_originais\", pasta_dados)\n",
    "pasta_censo       <- sprintf(\"%s/CENSO\", dados_originais)\n",
    "pasta_ipea        <- sprintf(\"%s/IPEA\", dados_originais)\n",
    "pasta_aop_optimum <- sprintf(\"%s/13_aop_optimum\", pasta_dados)"
   ]
  },
  {
   "cell_type": "code",
   "execution_count": 3,
   "id": "9307cc55",
   "metadata": {},
   "outputs": [
    {
     "name": "stderr",
     "output_type": "stream",
     "text": [
      "filter: removed 49,343 rows (72%), 18,953 rows remaining\n",
      "\n",
      "select: renamed one variable (cod_setor) and dropped 13 variables\n",
      "\n",
      "mutate: new variable 'area_orig_setor_m2' (double) with 18,953 unique values and 0% NA\n",
      "\n",
      "Warning message in fun(libname, pkgname):\n",
      "“rgeos: versions of GEOS runtime 3.9.1-CAPI-1.14.2\n",
      "and GEOS at installation 3.9.1dev-CAPI-1.14.1differ”\n",
      "Registered S3 method overwritten by 'geojsonsf':\n",
      "  method        from   \n",
      "  print.geojson geojson\n",
      "\n"
     ]
    },
    {
     "data": {
      "application/geo+json": {
       "features": [
        {
         "geometry": {
          "coordinates": [
           [
            [
             [
              -46.5178,
              -23.5795
             ],
             [
              -46.5179,
              -23.5797
             ],
             [
              -46.518,
              -23.58
             ],
             [
              -46.5181,
              -23.5803
             ],
             [
              -46.5183,
              -23.5809
             ],
             [
              -46.5183,
              -23.581
             ],
             [
              -46.5184,
              -23.5812
             ],
             [
              -46.5186,
              -23.5816
             ],
             [
              -46.5186,
              -23.5818
             ],
             [
              -46.5186,
              -23.5819
             ],
             [
              -46.5188,
              -23.5822
             ],
             [
              -46.5189,
              -23.5826
             ],
             [
              -46.5197,
              -23.5823
             ],
             [
              -46.5198,
              -23.5823
             ],
             [
              -46.5198,
              -23.5822
             ],
             [
              -46.5196,
              -23.5816
             ],
             [
              -46.5195,
              -23.5814
             ],
             [
              -46.5193,
              -23.5809
             ],
             [
              -46.5191,
              -23.5802
             ],
             [
              -46.5189,
              -23.5797
             ],
             [
              -46.5187,
              -23.5792
             ],
             [
              -46.5187,
              -23.5792
             ],
             [
              -46.5185,
              -23.5792
             ],
             [
              -46.518,
              -23.5794
             ],
             [
              -46.5178,
              -23.5795
             ]
            ]
           ]
          ],
          "type": "MultiPolygon"
         },
         "properties": {
          "area_orig_setor_m2": 35862.5336,
          "cod_setor": "355030804000079"
         },
         "type": "Feature"
        },
        {
         "geometry": {
          "coordinates": [
           [
            [
             [
              -46.5189,
              -23.5797
             ],
             [
              -46.5191,
              -23.5802
             ],
             [
              -46.5193,
              -23.5809
             ],
             [
              -46.5195,
              -23.5814
             ],
             [
              -46.5196,
              -23.5816
             ],
             [
              -46.5198,
              -23.5822
             ],
             [
              -46.5198,
              -23.5823
             ],
             [
              -46.5203,
              -23.5821
             ],
             [
              -46.5205,
              -23.5821
             ],
             [
              -46.5204,
              -23.5819
             ],
             [
              -46.5204,
              -23.5818
             ],
             [
              -46.5203,
              -23.5814
             ],
             [
              -46.5203,
              -23.5814
             ],
             [
              -46.5202,
              -23.581
             ],
             [
              -46.5203,
              -23.581
             ],
             [
              -46.5208,
              -23.5809
             ],
             [
              -46.5213,
              -23.5807
             ],
             [
              -46.5215,
              -23.5806
             ],
             [
              -46.5216,
              -23.5806
             ],
             [
              -46.5215,
              -23.5803
             ],
             [
              -46.5215,
              -23.5802
             ],
             [
              -46.5214,
              -23.58
             ],
             [
              -46.5214,
              -23.5799
             ],
             [
              -46.5199,
              -23.5803
             ],
             [
              -46.5198,
              -23.58
             ],
             [
              -46.5198,
              -23.5799
             ],
             [
              -46.5197,
              -23.5794
             ],
             [
              -46.5193,
              -23.5795
             ],
             [
              -46.5192,
              -23.5796
             ],
             [
              -46.5189,
              -23.5797
             ]
            ]
           ]
          ],
          "type": "MultiPolygon"
         },
         "properties": {
          "area_orig_setor_m2": 36314.0043,
          "cod_setor": "355030804000080"
         },
         "type": "Feature"
        },
        {
         "geometry": {
          "coordinates": [
           [
            [
             [
              -46.5202,
              -23.581
             ],
             [
              -46.5203,
              -23.5814
             ],
             [
              -46.5203,
              -23.5814
             ],
             [
              -46.5204,
              -23.5818
             ],
             [
              -46.5204,
              -23.5819
             ],
             [
              -46.5205,
              -23.5821
             ],
             [
              -46.5205,
              -23.5822
             ],
             [
              -46.5206,
              -23.5822
             ],
             [
              -46.5214,
              -23.582
             ],
             [
              -46.5219,
              -23.5818
             ],
             [
              -46.5221,
              -23.5818
             ],
             [
              -46.522,
              -23.5814
             ],
             [
              -46.5219,
              -23.5814
             ],
             [
              -46.5219,
              -23.5814
             ],
             [
              -46.5218,
              -23.581
             ],
             [
              -46.5218,
              -23.581
             ],
             [
              -46.5218,
              -23.581
             ],
             [
              -46.5216,
              -23.5806
             ],
             [
              -46.5216,
              -23.5806
             ],
             [
              -46.5215,
              -23.5806
             ],
             [
              -46.5213,
              -23.5807
             ],
             [
              -46.5208,
              -23.5809
             ],
             [
              -46.5203,
              -23.581
             ],
             [
              -46.5202,
              -23.581
             ]
            ]
           ]
          ],
          "type": "MultiPolygon"
         },
         "properties": {
          "area_orig_setor_m2": 22274.3287,
          "cod_setor": "355030804000081"
         },
         "type": "Feature"
        },
        {
         "geometry": {
          "coordinates": [
           [
            [
             [
              -46.5214,
              -23.5799
             ],
             [
              -46.5214,
              -23.58
             ],
             [
              -46.5215,
              -23.5802
             ],
             [
              -46.5215,
              -23.5803
             ],
             [
              -46.5216,
              -23.5806
             ],
             [
              -46.5216,
              -23.5806
             ],
             [
              -46.5218,
              -23.581
             ],
             [
              -46.5218,
              -23.581
             ],
             [
              -46.5218,
              -23.581
             ],
             [
              -46.5219,
              -23.5814
             ],
             [
              -46.5219,
              -23.5814
             ],
             [
              -46.522,
              -23.5814
             ],
             [
              -46.5221,
              -23.5818
             ],
             [
              -46.5221,
              -23.5819
             ],
             [
              -46.5222,
              -23.5821
             ],
             [
              -46.5223,
              -23.5821
             ],
             [
              -46.5229,
              -23.582
             ],
             [
              -46.5235,
              -23.5819
             ],
             [
              -46.5236,
              -23.5818
             ],
             [
              -46.5237,
              -23.5818
             ],
             [
              -46.5236,
              -23.5815
             ],
             [
              -46.5236,
              -23.5813
             ],
             [
              -46.5235,
              -23.5812
             ],
             [
              -46.5234,
              -23.5811
             ],
             [
              -46.5234,
              -23.581
             ],
             [
              -46.5231,
              -23.5807
             ],
             [
              -46.5228,
              -23.5803
             ],
             [
              -46.5225,
              -23.5796
             ],
             [
              -46.5225,
              -23.5796
             ],
             [
              -46.5214,
              -23.5799
             ]
            ]
           ]
          ],
          "type": "MultiPolygon"
         },
         "properties": {
          "area_orig_setor_m2": 36724.7976,
          "cod_setor": "355030804000082"
         },
         "type": "Feature"
        },
        {
         "geometry": {
          "coordinates": [
           [
            [
             [
              -46.5237,
              -23.5818
             ],
             [
              -46.5238,
              -23.5824
             ],
             [
              -46.5239,
              -23.5825
             ],
             [
              -46.5239,
              -23.5827
             ],
             [
              -46.524,
              -23.5828
             ],
             [
              -46.5241,
              -23.5828
             ],
             [
              -46.5241,
              -23.5828
             ],
             [
              -46.5248,
              -23.5826
             ],
             [
              -46.5251,
              -23.5826
             ],
             [
              -46.5252,
              -23.5825
             ],
             [
              -46.5256,
              -23.5824
             ],
             [
              -46.5262,
              -23.5823
             ],
             [
              -46.5266,
              -23.5822
             ],
             [
              -46.5267,
              -23.5822
             ],
             [
              -46.5265,
              -23.5818
             ],
             [
              -46.5263,
              -23.5814
             ],
             [
              -46.5262,
              -23.5814
             ],
             [
              -46.5262,
              -23.5813
             ],
             [
              -46.5259,
              -23.5814
             ],
             [
              -46.5251,
              -23.5816
             ],
             [
              -46.5251,
              -23.5816
             ],
             [
              -46.5242,
              -23.5818
             ],
             [
              -46.5238,
              -23.5819
             ],
             [
              -46.5237,
              -23.5818
             ]
            ]
           ]
          ],
          "type": "MultiPolygon"
         },
         "properties": {
          "area_orig_setor_m2": 29154.3379,
          "cod_setor": "355030804000083"
         },
         "type": "Feature"
        },
        {
         "geometry": {
          "coordinates": [
           [
            [
             [
              -46.5276,
              -23.5742
             ],
             [
              -46.5276,
              -23.5743
             ],
             [
              -46.5278,
              -23.5744
             ],
             [
              -46.5278,
              -23.5745
             ],
             [
              -46.5282,
              -23.5748
             ],
             [
              -46.5283,
              -23.5749
             ],
             [
              -46.5285,
              -23.5752
             ],
             [
              -46.5286,
              -23.5752
             ],
             [
              -46.5287,
              -23.5753
             ],
             [
              -46.5288,
              -23.5755
             ],
             [
              -46.5291,
              -23.5753
             ],
             [
              -46.5294,
              -23.5751
             ],
             [
              -46.5295,
              -23.5749
             ],
             [
              -46.5295,
              -23.5747
             ],
             [
              -46.5296,
              -23.5746
             ],
             [
              -46.5297,
              -23.5744
             ],
             [
              -46.5298,
              -23.5742
             ],
             [
              -46.5299,
              -23.5742
             ],
             [
              -46.5299,
              -23.5741
             ],
             [
              -46.53,
              -23.5741
             ],
             [
              -46.5301,
              -23.574
             ],
             [
              -46.5301,
              -23.574
             ],
             [
              -46.5302,
              -23.574
             ],
             [
              -46.5303,
              -23.5739
             ],
             [
              -46.5308,
              -23.5737
             ],
             [
              -46.531,
              -23.5736
             ],
             [
              -46.5313,
              -23.5734
             ],
             [
              -46.5314,
              -23.5733
             ],
             [
              -46.5314,
              -23.5733
             ],
             [
              -46.5315,
              -23.5732
             ],
             [
              -46.5318,
              -23.5727
             ],
             [
              -46.5318,
              -23.5727
             ],
             [
              -46.5311,
              -23.573
             ],
             [
              -46.5308,
              -23.5731
             ],
             [
              -46.5307,
              -23.5732
             ],
             [
              -46.5307,
              -23.5732
             ],
             [
              -46.5306,
              -23.5732
             ],
             [
              -46.5306,
              -23.5731
             ],
             [
              -46.5306,
              -23.5731
             ],
             [
              -46.5305,
              -23.573
             ],
             [
              -46.5305,
              -23.5728
             ],
             [
              -46.5305,
              -23.5728
             ],
             [
              -46.5305,
              -23.5726
             ],
             [
              -46.5304,
              -23.5726
             ],
             [
              -46.5303,
              -23.5722
             ],
             [
              -46.5298,
              -23.5724
             ],
             [
              -46.5292,
              -23.5727
             ],
             [
              -46.5283,
              -23.5731
             ],
             [
              -46.5282,
              -23.5732
             ],
             [
              -46.5282,
              -23.5732
             ],
             [
              -46.5283,
              -23.5735
             ],
             [
              -46.5284,
              -23.5737
             ],
             [
              -46.5285,
              -23.5739
             ],
             [
              -46.5285,
              -23.574
             ],
             [
              -46.5284,
              -23.574
             ],
             [
              -46.5282,
              -23.5742
             ],
             [
              -46.5278,
              -23.5737
             ],
             [
              -46.5277,
              -23.5736
             ],
             [
              -46.5277,
              -23.5737
             ],
             [
              -46.5276,
              -23.5739
             ],
             [
              -46.5276,
              -23.5742
             ]
            ]
           ]
          ],
          "type": "MultiPolygon"
         },
         "properties": {
          "area_orig_setor_m2": 63085.1108,
          "cod_setor": "355030804000084"
         },
         "type": "Feature"
        }
       ],
       "type": "FeatureCollection"
      },
      "text/html": [
       "<table class=\"dataframe\">\n",
       "<caption>A sf: 6 × 3</caption>\n",
       "<thead>\n",
       "\t<tr><th scope=col>cod_setor</th><th scope=col>area_orig_setor_m2</th><th scope=col>geometry</th></tr>\n",
       "\t<tr><th scope=col>&lt;chr&gt;</th><th scope=col>&lt;dbl&gt;</th><th scope=col>&lt;MULTIPOLYGON [°]&gt;</th></tr>\n",
       "</thead>\n",
       "<tbody>\n",
       "\t<tr><td>355030804000079</td><td>35862.53</td><td>MULTIPOLYGON (((-46.51778 -...</td></tr>\n",
       "\t<tr><td>355030804000080</td><td>36314.00</td><td>MULTIPOLYGON (((-46.51888 -...</td></tr>\n",
       "\t<tr><td>355030804000081</td><td>22274.33</td><td>MULTIPOLYGON (((-46.52015 -...</td></tr>\n",
       "\t<tr><td>355030804000082</td><td>36724.80</td><td>MULTIPOLYGON (((-46.5214 -2...</td></tr>\n",
       "\t<tr><td>355030804000083</td><td>29154.34</td><td>MULTIPOLYGON (((-46.52371 -...</td></tr>\n",
       "\t<tr><td>355030804000084</td><td>63085.11</td><td>MULTIPOLYGON (((-46.5276 -2...</td></tr>\n",
       "</tbody>\n",
       "</table>\n"
      ],
      "text/latex": [
       "A sf: 6 × 3\n",
       "\\begin{tabular}{lll}\n",
       " cod\\_setor & area\\_orig\\_setor\\_m2 & geometry\\\\\n",
       " <chr> & <dbl> & <MULTIPOLYGON {[}°{]}>\\\\\n",
       "\\hline\n",
       "\t 355030804000079 & 35862.53 & MULTIPOLYGON (((-46.51778 -...\\\\\n",
       "\t 355030804000080 & 36314.00 & MULTIPOLYGON (((-46.51888 -...\\\\\n",
       "\t 355030804000081 & 22274.33 & MULTIPOLYGON (((-46.52015 -...\\\\\n",
       "\t 355030804000082 & 36724.80 & MULTIPOLYGON (((-46.5214 -2...\\\\\n",
       "\t 355030804000083 & 29154.34 & MULTIPOLYGON (((-46.52371 -...\\\\\n",
       "\t 355030804000084 & 63085.11 & MULTIPOLYGON (((-46.5276 -2...\\\\\n",
       "\\end{tabular}\n"
      ],
      "text/markdown": [
       "\n",
       "A sf: 6 × 3\n",
       "\n",
       "| cod_setor &lt;chr&gt; | area_orig_setor_m2 &lt;dbl&gt; | geometry &lt;MULTIPOLYGON [°]&gt; |\n",
       "|---|---|---|\n",
       "| 355030804000079 | 35862.53 | MULTIPOLYGON (((-46.51778 -... |\n",
       "| 355030804000080 | 36314.00 | MULTIPOLYGON (((-46.51888 -... |\n",
       "| 355030804000081 | 22274.33 | MULTIPOLYGON (((-46.52015 -... |\n",
       "| 355030804000082 | 36724.80 | MULTIPOLYGON (((-46.5214 -2... |\n",
       "| 355030804000083 | 29154.34 | MULTIPOLYGON (((-46.52371 -... |\n",
       "| 355030804000084 | 63085.11 | MULTIPOLYGON (((-46.5276 -2... |\n",
       "\n"
      ],
      "text/plain": [
       "  cod_setor       area_orig_setor_m2 geometry                      \n",
       "1 355030804000079 35862.53           MULTIPOLYGON (((-46.51778 -...\n",
       "2 355030804000080 36314.00           MULTIPOLYGON (((-46.51888 -...\n",
       "3 355030804000081 22274.33           MULTIPOLYGON (((-46.52015 -...\n",
       "4 355030804000082 36724.80           MULTIPOLYGON (((-46.5214 -2...\n",
       "5 355030804000083 29154.34           MULTIPOLYGON (((-46.52371 -...\n",
       "6 355030804000084 63085.11           MULTIPOLYGON (((-46.5276 -2..."
      ]
     },
     "metadata": {},
     "output_type": "display_data"
    }
   ],
   "source": [
    "# ------------------------------------------------------------------------------\n",
    "# Setore censitários - calcular área por setor\n",
    "# ------------------------------------------------------------------------------\n",
    "\n",
    "# Código do município de SP no Censo\n",
    "cod_muni <- '3550308'\n",
    "\n",
    "# Abrir shapefile de setores censitários\n",
    "setores <- sprintf('%s/setores_censitarios_SP.shp', pasta_censo)\n",
    "\n",
    "# Filtrar somente setores para a cidade de interesse\n",
    "setores <- read_sf(setores) %>% filter(CD_GEOCODM == cod_muni) %>% select(cod_setor = CD_GEOCODI)\n",
    "\n",
    "# Garantir que shapefile não apresente erros\n",
    "setores <- setores %>% st_make_valid()\n",
    "\n",
    "# Recalcular área do setor, a partir da projeção utilizada\n",
    "setores <- setores %>% mutate(area_orig_setor_m2 = unclass(st_area(.)), .before = 'geometry')\n",
    "# mapview(setores)\n",
    "head(setores)"
   ]
  },
  {
   "cell_type": "code",
   "execution_count": 4,
   "id": "1170e157",
   "metadata": {},
   "outputs": [
    {
     "name": "stderr",
     "output_type": "stream",
     "text": [
      "filter: removed 374,971 rows (96%), 15,059 rows remaining\n",
      "\n",
      "select: dropped 3 variables (abbrev_muni, name_muni, code_muni)\n",
      "\n"
     ]
    },
    {
     "data": {
      "application/geo+json": {
       "features": [
        {
         "geometry": {
          "coordinates": [
           [
            [
             -46.436,
             -23.5866
            ],
            [
             -46.4349,
             -23.5851
            ],
            [
             -46.4359,
             -23.5835
            ],
            [
             -46.4379,
             -23.5835
            ],
            [
             -46.439,
             -23.5849
            ],
            [
             -46.438,
             -23.5865
            ],
            [
             -46.436,
             -23.5866
            ]
           ]
          ],
          "type": "Polygon"
         },
         "properties": {
          "id_hex": "89a81009a8bffff"
         },
         "type": "Feature"
        },
        {
         "geometry": {
          "coordinates": [
           [
            [
             -46.7789,
             -23.8971
            ],
            [
             -46.7778,
             -23.8956
            ],
            [
             -46.7788,
             -23.894
            ],
            [
             -46.7808,
             -23.8939
            ],
            [
             -46.7819,
             -23.8954
            ],
            [
             -46.7809,
             -23.897
            ],
            [
             -46.7789,
             -23.8971
            ]
           ]
          ],
          "type": "Polygon"
         },
         "properties": {
          "id_hex": "89a8108dca7ffff"
         },
         "type": "Feature"
        },
        {
         "geometry": {
          "coordinates": [
           [
            [
             -46.74,
             -23.7229
            ],
            [
             -46.7389,
             -23.7214
            ],
            [
             -46.7399,
             -23.7198
            ],
            [
             -46.7419,
             -23.7197
            ],
            [
             -46.743,
             -23.7212
            ],
            [
             -46.742,
             -23.7228
            ],
            [
             -46.74,
             -23.7229
            ]
           ]
          ],
          "type": "Polygon"
         },
         "properties": {
          "id_hex": "89a81015a8bffff"
         },
         "type": "Feature"
        },
        {
         "geometry": {
          "coordinates": [
           [
            [
             -46.6278,
             -23.6546
            ],
            [
             -46.6267,
             -23.6531
            ],
            [
             -46.6277,
             -23.6515
            ],
            [
             -46.6297,
             -23.6514
            ],
            [
             -46.6308,
             -23.6529
            ],
            [
             -46.6298,
             -23.6545
            ],
            [
             -46.6278,
             -23.6546
            ]
           ]
          ],
          "type": "Polygon"
         },
         "properties": {
          "id_hex": "89a810019d7ffff"
         },
         "type": "Feature"
        },
        {
         "geometry": {
          "coordinates": [
           [
            [
             -46.6234,
             -23.5044
            ],
            [
             -46.6223,
             -23.5029
            ],
            [
             -46.6233,
             -23.5013
            ],
            [
             -46.6253,
             -23.5012
            ],
            [
             -46.6264,
             -23.5027
            ],
            [
             -46.6254,
             -23.5043
            ],
            [
             -46.6234,
             -23.5044
            ]
           ]
          ],
          "type": "Polygon"
         },
         "properties": {
          "id_hex": "89a8100d9d7ffff"
         },
         "type": "Feature"
        },
        {
         "geometry": {
          "coordinates": [
           [
            [
             -46.7311,
             -23.4225
            ],
            [
             -46.73,
             -23.421
            ],
            [
             -46.731,
             -23.4194
            ],
            [
             -46.733,
             -23.4193
            ],
            [
             -46.7341,
             -23.4208
            ],
            [
             -46.7331,
             -23.4224
            ],
            [
             -46.7311,
             -23.4225
            ]
           ]
          ],
          "type": "Polygon"
         },
         "properties": {
          "id_hex": "89a81039a8bffff"
         },
         "type": "Feature"
        }
       ],
       "type": "FeatureCollection"
      },
      "text/html": [
       "<table class=\"dataframe\">\n",
       "<caption>A sf: 6 × 2</caption>\n",
       "<thead>\n",
       "\t<tr><th scope=col>id_hex</th><th scope=col>geom</th></tr>\n",
       "\t<tr><th scope=col>&lt;chr&gt;</th><th scope=col>&lt;POLYGON [°]&gt;</th></tr>\n",
       "</thead>\n",
       "<tbody>\n",
       "\t<tr><td>89a81009a8bffff</td><td>POLYGON ((-46.43596 -23.586...</td></tr>\n",
       "\t<tr><td>89a8108dca7ffff</td><td>POLYGON ((-46.77886 -23.897...</td></tr>\n",
       "\t<tr><td>89a81015a8bffff</td><td>POLYGON ((-46.74 -23.7229, ...</td></tr>\n",
       "\t<tr><td>89a810019d7ffff</td><td>POLYGON ((-46.62778 -23.654...</td></tr>\n",
       "\t<tr><td>89a8100d9d7ffff</td><td>POLYGON ((-46.62335 -23.504...</td></tr>\n",
       "\t<tr><td>89a81039a8bffff</td><td>POLYGON ((-46.73109 -23.422...</td></tr>\n",
       "</tbody>\n",
       "</table>\n"
      ],
      "text/latex": [
       "A sf: 6 × 2\n",
       "\\begin{tabular}{ll}\n",
       " id\\_hex & geom\\\\\n",
       " <chr> & <POLYGON {[}°{]}>\\\\\n",
       "\\hline\n",
       "\t 89a81009a8bffff & POLYGON ((-46.43596 -23.586...\\\\\n",
       "\t 89a8108dca7ffff & POLYGON ((-46.77886 -23.897...\\\\\n",
       "\t 89a81015a8bffff & POLYGON ((-46.74 -23.7229, ...\\\\\n",
       "\t 89a810019d7ffff & POLYGON ((-46.62778 -23.654...\\\\\n",
       "\t 89a8100d9d7ffff & POLYGON ((-46.62335 -23.504...\\\\\n",
       "\t 89a81039a8bffff & POLYGON ((-46.73109 -23.422...\\\\\n",
       "\\end{tabular}\n"
      ],
      "text/markdown": [
       "\n",
       "A sf: 6 × 2\n",
       "\n",
       "| id_hex &lt;chr&gt; | geom &lt;POLYGON [°]&gt; |\n",
       "|---|---|\n",
       "| 89a81009a8bffff | POLYGON ((-46.43596 -23.586... |\n",
       "| 89a8108dca7ffff | POLYGON ((-46.77886 -23.897... |\n",
       "| 89a81015a8bffff | POLYGON ((-46.74 -23.7229, ... |\n",
       "| 89a810019d7ffff | POLYGON ((-46.62778 -23.654... |\n",
       "| 89a8100d9d7ffff | POLYGON ((-46.62335 -23.504... |\n",
       "| 89a81039a8bffff | POLYGON ((-46.73109 -23.422... |\n",
       "\n"
      ],
      "text/plain": [
       "  id_hex          geom                          \n",
       "1 89a81009a8bffff POLYGON ((-46.43596 -23.586...\n",
       "2 89a8108dca7ffff POLYGON ((-46.77886 -23.897...\n",
       "3 89a81015a8bffff POLYGON ((-46.74 -23.7229, ...\n",
       "4 89a810019d7ffff POLYGON ((-46.62778 -23.654...\n",
       "5 89a8100d9d7ffff POLYGON ((-46.62335 -23.504...\n",
       "6 89a81039a8bffff POLYGON ((-46.73109 -23.422..."
      ]
     },
     "metadata": {},
     "output_type": "display_data"
    }
   ],
   "source": [
    "# ------------------------------------------------------------------------------\n",
    "# Distribuir dados do Censo por hexágono do IPEA\n",
    "# ------------------------------------------------------------------------------\n",
    "\n",
    "# IPEA - Shape de grid hexagonal (resolução 9)\n",
    "hexagonos <- sprintf('%s/aop_hex_grid_v2.gpkg', pasta_ipea)\n",
    "hexagonos <- read_sf(hexagonos) %>% filter(abbrev_muni == 'spo') %>% select(id_hex)\n",
    "# mapview(hexagonos)\n",
    "\n",
    "# Caso projeções entre os dados do Censo e da intervenção sejam diferentes,\n",
    "# reprojetar a intervenção para o CRS do Censo\n",
    "if (st_crs(hexagonos) != st_crs(setores)) {\n",
    "  hexagonos <- hexagonos %>% st_transform(crs = st_crs(setores))\n",
    "}\n",
    "head(hexagonos)"
   ]
  },
  {
   "cell_type": "code",
   "execution_count": 5,
   "id": "e1977810",
   "metadata": {},
   "outputs": [
    {
     "name": "stderr",
     "output_type": "stream",
     "text": [
      "although coordinates are longitude/latitude, st_intersection assumes that they are planar\n",
      "\n",
      "Warning message:\n",
      "“attribute variables are assumed to be spatially constant throughout all geometries”\n"
     ]
    }
   ],
   "source": [
    "# Recortar setores dentro da area de entorno da intervenção\n",
    "setores_hex <- st_intersection(setores, hexagonos)"
   ]
  },
  {
   "cell_type": "code",
   "execution_count": 6,
   "id": "ba95e5c8",
   "metadata": {},
   "outputs": [
    {
     "name": "stderr",
     "output_type": "stream",
     "text": [
      "mutate: new variable 'area_setor_hex_m2' (double) with 70,349 unique values and 0% NA\n",
      "\n",
      "        new variable 'area_prop' (double) with 68,077 unique values and 0% NA\n",
      "\n"
     ]
    },
    {
     "data": {
      "application/geo+json": {
       "features": [
        {
         "geometry": {
          "coordinates": [
           [
            [
             -46.4381,
             -23.5862
            ],
            [
             -46.4379,
             -23.586
            ],
            [
             -46.4378,
             -23.5859
            ],
            [
             -46.4377,
             -23.5858
            ],
            [
             -46.4377,
             -23.5856
            ],
            [
             -46.4377,
             -23.5855
            ],
            [
             -46.4378,
             -23.5854
            ],
            [
             -46.4378,
             -23.5853
            ],
            [
             -46.4378,
             -23.5852
            ],
            [
             -46.4378,
             -23.5851
            ],
            [
             -46.4378,
             -23.5849
            ],
            [
             -46.4379,
             -23.5845
            ],
            [
             -46.4376,
             -23.5844
            ],
            [
             -46.4375,
             -23.5844
            ],
            [
             -46.4374,
             -23.5844
            ],
            [
             -46.4373,
             -23.5844
            ],
            [
             -46.4371,
             -23.5844
            ],
            [
             -46.4369,
             -23.5845
            ],
            [
             -46.4368,
             -23.5846
            ],
            [
             -46.4367,
             -23.5846
            ],
            [
             -46.4367,
             -23.5847
            ],
            [
             -46.4366,
             -23.5848
            ],
            [
             -46.4364,
             -23.5851
            ],
            [
             -46.4363,
             -23.5853
            ],
            [
             -46.4362,
             -23.5853
            ],
            [
             -46.4361,
             -23.5854
            ],
            [
             -46.4361,
             -23.5855
            ],
            [
             -46.436,
             -23.5855
            ],
            [
             -46.4359,
             -23.5855
            ],
            [
             -46.4359,
             -23.5856
            ],
            [
             -46.4358,
             -23.5856
            ],
            [
             -46.4357,
             -23.5858
            ],
            [
             -46.4356,
             -23.5858
            ],
            [
             -46.4356,
             -23.5859
            ],
            [
             -46.4356,
             -23.5859
            ],
            [
             -46.4357,
             -23.586
            ],
            [
             -46.4359,
             -23.5861
            ],
            [
             -46.4361,
             -23.5863
            ],
            [
             -46.4363,
             -23.5865
            ],
            [
             -46.4364,
             -23.5865
            ],
            [
             -46.4365,
             -23.5866
            ],
            [
             -46.4365,
             -23.5866
            ],
            [
             -46.438,
             -23.5865
            ],
            [
             -46.4382,
             -23.5862
            ],
            [
             -46.4381,
             -23.5862
            ]
           ]
          ],
          "type": "Polygon"
         },
         "properties": {
          "area_orig_setor_m2": 67587.6267,
          "area_prop": 0.5918,
          "area_setor_hex_m2": 39997.4253,
          "cod_setor": "355030847000190",
          "id_hex": "89a81009a8bffff"
         },
         "type": "Feature"
        },
        {
         "geometry": {
          "coordinates": [
           [
            [
             -46.4365,
             -23.5866
            ],
            [
             -46.4364,
             -23.5865
            ],
            [
             -46.4363,
             -23.5865
            ],
            [
             -46.4361,
             -23.5863
            ],
            [
             -46.4359,
             -23.5861
            ],
            [
             -46.4357,
             -23.586
            ],
            [
             -46.4356,
             -23.5859
            ],
            [
             -46.4356,
             -23.5859
            ],
            [
             -46.4356,
             -23.5858
            ],
            [
             -46.4357,
             -23.5858
            ],
            [
             -46.4358,
             -23.5856
            ],
            [
             -46.4359,
             -23.5856
            ],
            [
             -46.4359,
             -23.5855
            ],
            [
             -46.436,
             -23.5855
            ],
            [
             -46.4361,
             -23.5855
            ],
            [
             -46.4361,
             -23.5854
            ],
            [
             -46.4362,
             -23.5853
            ],
            [
             -46.4363,
             -23.5853
            ],
            [
             -46.4364,
             -23.5851
            ],
            [
             -46.4366,
             -23.5848
            ],
            [
             -46.4367,
             -23.5847
            ],
            [
             -46.4367,
             -23.5846
            ],
            [
             -46.4368,
             -23.5846
            ],
            [
             -46.4369,
             -23.5845
            ],
            [
             -46.4371,
             -23.5844
            ],
            [
             -46.4373,
             -23.5844
            ],
            [
             -46.4374,
             -23.5844
            ],
            [
             -46.4375,
             -23.5844
            ],
            [
             -46.4376,
             -23.5844
            ],
            [
             -46.4379,
             -23.5845
            ],
            [
             -46.4378,
             -23.5849
            ],
            [
             -46.4378,
             -23.5851
            ],
            [
             -46.4378,
             -23.5852
            ],
            [
             -46.4378,
             -23.5853
            ],
            [
             -46.4378,
             -23.5854
            ],
            [
             -46.4377,
             -23.5855
            ],
            [
             -46.4377,
             -23.5856
            ],
            [
             -46.4377,
             -23.5858
            ],
            [
             -46.4378,
             -23.5859
            ],
            [
             -46.4379,
             -23.586
            ],
            [
             -46.4381,
             -23.5862
            ],
            [
             -46.4382,
             -23.5862
            ],
            [
             -46.439,
             -23.5849
            ],
            [
             -46.4379,
             -23.5835
            ],
            [
             -46.4359,
             -23.5835
            ],
            [
             -46.4349,
             -23.5851
            ],
            [
             -46.436,
             -23.5866
            ],
            [
             -46.4365,
             -23.5866
            ],
            [
             -46.4365,
             -23.5866
            ]
           ]
          ],
          "type": "Polygon"
         },
         "properties": {
          "area_orig_setor_m2": 451779.5455,
          "area_prop": 0.1464,
          "area_setor_hex_m2": 66156.9407,
          "cod_setor": "355030847000192",
          "id_hex": "89a81009a8bffff"
         },
         "type": "Feature"
        },
        {
         "geometry": {
          "coordinates": [
           [
            [
             -46.7781,
             -23.8951
            ],
            [
             -46.7782,
             -23.8951
            ],
            [
             -46.7783,
             -23.8951
            ],
            [
             -46.7785,
             -23.8951
            ],
            [
             -46.7788,
             -23.895
            ],
            [
             -46.7792,
             -23.8948
            ],
            [
             -46.7796,
             -23.8947
            ],
            [
             -46.7799,
             -23.8947
            ],
            [
             -46.78,
             -23.8946
            ],
            [
             -46.7805,
             -23.8946
            ],
            [
             -46.7806,
             -23.8946
            ],
            [
             -46.7807,
             -23.8946
            ],
            [
             -46.7808,
             -23.8948
            ],
            [
             -46.7809,
             -23.8949
            ],
            [
             -46.7805,
             -23.8953
            ],
            [
             -46.7802,
             -23.8958
            ],
            [
             -46.7798,
             -23.8961
            ],
            [
             -46.7792,
             -23.8965
            ],
            [
             -46.7786,
             -23.8967
            ],
            [
             -46.7789,
             -23.8971
            ],
            [
             -46.7809,
             -23.897
            ],
            [
             -46.7819,
             -23.8954
            ],
            [
             -46.7808,
             -23.8939
            ],
            [
             -46.7788,
             -23.894
            ],
            [
             -46.7781,
             -23.8951
            ],
            [
             -46.7781,
             -23.8951
            ]
           ]
          ],
          "type": "Polygon"
         },
         "properties": {
          "area_orig_setor_m2": 2103500.7571,
          "area_prop": 0.0307,
          "area_setor_hex_m2": 64531.0874,
          "cod_setor": "355030852000051",
          "id_hex": "89a8108dca7ffff"
         },
         "type": "Feature"
        },
        {
         "geometry": {
          "coordinates": [
           [
            [
             -46.7808,
             -23.8948
            ],
            [
             -46.7807,
             -23.8946
            ],
            [
             -46.7806,
             -23.8946
            ],
            [
             -46.7805,
             -23.8946
            ],
            [
             -46.78,
             -23.8946
            ],
            [
             -46.7799,
             -23.8947
            ],
            [
             -46.7796,
             -23.8947
            ],
            [
             -46.7792,
             -23.8948
            ],
            [
             -46.7788,
             -23.895
            ],
            [
             -46.7785,
             -23.8951
            ],
            [
             -46.7783,
             -23.8951
            ],
            [
             -46.7782,
             -23.8951
            ],
            [
             -46.7781,
             -23.8951
            ],
            [
             -46.7781,
             -23.8951
            ],
            [
             -46.7778,
             -23.8956
            ],
            [
             -46.7786,
             -23.8967
            ],
            [
             -46.7792,
             -23.8965
            ],
            [
             -46.7798,
             -23.8961
            ],
            [
             -46.7802,
             -23.8958
            ],
            [
             -46.7805,
             -23.8953
            ],
            [
             -46.7809,
             -23.8949
            ],
            [
             -46.7808,
             -23.8948
            ]
           ]
          ],
          "type": "Polygon"
         },
         "properties": {
          "area_orig_setor_m2": 2977044.044,
          "area_prop": 0.0137,
          "area_setor_hex_m2": 40883.1422,
          "cod_setor": "355030852000053",
          "id_hex": "89a8108dca7ffff"
         },
         "type": "Feature"
        },
        {
         "geometry": {
          "coordinates": [
           [
            [
             -46.7413,
             -23.7221
            ],
            [
             -46.7406,
             -23.7229
            ],
            [
             -46.742,
             -23.7228
            ],
            [
             -46.743,
             -23.7212
            ],
            [
             -46.7425,
             -23.7205
            ],
            [
             -46.7413,
             -23.7221
            ]
           ]
          ],
          "type": "Polygon"
         },
         "properties": {
          "area_orig_setor_m2": 6040579.3064,
          "area_prop": 0.0043,
          "area_setor_hex_m2": 25944.4487,
          "cod_setor": "355030843000097",
          "id_hex": "89a81015a8bffff"
         },
         "type": "Feature"
        },
        {
         "geometry": {
          "coordinates": [
           [
            [
             -46.7413,
             -23.7221
            ],
            [
             -46.7425,
             -23.7205
            ],
            [
             -46.7419,
             -23.7197
            ],
            [
             -46.7399,
             -23.7198
            ],
            [
             -46.7389,
             -23.7214
            ],
            [
             -46.74,
             -23.7229
            ],
            [
             -46.7406,
             -23.7229
            ],
            [
             -46.7413,
             -23.7221
            ]
           ]
          ],
          "type": "Polygon"
         },
         "properties": {
          "area_orig_setor_m2": 1901910.5342,
          "area_prop": 0.042,
          "area_setor_hex_m2": 79820.2881,
          "cod_setor": "355030846000242",
          "id_hex": "89a81015a8bffff"
         },
         "type": "Feature"
        }
       ],
       "type": "FeatureCollection"
      },
      "text/html": [
       "<table class=\"dataframe\">\n",
       "<caption>A sf: 6 × 6</caption>\n",
       "<thead>\n",
       "\t<tr><th scope=col>cod_setor</th><th scope=col>area_orig_setor_m2</th><th scope=col>id_hex</th><th scope=col>area_setor_hex_m2</th><th scope=col>area_prop</th><th scope=col>geometry</th></tr>\n",
       "\t<tr><th scope=col>&lt;chr&gt;</th><th scope=col>&lt;dbl&gt;</th><th scope=col>&lt;chr&gt;</th><th scope=col>&lt;dbl&gt;</th><th scope=col>&lt;dbl&gt;</th><th scope=col>&lt;POLYGON [°]&gt;</th></tr>\n",
       "</thead>\n",
       "<tbody>\n",
       "\t<tr><td>355030847000190</td><td>  67587.63</td><td>89a81009a8bffff</td><td>39997.43</td><td>0.591786208</td><td>POLYGON ((-46.43809 -23.586...</td></tr>\n",
       "\t<tr><td>355030847000192</td><td> 451779.55</td><td>89a81009a8bffff</td><td>66156.94</td><td>0.146436335</td><td>POLYGON ((-46.43647 -23.586...</td></tr>\n",
       "\t<tr><td>355030852000051</td><td>2103500.76</td><td>89a8108dca7ffff</td><td>64531.09</td><td>0.030677948</td><td>POLYGON ((-46.77808 -23.895...</td></tr>\n",
       "\t<tr><td>355030852000053</td><td>2977044.04</td><td>89a8108dca7ffff</td><td>40883.14</td><td>0.013732797</td><td>POLYGON ((-46.78082 -23.894...</td></tr>\n",
       "\t<tr><td>355030843000097</td><td>6040579.31</td><td>89a81015a8bffff</td><td>25944.45</td><td>0.004295027</td><td>POLYGON ((-46.74133 -23.722...</td></tr>\n",
       "\t<tr><td>355030846000242</td><td>1901910.53</td><td>89a81015a8bffff</td><td>79820.29</td><td>0.041968477</td><td>POLYGON ((-46.74133 -23.722...</td></tr>\n",
       "</tbody>\n",
       "</table>\n"
      ],
      "text/latex": [
       "A sf: 6 × 6\n",
       "\\begin{tabular}{llllll}\n",
       " cod\\_setor & area\\_orig\\_setor\\_m2 & id\\_hex & area\\_setor\\_hex\\_m2 & area\\_prop & geometry\\\\\n",
       " <chr> & <dbl> & <chr> & <dbl> & <dbl> & <POLYGON {[}°{]}>\\\\\n",
       "\\hline\n",
       "\t 355030847000190 &   67587.63 & 89a81009a8bffff & 39997.43 & 0.591786208 & POLYGON ((-46.43809 -23.586...\\\\\n",
       "\t 355030847000192 &  451779.55 & 89a81009a8bffff & 66156.94 & 0.146436335 & POLYGON ((-46.43647 -23.586...\\\\\n",
       "\t 355030852000051 & 2103500.76 & 89a8108dca7ffff & 64531.09 & 0.030677948 & POLYGON ((-46.77808 -23.895...\\\\\n",
       "\t 355030852000053 & 2977044.04 & 89a8108dca7ffff & 40883.14 & 0.013732797 & POLYGON ((-46.78082 -23.894...\\\\\n",
       "\t 355030843000097 & 6040579.31 & 89a81015a8bffff & 25944.45 & 0.004295027 & POLYGON ((-46.74133 -23.722...\\\\\n",
       "\t 355030846000242 & 1901910.53 & 89a81015a8bffff & 79820.29 & 0.041968477 & POLYGON ((-46.74133 -23.722...\\\\\n",
       "\\end{tabular}\n"
      ],
      "text/markdown": [
       "\n",
       "A sf: 6 × 6\n",
       "\n",
       "| cod_setor &lt;chr&gt; | area_orig_setor_m2 &lt;dbl&gt; | id_hex &lt;chr&gt; | area_setor_hex_m2 &lt;dbl&gt; | area_prop &lt;dbl&gt; | geometry &lt;POLYGON [°]&gt; |\n",
       "|---|---|---|---|---|---|\n",
       "| 355030847000190 |   67587.63 | 89a81009a8bffff | 39997.43 | 0.591786208 | POLYGON ((-46.43809 -23.586... |\n",
       "| 355030847000192 |  451779.55 | 89a81009a8bffff | 66156.94 | 0.146436335 | POLYGON ((-46.43647 -23.586... |\n",
       "| 355030852000051 | 2103500.76 | 89a8108dca7ffff | 64531.09 | 0.030677948 | POLYGON ((-46.77808 -23.895... |\n",
       "| 355030852000053 | 2977044.04 | 89a8108dca7ffff | 40883.14 | 0.013732797 | POLYGON ((-46.78082 -23.894... |\n",
       "| 355030843000097 | 6040579.31 | 89a81015a8bffff | 25944.45 | 0.004295027 | POLYGON ((-46.74133 -23.722... |\n",
       "| 355030846000242 | 1901910.53 | 89a81015a8bffff | 79820.29 | 0.041968477 | POLYGON ((-46.74133 -23.722... |\n",
       "\n"
      ],
      "text/plain": [
       "  cod_setor       area_orig_setor_m2 id_hex          area_setor_hex_m2\n",
       "1 355030847000190   67587.63         89a81009a8bffff 39997.43         \n",
       "2 355030847000192  451779.55         89a81009a8bffff 66156.94         \n",
       "3 355030852000051 2103500.76         89a8108dca7ffff 64531.09         \n",
       "4 355030852000053 2977044.04         89a8108dca7ffff 40883.14         \n",
       "5 355030843000097 6040579.31         89a81015a8bffff 25944.45         \n",
       "6 355030846000242 1901910.53         89a81015a8bffff 79820.29         \n",
       "  area_prop   geometry                      \n",
       "1 0.591786208 POLYGON ((-46.43809 -23.586...\n",
       "2 0.146436335 POLYGON ((-46.43647 -23.586...\n",
       "3 0.030677948 POLYGON ((-46.77808 -23.895...\n",
       "4 0.013732797 POLYGON ((-46.78082 -23.894...\n",
       "5 0.004295027 POLYGON ((-46.74133 -23.722...\n",
       "6 0.041968477 POLYGON ((-46.74133 -23.722..."
      ]
     },
     "metadata": {},
     "output_type": "display_data"
    }
   ],
   "source": [
    "# Calcular área proporcional à interseção com o hexágonos\n",
    "setores_hex <- setores_hex %>% mutate(area_setor_hex_m2 = as.numeric(st_area(.)), \n",
    "                                      area_prop = area_setor_hex_m2 / area_orig_setor_m2,\n",
    "                                      .before = 'geometry')\n",
    "\n",
    "head(setores_hex)"
   ]
  },
  {
   "cell_type": "code",
   "execution_count": 8,
   "id": "8a441574",
   "metadata": {},
   "outputs": [
    {
     "data": {
      "application/geo+json": {
       "features": [
        {
         "geometry": {
          "coordinates": [
           [
            [
             -46.5723,
             -23.567
            ],
            [
             -46.5715,
             -23.5677
            ],
            [
             -46.5711,
             -23.5672
            ],
            [
             -46.5699,
             -23.566
            ],
            [
             -46.5697,
             -23.5657
            ],
            [
             -46.5696,
             -23.5659
            ],
            [
             -46.5696,
             -23.5662
            ],
            [
             -46.5696,
             -23.5667
            ],
            [
             -46.5696,
             -23.5671
            ],
            [
             -46.5695,
             -23.5674
            ],
            [
             -46.5701,
             -23.5682
            ],
            [
             -46.5722,
             -23.5681
            ],
            [
             -46.5727,
             -23.5674
            ],
            [
             -46.5723,
             -23.567
            ]
           ]
          ],
          "type": "Polygon"
         },
         "properties": {
          "area_orig_setor_m2": 72144.991,
          "area_prop": 0.5548,
          "area_setor_hex_m2": 40023.108,
          "cod_setor": "355030801000001",
          "id_hex": "89a8100d423ffff"
         },
         "type": "Feature"
        },
        {
         "geometry": {
          "coordinates": [
           [
            [
             -46.5696,
             -23.5656
            ],
            [
             -46.5696,
             -23.5658
            ],
            [
             -46.5696,
             -23.5659
            ],
            [
             -46.5696,
             -23.5659
            ],
            [
             -46.5697,
             -23.5657
            ],
            [
             -46.5696,
             -23.5656
            ]
           ]
          ],
          "type": "Polygon"
         },
         "properties": {
          "area_orig_setor_m2": 72144.991,
          "area_prop": 0.0026,
          "area_setor_hex_m2": 186.5239,
          "cod_setor": "355030801000001",
          "id_hex": "89a8100d42bffff"
         },
         "type": "Feature"
        },
        {
         "geometry": {
          "coordinates": [
           [
            [
             -46.5701,
             -23.5692
            ],
            [
             -46.5706,
             -23.5691
            ],
            [
             -46.571,
             -23.5687
            ],
            [
             -46.5714,
             -23.5692
            ],
            [
             -46.5722,
             -23.5685
            ],
            [
             -46.5724,
             -23.5684
            ],
            [
             -46.5722,
             -23.5681
            ],
            [
             -46.5701,
             -23.5682
            ],
            [
             -46.5696,
             -23.5692
            ],
            [
             -46.5701,
             -23.5692
            ]
           ]
          ],
          "type": "Polygon"
         },
         "properties": {
          "area_orig_setor_m2": 72144.991,
          "area_prop": 0.2888,
          "area_setor_hex_m2": 20834.734,
          "cod_setor": "355030801000001",
          "id_hex": "89a8100d433ffff"
         },
         "type": "Feature"
        },
        {
         "geometry": {
          "coordinates": [
           [
            [
             -46.5724,
             -23.5684
            ],
            [
             -46.5731,
             -23.5678
            ],
            [
             -46.5728,
             -23.5675
            ],
            [
             -46.5727,
             -23.5674
            ],
            [
             -46.5722,
             -23.5681
            ],
            [
             -46.5724,
             -23.5684
            ],
            [
             -46.5724,
             -23.5684
            ]
           ]
          ],
          "type": "Polygon"
         },
         "properties": {
          "area_orig_setor_m2": 72144.991,
          "area_prop": 0.0664,
          "area_setor_hex_m2": 4793.5848,
          "cod_setor": "355030801000001",
          "id_hex": "89a8100d437ffff"
         },
         "type": "Feature"
        },
        {
         "geometry": {
          "coordinates": [
           [
            [
             -46.5696,
             -23.5692
            ],
            [
             -46.5701,
             -23.5682
            ],
            [
             -46.5695,
             -23.5674
            ],
            [
             -46.5695,
             -23.5681
            ],
            [
             -46.5695,
             -23.5684
            ],
            [
             -46.5695,
             -23.5692
            ],
            [
             -46.5696,
             -23.5692
            ]
           ]
          ],
          "type": "Polygon"
         },
         "properties": {
          "area_orig_setor_m2": 72144.991,
          "area_prop": 0.0874,
          "area_setor_hex_m2": 6307.0426,
          "cod_setor": "355030801000001",
          "id_hex": "89a8100d43bffff"
         },
         "type": "Feature"
        },
        {
         "geometry": {
          "coordinates": [
           [
            [
             -46.5694,
             -23.5663
            ],
            [
             -46.5694,
             -23.5662
            ],
            [
             -46.5691,
             -23.5667
            ],
            [
             -46.5692,
             -23.5669
            ],
            [
             -46.5694,
             -23.5663
            ]
           ]
          ],
          "type": "Polygon"
         },
         "properties": {
          "area_orig_setor_m2": 71635.9066,
          "area_prop": 0.0086,
          "area_setor_hex_m2": 613.4269,
          "cod_setor": "355030801000002",
          "id_hex": "89a8100d423ffff"
         },
         "type": "Feature"
        },
        {
         "geometry": {
          "coordinates": [
           [
            [
             -46.5694,
             -23.5662
            ],
            [
             -46.5695,
             -23.5659
            ],
            [
             -46.5696,
             -23.5656
            ],
            [
             -46.569,
             -23.5651
            ],
            [
             -46.5687,
             -23.5648
            ],
            [
             -46.5687,
             -23.5647
            ],
            [
             -46.5686,
             -23.5648
            ],
            [
             -46.5683,
             -23.565
            ],
            [
             -46.568,
             -23.5652
            ],
            [
             -46.5679,
             -23.5653
            ],
            [
             -46.5678,
             -23.5653
            ],
            [
             -46.5677,
             -23.5654
            ],
            [
             -46.5671,
             -23.5657
            ],
            [
             -46.5668,
             -23.5658
            ],
            [
             -46.5667,
             -23.5658
            ],
            [
             -46.5669,
             -23.5662
            ],
            [
             -46.567,
             -23.5664
            ],
            [
             -46.5671,
             -23.5664
            ],
            [
             -46.5671,
             -23.5665
            ],
            [
             -46.5671,
             -23.5667
            ],
            [
             -46.5672,
             -23.5668
            ],
            [
             -46.5691,
             -23.5667
            ],
            [
             -46.5694,
             -23.5662
            ],
            [
             -46.5694,
             -23.5662
            ]
           ]
          ],
          "type": "Polygon"
         },
         "properties": {
          "area_orig_setor_m2": 71635.9066,
          "area_prop": 0.5991,
          "area_setor_hex_m2": 42916.2756,
          "cod_setor": "355030801000002",
          "id_hex": "89a8100d42bffff"
         },
         "type": "Feature"
        },
        {
         "geometry": {
          "coordinates": [
           [
            [
             -46.5688,
             -23.5683
            ],
            [
             -46.5688,
             -23.5682
            ],
            [
             -46.569,
             -23.5675
            ],
            [
             -46.5691,
             -23.5672
            ],
            [
             -46.5692,
             -23.5669
            ],
            [
             -46.5691,
             -23.5667
            ],
            [
             -46.5672,
             -23.5668
            ],
            [
             -46.5672,
             -23.567
            ],
            [
             -46.5675,
             -23.5682
            ],
            [
             -46.5676,
             -23.5684
            ],
            [
             -46.5681,
             -23.5683
            ],
            [
             -46.5682,
             -23.5683
            ],
            [
             -46.5686,
             -23.5682
            ],
            [
             -46.5687,
             -23.5685
            ],
            [
             -46.5688,
             -23.5683
            ]
           ]
          ],
          "type": "Polygon"
         },
         "properties": {
          "area_orig_setor_m2": 71635.9066,
          "area_prop": 0.3923,
          "area_setor_hex_m2": 28106.2024,
          "cod_setor": "355030801000002",
          "id_hex": "89a8100d43bffff"
         },
         "type": "Feature"
        },
        {
         "geometry": {
          "coordinates": [
           [
            [
             -46.5676,
             -23.5704
            ],
            [
             -46.5676,
             -23.5705
            ],
            [
             -46.5677,
             -23.5706
            ],
            [
             -46.5678,
             -23.5707
            ],
            [
             -46.568,
             -23.5707
            ],
            [
             -46.5681,
             -23.5707
            ],
            [
             -46.5682,
             -23.5707
            ],
            [
             -46.5683,
             -23.5707
            ],
            [
             -46.5684,
             -23.5706
            ],
            [
             -46.5685,
             -23.5706
            ],
            [
             -46.5685,
             -23.5705
            ],
            [
             -46.5685,
             -23.5704
            ],
            [
             -46.5686,
             -23.5701
            ],
            [
             -46.5686,
             -23.5698
            ],
            [
             -46.5673,
             -23.5699
            ],
            [
             -46.5676,
             -23.5704
            ]
           ]
          ],
          "type": "Polygon"
         },
         "properties": {
          "area_orig_setor_m2": 55977.6661,
          "area_prop": 0.1637,
          "area_setor_hex_m2": 9165.5267,
          "cod_setor": "355030801000003",
          "id_hex": "89a8100d407ffff"
         },
         "type": "Feature"
        },
        {
         "geometry": {
          "coordinates": [
           [
            [
             -46.5671,
             -23.5667
            ],
            [
             -46.5671,
             -23.5665
            ],
            [
             -46.5671,
             -23.5664
            ],
            [
             -46.567,
             -23.5664
            ],
            [
             -46.5669,
             -23.5662
            ],
            [
             -46.5667,
             -23.5658
            ],
            [
             -46.5664,
             -23.566
            ],
            [
             -46.567,
             -23.5668
            ],
            [
             -46.5672,
             -23.5668
            ],
            [
             -46.5671,
             -23.5667
            ]
           ]
          ],
          "type": "Polygon"
         },
         "properties": {
          "area_orig_setor_m2": 55977.6661,
          "area_prop": 0.0542,
          "area_setor_hex_m2": 3032.7247,
          "cod_setor": "355030801000003",
          "id_hex": "89a8100d42bffff"
         },
         "type": "Feature"
        },
        {
         "geometry": {
          "coordinates": [
           [
            [
             -46.5685,
             -23.5695
            ],
            [
             -46.5685,
             -23.5694
            ],
            [
             -46.5685,
             -23.5691
            ],
            [
             -46.5686,
             -23.569
            ],
            [
             -46.5686,
             -23.5689
            ],
            [
             -46.5687,
             -23.5685
            ],
            [
             -46.5686,
             -23.5682
            ],
            [
             -46.5682,
             -23.5683
            ],
            [
             -46.5681,
             -23.5683
            ],
            [
             -46.5676,
             -23.5684
            ],
            [
             -46.5675,
             -23.5682
            ],
            [
             -46.5672,
             -23.567
            ],
            [
             -46.5672,
             -23.5668
            ],
            [
             -46.567,
             -23.5668
            ],
            [
             -46.5666,
             -23.5675
            ],
            [
             -46.5667,
             -23.5681
            ],
            [
             -46.5667,
             -23.5682
            ],
            [
             -46.5668,
             -23.5683
            ],
            [
             -46.5669,
             -23.5686
            ],
            [
             -46.567,
             -23.5688
            ],
            [
             -46.567,
             -23.5688
            ],
            [
             -46.567,
             -23.5689
            ],
            [
             -46.567,
             -23.5692
            ],
            [
             -46.5671,
             -23.5693
            ],
            [
             -46.5671,
             -23.5694
            ],
            [
             -46.5671,
             -23.5696
            ],
            [
             -46.5673,
             -23.5698
            ],
            [
             -46.5673,
             -23.5699
            ],
            [
             -46.5686,
             -23.5698
            ],
            [
             -46.5686,
             -23.5697
            ],
            [
             -46.5686,
             -23.5697
            ],
            [
             -46.5685,
             -23.5695
            ]
           ]
          ],
          "type": "Polygon"
         },
         "properties": {
          "area_orig_setor_m2": 55977.6661,
          "area_prop": 0.6801,
          "area_setor_hex_m2": 38069.5294,
          "cod_setor": "355030801000003",
          "id_hex": "89a8100d43bffff"
         },
         "type": "Feature"
        },
        {
         "geometry": {
          "coordinates": [
           [
            [
             -46.5662,
             -23.566
            ],
            [
             -46.5662,
             -23.5661
            ],
            [
             -46.5663,
             -23.5663
            ],
            [
             -46.5664,
             -23.5666
            ],
            [
             -46.5665,
             -23.5667
            ],
            [
             -46.5665,
             -23.5667
            ],
            [
             -46.5665,
             -23.5669
            ],
            [
             -46.5665,
             -23.567
            ],
            [
             -46.5666,
             -23.5673
            ],
            [
             -46.5666,
             -23.5675
            ],
            [
             -46.567,
             -23.5668
            ],
            [
             -46.5664,
             -23.566
            ],
            [
             -46.5662,
             -23.566
            ]
           ]
          ],
          "type": "Polygon"
         },
         "properties": {
          "area_orig_setor_m2": 55977.6661,
          "area_prop": 0.102,
          "area_setor_hex_m2": 5709.8844,
          "cod_setor": "355030801000003",
          "id_hex": "89a8100d477ffff"
         },
         "type": "Feature"
        },
        {
         "geometry": {
          "coordinates": [
           [
            [
             -46.5691,
             -23.5727
            ],
            [
             -46.5691,
             -23.5727
            ],
            [
             -46.5688,
             -23.5725
            ],
            [
             -46.5692,
             -23.5718
            ],
            [
             -46.5693,
             -23.5716
            ],
            [
             -46.5694,
             -23.5715
            ],
            [
             -46.5694,
             -23.5714
            ],
            [
             -46.5695,
             -23.5713
            ],
            [
             -46.5695,
             -23.5712
            ],
            [
             -46.5695,
             -23.5711
            ],
            [
             -46.5695,
             -23.5704
            ],
            [
             -46.5695,
             -23.5703
            ],
            [
             -46.5692,
             -23.5698
            ],
            [
             -46.5686,
             -23.5698
            ],
            [
             -46.5686,
             -23.5701
            ],
            [
             -46.5685,
             -23.5704
            ],
            [
             -46.5685,
             -23.5705
            ],
            [
             -46.5685,
             -23.5707
            ],
            [
             -46.5686,
             -23.5713
            ],
            [
             -46.5686,
             -23.5713
            ],
            [
             -46.5685,
             -23.5713
            ],
            [
             -46.5682,
             -23.5714
            ],
            [
             -46.5681,
             -23.5714
            ],
            [
             -46.5681,
             -23.5715
            ],
            [
             -46.5681,
             -23.5717
            ],
            [
             -46.5681,
             -23.5718
            ],
            [
             -46.5681,
             -23.572
            ],
            [
             -46.5681,
             -23.5721
            ],
            [
             -46.5678,
             -23.5725
            ],
            [
             -46.5677,
             -23.5727
            ],
            [
             -46.5676,
             -23.573
            ],
            [
             -46.5692,
             -23.5729
            ],
            [
             -46.5691,
             -23.5727
            ]
           ]
          ],
          "type": "Polygon"
         },
         "properties": {
          "area_orig_setor_m2": 68411.6199,
          "area_prop": 0.516,
          "area_setor_hex_m2": 35300.4534,
          "cod_setor": "355030801000004",
          "id_hex": "89a8100d407ffff"
         },
         "type": "Feature"
        },
        {
         "geometry": {
          "coordinates": [
           [
            [
             -46.5693,
             -23.573
            ],
            [
             -46.5693,
             -23.573
            ],
            [
             -46.5693,
             -23.573
            ],
            [
             -46.5693,
             -23.573
            ],
            [
             -46.5692,
             -23.5729
            ],
            [
             -46.5676,
             -23.573
            ],
            [
             -46.5675,
             -23.5732
            ],
            [
             -46.5674,
             -23.5733
            ],
            [
             -46.5682,
             -23.5732
            ],
            [
             -46.5684,
             -23.5731
            ],
            [
             -46.5693,
             -23.573
            ],
            [
             -46.5693,
             -23.573
            ],
            [
             -46.5694,
             -23.573
            ],
            [
             -46.5694,
             -23.573
            ],
            [
             -46.5693,
             -23.573
            ]
           ]
          ],
          "type": "Polygon"
         },
         "properties": {
          "area_orig_setor_m2": 68411.6199,
          "area_prop": 0.0693,
          "area_setor_hex_m2": 4743.6385,
          "cod_setor": "355030801000004",
          "id_hex": "89a8100d417ffff"
         },
         "type": "Feature"
        },
        {
         "geometry": {
          "coordinates": [
           [
            [
             -46.5696,
             -23.5671
            ],
            [
             -46.5696,
             -23.5667
            ],
            [
             -46.5696,
             -23.5662
            ],
            [
             -46.5696,
             -23.5659
            ],
            [
             -46.5694,
             -23.5662
            ],
            [
             -46.5694,
             -23.5663
            ],
            [
             -46.5692,
             -23.5669
            ],
            [
             -46.5695,
             -23.5674
            ],
            [
             -46.5696,
             -23.5671
            ]
           ]
          ],
          "type": "Polygon"
         },
         "properties": {
          "area_orig_setor_m2": 68411.6199,
          "area_prop": 0.0519,
          "area_setor_hex_m2": 3552.3045,
          "cod_setor": "355030801000004",
          "id_hex": "89a8100d423ffff"
         },
         "type": "Feature"
        }
       ],
       "type": "FeatureCollection"
      },
      "text/html": [
       "<table class=\"dataframe\">\n",
       "<caption>A sf: 15 × 6</caption>\n",
       "<thead>\n",
       "\t<tr><th scope=col>cod_setor</th><th scope=col>area_orig_setor_m2</th><th scope=col>id_hex</th><th scope=col>area_setor_hex_m2</th><th scope=col>area_prop</th><th scope=col>geometry</th></tr>\n",
       "\t<tr><th scope=col>&lt;chr&gt;</th><th scope=col>&lt;dbl&gt;</th><th scope=col>&lt;chr&gt;</th><th scope=col>&lt;dbl&gt;</th><th scope=col>&lt;dbl&gt;</th><th scope=col>&lt;POLYGON [°]&gt;</th></tr>\n",
       "</thead>\n",
       "<tbody>\n",
       "\t<tr><td>355030801000001</td><td>72144.99</td><td>89a8100d423ffff</td><td>40023.1080</td><td>0.554759346</td><td>POLYGON ((-46.57234 -23.567...</td></tr>\n",
       "\t<tr><td>355030801000001</td><td>72144.99</td><td>89a8100d42bffff</td><td>  186.5239</td><td>0.002585403</td><td>POLYGON ((-46.56955 -23.565...</td></tr>\n",
       "\t<tr><td>355030801000001</td><td>72144.99</td><td>89a8100d433ffff</td><td>20834.7340</td><td>0.288789751</td><td>POLYGON ((-46.57005 -23.569...</td></tr>\n",
       "\t<tr><td>355030801000001</td><td>72144.99</td><td>89a8100d437ffff</td><td> 4793.5848</td><td>0.066443764</td><td>POLYGON ((-46.5724 -23.5683...</td></tr>\n",
       "\t<tr><td>355030801000001</td><td>72144.99</td><td>89a8100d43bffff</td><td> 6307.0426</td><td>0.087421767</td><td>POLYGON ((-46.56956 -23.569...</td></tr>\n",
       "\t<tr><td>355030801000002</td><td>71635.91</td><td>89a8100d423ffff</td><td>  613.4269</td><td>0.008563120</td><td>POLYGON ((-46.56936 -23.566...</td></tr>\n",
       "\t<tr><td>355030801000002</td><td>71635.91</td><td>89a8100d42bffff</td><td>42916.2756</td><td>0.599088887</td><td>POLYGON ((-46.56938 -23.566...</td></tr>\n",
       "\t<tr><td>355030801000002</td><td>71635.91</td><td>89a8100d43bffff</td><td>28106.2024</td><td>0.392347968</td><td>POLYGON ((-46.56878 -23.568...</td></tr>\n",
       "\t<tr><td>355030801000003</td><td>55977.67</td><td>89a8100d407ffff</td><td> 9165.5267</td><td>0.163735420</td><td>POLYGON ((-46.5676 -23.5703...</td></tr>\n",
       "\t<tr><td>355030801000003</td><td>55977.67</td><td>89a8100d42bffff</td><td> 3032.7247</td><td>0.054177405</td><td>POLYGON ((-46.56713 -23.566...</td></tr>\n",
       "\t<tr><td>355030801000003</td><td>55977.67</td><td>89a8100d43bffff</td><td>38069.5294</td><td>0.680084255</td><td>POLYGON ((-46.56854 -23.569...</td></tr>\n",
       "\t<tr><td>355030801000003</td><td>55977.67</td><td>89a8100d477ffff</td><td> 5709.8844</td><td>0.102002901</td><td>POLYGON ((-46.56625 -23.566...</td></tr>\n",
       "\t<tr><td>355030801000004</td><td>68411.62</td><td>89a8100d407ffff</td><td>35300.4534</td><td>0.516000842</td><td>POLYGON ((-46.56908 -23.572...</td></tr>\n",
       "\t<tr><td>355030801000004</td><td>68411.62</td><td>89a8100d417ffff</td><td> 4743.6385</td><td>0.069339661</td><td>POLYGON ((-46.56935 -23.573...</td></tr>\n",
       "\t<tr><td>355030801000004</td><td>68411.62</td><td>89a8100d423ffff</td><td> 3552.3045</td><td>0.051925455</td><td>POLYGON ((-46.56956 -23.567...</td></tr>\n",
       "</tbody>\n",
       "</table>\n"
      ],
      "text/latex": [
       "A sf: 15 × 6\n",
       "\\begin{tabular}{llllll}\n",
       " cod\\_setor & area\\_orig\\_setor\\_m2 & id\\_hex & area\\_setor\\_hex\\_m2 & area\\_prop & geometry\\\\\n",
       " <chr> & <dbl> & <chr> & <dbl> & <dbl> & <POLYGON {[}°{]}>\\\\\n",
       "\\hline\n",
       "\t 355030801000001 & 72144.99 & 89a8100d423ffff & 40023.1080 & 0.554759346 & POLYGON ((-46.57234 -23.567...\\\\\n",
       "\t 355030801000001 & 72144.99 & 89a8100d42bffff &   186.5239 & 0.002585403 & POLYGON ((-46.56955 -23.565...\\\\\n",
       "\t 355030801000001 & 72144.99 & 89a8100d433ffff & 20834.7340 & 0.288789751 & POLYGON ((-46.57005 -23.569...\\\\\n",
       "\t 355030801000001 & 72144.99 & 89a8100d437ffff &  4793.5848 & 0.066443764 & POLYGON ((-46.5724 -23.5683...\\\\\n",
       "\t 355030801000001 & 72144.99 & 89a8100d43bffff &  6307.0426 & 0.087421767 & POLYGON ((-46.56956 -23.569...\\\\\n",
       "\t 355030801000002 & 71635.91 & 89a8100d423ffff &   613.4269 & 0.008563120 & POLYGON ((-46.56936 -23.566...\\\\\n",
       "\t 355030801000002 & 71635.91 & 89a8100d42bffff & 42916.2756 & 0.599088887 & POLYGON ((-46.56938 -23.566...\\\\\n",
       "\t 355030801000002 & 71635.91 & 89a8100d43bffff & 28106.2024 & 0.392347968 & POLYGON ((-46.56878 -23.568...\\\\\n",
       "\t 355030801000003 & 55977.67 & 89a8100d407ffff &  9165.5267 & 0.163735420 & POLYGON ((-46.5676 -23.5703...\\\\\n",
       "\t 355030801000003 & 55977.67 & 89a8100d42bffff &  3032.7247 & 0.054177405 & POLYGON ((-46.56713 -23.566...\\\\\n",
       "\t 355030801000003 & 55977.67 & 89a8100d43bffff & 38069.5294 & 0.680084255 & POLYGON ((-46.56854 -23.569...\\\\\n",
       "\t 355030801000003 & 55977.67 & 89a8100d477ffff &  5709.8844 & 0.102002901 & POLYGON ((-46.56625 -23.566...\\\\\n",
       "\t 355030801000004 & 68411.62 & 89a8100d407ffff & 35300.4534 & 0.516000842 & POLYGON ((-46.56908 -23.572...\\\\\n",
       "\t 355030801000004 & 68411.62 & 89a8100d417ffff &  4743.6385 & 0.069339661 & POLYGON ((-46.56935 -23.573...\\\\\n",
       "\t 355030801000004 & 68411.62 & 89a8100d423ffff &  3552.3045 & 0.051925455 & POLYGON ((-46.56956 -23.567...\\\\\n",
       "\\end{tabular}\n"
      ],
      "text/markdown": [
       "\n",
       "A sf: 15 × 6\n",
       "\n",
       "| cod_setor &lt;chr&gt; | area_orig_setor_m2 &lt;dbl&gt; | id_hex &lt;chr&gt; | area_setor_hex_m2 &lt;dbl&gt; | area_prop &lt;dbl&gt; | geometry &lt;POLYGON [°]&gt; |\n",
       "|---|---|---|---|---|---|\n",
       "| 355030801000001 | 72144.99 | 89a8100d423ffff | 40023.1080 | 0.554759346 | POLYGON ((-46.57234 -23.567... |\n",
       "| 355030801000001 | 72144.99 | 89a8100d42bffff |   186.5239 | 0.002585403 | POLYGON ((-46.56955 -23.565... |\n",
       "| 355030801000001 | 72144.99 | 89a8100d433ffff | 20834.7340 | 0.288789751 | POLYGON ((-46.57005 -23.569... |\n",
       "| 355030801000001 | 72144.99 | 89a8100d437ffff |  4793.5848 | 0.066443764 | POLYGON ((-46.5724 -23.5683... |\n",
       "| 355030801000001 | 72144.99 | 89a8100d43bffff |  6307.0426 | 0.087421767 | POLYGON ((-46.56956 -23.569... |\n",
       "| 355030801000002 | 71635.91 | 89a8100d423ffff |   613.4269 | 0.008563120 | POLYGON ((-46.56936 -23.566... |\n",
       "| 355030801000002 | 71635.91 | 89a8100d42bffff | 42916.2756 | 0.599088887 | POLYGON ((-46.56938 -23.566... |\n",
       "| 355030801000002 | 71635.91 | 89a8100d43bffff | 28106.2024 | 0.392347968 | POLYGON ((-46.56878 -23.568... |\n",
       "| 355030801000003 | 55977.67 | 89a8100d407ffff |  9165.5267 | 0.163735420 | POLYGON ((-46.5676 -23.5703... |\n",
       "| 355030801000003 | 55977.67 | 89a8100d42bffff |  3032.7247 | 0.054177405 | POLYGON ((-46.56713 -23.566... |\n",
       "| 355030801000003 | 55977.67 | 89a8100d43bffff | 38069.5294 | 0.680084255 | POLYGON ((-46.56854 -23.569... |\n",
       "| 355030801000003 | 55977.67 | 89a8100d477ffff |  5709.8844 | 0.102002901 | POLYGON ((-46.56625 -23.566... |\n",
       "| 355030801000004 | 68411.62 | 89a8100d407ffff | 35300.4534 | 0.516000842 | POLYGON ((-46.56908 -23.572... |\n",
       "| 355030801000004 | 68411.62 | 89a8100d417ffff |  4743.6385 | 0.069339661 | POLYGON ((-46.56935 -23.573... |\n",
       "| 355030801000004 | 68411.62 | 89a8100d423ffff |  3552.3045 | 0.051925455 | POLYGON ((-46.56956 -23.567... |\n",
       "\n"
      ],
      "text/plain": [
       "   cod_setor       area_orig_setor_m2 id_hex          area_setor_hex_m2\n",
       "1  355030801000001 72144.99           89a8100d423ffff 40023.1080       \n",
       "2  355030801000001 72144.99           89a8100d42bffff   186.5239       \n",
       "3  355030801000001 72144.99           89a8100d433ffff 20834.7340       \n",
       "4  355030801000001 72144.99           89a8100d437ffff  4793.5848       \n",
       "5  355030801000001 72144.99           89a8100d43bffff  6307.0426       \n",
       "6  355030801000002 71635.91           89a8100d423ffff   613.4269       \n",
       "7  355030801000002 71635.91           89a8100d42bffff 42916.2756       \n",
       "8  355030801000002 71635.91           89a8100d43bffff 28106.2024       \n",
       "9  355030801000003 55977.67           89a8100d407ffff  9165.5267       \n",
       "10 355030801000003 55977.67           89a8100d42bffff  3032.7247       \n",
       "11 355030801000003 55977.67           89a8100d43bffff 38069.5294       \n",
       "12 355030801000003 55977.67           89a8100d477ffff  5709.8844       \n",
       "13 355030801000004 68411.62           89a8100d407ffff 35300.4534       \n",
       "14 355030801000004 68411.62           89a8100d417ffff  4743.6385       \n",
       "15 355030801000004 68411.62           89a8100d423ffff  3552.3045       \n",
       "   area_prop   geometry                      \n",
       "1  0.554759346 POLYGON ((-46.57234 -23.567...\n",
       "2  0.002585403 POLYGON ((-46.56955 -23.565...\n",
       "3  0.288789751 POLYGON ((-46.57005 -23.569...\n",
       "4  0.066443764 POLYGON ((-46.5724 -23.5683...\n",
       "5  0.087421767 POLYGON ((-46.56956 -23.569...\n",
       "6  0.008563120 POLYGON ((-46.56936 -23.566...\n",
       "7  0.599088887 POLYGON ((-46.56938 -23.566...\n",
       "8  0.392347968 POLYGON ((-46.56878 -23.568...\n",
       "9  0.163735420 POLYGON ((-46.5676 -23.5703...\n",
       "10 0.054177405 POLYGON ((-46.56713 -23.566...\n",
       "11 0.680084255 POLYGON ((-46.56854 -23.569...\n",
       "12 0.102002901 POLYGON ((-46.56625 -23.566...\n",
       "13 0.516000842 POLYGON ((-46.56908 -23.572...\n",
       "14 0.069339661 POLYGON ((-46.56935 -23.573...\n",
       "15 0.051925455 POLYGON ((-46.56956 -23.567..."
      ]
     },
     "metadata": {},
     "output_type": "display_data"
    }
   ],
   "source": [
    "# Ordenar para exportar\n",
    "setores_hex <- setores_hex %>% arrange(cod_setor, id_hex)\n",
    "head(setores_hex, 15)"
   ]
  },
  {
   "cell_type": "code",
   "execution_count": 9,
   "id": "0f8129ea",
   "metadata": {},
   "outputs": [
    {
     "name": "stdout",
     "output_type": "stream",
     "text": [
      "Deleting layer `hex_grid_sp_res09_areas_setores_censitarios' using driver `GPKG'\n",
      "Writing layer `hex_grid_sp_res09_areas_setores_censitarios' to data source `../../yellow_dados/13_aop_optimum/hex_grid_sp_res09_areas_setores_censitarios.gpkg' using driver `GPKG'\n",
      "Writing 70349 features with 5 fields and geometry type Unknown (any).\n"
     ]
    }
   ],
   "source": [
    "# Gravar resultados\n",
    "out_file <- sprintf('%s/hex_grid_sp_res09_areas_setores_censitarios.gpkg', pasta_aop_optimum)\n",
    "st_write(setores_hex, out_file, driver = 'GPKG', append = FALSE)"
   ]
  },
  {
   "cell_type": "code",
   "execution_count": null,
   "id": "26666ed7",
   "metadata": {},
   "outputs": [],
   "source": []
  }
 ],
 "metadata": {
  "kernelspec": {
   "display_name": "R [conda env:r4_env]",
   "language": "R",
   "name": "conda-env-r4_env-r"
  },
  "language_info": {
   "codemirror_mode": "r",
   "file_extension": ".r",
   "mimetype": "text/x-r-source",
   "name": "R",
   "pygments_lexer": "r",
   "version": "4.0.5"
  }
 },
 "nbformat": 4,
 "nbformat_minor": 5
}
