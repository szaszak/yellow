{
 "cells": [
  {
   "cell_type": "code",
   "execution_count": 1,
   "id": "101667b3",
   "metadata": {},
   "outputs": [
    {
     "name": "stderr",
     "output_type": "stream",
     "text": [
      "GDAL version >= 3.1.0 | setting mapviewOptions(fgb = TRUE)\n",
      "\n",
      "Linking to GEOS 3.9.1, GDAL 3.2.2, PROJ 8.0.0\n",
      "\n",
      "\n",
      "Attaching package: ‘jsonlite’\n",
      "\n",
      "\n",
      "The following object is masked from ‘package:purrr’:\n",
      "\n",
      "    flatten\n",
      "\n",
      "\n"
     ]
    }
   ],
   "source": [
    "# Junta todos os arquivos de resultado do map matching\n",
    "\n",
    "# carregar bibliotecas\n",
    "source('fun/setup.R')\n",
    "\n",
    "# Dados a atualizar de acordo com o mês a rodar\n",
    "ano_mes <- '201811'\n",
    "ano_mes <- '201812'\n",
    "ano_mes <- '201901'\n",
    "\n",
    "# Estrutura de pastas\n",
    "pasta_dados        <- \"../../yellow_dados\"\n",
    "pasta_map_matching <- sprintf(\"%s/05_map_matching\", pasta_dados)\n",
    "pasta_mes_mapmatch <- sprintf(\"%s/%s\", pasta_map_matching, ano_mes)\n",
    "# pasta_viagens_csv <- sprintf(\"%s/viagens_processadas_csv\", pasta_mes_mapmatch)\n",
    "pasta_viagens_log <- sprintf(\"%s/viagens_processadas_log\", pasta_mes_mapmatch)"
   ]
  },
  {
   "cell_type": "code",
   "execution_count": 2,
   "id": "2a6eda26",
   "metadata": {},
   "outputs": [
    {
     "name": "stderr",
     "output_type": "stream",
     "text": [
      "mutate: new variable 'reg' (list) with 58,510 unique values and 0% NA\n",
      "\n",
      "slice: removed 117,019 rows (>99%), one row remaining\n",
      "\n",
      "filter: removed 58,510 rows (50%), 58,510 rows remaining\n",
      "\n",
      "select: dropped one variable (../../yellow_dados/05_map_matching/201901/viagens_processadas_log/000265_00.csv)\n",
      "\n"
     ]
    }
   ],
   "source": [
    "# ----------------------------------------------------------\n",
    "# Juntar e salvar resultados em arquivo único\n",
    "# ----------------------------------------------------------\n",
    "\n",
    "# Pegar nomes de todos os .csvs de resultado\n",
    "result_files <- list.files(pasta_viagens_log, pattern = '*.csv', full.names = TRUE)\n",
    "\n",
    "# Criar um dataframe único para todos os registros daquele dia\n",
    "# https://stackoverflow.com/questions/46299777/add-filename-column-to-table-as-multiple-files-are-read-and-bound\n",
    "result_files <- data.frame(n_seq = result_files)\n",
    "\n",
    "# Dataframe temporário para processar uma certa quantidade de linhas\n",
    "tmp_dia <-\n",
    "  result_files %>%\n",
    "  # Abrir cada arquivo e extrair conteúdo em nova coluna\n",
    "  mutate(reg = lapply(n_seq, read_delim, delim = ';', col_types = cols(.default = \"c\"))) %>% \n",
    "  # Transformar cada linha de conteúdo em uma linha nova no tibble (linhas com\n",
    "  # nomes de arquivos vão se repetir para cada linha de conteúdo)\n",
    "  unnest(reg, keep_empty = TRUE) %>% \n",
    "  # Pegar a primeira linha e usar como nomes de colunas, depois descartá-la\n",
    "  # setNames(slice(., 1)) %>% \n",
    "  # Nomes das colunas vieram junto - retirar essas linhas (todas repetidas)\n",
    "  # filter(trip_id != 'trip_id') %>% \n",
    "  # Retirar primeira coluna, com referência aos endereços do arquivo\n",
    "  select(2:12)"
   ]
  },
  {
   "cell_type": "code",
   "execution_count": 3,
   "id": "c99dbefd",
   "metadata": {},
   "outputs": [
    {
     "data": {
      "text/html": [
       "<table class=\"dataframe\">\n",
       "<caption>A tibble: 6 × 11</caption>\n",
       "<thead>\n",
       "\t<tr><th scope=col>trip_id</th><th scope=col>cod_proc</th><th scope=col>n_points</th><th scope=col>qtd_quebras</th><th scope=col>qtd_it_outliers</th><th scope=col>prop_centr_100</th><th scope=col>tempo_total</th><th scope=col>dist_total</th><th scope=col>veloc_vg_kph</th><th scope=col>vg_inicio</th><th scope=col>vg_termino</th></tr>\n",
       "\t<tr><th scope=col>&lt;chr&gt;</th><th scope=col>&lt;chr&gt;</th><th scope=col>&lt;chr&gt;</th><th scope=col>&lt;chr&gt;</th><th scope=col>&lt;chr&gt;</th><th scope=col>&lt;chr&gt;</th><th scope=col>&lt;chr&gt;</th><th scope=col>&lt;chr&gt;</th><th scope=col>&lt;chr&gt;</th><th scope=col>&lt;chr&gt;</th><th scope=col>&lt;chr&gt;</th></tr>\n",
       "</thead>\n",
       "<tbody>\n",
       "\t<tr><td>000265</td><td>00101000000</td><td>70 </td><td>0</td><td>2</td><td>32.86</td><td>359.29299998283386</td><td>1082.006919173991 </td><td>10.841360419525213</td><td>2019-01-02T08:10:14Z</td><td>2019-01-02T08:16:14Z</td></tr>\n",
       "\t<tr><td>000266</td><td>00001000000</td><td>212</td><td>0</td><td>2</td><td>11.79</td><td>1109.667000055313 </td><td>1632.1215917486948</td><td>5.294955811069826 </td><td>2019-01-04T06:11:14Z</td><td>2019-01-04T06:29:43Z</td></tr>\n",
       "\t<tr><td>000268</td><td>00101000000</td><td>145</td><td>0</td><td>3</td><td>0.69 </td><td>1219.4969999790192</td><td>4217.373076382189 </td><td>12.449840446706377</td><td>2019-01-04T20:21:07Z</td><td>2019-01-04T20:41:27Z</td></tr>\n",
       "\t<tr><td>000271</td><td>01111100000</td><td>463</td><td>2</td><td>3</td><td>0.22 </td><td>3100.684000015259 </td><td>6402.112994938577 </td><td>7.433071793728564 </td><td>2019-01-05T18:18:38Z</td><td>2019-01-05T19:10:18Z</td></tr>\n",
       "\t<tr><td>000274</td><td>00101000000</td><td>198</td><td>0</td><td>2</td><td>0    </td><td>2023.816999912262 </td><td>6323.225945048893 </td><td>11.247861542403726</td><td>2019-01-07T18:08:11Z</td><td>2019-01-07T18:41:55Z</td></tr>\n",
       "\t<tr><td>000275</td><td>00101000000</td><td>80 </td><td>0</td><td>2</td><td>2.5  </td><td>920.9500000476837 </td><td>2432.9864241339915</td><td>9.510560971202421 </td><td>2019-01-07T19:10:20Z</td><td>2019-01-07T19:25:41Z</td></tr>\n",
       "</tbody>\n",
       "</table>\n"
      ],
      "text/latex": [
       "A tibble: 6 × 11\n",
       "\\begin{tabular}{lllllllllll}\n",
       " trip\\_id & cod\\_proc & n\\_points & qtd\\_quebras & qtd\\_it\\_outliers & prop\\_centr\\_100 & tempo\\_total & dist\\_total & veloc\\_vg\\_kph & vg\\_inicio & vg\\_termino\\\\\n",
       " <chr> & <chr> & <chr> & <chr> & <chr> & <chr> & <chr> & <chr> & <chr> & <chr> & <chr>\\\\\n",
       "\\hline\n",
       "\t 000265 & 00101000000 & 70  & 0 & 2 & 32.86 & 359.29299998283386 & 1082.006919173991  & 10.841360419525213 & 2019-01-02T08:10:14Z & 2019-01-02T08:16:14Z\\\\\n",
       "\t 000266 & 00001000000 & 212 & 0 & 2 & 11.79 & 1109.667000055313  & 1632.1215917486948 & 5.294955811069826  & 2019-01-04T06:11:14Z & 2019-01-04T06:29:43Z\\\\\n",
       "\t 000268 & 00101000000 & 145 & 0 & 3 & 0.69  & 1219.4969999790192 & 4217.373076382189  & 12.449840446706377 & 2019-01-04T20:21:07Z & 2019-01-04T20:41:27Z\\\\\n",
       "\t 000271 & 01111100000 & 463 & 2 & 3 & 0.22  & 3100.684000015259  & 6402.112994938577  & 7.433071793728564  & 2019-01-05T18:18:38Z & 2019-01-05T19:10:18Z\\\\\n",
       "\t 000274 & 00101000000 & 198 & 0 & 2 & 0     & 2023.816999912262  & 6323.225945048893  & 11.247861542403726 & 2019-01-07T18:08:11Z & 2019-01-07T18:41:55Z\\\\\n",
       "\t 000275 & 00101000000 & 80  & 0 & 2 & 2.5   & 920.9500000476837  & 2432.9864241339915 & 9.510560971202421  & 2019-01-07T19:10:20Z & 2019-01-07T19:25:41Z\\\\\n",
       "\\end{tabular}\n"
      ],
      "text/markdown": [
       "\n",
       "A tibble: 6 × 11\n",
       "\n",
       "| trip_id &lt;chr&gt; | cod_proc &lt;chr&gt; | n_points &lt;chr&gt; | qtd_quebras &lt;chr&gt; | qtd_it_outliers &lt;chr&gt; | prop_centr_100 &lt;chr&gt; | tempo_total &lt;chr&gt; | dist_total &lt;chr&gt; | veloc_vg_kph &lt;chr&gt; | vg_inicio &lt;chr&gt; | vg_termino &lt;chr&gt; |\n",
       "|---|---|---|---|---|---|---|---|---|---|---|\n",
       "| 000265 | 00101000000 | 70  | 0 | 2 | 32.86 | 359.29299998283386 | 1082.006919173991  | 10.841360419525213 | 2019-01-02T08:10:14Z | 2019-01-02T08:16:14Z |\n",
       "| 000266 | 00001000000 | 212 | 0 | 2 | 11.79 | 1109.667000055313  | 1632.1215917486948 | 5.294955811069826  | 2019-01-04T06:11:14Z | 2019-01-04T06:29:43Z |\n",
       "| 000268 | 00101000000 | 145 | 0 | 3 | 0.69  | 1219.4969999790192 | 4217.373076382189  | 12.449840446706377 | 2019-01-04T20:21:07Z | 2019-01-04T20:41:27Z |\n",
       "| 000271 | 01111100000 | 463 | 2 | 3 | 0.22  | 3100.684000015259  | 6402.112994938577  | 7.433071793728564  | 2019-01-05T18:18:38Z | 2019-01-05T19:10:18Z |\n",
       "| 000274 | 00101000000 | 198 | 0 | 2 | 0     | 2023.816999912262  | 6323.225945048893  | 11.247861542403726 | 2019-01-07T18:08:11Z | 2019-01-07T18:41:55Z |\n",
       "| 000275 | 00101000000 | 80  | 0 | 2 | 2.5   | 920.9500000476837  | 2432.9864241339915 | 9.510560971202421  | 2019-01-07T19:10:20Z | 2019-01-07T19:25:41Z |\n",
       "\n"
      ],
      "text/plain": [
       "  trip_id cod_proc    n_points qtd_quebras qtd_it_outliers prop_centr_100\n",
       "1 000265  00101000000 70       0           2               32.86         \n",
       "2 000266  00001000000 212      0           2               11.79         \n",
       "3 000268  00101000000 145      0           3               0.69          \n",
       "4 000271  01111100000 463      2           3               0.22          \n",
       "5 000274  00101000000 198      0           2               0             \n",
       "6 000275  00101000000 80       0           2               2.5           \n",
       "  tempo_total        dist_total         veloc_vg_kph       vg_inicio           \n",
       "1 359.29299998283386 1082.006919173991  10.841360419525213 2019-01-02T08:10:14Z\n",
       "2 1109.667000055313  1632.1215917486948 5.294955811069826  2019-01-04T06:11:14Z\n",
       "3 1219.4969999790192 4217.373076382189  12.449840446706377 2019-01-04T20:21:07Z\n",
       "4 3100.684000015259  6402.112994938577  7.433071793728564  2019-01-05T18:18:38Z\n",
       "5 2023.816999912262  6323.225945048893  11.247861542403726 2019-01-07T18:08:11Z\n",
       "6 920.9500000476837  2432.9864241339915 9.510560971202421  2019-01-07T19:10:20Z\n",
       "  vg_termino          \n",
       "1 2019-01-02T08:16:14Z\n",
       "2 2019-01-04T06:29:43Z\n",
       "3 2019-01-04T20:41:27Z\n",
       "4 2019-01-05T19:10:18Z\n",
       "5 2019-01-07T18:41:55Z\n",
       "6 2019-01-07T19:25:41Z"
      ]
     },
     "metadata": {},
     "output_type": "display_data"
    }
   ],
   "source": [
    "tmp_dia %>% head()"
   ]
  },
  {
   "cell_type": "code",
   "execution_count": 4,
   "id": "87862849",
   "metadata": {},
   "outputs": [],
   "source": [
    "# Definir arquivo de saída\n",
    "out_file <- sprintf('%s/%s/%s_resultados_map_matching_rotas_completas.csv', pasta_map_matching, ano_mes, ano_mes)\n",
    "write_delim(tmp_dia, out_file, delim = ';')"
   ]
  },
  {
   "cell_type": "code",
   "execution_count": null,
   "id": "7ba2809d",
   "metadata": {},
   "outputs": [],
   "source": []
  }
 ],
 "metadata": {
  "kernelspec": {
   "display_name": "R [conda env:r4_env]",
   "language": "R",
   "name": "conda-env-r4_env-r"
  },
  "language_info": {
   "codemirror_mode": "r",
   "file_extension": ".r",
   "mimetype": "text/x-r-source",
   "name": "R",
   "pygments_lexer": "r",
   "version": "4.0.5"
  }
 },
 "nbformat": 4,
 "nbformat_minor": 5
}
