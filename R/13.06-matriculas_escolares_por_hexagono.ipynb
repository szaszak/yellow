{
 "cells": [
  {
   "cell_type": "code",
   "execution_count": 1,
   "id": "7d41159f",
   "metadata": {},
   "outputs": [
    {
     "name": "stderr",
     "output_type": "stream",
     "text": [
      "── \u001b[1mAttaching packages\u001b[22m ─────────────────────────────────────────────────────────────────────────────── tidyverse 1.3.1 ──\n",
      "\n",
      "\u001b[32m✔\u001b[39m \u001b[34mggplot2\u001b[39m 3.3.3     \u001b[32m✔\u001b[39m \u001b[34mpurrr  \u001b[39m 0.3.4\n",
      "\u001b[32m✔\u001b[39m \u001b[34mtibble \u001b[39m 3.1.1     \u001b[32m✔\u001b[39m \u001b[34mdplyr  \u001b[39m 1.0.5\n",
      "\u001b[32m✔\u001b[39m \u001b[34mtidyr  \u001b[39m 1.1.3     \u001b[32m✔\u001b[39m \u001b[34mstringr\u001b[39m 1.4.0\n",
      "\u001b[32m✔\u001b[39m \u001b[34mreadr  \u001b[39m 1.4.0     \u001b[32m✔\u001b[39m \u001b[34mforcats\u001b[39m 0.5.1\n",
      "\n",
      "── \u001b[1mConflicts\u001b[22m ────────────────────────────────────────────────────────────────────────────────── tidyverse_conflicts() ──\n",
      "\u001b[31m✖\u001b[39m \u001b[34mdplyr\u001b[39m::\u001b[32mfilter()\u001b[39m masks \u001b[34mstats\u001b[39m::filter()\n",
      "\u001b[31m✖\u001b[39m \u001b[34mdplyr\u001b[39m::\u001b[32mlag()\u001b[39m    masks \u001b[34mstats\u001b[39m::lag()\n",
      "\n",
      "\n",
      "Attaching package: ‘tidylog’\n",
      "\n",
      "\n",
      "The following objects are masked from ‘package:dplyr’:\n",
      "\n",
      "    add_count, add_tally, anti_join, count, distinct, distinct_all,\n",
      "    distinct_at, distinct_if, filter, filter_all, filter_at, filter_if,\n",
      "    full_join, group_by, group_by_all, group_by_at, group_by_if,\n",
      "    inner_join, left_join, mutate, mutate_all, mutate_at, mutate_if,\n",
      "    relocate, rename, rename_all, rename_at, rename_if, rename_with,\n",
      "    right_join, sample_frac, sample_n, select, select_all, select_at,\n",
      "    select_if, semi_join, slice, slice_head, slice_max, slice_min,\n",
      "    slice_sample, slice_tail, summarise, summarise_all, summarise_at,\n",
      "    summarise_if, summarize, summarize_all, summarize_at, summarize_if,\n",
      "    tally, top_frac, top_n, transmute, transmute_all, transmute_at,\n",
      "    transmute_if, ungroup\n",
      "\n",
      "\n",
      "The following objects are masked from ‘package:tidyr’:\n",
      "\n",
      "    drop_na, fill, gather, pivot_longer, pivot_wider, replace_na,\n",
      "    spread, uncount\n",
      "\n",
      "\n",
      "The following object is masked from ‘package:stats’:\n",
      "\n",
      "    filter\n",
      "\n",
      "\n",
      "Linking to GEOS 3.9.1, GDAL 3.2.2, PROJ 8.0.0\n",
      "\n",
      "GDAL version >= 3.1.0 | setting mapviewOptions(fgb = TRUE)\n",
      "\n"
     ]
    }
   ],
   "source": [
    "# Agrega as matrículas de escolas aos hexágonos h3 res 09\n",
    "\n",
    "# carregar bibliotecas\n",
    "library('tidyverse')\n",
    "library('tidylog')\n",
    "library('sf')\n",
    "library('mapview')"
   ]
  },
  {
   "cell_type": "code",
   "execution_count": 2,
   "id": "0d77b40a",
   "metadata": {},
   "outputs": [],
   "source": [
    "# Estrutura de pastas e arquivos\n",
    "pasta_dados       <- \"../../yellow_dados\"\n",
    "dados_originais   <- sprintf(\"%s/00_dados_originais\", pasta_dados)\n",
    "pasta_ipea        <- sprintf(\"%s/IPEA\", dados_originais)\n",
    "pasta_aop_optimum <- sprintf(\"%s/13_aop_optimum\", pasta_dados)"
   ]
  },
  {
   "cell_type": "code",
   "execution_count": 3,
   "id": "9307cc55",
   "metadata": {},
   "outputs": [
    {
     "name": "stderr",
     "output_type": "stream",
     "text": [
      "filter: removed 374,971 rows (96%), 15,059 rows remaining\n",
      "\n",
      "select: dropped 3 variables (abbrev_muni, name_muni, code_muni)\n",
      "\n"
     ]
    },
    {
     "name": "stdout",
     "output_type": "stream",
     "text": [
      "Reading layer `matriculas_censo_escolar_2019_georref' from data source `/media/livre/HDINT1TB/Base_GtsRegionais/GitLab/yellow_dados/13_aop_optimum/matriculas_censo_escolar_2019_georref.gpkg' using driver `GPKG'\n",
      "Simple feature collection with 1376 features and 20 fields\n",
      "Geometry type: POINT\n",
      "Dimension:     XY\n",
      "Bounding box:  xmin: -46.80379 ymin: -23.90824 xmax: -46.37497 ymax: -23.40061\n",
      "Geodetic CRS:  WGS 84\n"
     ]
    },
    {
     "name": "stderr",
     "output_type": "stream",
     "text": [
      "select: dropped 17 variables (NO_ENTIDADE, TP_DEPENDENCIA, TP_CATEGORIA_ESCOLA_PRIVADA, TP_LOCALIZACAO, DS_ENDERECO, …)\n",
      "\n",
      "Warning message in fun(libname, pkgname):\n",
      "“rgeos: versions of GEOS runtime 3.9.1-CAPI-1.14.2\n",
      "and GEOS at installation 3.9.1dev-CAPI-1.14.1differ”\n",
      "Registered S3 method overwritten by 'geojsonsf':\n",
      "  method        from   \n",
      "  print.geojson geojson\n",
      "\n"
     ]
    },
    {
     "data": {
      "application/geo+json": {
       "features": [
        {
         "geometry": {
          "coordinates": [
           -46.7594,
           -23.4047
          ],
          "type": "Point"
         },
         "properties": {
          "CO_ENTIDADE": "35000024",
          "QT_MAT_BAS_15_17": 779,
          "QT_MAT_MED": 905
         },
         "type": "Feature"
        },
        {
         "geometry": {
          "coordinates": [
           -46.6984,
           -23.4695
          ],
          "type": "Point"
         },
         "properties": {
          "CO_ENTIDADE": "35000036",
          "QT_MAT_BAS_15_17": 983,
          "QT_MAT_MED": 946
         },
         "type": "Feature"
        }
       ],
       "type": "FeatureCollection"
      },
      "text/html": [
       "<table class=\"dataframe\">\n",
       "<caption>A sf: 2 × 4</caption>\n",
       "<thead>\n",
       "\t<tr><th></th><th scope=col>CO_ENTIDADE</th><th scope=col>QT_MAT_MED</th><th scope=col>QT_MAT_BAS_15_17</th><th scope=col>geom</th></tr>\n",
       "\t<tr><th></th><th scope=col>&lt;chr&gt;</th><th scope=col>&lt;dbl&gt;</th><th scope=col>&lt;dbl&gt;</th><th scope=col>&lt;POINT [°]&gt;</th></tr>\n",
       "</thead>\n",
       "<tbody>\n",
       "\t<tr><th scope=row>1</th><td>35000024</td><td>905</td><td>779</td><td>POINT (-46.75938 -23.40471)</td></tr>\n",
       "\t<tr><th scope=row>2</th><td>35000036</td><td>946</td><td>983</td><td>POINT (-46.6984 -23.46947)</td></tr>\n",
       "</tbody>\n",
       "</table>\n"
      ],
      "text/latex": [
       "A sf: 2 × 4\n",
       "\\begin{tabular}{r|llll}\n",
       "  & CO\\_ENTIDADE & QT\\_MAT\\_MED & QT\\_MAT\\_BAS\\_15\\_17 & geom\\\\\n",
       "  & <chr> & <dbl> & <dbl> & <POINT {[}°{]}>\\\\\n",
       "\\hline\n",
       "\t1 & 35000024 & 905 & 779 & POINT (-46.75938 -23.40471)\\\\\n",
       "\t2 & 35000036 & 946 & 983 & POINT (-46.6984 -23.46947)\\\\\n",
       "\\end{tabular}\n"
      ],
      "text/markdown": [
       "\n",
       "A sf: 2 × 4\n",
       "\n",
       "| <!--/--> | CO_ENTIDADE &lt;chr&gt; | QT_MAT_MED &lt;dbl&gt; | QT_MAT_BAS_15_17 &lt;dbl&gt; | geom &lt;POINT [°]&gt; |\n",
       "|---|---|---|---|---|\n",
       "| 1 | 35000024 | 905 | 779 | POINT (-46.75938 -23.40471) |\n",
       "| 2 | 35000036 | 946 | 983 | POINT (-46.6984 -23.46947) |\n",
       "\n"
      ],
      "text/plain": [
       "  CO_ENTIDADE QT_MAT_MED QT_MAT_BAS_15_17 geom                       \n",
       "1 35000024    905        779              POINT (-46.75938 -23.40471)\n",
       "2 35000036    946        983              POINT (-46.6984 -23.46947) "
      ]
     },
     "metadata": {},
     "output_type": "display_data"
    },
    {
     "data": {
      "application/geo+json": {
       "features": [
        {
         "geometry": {
          "coordinates": [
           [
            [
             -46.436,
             -23.5866
            ],
            [
             -46.4349,
             -23.5851
            ],
            [
             -46.4359,
             -23.5835
            ],
            [
             -46.4379,
             -23.5835
            ],
            [
             -46.439,
             -23.5849
            ],
            [
             -46.438,
             -23.5865
            ],
            [
             -46.436,
             -23.5866
            ]
           ]
          ],
          "type": "Polygon"
         },
         "properties": {
          "id_hex": "89a81009a8bffff"
         },
         "type": "Feature"
        },
        {
         "geometry": {
          "coordinates": [
           [
            [
             -46.7789,
             -23.8971
            ],
            [
             -46.7778,
             -23.8956
            ],
            [
             -46.7788,
             -23.894
            ],
            [
             -46.7808,
             -23.8939
            ],
            [
             -46.7819,
             -23.8954
            ],
            [
             -46.7809,
             -23.897
            ],
            [
             -46.7789,
             -23.8971
            ]
           ]
          ],
          "type": "Polygon"
         },
         "properties": {
          "id_hex": "89a8108dca7ffff"
         },
         "type": "Feature"
        }
       ],
       "type": "FeatureCollection"
      },
      "text/html": [
       "<table class=\"dataframe\">\n",
       "<caption>A sf: 2 × 2</caption>\n",
       "<thead>\n",
       "\t<tr><th scope=col>id_hex</th><th scope=col>geom</th></tr>\n",
       "\t<tr><th scope=col>&lt;chr&gt;</th><th scope=col>&lt;POLYGON [°]&gt;</th></tr>\n",
       "</thead>\n",
       "<tbody>\n",
       "\t<tr><td>89a81009a8bffff</td><td>POLYGON ((-46.43596 -23.586...</td></tr>\n",
       "\t<tr><td>89a8108dca7ffff</td><td>POLYGON ((-46.77886 -23.897...</td></tr>\n",
       "</tbody>\n",
       "</table>\n"
      ],
      "text/latex": [
       "A sf: 2 × 2\n",
       "\\begin{tabular}{ll}\n",
       " id\\_hex & geom\\\\\n",
       " <chr> & <POLYGON {[}°{]}>\\\\\n",
       "\\hline\n",
       "\t 89a81009a8bffff & POLYGON ((-46.43596 -23.586...\\\\\n",
       "\t 89a8108dca7ffff & POLYGON ((-46.77886 -23.897...\\\\\n",
       "\\end{tabular}\n"
      ],
      "text/markdown": [
       "\n",
       "A sf: 2 × 2\n",
       "\n",
       "| id_hex &lt;chr&gt; | geom &lt;POLYGON [°]&gt; |\n",
       "|---|---|\n",
       "| 89a81009a8bffff | POLYGON ((-46.43596 -23.586... |\n",
       "| 89a8108dca7ffff | POLYGON ((-46.77886 -23.897... |\n",
       "\n"
      ],
      "text/plain": [
       "  id_hex          geom                          \n",
       "1 89a81009a8bffff POLYGON ((-46.43596 -23.586...\n",
       "2 89a8108dca7ffff POLYGON ((-46.77886 -23.897..."
      ]
     },
     "metadata": {},
     "output_type": "display_data"
    }
   ],
   "source": [
    "# IPEA - Shape de grid hexagonal (resolução 9)\n",
    "hexagonos <- sprintf('%s/aop_hex_grid_v2.gpkg', pasta_ipea)\n",
    "hexagonos <- read_sf(hexagonos) %>% filter(abbrev_muni == 'spo') %>% select(id_hex)\n",
    "# mapview(hexagonos)\n",
    "\n",
    "# Censo escolar 2019 com matrículas\n",
    "escolas <- sprintf('%s/matriculas_censo_escolar_2019_georref.gpkg', pasta_aop_optimum)\n",
    "escolas <- st_read(escolas)\n",
    "escolas <- escolas %>% select(CO_ENTIDADE, QT_MAT_MED, QT_MAT_BAS_15_17, geom)\n",
    "head(escolas, 2)\n",
    "\n",
    "# Caso projeções entre os dados do Censo Escolar e do grid de hexágonos sejam \n",
    "# diferentes, reprojetar para o CRS do primeiro\n",
    "if (st_crs(hexagonos) != st_crs(escolas)) {\n",
    "  hexagonos <- hexagonos %>% st_transform(crs = st_crs(escolas))\n",
    "}\n",
    "head(hexagonos, 2)"
   ]
  },
  {
   "cell_type": "code",
   "execution_count": 4,
   "id": "1170e157",
   "metadata": {},
   "outputs": [
    {
     "name": "stderr",
     "output_type": "stream",
     "text": [
      "although coordinates are longitude/latitude, st_intersection assumes that they are planar\n",
      "\n",
      "Warning message:\n",
      "“attribute variables are assumed to be spatially constant throughout all geometries”\n"
     ]
    },
    {
     "data": {
      "application/geo+json": {
       "features": [
        {
         "geometry": {
          "coordinates": [
           -46.6253,
           -23.5015
          ],
          "type": "Point"
         },
         "properties": {
          "CO_ENTIDADE": "35000929",
          "QT_MAT_BAS_15_17": 714,
          "QT_MAT_MED": 781,
          "id_hex": "89a8100d9d7ffff"
         },
         "type": "Feature"
        },
        {
         "geometry": {
          "coordinates": [
           -46.6905,
           -23.7829
          ],
          "type": "Point"
         },
         "properties": {
          "CO_ENTIDADE": "35046059",
          "QT_MAT_BAS_15_17": 512,
          "QT_MAT_MED": 452,
          "id_hex": "89a81015653ffff"
         },
         "type": "Feature"
        },
        {
         "geometry": {
          "coordinates": [
           -46.6838,
           -23.4831
          ],
          "type": "Point"
         },
         "properties": {
          "CO_ENTIDADE": "35000589",
          "QT_MAT_BAS_15_17": 36,
          "QT_MAT_MED": 23,
          "id_hex": "89a81039653ffff"
         },
         "type": "Feature"
        },
        {
         "geometry": {
          "coordinates": [
           -46.7425,
           -23.6585
          ],
          "type": "Point"
         },
         "properties": {
          "CO_ENTIDADE": "35915725",
          "QT_MAT_BAS_15_17": 717,
          "QT_MAT_MED": 781,
          "id_hex": "89a81007383ffff"
         },
         "type": "Feature"
        },
        {
         "geometry": {
          "coordinates": [
           -46.6886,
           -23.6126
          ],
          "type": "Point"
         },
         "properties": {
          "CO_ENTIDADE": "35105971",
          "QT_MAT_BAS_15_17": 109,
          "QT_MAT_MED": 119,
          "id_hex": "89a810052cfffff"
         },
         "type": "Feature"
        },
        {
         "geometry": {
          "coordinates": [
           -46.6873,
           -23.4602
          ],
          "type": "Point"
         },
         "properties": {
          "CO_ENTIDADE": "35037655",
          "QT_MAT_BAS_15_17": 694,
          "QT_MAT_MED": 819,
          "id_hex": "89a8103921bffff"
         },
         "type": "Feature"
        }
       ],
       "type": "FeatureCollection"
      },
      "text/html": [
       "<table class=\"dataframe\">\n",
       "<caption>A sf: 6 × 5</caption>\n",
       "<thead>\n",
       "\t<tr><th></th><th scope=col>CO_ENTIDADE</th><th scope=col>QT_MAT_MED</th><th scope=col>QT_MAT_BAS_15_17</th><th scope=col>id_hex</th><th scope=col>geom</th></tr>\n",
       "\t<tr><th></th><th scope=col>&lt;chr&gt;</th><th scope=col>&lt;dbl&gt;</th><th scope=col>&lt;dbl&gt;</th><th scope=col>&lt;chr&gt;</th><th scope=col>&lt;POINT [°]&gt;</th></tr>\n",
       "</thead>\n",
       "<tbody>\n",
       "\t<tr><th scope=row>51</th><td>35000929</td><td>781</td><td>714</td><td>89a8100d9d7ffff</td><td>POINT (-46.62531 -23.50148)</td></tr>\n",
       "\t<tr><th scope=row>432</th><td>35046059</td><td>452</td><td>512</td><td>89a81015653ffff</td><td>POINT (-46.69049 -23.78288)</td></tr>\n",
       "\t<tr><th scope=row>32</th><td>35000589</td><td> 23</td><td> 36</td><td>89a81039653ffff</td><td>POINT (-46.6838 -23.48312)</td></tr>\n",
       "\t<tr><th scope=row>1309</th><td>35915725</td><td>781</td><td>717</td><td>89a81007383ffff</td><td>POINT (-46.74247 -23.65847)</td></tr>\n",
       "\t<tr><th scope=row>607</th><td>35105971</td><td>119</td><td>109</td><td>89a810052cfffff</td><td>POINT (-46.68862 -23.61262)</td></tr>\n",
       "\t<tr><th scope=row>355</th><td>35037655</td><td>819</td><td>694</td><td>89a8103921bffff</td><td>POINT (-46.6873 -23.46018)</td></tr>\n",
       "</tbody>\n",
       "</table>\n"
      ],
      "text/latex": [
       "A sf: 6 × 5\n",
       "\\begin{tabular}{r|lllll}\n",
       "  & CO\\_ENTIDADE & QT\\_MAT\\_MED & QT\\_MAT\\_BAS\\_15\\_17 & id\\_hex & geom\\\\\n",
       "  & <chr> & <dbl> & <dbl> & <chr> & <POINT {[}°{]}>\\\\\n",
       "\\hline\n",
       "\t51 & 35000929 & 781 & 714 & 89a8100d9d7ffff & POINT (-46.62531 -23.50148)\\\\\n",
       "\t432 & 35046059 & 452 & 512 & 89a81015653ffff & POINT (-46.69049 -23.78288)\\\\\n",
       "\t32 & 35000589 &  23 &  36 & 89a81039653ffff & POINT (-46.6838 -23.48312)\\\\\n",
       "\t1309 & 35915725 & 781 & 717 & 89a81007383ffff & POINT (-46.74247 -23.65847)\\\\\n",
       "\t607 & 35105971 & 119 & 109 & 89a810052cfffff & POINT (-46.68862 -23.61262)\\\\\n",
       "\t355 & 35037655 & 819 & 694 & 89a8103921bffff & POINT (-46.6873 -23.46018)\\\\\n",
       "\\end{tabular}\n"
      ],
      "text/markdown": [
       "\n",
       "A sf: 6 × 5\n",
       "\n",
       "| <!--/--> | CO_ENTIDADE &lt;chr&gt; | QT_MAT_MED &lt;dbl&gt; | QT_MAT_BAS_15_17 &lt;dbl&gt; | id_hex &lt;chr&gt; | geom &lt;POINT [°]&gt; |\n",
       "|---|---|---|---|---|---|\n",
       "| 51 | 35000929 | 781 | 714 | 89a8100d9d7ffff | POINT (-46.62531 -23.50148) |\n",
       "| 432 | 35046059 | 452 | 512 | 89a81015653ffff | POINT (-46.69049 -23.78288) |\n",
       "| 32 | 35000589 |  23 |  36 | 89a81039653ffff | POINT (-46.6838 -23.48312) |\n",
       "| 1309 | 35915725 | 781 | 717 | 89a81007383ffff | POINT (-46.74247 -23.65847) |\n",
       "| 607 | 35105971 | 119 | 109 | 89a810052cfffff | POINT (-46.68862 -23.61262) |\n",
       "| 355 | 35037655 | 819 | 694 | 89a8103921bffff | POINT (-46.6873 -23.46018) |\n",
       "\n"
      ],
      "text/plain": [
       "     CO_ENTIDADE QT_MAT_MED QT_MAT_BAS_15_17 id_hex         \n",
       "51   35000929    781        714              89a8100d9d7ffff\n",
       "432  35046059    452        512              89a81015653ffff\n",
       "32   35000589     23         36              89a81039653ffff\n",
       "1309 35915725    781        717              89a81007383ffff\n",
       "607  35105971    119        109              89a810052cfffff\n",
       "355  35037655    819        694              89a8103921bffff\n",
       "     geom                       \n",
       "51   POINT (-46.62531 -23.50148)\n",
       "432  POINT (-46.69049 -23.78288)\n",
       "32   POINT (-46.6838 -23.48312) \n",
       "1309 POINT (-46.74247 -23.65847)\n",
       "607  POINT (-46.68862 -23.61262)\n",
       "355  POINT (-46.6873 -23.46018) "
      ]
     },
     "metadata": {},
     "output_type": "display_data"
    }
   ],
   "source": [
    "# Fazer interseção entre as escolas e os hexágonos\n",
    "escolas_hex <- st_intersection(escolas, hexagonos)\n",
    "head(escolas_hex)"
   ]
  },
  {
   "cell_type": "code",
   "execution_count": 6,
   "id": "e1977810",
   "metadata": {},
   "outputs": [
    {
     "name": "stdout",
     "output_type": "stream",
     "text": [
      "Writing layer `matriculas_censo_escolar_2019_hex_grid' to data source `../../yellow_dados/13_aop_optimum/matriculas_censo_escolar_2019_hex_grid.gpkg' using driver `GPKG'\n",
      "Writing 1376 features with 4 fields and geometry type Point.\n"
     ]
    }
   ],
   "source": [
    "# # Gravar resultados\n",
    "# out_file <- sprintf('%s/matriculas_censo_escolar_2019_hex_grid.gpkg', pasta_aop_optimum)\n",
    "# st_write(escolas_hex, out_file, driver = 'GPKG', append = FALSE)"
   ]
  },
  {
   "cell_type": "code",
   "execution_count": 7,
   "id": "ba95e5c8",
   "metadata": {},
   "outputs": [
    {
     "name": "stderr",
     "output_type": "stream",
     "text": [
      "group_by: one grouping variable (id_hex)\n",
      "\n",
      "summarise: now 1,241 rows and 3 columns, ungrouped\n",
      "\n"
     ]
    },
    {
     "data": {
      "text/html": [
       "<table class=\"dataframe\">\n",
       "<caption>A tibble: 6 × 3</caption>\n",
       "<thead>\n",
       "\t<tr><th scope=col>id_hex</th><th scope=col>matriculas_ensino_medio</th><th scope=col>matriculas_idades_15_17</th></tr>\n",
       "\t<tr><th scope=col>&lt;chr&gt;</th><th scope=col>&lt;dbl&gt;</th><th scope=col>&lt;dbl&gt;</th></tr>\n",
       "</thead>\n",
       "<tbody>\n",
       "\t<tr><td>89a81000027ffff</td><td>1051</td><td>1048</td></tr>\n",
       "\t<tr><td>89a8100002bffff</td><td> 357</td><td> 369</td></tr>\n",
       "\t<tr><td>89a81000077ffff</td><td> 350</td><td> 317</td></tr>\n",
       "\t<tr><td>89a8100008fffff</td><td> 309</td><td> 325</td></tr>\n",
       "\t<tr><td>89a81000133ffff</td><td> 128</td><td> 116</td></tr>\n",
       "\t<tr><td>89a81000163ffff</td><td>  73</td><td>  69</td></tr>\n",
       "</tbody>\n",
       "</table>\n"
      ],
      "text/latex": [
       "A tibble: 6 × 3\n",
       "\\begin{tabular}{lll}\n",
       " id\\_hex & matriculas\\_ensino\\_medio & matriculas\\_idades\\_15\\_17\\\\\n",
       " <chr> & <dbl> & <dbl>\\\\\n",
       "\\hline\n",
       "\t 89a81000027ffff & 1051 & 1048\\\\\n",
       "\t 89a8100002bffff &  357 &  369\\\\\n",
       "\t 89a81000077ffff &  350 &  317\\\\\n",
       "\t 89a8100008fffff &  309 &  325\\\\\n",
       "\t 89a81000133ffff &  128 &  116\\\\\n",
       "\t 89a81000163ffff &   73 &   69\\\\\n",
       "\\end{tabular}\n"
      ],
      "text/markdown": [
       "\n",
       "A tibble: 6 × 3\n",
       "\n",
       "| id_hex &lt;chr&gt; | matriculas_ensino_medio &lt;dbl&gt; | matriculas_idades_15_17 &lt;dbl&gt; |\n",
       "|---|---|---|\n",
       "| 89a81000027ffff | 1051 | 1048 |\n",
       "| 89a8100002bffff |  357 |  369 |\n",
       "| 89a81000077ffff |  350 |  317 |\n",
       "| 89a8100008fffff |  309 |  325 |\n",
       "| 89a81000133ffff |  128 |  116 |\n",
       "| 89a81000163ffff |   73 |   69 |\n",
       "\n"
      ],
      "text/plain": [
       "  id_hex          matriculas_ensino_medio matriculas_idades_15_17\n",
       "1 89a81000027ffff 1051                    1048                   \n",
       "2 89a8100002bffff  357                     369                   \n",
       "3 89a81000077ffff  350                     317                   \n",
       "4 89a8100008fffff  309                     325                   \n",
       "5 89a81000133ffff  128                     116                   \n",
       "6 89a81000163ffff   73                      69                   "
      ]
     },
     "metadata": {},
     "output_type": "display_data"
    }
   ],
   "source": [
    "# Agrupar matrículas por hexágono\n",
    "escolas_hex <- \n",
    "  escolas_hex %>% \n",
    "  st_drop_geometry() %>% \n",
    "  group_by(id_hex) %>% \n",
    "  summarise(matriculas_ensino_medio = sum(QT_MAT_MED),\n",
    "            matriculas_idades_15_17 = sum(QT_MAT_BAS_15_17))\n",
    "\n",
    "head(escolas_hex)"
   ]
  },
  {
   "cell_type": "code",
   "execution_count": 8,
   "id": "8a441574",
   "metadata": {},
   "outputs": [
    {
     "data": {
      "text/html": [
       "387984"
      ],
      "text/latex": [
       "387984"
      ],
      "text/markdown": [
       "387984"
      ],
      "text/plain": [
       "[1] 387984"
      ]
     },
     "metadata": {},
     "output_type": "display_data"
    },
    {
     "data": {
      "text/html": [
       "374710"
      ],
      "text/latex": [
       "374710"
      ],
      "text/markdown": [
       "374710"
      ],
      "text/plain": [
       "[1] 374710"
      ]
     },
     "metadata": {},
     "output_type": "display_data"
    },
    {
     "data": {
      "text/html": [
       "387984"
      ],
      "text/latex": [
       "387984"
      ],
      "text/markdown": [
       "387984"
      ],
      "text/plain": [
       "[1] 387984"
      ]
     },
     "metadata": {},
     "output_type": "display_data"
    },
    {
     "data": {
      "text/html": [
       "374710"
      ],
      "text/latex": [
       "374710"
      ],
      "text/markdown": [
       "374710"
      ],
      "text/plain": [
       "[1] 374710"
      ]
     },
     "metadata": {},
     "output_type": "display_data"
    }
   ],
   "source": [
    "# Conferência de valores\n",
    "sum(escolas$QT_MAT_MED)\n",
    "sum(escolas$QT_MAT_BAS_15_17)\n",
    "sum(escolas_hex$matriculas_ensino_medio)\n",
    "sum(escolas_hex$matriculas_idades_15_17)"
   ]
  },
  {
   "cell_type": "code",
   "execution_count": 9,
   "id": "0f8129ea",
   "metadata": {},
   "outputs": [],
   "source": [
    "# Gravar resultados\n",
    "out_file <- sprintf('%s/matriculas_censo_escolar_2019_por_hexagono.csv', pasta_aop_optimum)\n",
    "write_delim(escolas_hex, out_file, delim = ';')"
   ]
  },
  {
   "cell_type": "code",
   "execution_count": null,
   "id": "26666ed7",
   "metadata": {},
   "outputs": [],
   "source": []
  }
 ],
 "metadata": {
  "kernelspec": {
   "display_name": "R [conda env:r4_env]",
   "language": "R",
   "name": "conda-env-r4_env-r"
  },
  "language_info": {
   "codemirror_mode": "r",
   "file_extension": ".r",
   "mimetype": "text/x-r-source",
   "name": "R",
   "pygments_lexer": "r",
   "version": "4.0.5"
  }
 },
 "nbformat": 4,
 "nbformat_minor": 5
}
