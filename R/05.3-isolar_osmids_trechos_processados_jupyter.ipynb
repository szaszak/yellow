{
 "cells": [
  {
   "cell_type": "code",
   "execution_count": 1,
   "id": "7d300cc3",
   "metadata": {},
   "outputs": [
    {
     "name": "stderr",
     "output_type": "stream",
     "text": [
      "GDAL version >= 3.1.0 | setting mapviewOptions(fgb = TRUE)\n",
      "\n",
      "Linking to GEOS 3.9.1, GDAL 3.2.2, PROJ 8.0.0\n",
      "\n",
      "\n",
      "Attaching package: ‘jsonlite’\n",
      "\n",
      "\n",
      "The following object is masked from ‘package:purrr’:\n",
      "\n",
      "    flatten\n",
      "\n",
      "\n"
     ]
    }
   ],
   "source": [
    "# carregar bibliotecas\n",
    "source('fun/setup.R')"
   ]
  },
  {
   "cell_type": "code",
   "execution_count": 3,
   "id": "4187325d",
   "metadata": {},
   "outputs": [],
   "source": [
    "# -----------------------------------------------------------------------------\n",
    "# Isolar osm_ids de trechos processados no map matching\n",
    "# -----------------------------------------------------------------------------\n",
    "\n",
    "# Abre todos os arquivos de mapmatching processados e isola seus osm_ids (edges.way_id)\n",
    "isolar_osmids_processados <- function(ano_mes) {\n",
    "  \n",
    "  # Abrir todos trechos processados - queremos selecionar somente os osm_id para\n",
    "  # associação com o viário\n",
    "  search_folder <- sprintf('%s/%s/viagens_processadas_csv', pasta_map_matching, ano_mes)\n",
    "  result_files  <- list.files(search_folder, pattern = '\\\\d{6}_\\\\d{2}.csv', recursive = TRUE, full.names = TRUE)\n",
    "  \n",
    "  # Criar um dataframe único para todos os registros daquele dia\n",
    "  # https://stackoverflow.com/questions/46299777/add-filename-column-to-table-as-multiple-files-are-read-and-bound\n",
    "  result_files <- data.frame(f_path = result_files)\n",
    "  \n",
    "  # Dataframe temporário para processar uma certa quantidade de linhas\n",
    "  sel_osm_ids <-\n",
    "    result_files %>%\n",
    "    # Abrir cada arquivo e extrair conteúdo em nova coluna\n",
    "    mutate(reg = lapply(f_path, read_delim, delim = ';', col_names = FALSE, col_types = cols(.default = \"c\"))) %>% \n",
    "    # Transformar cada linha de conteúdo em uma linha nova no tibble (linhas com\n",
    "    # nomes de arquivos vão se repetir para cada linha de conteúdo)\n",
    "    unnest(reg, keep_empty = TRUE) %>% \n",
    "    # Pegar a primeira linha e usar como nomes de colunas, depois descartá-la\n",
    "    setNames(slice(., 1)) %>% \n",
    "    # Nomes das colunas vieram junto - retirar essas linhas (todas repetidas)\n",
    "    filter(trip_id != 'trip_id') %>% \n",
    "    # Retirar primeira coluna, com referência aos endereços do arquivo\n",
    "    select(edges.way_id) %>% \n",
    "    distinct()\n",
    "  \n",
    "  # Definir arquivo de saída\n",
    "  out_file <- sprintf('%s/%s_osmids_selecionados.csv', pasta_map_matching, ano_mes)\n",
    "  write_delim(sel_osm_ids, out_file, delim = ';')\n",
    "}"
   ]
  },
  {
   "cell_type": "code",
   "execution_count": 2,
   "id": "8b4c801b",
   "metadata": {},
   "outputs": [],
   "source": [
    "# -----------------------------------------------------------------------------\n",
    "# Estrutura de pastas e arquivos\n",
    "# -----------------------------------------------------------------------------\n",
    "\n",
    "# Estrutura de pastas\n",
    "pasta_dados        <- \"../../yellow_dados\"\n",
    "pasta_map_matching <- sprintf(\"%s/05_map_matching\", pasta_dados)\n",
    "meses_proc <- c('201811', '201812', '201901')\n",
    "\n",
    "lapply(meses_proc, isolar_osmids_processados)"
   ]
  }
 ],
 "metadata": {
  "kernelspec": {
   "display_name": "R [conda env:r4_env]",
   "language": "R",
   "name": "conda-env-r4_env-r"
  },
  "language_info": {
   "codemirror_mode": "r",
   "file_extension": ".r",
   "mimetype": "text/x-r-source",
   "name": "R",
   "pygments_lexer": "r",
   "version": "4.0.5"
  }
 },
 "nbformat": 4,
 "nbformat_minor": 5
}
