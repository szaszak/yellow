{
 "cells": [
  {
   "cell_type": "markdown",
   "id": "ea1efdac",
   "metadata": {},
   "source": [
    "Comando para rodar o GraphHopper no terminal - atenção para o PBF a ser carregado:\n",
    "\n",
    "**PBF da Rede 2019; custom model ajustado (LTS)**\n",
    "\n",
    "clear && cd /home/livre/Desktop/Base_GtsRegionais/GitLab/yellow_src/graphhopper/ && rm -rf graph-cache/ && java -Ddw.graphhopper.datareader.file=/home/livre/Desktop/Base_GtsRegionais/GitLab/yellow_dados/07_graphhopper/03_PBFs_SP_rede_2019/20220216_sao_paulo_edited_20230521_A_infraciclo_atual.osm.pbf -jar graphhopper/web/target/graphhopper-web-*.jar server graphhopper/config-example_LTS.yml"
   ]
  },
  {
   "cell_type": "code",
   "execution_count": 1,
   "id": "10f2749b",
   "metadata": {},
   "outputs": [],
   "source": [
    "# carregar bibliotecas\n",
    "suppressPackageStartupMessages(library('tidyverse'))\n",
    "suppressPackageStartupMessages(library('tidylog'))\n",
    "suppressPackageStartupMessages(library('sf'))\n",
    "suppressPackageStartupMessages(library('httr'))\n",
    "suppressPackageStartupMessages(library('jsonlite'))"
   ]
  },
  {
   "cell_type": "code",
   "execution_count": 2,
   "id": "a9948f4c",
   "metadata": {},
   "outputs": [],
   "source": [
    "# Mutar avisos sobre grupos no summarise\n",
    "options(dplyr.summarise.inform = FALSE)"
   ]
  },
  {
   "cell_type": "code",
   "execution_count": 3,
   "id": "4a569b5a",
   "metadata": {},
   "outputs": [
    {
     "name": "stderr",
     "output_type": "stream",
     "text": [
      "Loading required package: future\n",
      "\n"
     ]
    },
    {
     "data": {
      "text/html": [
       "TRUE"
      ],
      "text/latex": [
       "TRUE"
      ],
      "text/markdown": [
       "TRUE"
      ],
      "text/plain": [
       "[1] TRUE"
      ]
     },
     "metadata": {},
     "output_type": "display_data"
    }
   ],
   "source": [
    "# Aplicar funcoes em paralelo\n",
    "library('future.apply')\n",
    "# Checando: Jupyter suporta multicore?\n",
    "future::supportsMulticore()"
   ]
  },
  {
   "cell_type": "code",
   "execution_count": 4,
   "id": "42e50949",
   "metadata": {},
   "outputs": [
    {
     "data": {
      "text/html": [
       "<strong>system:</strong> 8"
      ],
      "text/latex": [
       "\\textbf{system:} 8"
      ],
      "text/markdown": [
       "**system:** 8"
      ],
      "text/plain": [
       "system \n",
       "     8 "
      ]
     },
     "metadata": {},
     "output_type": "display_data"
    }
   ],
   "source": [
    "# https://stackoverflow.com/questions/40536067/how-to-adjust-future-global-maxsize\n",
    "# For 850MB: 850*1024^2 = 891289600\n",
    "# For +1.3GB: 1500*1024^2 = 1572864000\n",
    "# options(future.globals.maxSize = 891289600)\n",
    "options(future.globals.maxSize = 5e6) # 5 MB\n",
    "# options(future.globals.maxSize = 50*1024^2) # 50 MB\n",
    "parallelly::availableCores()"
   ]
  },
  {
   "cell_type": "code",
   "execution_count": 5,
   "id": "cedd9055",
   "metadata": {},
   "outputs": [],
   "source": [
    "# Estrutura de pastas\n",
    "pasta_dados       <- \"../../yellow_dados\"\n",
    "pasta_aop_rev     <- sprintf(\"%s/12_aop_revisitado\", pasta_dados)\n",
    "pasta_aoprv_teste <- sprintf(\"%s/02_teste_aop_alternatives\", pasta_aop_rev)\n",
    "pasta_osmids_aopt <- sprintf(\"%s/A_2019_osm_way_ids_aop\", pasta_aoprv_teste)\n",
    "pasta_rotas_aopt  <- sprintf(\"%s/B_2019_rotas_modeladas_alternatives\", pasta_aoprv_teste)\n",
    "dir.create(pasta_osmids_aopt, recursive = TRUE, showWarnings = FALSE)\n",
    "dir.create(pasta_rotas_aopt, recursive = TRUE, showWarnings = FALSE)\n",
    "\n",
    "ano <- '2019'"
   ]
  },
  {
   "cell_type": "code",
   "execution_count": 6,
   "id": "3d89a268",
   "metadata": {},
   "outputs": [],
   "source": [
    "# ------------------------------------------------------------------------------\n",
    "# Routing a partir de dois pontos com rotas alternativas (até 3 por par OD)\n",
    "# ------------------------------------------------------------------------------\n",
    "\n",
    "# Faz query de routing no GraphHopper e retorna resultados principais em dataframe,\n",
    "# com rotas até 3 alternativas por par OD - aceita um dataframe de uma linha como\n",
    "# entrada\n",
    "gh_route_alt_full <- function(hex_id) {\n",
    "  # url <- 'http://localhost:8989/route/?point=-23.5314933121698%2C-46.634354542765&point=-23.5390199310058%2C-46.6376369484305&profile=bike&instructions=false&calc_points=true&details=average_speed'\n",
    "  # url <- 'http://localhost:8989/route/?point=-23.5314933121698%2C-46.634354542765&point=-23.5390199310058%2C-46.6376369484305&profile=bike&instructions=true&calc_points=true&algorithm=alternative_route&details=osm_way_id&details=time&details=road_class&details=road_environment&details=surface&details=bike_network&details=smoothness&details=average_slope&details=distance'\n",
    "  # url <- ods_vgs %>% slice(121) %>% select(url) %>% pull()\n",
    "  # Estação Vila Madalena: -23.546258,-46.690898\n",
    "  # IME: -23.559007,-46.73208\n",
    "  # CCSP: -23.571498,-46.639806\n",
    "  \n",
    "  # hex_id <- '89a81044d93ffff-89a810733b3ffff'\n",
    "  # hex_id <- hex_com_vizinhos %>% slice(122) %>% select(id) %>% pull()\n",
    "  df_line <- hex_com_vizinhos %>% filter(id == hex_id)\n",
    "  # Encurtar hex_id - todos aqui são '89a81' + 6 caracteres de dígito ou letra = 'ffff'\n",
    "  hex_id_short <- str_replace(hex_id, '^89a81([a-z0-9]{6})ffff-89a81([a-z0-9]{6})ffff', '\\\\1-\\\\2')\n",
    "  hex_id_base  <- str_sub(hex_id_short, 1, 6)\n",
    "  \n",
    "  # Fazer a GET de roteamento no Grahphopper\n",
    "  # print(df_line$url)\n",
    "  gh_response <- GET(df_line$url)\n",
    "  \n",
    "  # Mensagem tem que ser \"Success: (200) OK\"\n",
    "  if (http_status(gh_response)$message == 'Success: (200) OK') {\n",
    "    \n",
    "    # Resposta da query, já colapsada e transformada em dataframe\n",
    "    # Remover aviso de 'No encoding supplied: defaulting to UTF-8' na linha fromJSON()\n",
    "    suppressMessages(\n",
    "      response_text <- \n",
    "        # Ignorar aviso 'argument is not an atomic vector; coercing'\n",
    "        suppressWarnings(str_c(content(gh_response, 'text'), collapse = \", \")) %>% \n",
    "        # Concatenar toda a string de resultados\n",
    "        str_c(\"[\", ., \"]\") %>% \n",
    "        # Transformar em dataframe\n",
    "        fromJSON() %>% \n",
    "        as.data.frame()\n",
    "    )\n",
    "    \n",
    "    # Nos interessa a coluna de 'paths', como um novo dataframe\n",
    "    paths <- response_text$paths %>% as.data.frame()\n",
    "    \n",
    "    # Puxar osm_way_ids dos resultados de cada alternativa e gravar em pasta \n",
    "    # separada; puxar extensões percorridas em infra cicloviária\n",
    "    dados_infra_ciclo <- data.frame()\n",
    "    for (i in seq(1, length(paths$details$osm_way_id))) {\n",
    "      # i <- 1\n",
    "      \n",
    "      # Se há osm_way_ids na rota, fazer processamento\n",
    "      if (length(paths$details$osm_way_id[i][[1]]) > 0) {\n",
    "        \n",
    "        # ----------------------------------------------------------------------\n",
    "        # Dados dos osm_way_ids\n",
    "        # ----------------------------------------------------------------------\n",
    "        \n",
    "        # osm_ways são os ids pelos quais a rota passou, na ordem de passagem\n",
    "        # A estrutura desse tipo de info retornada pelo router está aqui, mas \n",
    "        # basicamente o X1 é onde começa e o X2 onde terminam os trechos\n",
    "        # https://github.com/graphhopper/graphhopper/blob/master/docs/core/technical.md\n",
    "        osm_way_ids <- paths$details$osm_way_id[i] %>% as.data.frame()\n",
    "        #   X1 X2        X3\n",
    "        # 1  0  1 260166853\n",
    "        # 2  1  3 909962485\n",
    "        # 3  3  4 260166848\n",
    "        # 4  4  5 172943103\n",
    "        # 5  5  7 260166842\n",
    "        # 6  7 10 172943409\n",
    "        \n",
    "        # osm_ways_dists vão ser as distâncias por trecho\n",
    "        osm_ways_dists <- paths$details$distance[i] %>% as.data.frame()\n",
    "        #   X1 X2       X3\n",
    "        # 1  0  1 47.46184\n",
    "        # 2  1  2 53.60800\n",
    "        # 3  2  3 56.60200\n",
    "        # 4  3  4 61.91400\n",
    "        # 5  4  5 60.27100\n",
    "        # 6  5  7 65.84700\n",
    "        # 7  7 10 78.85340\n",
    "        \n",
    "        # osm_rclass vão ser as infos do tipo de viário - estamos particularmente\n",
    "        # interessados quando for 'cycleway', que vão ser as ciclovias comuns e\n",
    "        # expressas (não vamos puxar a diferenciação aqui, pois o valor só vai ser\n",
    "        # usado para correção dos tempos em cycleway, mas caso preciso é possível\n",
    "        # fazer a diferenciação via osm_way_id, acima)\n",
    "        osm_rclass <- paths$details$road_class[[i]] %>% as.data.frame()\n",
    "        #   V1 V2          V3\n",
    "        # 1  0 10 residential\n",
    "        \n",
    "        # ciclofaixas vão estar demarcadas como lcn em details.bike_network\n",
    "        osm_lcn <- paths$details$bike_network[[i]] %>% as.data.frame()\n",
    "        #   V1 V2      V3\n",
    "        # 1  0 10 missing\n",
    "        \n",
    "        # ciclovias expressas são demarcadas como smoothness == EXCELLENT - só\n",
    "        # elas interessam\n",
    "        osm_smoothies <- paths$details$smoothness[[i]] %>% as.data.frame() %>% select(V1, smoothie = V3)\n",
    "        \n",
    "        \n",
    "        # Finalmente, a soma das distâncias dos trechos deve ser igual à distância\n",
    "        # total calculada, que está em paths$distance\n",
    "        # osm_ways_totdist <- sum(paths$details$distance[[i]][,3])\n",
    "        \n",
    "        \n",
    "        # Criar dataframe para juntar todas as infos relevantes - o tamanho dele\n",
    "        # em linhas é igual ao último valor da coluna X2 - 1\n",
    "        osm_ways <- data.frame(X1 = seq(0, max(osm_way_ids$X2) - 1))\n",
    "        \n",
    "        # Juntar osm_way_ids, distâncias por osm_id, class. viária e ciclofaixas\n",
    "        osm_ways <- \n",
    "          osm_ways %>% \n",
    "          # Juntar osm_way_ids\n",
    "          left_join(osm_way_ids, by = 'X1') %>% \n",
    "          fill(X3) %>% \n",
    "          # Juntar distâncias por osm_way_ids\n",
    "          left_join(osm_ways_dists, by = 'X1') %>% \n",
    "          # Juntar classificação viária\n",
    "          mutate(X1 = as.character(X1)) %>% \n",
    "          left_join(osm_rclass, by = c('X1' = 'V1')) %>% \n",
    "          fill(V3) %>% \n",
    "          # Juntar ciclofaixas (lcn)\n",
    "          left_join(osm_lcn, by = c('X1' = 'V1')) %>% \n",
    "          fill(V3.y) %>% \n",
    "          select(X1, osm_way_id = X3.x, dist = X3.y, road_class = V3.x, lcn = V3.y) %>% \n",
    "          # Como X1 é único e não deixa repetir distâncias, tudo o que for NA \n",
    "          # em dis pode ser descartado:\n",
    "          filter(!is.na(dist)) %>% \n",
    "          # Juntar smoothness, para detectar ciclovias expressas\n",
    "          left_join(osm_smoothies, by = c('X1' = 'V1')) %>% \n",
    "          fill(smoothie) %>% \n",
    "          mutate(hex_id = hex_id_short,\n",
    "                 alt    = i,\n",
    "                 .before = 'osm_way_id') %>% \n",
    "          # Demarcar infra cicloviária em coluna única\n",
    "          mutate(infra_ciclo = ifelse(road_class == 'cycleway', 'ciclo_comum', 'via_comum'),\n",
    "                 infra_ciclo = ifelse(lcn == 'local', 'ciclofaixa', infra_ciclo),\n",
    "                 infra_ciclo = ifelse(smoothie == 'excellent', 'ciclo_expressa', infra_ciclo))\n",
    "        \n",
    "        \n",
    "        # ----------------------------------------------------------------------\n",
    "        # Extensões percorridas em vias comuns e vias com infra cicloviária\n",
    "        # ----------------------------------------------------------------------\n",
    "        \n",
    "        # Agrupar extensões por tipo de viário percorrido\n",
    "        calc_infra_ciclo <- \n",
    "          osm_ways %>% \n",
    "          group_by(hex_id, alt, infra_ciclo) %>% \n",
    "          summarise(ext = sum(dist)) %>% \n",
    "          ungroup() %>% \n",
    "          pivot_wider(id_cols = c(hex_id, alt),\n",
    "                      names_from = 'infra_ciclo',\n",
    "                      values_from = ext)\n",
    "        \n",
    "        # Checar se todas as colunas de tipo de viário estão como colunas - se não, inserir\n",
    "        for (c_type in c('ciclo_expressa', 'ciclo_comum', 'ciclofaixa', 'via_comum')) {\n",
    "          if (!c_type %in% names(calc_infra_ciclo)) {\n",
    "            # Inserir nova coluna como NA (NA_real_, NA_character_)\n",
    "            calc_infra_ciclo <- calc_infra_ciclo %>% mutate(!!c_type := 0)\n",
    "          }\n",
    "          \n",
    "        }\n",
    "        \n",
    "        # Somar extensões percorridas em infra cicloviária\n",
    "        calc_infra_ciclo <- \n",
    "          calc_infra_ciclo %>% \n",
    "          select(hex_id, alt, via_comum, ciclo_expressa, ciclo_comum, ciclofaixa) %>% \n",
    "          mutate(infra_ciclo = ciclo_expressa + ciclo_comum + ciclofaixa,\n",
    "                 .after = 'via_comum')\n",
    "        \n",
    "        # Juntar resultados de infra cicloviária em dataframe de agrupamento\n",
    "        dados_infra_ciclo <- rbind(dados_infra_ciclo, calc_infra_ciclo)\n",
    "        \n",
    "        \n",
    "        # ----------------------------------------------------------------------\n",
    "        # Gravar bases de osm_way_ids com extensões percorridas\n",
    "        # ----------------------------------------------------------------------\n",
    "        \n",
    "        # Remover colunas de road_class e lcn para exportar\n",
    "        osm_ways <- osm_ways %>% select(-c(road_class, lcn))\n",
    "        \n",
    "        # Gravar resultados agrupados por hex_id_short de origem\n",
    "        osm_way_out <- sprintf('%s/%s_%s.csv', pasta_osmids_aopt, hex_id_short, ano)\n",
    "        if (file.exists(osm_way_out)) {\n",
    "          write_delim(osm_ways, osm_way_out, delim = ';', append = TRUE)\n",
    "        } else {\n",
    "          write_delim(osm_ways, osm_way_out, delim = ';', append = FALSE)\n",
    "        }\n",
    "        \n",
    "        \n",
    "      } else {\n",
    "        # Se não há osm_way_ids, é porque os pontos estão muito próximos uns dos\n",
    "        # outros, mesmo que seja um osm_way_id diferente entre a origem e o \n",
    "        # destino. A distância e a velocidade calculadas vão ser zero também - \n",
    "        # pular este registro, que vai ser vazio\n",
    "        return(sprintf('Pulando: %s não tem osm_way_ids (provavelmente tem distância = 0)', hex_id))\n",
    "        \n",
    "      }\n",
    "      \n",
    "    }\n",
    "    \n",
    "    \n",
    "    # Puxar dados resumitivos de interesse das rotas\n",
    "    paths <- \n",
    "      paths %>% \n",
    "      # Calcular tempo em segundos e velocidade média\n",
    "      mutate(time = time / 1000,\n",
    "             speed = distance / time * 3.6) %>% \n",
    "      # Descartar colunas extras - a coluna poly é o shape da rota traçada\n",
    "      select(distance, weight, time, speed, poly = points)\n",
    "    \n",
    "    # Juntar com dados da uso da infra cicloviária\n",
    "    paths <- \n",
    "      cbind(dados_infra_ciclo, paths) %>% \n",
    "      relocate(c(via_comum, infra_ciclo, ciclo_expressa, ciclo_comum, ciclofaixa), \n",
    "               .before = 'poly')\n",
    "    \n",
    "    # Testar polyline:\n",
    "    # https://valhalla.github.io/demos/polyline/?unescape=true&polyline6=false#%0A\n",
    "    \n",
    "    \n",
    "  } else {\n",
    "    \n",
    "    # Se a query no GraphHopper não deu resultados, guardar como dataframe vazio\n",
    "    paths <- data.frame(hex_id    = hex_id_short,\n",
    "                        alt       = NA,\n",
    "                        # id_hex.x  = df_line$id_hex_x,\n",
    "                        # id_hex.y  = df_line$id_hex_y,\n",
    "                        distance  = NA,\n",
    "                        weight    = NA,\n",
    "                        time      = NA,\n",
    "                        speed     = NA,\n",
    "                        poly      = NA,\n",
    "                        via_comum = NA,\n",
    "                        infra_ciclo    = NA,\n",
    "                        ciclo_expressa = NA,\n",
    "                        ciclo_comum    = NA,\n",
    "                        ciclofaixa     = NA\n",
    "                        # lon.x     = df_line$lon.x,\n",
    "                        # lat.x     = df_line$lat.x,\n",
    "                        # lon.y     = df_line$lon.y,\n",
    "                        # lat.y     = df_line$lat.y\n",
    "    )\n",
    "    \n",
    "  }\n",
    "  \n",
    "  # Guardar resultados temporários agrupados por hex_id_short de origem\n",
    "  tmp_file <- sprintf('%s/%s_modalt_%s.csv', pasta_rotas_aopt, hex_id_short, ano)\n",
    "  if (file.exists(tmp_file)) {\n",
    "    write_delim(paths, tmp_file, delim = ';', append = TRUE)\n",
    "  } else {\n",
    "    write_delim(paths, tmp_file, delim = ';', append = FALSE)\n",
    "  }\n",
    "  \n",
    "  # Guardar ids já processados em arquivo próprio\n",
    "  df_line <- df_line %>% select(id)\n",
    "  ids_processados <- sprintf('%s/tmp_00_ids_processados_%s.csv', pasta_aoprv_teste, ano)\n",
    "  \n",
    "  if (file.exists(ids_processados)) {\n",
    "    write_delim(df_line, ids_processados, delim = ';', append = TRUE)\n",
    "  } else {\n",
    "    write_delim(df_line, ids_processados, delim = ';', append = FALSE)\n",
    "  }\n",
    "  \n",
    "}"
   ]
  },
  {
   "cell_type": "code",
   "execution_count": 7,
   "id": "68920271",
   "metadata": {},
   "outputs": [
    {
     "data": {
      "text/html": [
       "<table class=\"dataframe\">\n",
       "<caption>A tibble: 2 × 2</caption>\n",
       "<thead>\n",
       "\t<tr><th scope=col>id</th><th scope=col>url</th></tr>\n",
       "\t<tr><th scope=col>&lt;chr&gt;</th><th scope=col>&lt;chr&gt;</th></tr>\n",
       "</thead>\n",
       "<tbody>\n",
       "\t<tr><td>89a81044d93ffff-89a81046b67ffff</td><td>http://localhost:8989/route/?point=-23.5484803108781%2C-46.3960561008525&amp;point=-23.5501510342044%2C-46.3930422922908&amp;profile=bike&amp;instructions=false&amp;calc_points=true&amp;algorithm=alternative_route&amp;details=osm_way_id&amp;details=road_class&amp;details=bike_network&amp;details=smoothness&amp;details=distance</td></tr>\n",
       "\t<tr><td>89a81044d93ffff-89a81044d9bffff</td><td>http://localhost:8989/route/?point=-23.5484803108781%2C-46.3960561008525&amp;point=-23.5470831736999%2C-46.3929530092181&amp;profile=bike&amp;instructions=false&amp;calc_points=true&amp;algorithm=alternative_route&amp;details=osm_way_id&amp;details=road_class&amp;details=bike_network&amp;details=smoothness&amp;details=distance</td></tr>\n",
       "</tbody>\n",
       "</table>\n"
      ],
      "text/latex": [
       "A tibble: 2 × 2\n",
       "\\begin{tabular}{ll}\n",
       " id & url\\\\\n",
       " <chr> & <chr>\\\\\n",
       "\\hline\n",
       "\t 89a81044d93ffff-89a81046b67ffff & http://localhost:8989/route/?point=-23.5484803108781\\%2C-46.3960561008525\\&point=-23.5501510342044\\%2C-46.3930422922908\\&profile=bike\\&instructions=false\\&calc\\_points=true\\&algorithm=alternative\\_route\\&details=osm\\_way\\_id\\&details=road\\_class\\&details=bike\\_network\\&details=smoothness\\&details=distance\\\\\n",
       "\t 89a81044d93ffff-89a81044d9bffff & http://localhost:8989/route/?point=-23.5484803108781\\%2C-46.3960561008525\\&point=-23.5470831736999\\%2C-46.3929530092181\\&profile=bike\\&instructions=false\\&calc\\_points=true\\&algorithm=alternative\\_route\\&details=osm\\_way\\_id\\&details=road\\_class\\&details=bike\\_network\\&details=smoothness\\&details=distance\\\\\n",
       "\\end{tabular}\n"
      ],
      "text/markdown": [
       "\n",
       "A tibble: 2 × 2\n",
       "\n",
       "| id &lt;chr&gt; | url &lt;chr&gt; |\n",
       "|---|---|\n",
       "| 89a81044d93ffff-89a81046b67ffff | http://localhost:8989/route/?point=-23.5484803108781%2C-46.3960561008525&amp;point=-23.5501510342044%2C-46.3930422922908&amp;profile=bike&amp;instructions=false&amp;calc_points=true&amp;algorithm=alternative_route&amp;details=osm_way_id&amp;details=road_class&amp;details=bike_network&amp;details=smoothness&amp;details=distance |\n",
       "| 89a81044d93ffff-89a81044d9bffff | http://localhost:8989/route/?point=-23.5484803108781%2C-46.3960561008525&amp;point=-23.5470831736999%2C-46.3929530092181&amp;profile=bike&amp;instructions=false&amp;calc_points=true&amp;algorithm=alternative_route&amp;details=osm_way_id&amp;details=road_class&amp;details=bike_network&amp;details=smoothness&amp;details=distance |\n",
       "\n"
      ],
      "text/plain": [
       "  id                             \n",
       "1 89a81044d93ffff-89a81046b67ffff\n",
       "2 89a81044d93ffff-89a81044d9bffff\n",
       "  url                                                                                                                                                                                                                                                                                             \n",
       "1 http://localhost:8989/route/?point=-23.5484803108781%2C-46.3960561008525&point=-23.5501510342044%2C-46.3930422922908&profile=bike&instructions=false&calc_points=true&algorithm=alternative_route&details=osm_way_id&details=road_class&details=bike_network&details=smoothness&details=distance\n",
       "2 http://localhost:8989/route/?point=-23.5484803108781%2C-46.3960561008525&point=-23.5470831736999%2C-46.3929530092181&profile=bike&instructions=false&calc_points=true&algorithm=alternative_route&details=osm_way_id&details=road_class&details=bike_network&details=smoothness&details=distance"
      ]
     },
     "metadata": {},
     "output_type": "display_data"
    }
   ],
   "source": [
    "# ------------------------------------------------------------------------------\n",
    "# Routing a partir de dois pontos\n",
    "# ------------------------------------------------------------------------------\n",
    "\n",
    "# Para o primeiro teste, queremos apenas dois hexágonos da zona leste\n",
    "hex_com_vizinhos <- sprintf('%s/00_base_para_teste_routing_res09_26vizinhos.csv', pasta_aoprv_teste)\n",
    "hex_com_vizinhos <- read_delim(hex_com_vizinhos, delim = ';', col_types = 'cc')\n",
    "head(hex_com_vizinhos, 2)"
   ]
  },
  {
   "cell_type": "code",
   "execution_count": 8,
   "id": "7a8b5f80",
   "metadata": {},
   "outputs": [
    {
     "name": "stderr",
     "output_type": "stream",
     "text": [
      "mutate: new variable 'hex_id' (character) with 0 unique values and 100% NA\n",
      "\n",
      "filter: no rows removed\n",
      "\n"
     ]
    }
   ],
   "source": [
    "# Checar quais resultados já foram rodados - abrir lista, puxar ids e remover\n",
    "# do dataframe hex_com_vizinhos se houver\n",
    "# library('tidylog')\n",
    "arqs_resultados <- data.frame(arq = list.files(pasta_rotas_aopt, recursive = FALSE, full.names = FALSE))\n",
    "arqs_resultados <- arqs_resultados %>% mutate(hex_id = str_replace(arq, '_modalt.csv', ''))\n",
    "hex_com_vizinhos <- hex_com_vizinhos %>% filter(!id %in% arqs_resultados$hex_id)\n",
    "rm(arqs_resultados)"
   ]
  },
  {
   "cell_type": "code",
   "execution_count": 9,
   "id": "44cd792a",
   "metadata": {},
   "outputs": [
    {
     "data": {
      "text/html": [
       "2114"
      ],
      "text/latex": [
       "2114"
      ],
      "text/markdown": [
       "2114"
      ],
      "text/plain": [
       "[1] 2114"
      ]
     },
     "metadata": {},
     "output_type": "display_data"
    },
    {
     "data": {
      "text/html": [
       "<table class=\"dataframe\">\n",
       "<caption>A tibble: 2 × 2</caption>\n",
       "<thead>\n",
       "\t<tr><th scope=col>id</th><th scope=col>url</th></tr>\n",
       "\t<tr><th scope=col>&lt;chr&gt;</th><th scope=col>&lt;chr&gt;</th></tr>\n",
       "</thead>\n",
       "<tbody>\n",
       "\t<tr><td>89a81044d93ffff-89a81046b67ffff</td><td>http://localhost:8989/route/?point=-23.5484803108781%2C-46.3960561008525&amp;point=-23.5501510342044%2C-46.3930422922908&amp;profile=bike&amp;instructions=false&amp;calc_points=true&amp;algorithm=alternative_route&amp;details=osm_way_id&amp;details=road_class&amp;details=bike_network&amp;details=smoothness&amp;details=distance</td></tr>\n",
       "\t<tr><td>89a81044d93ffff-89a81044d9bffff</td><td>http://localhost:8989/route/?point=-23.5484803108781%2C-46.3960561008525&amp;point=-23.5470831736999%2C-46.3929530092181&amp;profile=bike&amp;instructions=false&amp;calc_points=true&amp;algorithm=alternative_route&amp;details=osm_way_id&amp;details=road_class&amp;details=bike_network&amp;details=smoothness&amp;details=distance</td></tr>\n",
       "</tbody>\n",
       "</table>\n"
      ],
      "text/latex": [
       "A tibble: 2 × 2\n",
       "\\begin{tabular}{ll}\n",
       " id & url\\\\\n",
       " <chr> & <chr>\\\\\n",
       "\\hline\n",
       "\t 89a81044d93ffff-89a81046b67ffff & http://localhost:8989/route/?point=-23.5484803108781\\%2C-46.3960561008525\\&point=-23.5501510342044\\%2C-46.3930422922908\\&profile=bike\\&instructions=false\\&calc\\_points=true\\&algorithm=alternative\\_route\\&details=osm\\_way\\_id\\&details=road\\_class\\&details=bike\\_network\\&details=smoothness\\&details=distance\\\\\n",
       "\t 89a81044d93ffff-89a81044d9bffff & http://localhost:8989/route/?point=-23.5484803108781\\%2C-46.3960561008525\\&point=-23.5470831736999\\%2C-46.3929530092181\\&profile=bike\\&instructions=false\\&calc\\_points=true\\&algorithm=alternative\\_route\\&details=osm\\_way\\_id\\&details=road\\_class\\&details=bike\\_network\\&details=smoothness\\&details=distance\\\\\n",
       "\\end{tabular}\n"
      ],
      "text/markdown": [
       "\n",
       "A tibble: 2 × 2\n",
       "\n",
       "| id &lt;chr&gt; | url &lt;chr&gt; |\n",
       "|---|---|\n",
       "| 89a81044d93ffff-89a81046b67ffff | http://localhost:8989/route/?point=-23.5484803108781%2C-46.3960561008525&amp;point=-23.5501510342044%2C-46.3930422922908&amp;profile=bike&amp;instructions=false&amp;calc_points=true&amp;algorithm=alternative_route&amp;details=osm_way_id&amp;details=road_class&amp;details=bike_network&amp;details=smoothness&amp;details=distance |\n",
       "| 89a81044d93ffff-89a81044d9bffff | http://localhost:8989/route/?point=-23.5484803108781%2C-46.3960561008525&amp;point=-23.5470831736999%2C-46.3929530092181&amp;profile=bike&amp;instructions=false&amp;calc_points=true&amp;algorithm=alternative_route&amp;details=osm_way_id&amp;details=road_class&amp;details=bike_network&amp;details=smoothness&amp;details=distance |\n",
       "\n"
      ],
      "text/plain": [
       "  id                             \n",
       "1 89a81044d93ffff-89a81046b67ffff\n",
       "2 89a81044d93ffff-89a81044d9bffff\n",
       "  url                                                                                                                                                                                                                                                                                             \n",
       "1 http://localhost:8989/route/?point=-23.5484803108781%2C-46.3960561008525&point=-23.5501510342044%2C-46.3930422922908&profile=bike&instructions=false&calc_points=true&algorithm=alternative_route&details=osm_way_id&details=road_class&details=bike_network&details=smoothness&details=distance\n",
       "2 http://localhost:8989/route/?point=-23.5484803108781%2C-46.3960561008525&point=-23.5470831736999%2C-46.3929530092181&profile=bike&instructions=false&calc_points=true&algorithm=alternative_route&details=osm_way_id&details=road_class&details=bike_network&details=smoothness&details=distance"
      ]
     },
     "metadata": {},
     "output_type": "display_data"
    }
   ],
   "source": [
    "# Arquivos já processados\n",
    "ids_processados <- sprintf('%s/tmp_00_ids_processados_%s.csv', pasta_aoprv_teste, ano)\n",
    "\n",
    "# Checar quais resultados já foram rodados - abrir lista, puxar ids e remover\n",
    "# do dataframe hex_com_vizinhos se houver\n",
    "# library('tidylog')\n",
    "if (file.exists(ids_processados)) {\n",
    "  arqs_resultados  <- read_delim(ids_processados, delim = ';', col_types = \"c\")\n",
    "  hex_com_vizinhos <- hex_com_vizinhos %>% filter(!id %in% arqs_resultados$id)\n",
    "  rm(arqs_resultados)\n",
    "  print(nrow(hex_com_vizinhos))\n",
    "}\n",
    "\n",
    "nrow(hex_com_vizinhos)\n",
    "head(hex_com_vizinhos, 2)"
   ]
  },
  {
   "cell_type": "code",
   "execution_count": 10,
   "id": "a6f1c7ad",
   "metadata": {},
   "outputs": [],
   "source": [
    "# Para cada linha de origem e destino, gerar rotas modeladas com alternativas\n",
    "detach(\"package:tidylog\")"
   ]
  },
  {
   "cell_type": "code",
   "execution_count": 11,
   "id": "2e54be98",
   "metadata": {},
   "outputs": [
    {
     "data": {
      "text/plain": [
       "[1] \"2024-06-30 20:37:30 -03\""
      ]
     },
     "metadata": {},
     "output_type": "display_data"
    },
    {
     "data": {
      "text/plain": [
       "[1] \"2024-06-30 20:40:25 -03\""
      ]
     },
     "metadata": {},
     "output_type": "display_data"
    },
    {
     "data": {
      "text/plain": [
       "Time difference of 2.924839 mins"
      ]
     },
     "metadata": {},
     "output_type": "display_data"
    },
    {
     "data": {
      "text/html": [
       "<table class=\"dataframe\">\n",
       "<caption>A matrix: 2 × 6 of type dbl</caption>\n",
       "<thead>\n",
       "\t<tr><th></th><th scope=col>used</th><th scope=col>(Mb)</th><th scope=col>gc trigger</th><th scope=col>(Mb)</th><th scope=col>max used</th><th scope=col>(Mb)</th></tr>\n",
       "</thead>\n",
       "<tbody>\n",
       "\t<tr><th scope=row>Ncells</th><td>1230824</td><td>65.8</td><td> 4729014</td><td>252.6</td><td>5911267</td><td>315.7</td></tr>\n",
       "\t<tr><th scope=row>Vcells</th><td>2183802</td><td>16.7</td><td>10146329</td><td> 77.5</td><td>9183531</td><td> 70.1</td></tr>\n",
       "</tbody>\n",
       "</table>\n"
      ],
      "text/latex": [
       "A matrix: 2 × 6 of type dbl\n",
       "\\begin{tabular}{r|llllll}\n",
       "  & used & (Mb) & gc trigger & (Mb) & max used & (Mb)\\\\\n",
       "\\hline\n",
       "\tNcells & 1230824 & 65.8 &  4729014 & 252.6 & 5911267 & 315.7\\\\\n",
       "\tVcells & 2183802 & 16.7 & 10146329 &  77.5 & 9183531 &  70.1\\\\\n",
       "\\end{tabular}\n"
      ],
      "text/markdown": [
       "\n",
       "A matrix: 2 × 6 of type dbl\n",
       "\n",
       "| <!--/--> | used | (Mb) | gc trigger | (Mb) | max used | (Mb) |\n",
       "|---|---|---|---|---|---|---|\n",
       "| Ncells | 1230824 | 65.8 |  4729014 | 252.6 | 5911267 | 315.7 |\n",
       "| Vcells | 2183802 | 16.7 | 10146329 |  77.5 | 9183531 |  70.1 |\n",
       "\n"
      ],
      "text/plain": [
       "       used    (Mb) gc trigger (Mb)  max used (Mb) \n",
       "Ncells 1230824 65.8  4729014   252.6 5911267  315.7\n",
       "Vcells 2183802 16.7 10146329    77.5 9183531   70.1"
      ]
     },
     "metadata": {},
     "output_type": "display_data"
    }
   ],
   "source": [
    "# Criar ttmatrix a partir do GrahHopper - melhor rodar no Jupyter se for AOP;\n",
    "# se forem só as rotas originais, é ok rodar no RStudio\n",
    "# for (id in hex_com_vizinhos$id) { gh_route_alt(id) }\n",
    "# Rodar função para todos os arquivos- multi thread (Jupyter)\n",
    "(start = Sys.time())\n",
    "future::plan(future::multicore)\n",
    "invisible(future.apply::future_lapply(X   = hex_com_vizinhos$id,\n",
    "                                    FUN = gh_route_alt_full,\n",
    "                                    future.seed = TRUE))\n",
    "Sys.time()\n",
    "Sys.time() - start\n",
    "\n",
    "# Limpar memória\n",
    "rm(hex_com_vizinhos)  \n",
    "gc(T)"
   ]
  },
  {
   "cell_type": "code",
   "execution_count": null,
   "id": "a5cb872b",
   "metadata": {},
   "outputs": [],
   "source": []
  }
 ],
 "metadata": {
  "kernelspec": {
   "display_name": "R [conda env:r4_env]",
   "language": "R",
   "name": "conda-env-r4_env-r"
  },
  "language_info": {
   "codemirror_mode": "r",
   "file_extension": ".r",
   "mimetype": "text/x-r-source",
   "name": "R",
   "pygments_lexer": "r",
   "version": "4.0.5"
  }
 },
 "nbformat": 4,
 "nbformat_minor": 5
}
