{
 "cells": [
  {
   "cell_type": "code",
   "execution_count": 1,
   "id": "f2b75256",
   "metadata": {},
   "outputs": [
    {
     "name": "stderr",
     "output_type": "stream",
     "text": [
      "GDAL version >= 3.1.0 | setting mapviewOptions(fgb = TRUE)\n",
      "\n",
      "Linking to GEOS 3.9.1, GDAL 3.2.2, PROJ 8.0.0\n",
      "\n",
      "\n",
      "Attaching package: ‘jsonlite’\n",
      "\n",
      "\n",
      "The following object is masked from ‘package:purrr’:\n",
      "\n",
      "    flatten\n",
      "\n",
      "\n"
     ]
    }
   ],
   "source": [
    "# carregar bibliotecas\n",
    "source('fun/setup.R')\n",
    "\n",
    "# Dados a atualizar de acordo com o mês a rodar\n",
    "# ano_mes <- '201811'\n",
    "# ano_mes <- '201812'\n",
    "ano_mes <- '201901'\n",
    "\n",
    "# Estrutura de pastas\n",
    "pasta_dados        <- \"../../yellow_dados\"\n",
    "pasta_modelos      <- sprintf('%s/06_bases_para_modelo', pasta_dados)\n",
    "pasta_trechos_proc <- sprintf('%s/A_trechos_processados/%s', pasta_modelos, ano_mes)\n",
    "pasta_base_agrup   <- sprintf('%s/B_processados_agrupados', pasta_modelos)\n",
    "dir.create(pasta_base_agrup, recursive = TRUE, showWarnings = FALSE)"
   ]
  },
  {
   "cell_type": "code",
   "execution_count": 2,
   "id": "85f932d8",
   "metadata": {},
   "outputs": [
    {
     "data": {
      "text/html": [
       "<style>\n",
       ".list-inline {list-style: none; margin:0; padding: 0}\n",
       ".list-inline>li {display: inline-block}\n",
       ".list-inline>li:not(:last-child)::after {content: \"\\00b7\"; padding: 0 .5ex}\n",
       "</style>\n",
       "<ol class=list-inline><li>53210</li><li>1</li></ol>\n"
      ],
      "text/latex": [
       "\\begin{enumerate*}\n",
       "\\item 53210\n",
       "\\item 1\n",
       "\\end{enumerate*}\n"
      ],
      "text/markdown": [
       "1. 53210\n",
       "2. 1\n",
       "\n",
       "\n"
      ],
      "text/plain": [
       "[1] 53210     1"
      ]
     },
     "metadata": {},
     "output_type": "display_data"
    },
    {
     "data": {
      "text/html": [
       "<table class=\"dataframe\">\n",
       "<caption>A data.frame: 6 × 1</caption>\n",
       "<thead>\n",
       "\t<tr><th></th><th scope=col>f_path</th></tr>\n",
       "\t<tr><th></th><th scope=col>&lt;chr&gt;</th></tr>\n",
       "</thead>\n",
       "<tbody>\n",
       "\t<tr><th scope=row>1</th><td>../../yellow_dados/06_bases_para_modelo/A_trechos_processados/201901/000265_00_agrupado.csv</td></tr>\n",
       "\t<tr><th scope=row>2</th><td>../../yellow_dados/06_bases_para_modelo/A_trechos_processados/201901/000266_00_agrupado.csv</td></tr>\n",
       "\t<tr><th scope=row>3</th><td>../../yellow_dados/06_bases_para_modelo/A_trechos_processados/201901/000268_00_agrupado.csv</td></tr>\n",
       "\t<tr><th scope=row>4</th><td>../../yellow_dados/06_bases_para_modelo/A_trechos_processados/201901/000271_01_agrupado.csv</td></tr>\n",
       "\t<tr><th scope=row>5</th><td>../../yellow_dados/06_bases_para_modelo/A_trechos_processados/201901/000274_00_agrupado.csv</td></tr>\n",
       "\t<tr><th scope=row>6</th><td>../../yellow_dados/06_bases_para_modelo/A_trechos_processados/201901/000275_00_agrupado.csv</td></tr>\n",
       "</tbody>\n",
       "</table>\n"
      ],
      "text/latex": [
       "A data.frame: 6 × 1\n",
       "\\begin{tabular}{r|l}\n",
       "  & f\\_path\\\\\n",
       "  & <chr>\\\\\n",
       "\\hline\n",
       "\t1 & ../../yellow\\_dados/06\\_bases\\_para\\_modelo/A\\_trechos\\_processados/201901/000265\\_00\\_agrupado.csv\\\\\n",
       "\t2 & ../../yellow\\_dados/06\\_bases\\_para\\_modelo/A\\_trechos\\_processados/201901/000266\\_00\\_agrupado.csv\\\\\n",
       "\t3 & ../../yellow\\_dados/06\\_bases\\_para\\_modelo/A\\_trechos\\_processados/201901/000268\\_00\\_agrupado.csv\\\\\n",
       "\t4 & ../../yellow\\_dados/06\\_bases\\_para\\_modelo/A\\_trechos\\_processados/201901/000271\\_01\\_agrupado.csv\\\\\n",
       "\t5 & ../../yellow\\_dados/06\\_bases\\_para\\_modelo/A\\_trechos\\_processados/201901/000274\\_00\\_agrupado.csv\\\\\n",
       "\t6 & ../../yellow\\_dados/06\\_bases\\_para\\_modelo/A\\_trechos\\_processados/201901/000275\\_00\\_agrupado.csv\\\\\n",
       "\\end{tabular}\n"
      ],
      "text/markdown": [
       "\n",
       "A data.frame: 6 × 1\n",
       "\n",
       "| <!--/--> | f_path &lt;chr&gt; |\n",
       "|---|---|\n",
       "| 1 | ../../yellow_dados/06_bases_para_modelo/A_trechos_processados/201901/000265_00_agrupado.csv |\n",
       "| 2 | ../../yellow_dados/06_bases_para_modelo/A_trechos_processados/201901/000266_00_agrupado.csv |\n",
       "| 3 | ../../yellow_dados/06_bases_para_modelo/A_trechos_processados/201901/000268_00_agrupado.csv |\n",
       "| 4 | ../../yellow_dados/06_bases_para_modelo/A_trechos_processados/201901/000271_01_agrupado.csv |\n",
       "| 5 | ../../yellow_dados/06_bases_para_modelo/A_trechos_processados/201901/000274_00_agrupado.csv |\n",
       "| 6 | ../../yellow_dados/06_bases_para_modelo/A_trechos_processados/201901/000275_00_agrupado.csv |\n",
       "\n"
      ],
      "text/plain": [
       "  f_path                                                                                     \n",
       "1 ../../yellow_dados/06_bases_para_modelo/A_trechos_processados/201901/000265_00_agrupado.csv\n",
       "2 ../../yellow_dados/06_bases_para_modelo/A_trechos_processados/201901/000266_00_agrupado.csv\n",
       "3 ../../yellow_dados/06_bases_para_modelo/A_trechos_processados/201901/000268_00_agrupado.csv\n",
       "4 ../../yellow_dados/06_bases_para_modelo/A_trechos_processados/201901/000271_01_agrupado.csv\n",
       "5 ../../yellow_dados/06_bases_para_modelo/A_trechos_processados/201901/000274_00_agrupado.csv\n",
       "6 ../../yellow_dados/06_bases_para_modelo/A_trechos_processados/201901/000275_00_agrupado.csv"
      ]
     },
     "metadata": {},
     "output_type": "display_data"
    }
   ],
   "source": [
    "# ----------------------------------------------------------\n",
    "# Juntar e salvar resultados em arquivo único\n",
    "# ----------------------------------------------------------\n",
    "\n",
    "# Pegar nomes de todos os .csvs de resultado\n",
    "result_files <- list.files(pasta_trechos_proc, \n",
    "                           pattern = '^\\\\d{6}_\\\\d{2}_agrupado.csv', \n",
    "                           recursive = TRUE, \n",
    "                           full.names = TRUE)\n",
    "\n",
    "# Criar um dataframe único para todos os registros daquele dia\n",
    "# https://stackoverflow.com/questions/46299777/add-filename-column-to-table-as-multiple-files-are-read-and-bound\n",
    "result_files <- data.frame(f_path = result_files)\n",
    "\n",
    "dim(result_files)\n",
    "head(result_files)"
   ]
  },
  {
   "cell_type": "code",
   "execution_count": 3,
   "id": "adb75699",
   "metadata": {},
   "outputs": [
    {
     "name": "stderr",
     "output_type": "stream",
     "text": [
      "mutate: new variable 'reg' (list) with 53,203 unique values and 0% NA\n",
      "\n",
      "select: dropped one variable (f_path)\n",
      "\n"
     ]
    },
    {
     "data": {
      "text/html": [
       "<style>\n",
       ".list-inline {list-style: none; margin:0; padding: 0}\n",
       ".list-inline>li {display: inline-block}\n",
       ".list-inline>li:not(:last-child)::after {content: \"\\00b7\"; padding: 0 .5ex}\n",
       "</style>\n",
       "<ol class=list-inline><li>1536357</li><li>15</li></ol>\n"
      ],
      "text/latex": [
       "\\begin{enumerate*}\n",
       "\\item 1536357\n",
       "\\item 15\n",
       "\\end{enumerate*}\n"
      ],
      "text/markdown": [
       "1. 1536357\n",
       "2. 15\n",
       "\n",
       "\n"
      ],
      "text/plain": [
       "[1] 1536357      15"
      ]
     },
     "metadata": {},
     "output_type": "display_data"
    },
    {
     "data": {
      "text/html": [
       "<table class=\"dataframe\">\n",
       "<caption>A tibble: 6 × 15</caption>\n",
       "<thead>\n",
       "\t<tr><th scope=col>trip_id</th><th scope=col>edges.way_id</th><th scope=col>qgis_id</th><th scope=col>cluster</th><th scope=col>edges.length</th><th scope=col>elev_sent</th><th scope=col>n_pontos</th><th scope=col>ts_inicio</th><th scope=col>tempo_trecho</th><th scope=col>qgisid_ext_m</th><th scope=col>speed_kph</th><th scope=col>vel_med_gps</th><th scope=col>vel_med_m3</th><th scope=col>vel_med_m5</th><th scope=col>elev_grad</th></tr>\n",
       "\t<tr><th scope=col>&lt;chr&gt;</th><th scope=col>&lt;chr&gt;</th><th scope=col>&lt;chr&gt;</th><th scope=col>&lt;chr&gt;</th><th scope=col>&lt;chr&gt;</th><th scope=col>&lt;chr&gt;</th><th scope=col>&lt;chr&gt;</th><th scope=col>&lt;chr&gt;</th><th scope=col>&lt;chr&gt;</th><th scope=col>&lt;chr&gt;</th><th scope=col>&lt;chr&gt;</th><th scope=col>&lt;chr&gt;</th><th scope=col>&lt;chr&gt;</th><th scope=col>&lt;chr&gt;</th><th scope=col>&lt;chr&gt;</th></tr>\n",
       "</thead>\n",
       "<tbody>\n",
       "\t<tr><td>000265_00</td><td>95944116 </td><td>249672</td><td>1</td><td>53 </td><td>subida </td><td>2 </td><td>1546423814.789</td><td>4.523999929428101</td><td>56.437 </td><td>42.17506697090508 </td><td>13.857031322093171</td><td>6.2067242445575985</td><td>0.754195899857389 </td><td>0.5075358156550668 </td></tr>\n",
       "\t<tr><td>000265_00</td><td>229481094</td><td>249674</td><td>2</td><td>67 </td><td>descida</td><td>11</td><td>1546423822.119</td><td>57.24399995803833</td><td>66.969 </td><td>4.2135420336944875</td><td>7.2031095433683285</td><td>8.61441269908937  </td><td>10.1720778154487  </td><td>-0.5877581009963565</td></tr>\n",
       "\t<tr><td>000265_00</td><td>760437724</td><td>054184</td><td>3</td><td>113</td><td>descida</td><td>5 </td><td>1546423884.318</td><td>20.01099991798401</td><td>113.229</td><td>20.32881923278638 </td><td>15.986978532010834</td><td>14.166832778128926</td><td>15.808986137262224</td><td>-1.137971000003312 </td></tr>\n",
       "\t<tr><td>000265_00</td><td>27467667 </td><td>213063</td><td>4</td><td>51 </td><td>subida </td><td>2 </td><td>1546423909.336</td><td>4.99399995803833 </td><td>51.31  </td><td>36.76411724923584 </td><td>19.93144317498627 </td><td>16.569353834377996</td><td>16.569353834377996</td><td>0.4984161073621126 </td></tr>\n",
       "\t<tr><td>000265_00</td><td>27467667 </td><td>213064</td><td>5</td><td>55 </td><td>descida</td><td>2 </td><td>1546423919.347</td><td>4.995000123977661</td><td>54.534 </td><td>39.639638655769836</td><td>14.035612605072707</td><td>17.22801564741109 </td><td>19.776166834780266</td><td>-0.2883092428576668</td></tr>\n",
       "\t<tr><td>000265_00</td><td>27473198 </td><td>089713</td><td>6</td><td>213</td><td>descida</td><td>12</td><td>1546423929.316</td><td>55.03099989891052</td><td>212.858</td><td>13.933964518336523</td><td>13.383454213458176</td><td>13.045710530573492</td><td>12.232963866970444</td><td>-0.5127219220824446</td></tr>\n",
       "</tbody>\n",
       "</table>\n"
      ],
      "text/latex": [
       "A tibble: 6 × 15\n",
       "\\begin{tabular}{lllllllllllllll}\n",
       " trip\\_id & edges.way\\_id & qgis\\_id & cluster & edges.length & elev\\_sent & n\\_pontos & ts\\_inicio & tempo\\_trecho & qgisid\\_ext\\_m & speed\\_kph & vel\\_med\\_gps & vel\\_med\\_m3 & vel\\_med\\_m5 & elev\\_grad\\\\\n",
       " <chr> & <chr> & <chr> & <chr> & <chr> & <chr> & <chr> & <chr> & <chr> & <chr> & <chr> & <chr> & <chr> & <chr> & <chr>\\\\\n",
       "\\hline\n",
       "\t 000265\\_00 & 95944116  & 249672 & 1 & 53  & subida  & 2  & 1546423814.789 & 4.523999929428101 & 56.437  & 42.17506697090508  & 13.857031322093171 & 6.2067242445575985 & 0.754195899857389  & 0.5075358156550668 \\\\\n",
       "\t 000265\\_00 & 229481094 & 249674 & 2 & 67  & descida & 11 & 1546423822.119 & 57.24399995803833 & 66.969  & 4.2135420336944875 & 7.2031095433683285 & 8.61441269908937   & 10.1720778154487   & -0.5877581009963565\\\\\n",
       "\t 000265\\_00 & 760437724 & 054184 & 3 & 113 & descida & 5  & 1546423884.318 & 20.01099991798401 & 113.229 & 20.32881923278638  & 15.986978532010834 & 14.166832778128926 & 15.808986137262224 & -1.137971000003312 \\\\\n",
       "\t 000265\\_00 & 27467667  & 213063 & 4 & 51  & subida  & 2  & 1546423909.336 & 4.99399995803833  & 51.31   & 36.76411724923584  & 19.93144317498627  & 16.569353834377996 & 16.569353834377996 & 0.4984161073621126 \\\\\n",
       "\t 000265\\_00 & 27467667  & 213064 & 5 & 55  & descida & 2  & 1546423919.347 & 4.995000123977661 & 54.534  & 39.639638655769836 & 14.035612605072707 & 17.22801564741109  & 19.776166834780266 & -0.2883092428576668\\\\\n",
       "\t 000265\\_00 & 27473198  & 089713 & 6 & 213 & descida & 12 & 1546423929.316 & 55.03099989891052 & 212.858 & 13.933964518336523 & 13.383454213458176 & 13.045710530573492 & 12.232963866970444 & -0.5127219220824446\\\\\n",
       "\\end{tabular}\n"
      ],
      "text/markdown": [
       "\n",
       "A tibble: 6 × 15\n",
       "\n",
       "| trip_id &lt;chr&gt; | edges.way_id &lt;chr&gt; | qgis_id &lt;chr&gt; | cluster &lt;chr&gt; | edges.length &lt;chr&gt; | elev_sent &lt;chr&gt; | n_pontos &lt;chr&gt; | ts_inicio &lt;chr&gt; | tempo_trecho &lt;chr&gt; | qgisid_ext_m &lt;chr&gt; | speed_kph &lt;chr&gt; | vel_med_gps &lt;chr&gt; | vel_med_m3 &lt;chr&gt; | vel_med_m5 &lt;chr&gt; | elev_grad &lt;chr&gt; |\n",
       "|---|---|---|---|---|---|---|---|---|---|---|---|---|---|---|\n",
       "| 000265_00 | 95944116  | 249672 | 1 | 53  | subida  | 2  | 1546423814.789 | 4.523999929428101 | 56.437  | 42.17506697090508  | 13.857031322093171 | 6.2067242445575985 | 0.754195899857389  | 0.5075358156550668  |\n",
       "| 000265_00 | 229481094 | 249674 | 2 | 67  | descida | 11 | 1546423822.119 | 57.24399995803833 | 66.969  | 4.2135420336944875 | 7.2031095433683285 | 8.61441269908937   | 10.1720778154487   | -0.5877581009963565 |\n",
       "| 000265_00 | 760437724 | 054184 | 3 | 113 | descida | 5  | 1546423884.318 | 20.01099991798401 | 113.229 | 20.32881923278638  | 15.986978532010834 | 14.166832778128926 | 15.808986137262224 | -1.137971000003312  |\n",
       "| 000265_00 | 27467667  | 213063 | 4 | 51  | subida  | 2  | 1546423909.336 | 4.99399995803833  | 51.31   | 36.76411724923584  | 19.93144317498627  | 16.569353834377996 | 16.569353834377996 | 0.4984161073621126  |\n",
       "| 000265_00 | 27467667  | 213064 | 5 | 55  | descida | 2  | 1546423919.347 | 4.995000123977661 | 54.534  | 39.639638655769836 | 14.035612605072707 | 17.22801564741109  | 19.776166834780266 | -0.2883092428576668 |\n",
       "| 000265_00 | 27473198  | 089713 | 6 | 213 | descida | 12 | 1546423929.316 | 55.03099989891052 | 212.858 | 13.933964518336523 | 13.383454213458176 | 13.045710530573492 | 12.232963866970444 | -0.5127219220824446 |\n",
       "\n"
      ],
      "text/plain": [
       "  trip_id   edges.way_id qgis_id cluster edges.length elev_sent n_pontos\n",
       "1 000265_00 95944116     249672  1       53           subida    2       \n",
       "2 000265_00 229481094    249674  2       67           descida   11      \n",
       "3 000265_00 760437724    054184  3       113          descida   5       \n",
       "4 000265_00 27467667     213063  4       51           subida    2       \n",
       "5 000265_00 27467667     213064  5       55           descida   2       \n",
       "6 000265_00 27473198     089713  6       213          descida   12      \n",
       "  ts_inicio      tempo_trecho      qgisid_ext_m speed_kph         \n",
       "1 1546423814.789 4.523999929428101 56.437       42.17506697090508 \n",
       "2 1546423822.119 57.24399995803833 66.969       4.2135420336944875\n",
       "3 1546423884.318 20.01099991798401 113.229      20.32881923278638 \n",
       "4 1546423909.336 4.99399995803833  51.31        36.76411724923584 \n",
       "5 1546423919.347 4.995000123977661 54.534       39.639638655769836\n",
       "6 1546423929.316 55.03099989891052 212.858      13.933964518336523\n",
       "  vel_med_gps        vel_med_m3         vel_med_m5         elev_grad          \n",
       "1 13.857031322093171 6.2067242445575985 0.754195899857389  0.5075358156550668 \n",
       "2 7.2031095433683285 8.61441269908937   10.1720778154487   -0.5877581009963565\n",
       "3 15.986978532010834 14.166832778128926 15.808986137262224 -1.137971000003312 \n",
       "4 19.93144317498627  16.569353834377996 16.569353834377996 0.4984161073621126 \n",
       "5 14.035612605072707 17.22801564741109  19.776166834780266 -0.2883092428576668\n",
       "6 13.383454213458176 13.045710530573492 12.232963866970444 -0.5127219220824446"
      ]
     },
     "metadata": {},
     "output_type": "display_data"
    }
   ],
   "source": [
    "# Processar todos os arquivos das linhas em um df único\n",
    "tmp_df <- \n",
    "  result_files %>%\n",
    "  # Abrir cada arquivo e extrair conteúdo em nova coluna\n",
    "  mutate(reg = lapply(f_path, read_delim, delim = ';', col_types = cols(.default = \"c\"))) %>% \n",
    "  # Transformar cada linha de conteúdo em uma linha nova no tibble (linhas com\n",
    "  # nomes de arquivos vão se repetir para cada linha de conteúdo)\n",
    "  unnest(reg, keep_empty = TRUE) %>% \n",
    "  # Retirar primeira coluna, com referência aos endereços do arquivo\n",
    "  select(2:16)\n",
    "\n",
    "dim(tmp_df)\n",
    "head(tmp_df)"
   ]
  },
  {
   "cell_type": "code",
   "execution_count": 4,
   "id": "940b8c8f",
   "metadata": {},
   "outputs": [],
   "source": [
    "# Definir arquivo de saída\n",
    "out_file <- sprintf('%s/%s_trechos_processados_todos.csv', pasta_base_agrup, ano_mes)\n",
    "write_delim(tmp_df, out_file, delim = ';')"
   ]
  },
  {
   "cell_type": "code",
   "execution_count": null,
   "id": "9f0ba94a",
   "metadata": {},
   "outputs": [],
   "source": []
  }
 ],
 "metadata": {
  "kernelspec": {
   "display_name": "R [conda env:r4_env]",
   "language": "R",
   "name": "conda-env-r4_env-r"
  },
  "language_info": {
   "codemirror_mode": "r",
   "file_extension": ".r",
   "mimetype": "text/x-r-source",
   "name": "R",
   "pygments_lexer": "r",
   "version": "4.0.5"
  }
 },
 "nbformat": 4,
 "nbformat_minor": 5
}
