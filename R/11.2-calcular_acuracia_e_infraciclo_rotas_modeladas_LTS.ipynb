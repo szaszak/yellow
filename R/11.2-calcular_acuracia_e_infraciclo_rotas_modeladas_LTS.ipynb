{
 "cells": [
  {
   "cell_type": "code",
   "execution_count": 5,
   "id": "fd37139b",
   "metadata": {},
   "outputs": [],
   "source": [
    "suppressPackageStartupMessages(library('tidyverse'))\n",
    "suppressPackageStartupMessages(library('tidylog'))\n",
    "suppressPackageStartupMessages(library('sf'))\n",
    "# suppressPackageStartupMessageslibrary(('mapview'))\n",
    "suppressPackageStartupMessages(library('googlePolylines'))"
   ]
  },
  {
   "cell_type": "code",
   "execution_count": 6,
   "id": "64ebea4c",
   "metadata": {},
   "outputs": [
    {
     "name": "stderr",
     "output_type": "stream",
     "text": [
      "Loading required package: future\n",
      "\n"
     ]
    },
    {
     "data": {
      "text/html": [
       "TRUE"
      ],
      "text/latex": [
       "TRUE"
      ],
      "text/markdown": [
       "TRUE"
      ],
      "text/plain": [
       "[1] TRUE"
      ]
     },
     "metadata": {},
     "output_type": "display_data"
    }
   ],
   "source": [
    "# Aplicar funcoes em paralelo\n",
    "library('future.apply')\n",
    "# Checando: Jupyter suporta multicore?\n",
    "future::supportsMulticore()"
   ]
  },
  {
   "cell_type": "code",
   "execution_count": 7,
   "id": "f00d0f24",
   "metadata": {},
   "outputs": [
    {
     "data": {
      "text/html": [
       "<strong>system:</strong> 8"
      ],
      "text/latex": [
       "\\textbf{system:} 8"
      ],
      "text/markdown": [
       "**system:** 8"
      ],
      "text/plain": [
       "system \n",
       "     8 "
      ]
     },
     "metadata": {},
     "output_type": "display_data"
    }
   ],
   "source": [
    "# https://stackoverflow.com/questions/40536067/how-to-adjust-future-global-maxsize\n",
    "# For 850MB: 850*1024^2 = 891289600\n",
    "# For +1.3GB: 1500*1024^2 = 1572864000\n",
    "# options(future.globals.maxSize = 891289600)\n",
    "options(future.globals.maxSize = 5e6) # 5 MB\n",
    "options(future.globals.maxSize = 320*1024^2) # 320 MB\n",
    "parallelly::availableCores()"
   ]
  },
  {
   "cell_type": "code",
   "execution_count": 8,
   "id": "86195a81",
   "metadata": {},
   "outputs": [],
   "source": [
    "# Estrutura de pastas\n",
    "pasta_dados        <- \"../../yellow_dados\"\n",
    "pasta_osm_sp       <- sprintf(\"%s/02_osm_simplificado_sp\", pasta_dados)\n",
    "pasta_map_matching <- sprintf(\"%s/05_map_matching\", pasta_dados)\n",
    "pasta_graphhopper  <- sprintf(\"%s/07_graphhopper\", pasta_dados)\n",
    "pasta_gh_pbfs      <- sprintf(\"%s/03_PBFs_SP_rede_2019\", pasta_graphhopper)\n",
    "pasta_orig_vs_mod  <- sprintf('%s/10_rotas_originais_vs_modeladas', pasta_dados)\n",
    "pasta_orig_modalt  <- sprintf(\"%s/11_rotas_modeladas_com_alternativas\", pasta_dados)\n",
    "pasta_osm_way_ids  <- sprintf(\"%s/01_osm_way_ids_rotas_modeladas\", pasta_orig_modalt)\n",
    "# pasta_rotas_modalt <- sprintf(\"%s/02_rotas_modeladas_alternatives\", pasta_orig_modalt)\n",
    "pasta_rotas_modalc <- sprintf(\"%s/03_rotas_modeladas_alter_carac\", pasta_orig_modalt)\n",
    "dir.create(pasta_rotas_modalc, recursive = TRUE, showWarnings = FALSE)"
   ]
  },
  {
   "cell_type": "code",
   "execution_count": 9,
   "id": "766c0138",
   "metadata": {},
   "outputs": [],
   "source": [
    "# ------------------------------------------------------------------------------\n",
    "# Funções\n",
    "# ------------------------------------------------------------------------------\n",
    "\n",
    "# Transforma linha de polyline para dataframe com latlongs\n",
    "polyline_to_latlong <- function(polyline, trip_id){\n",
    "  # polyline <- viagem$poly; trip_id <- viagem$trip_id\n",
    "  this <- as.data.frame(decode(as.character(polyline)))\n",
    "  this <- this %>% \n",
    "    # Formatação dos pontos está fora do lugar: \n",
    "    # de -235.641 para -23.5641 - ajeitar\n",
    "    mutate(trip_id  = trip_id,\n",
    "           lat = str_replace(lat, '\\\\.', ''),\n",
    "           lon = str_replace(lon, '\\\\.', ''),\n",
    "           lat = as.double(str_replace(lat, '-23', '-23.')),\n",
    "           lon = as.double(str_replace(lon, '-46', '-46.')))\n",
    "  \n",
    "  return(this)\n",
    "}\n",
    "\n",
    "\n",
    "# Transforma dataframe com várias linhas de latlon em sf\n",
    "df_latlong_to_sf <- function(df, trip_id, st_type = 'LINESTRING'){\n",
    "  # df <- this\n",
    "  this <- df %>% \n",
    "    # Transformar em sf\n",
    "    st_as_sf(coords = c(\"lon\", \"lat\"), crs = 4326) %>% \n",
    "    # Transformar pontos em linha - ver possíveis erros em\n",
    "    # https://github.com/r-spatial/sf/issues/321\n",
    "    # # Modo 1 - Com st_coordinates, retorna matriz\n",
    "    # Retrieve coordinates in matrix form \n",
    "    # st_coordinates() %>%\n",
    "    # st_linestring()\n",
    "    # Modo 2 - Com summarize, retorna sf\n",
    "    # Aqui, o summarize pode ser qualquer coisa, o \n",
    "    # importante é o 'do_union=FALSE'\n",
    "    group_by(trip_id) %>% \n",
    "    summarize(m = n(), do_union = FALSE) %>% \n",
    "    select(-m) %>% \n",
    "    st_cast(st_type)\n",
    "  \n",
    "  return(this)\n",
    "}\n",
    "\n",
    "\n",
    "# Insere as distâncias calculadas em vias comuns ou infra cicloviária no df original\n",
    "calcular_dist_ciclo <- function(trip_id_alt) {\n",
    "  # trip_id_alt <- rotas_m$tmp_id[3]\n",
    "  line <- rotas_m %>% filter(tmp_id == trip_id_alt)\n",
    "  \n",
    "  # Puxar osm_ids da rota modelada\n",
    "  trip_id_alt <- list.files(pasta_osm_way_ids, pattern = trip_id_alt, recursive = FALSE, full.names = TRUE)\n",
    "  trip_id_alt <- read_delim(trip_id_alt, delim = ';', col_types = 'cc')\n",
    "  # trip_way_ids <- paste0(\"'\", trip_id_alt$osm_way_id, \"'\", collapse = \",\")\n",
    "  \n",
    "  # Filtrar osm_ids da rota modelada do viário completo de SP\n",
    "  viario_rota <- viario_sp %>% filter(osm_id %in% trip_id_alt$osm_way_id)\n",
    "  # mapview(viario_rota)\n",
    "  \n",
    "  # Transformar o polyline da rota modelada em shapefile\n",
    "  shape_rota <- polyline_to_latlong(line$poly, line$trip_id)\n",
    "  shape_rota <- df_latlong_to_sf(shape_rota, line$trip_id)\n",
    "  shape_rota <- shape_rota %>% st_transform(31983) %>% mutate(dist = round(st_length(.), 4))\n",
    "  # mapview(shape_rota)\n",
    "  \n",
    "  \n",
    "  # ----------------------------------------------------------------------------\n",
    "  # Calcular detour\n",
    "  # ----------------------------------------------------------------------------\n",
    "  \n",
    "  # Adicionar extensão da linha do shapefile da rota modelada e calcular detour\n",
    "  line <- line %>% mutate(dist_linha_modalt = as.double(shape_rota$dist),\n",
    "                          detour_modalt = dist_linha_modalt / dist_reta, \n",
    "                          .after = 'detour_mm')\n",
    "  # line %>% select(trip_id, dist_total, dist_reta, dist_linha, detour_mm, dist_linha_modalt, detour_modalt)\n",
    "  \n",
    "  \n",
    "  # ----------------------------------------------------------------------------\n",
    "  # Calcular extensões percorridas em vias comuns e infra cicloviária\n",
    "  # ----------------------------------------------------------------------------\n",
    "  \n",
    "  # A partir de um pequeno buffer criado no polyline da rota modelada, fazer uma \n",
    "  # interseção nos osm_ids originais - isso porque os osm_ids podem ter várias \n",
    "  # quadras e o segmento percorrido ser só um trechinho dele\n",
    "  buffer_rota <- st_buffer(shape_rota, 2)\n",
    "  viario_rota_cropped <- suppressWarnings(st_intersection(viario_rota, buffer_rota))\n",
    "  # mapview(viario_rota_cropped) + mapview(buffer_rota)\n",
    "  \n",
    "  # Recaulcular as extensões dos arcos (no caso, as extensões percorridas dentro\n",
    "  # daquele osm_id), transformar em dataframe e isolar colunas de interesse\n",
    "  viario_rota_cropped <- viario_rota_cropped %>% mutate(new_ext = as.double(st_length(.)), .after = 'length_m')\n",
    "  viario_rota_cropped <- viario_rota_cropped %>% st_drop_geometry() %>% select(osm_id, new_ext)\n",
    "  \n",
    "  # Juntar com dados da infraestrutura cicloviária\n",
    "  viario_rota_cropped <- \n",
    "    viario_rota_cropped %>% \n",
    "    left_join(infra_ciclo, by = 'osm_id') %>% \n",
    "    mutate(infra_ciclo = ifelse(is.na(infra_ciclo), 'via_comum', infra_ciclo))\n",
    "  \n",
    "  # Fator de ajuste para as distâncias - vamos aplicar um proporcional geral a partir\n",
    "  # da diferença entre a extensão total da rota modelada e a calculada agora\n",
    "  fator_correcao <- line$distance / sum(viario_rota_cropped$new_ext)\n",
    "  viario_rota_cropped <- viario_rota_cropped %>% mutate(ext_rev = new_ext * fator_correcao)\n",
    "  \n",
    "  # Agrupar extensões por tipo de viário percorrido\n",
    "  viario_rota_cropped <- \n",
    "    viario_rota_cropped %>% \n",
    "    group_by(infra_ciclo) %>% \n",
    "    summarise(ext = sum(ext_rev)) %>% \n",
    "    ungroup() %>% \n",
    "    mutate(trip_id = line$trip_id) %>% \n",
    "    pivot_wider(id_cols = trip_id,\n",
    "                names_from = 'infra_ciclo',\n",
    "                values_from = ext)\n",
    "  \n",
    "  # Checar se todas as colunas de tipo de viário estão como colunas - se não, inserir\n",
    "  for (i in c('ciclo_expressa', 'ciclo_comum', 'ciclofaixa', 'via_comum')) {\n",
    "    if (!i %in% names(viario_rota_cropped)) {\n",
    "      # Inserir nova coluna como NA (NA_real_, NA_character_)\n",
    "      viario_rota_cropped <- viario_rota_cropped %>% mutate(!!i := 0)\n",
    "    }\n",
    "    \n",
    "  }\n",
    "  \n",
    "  # Somar extensões percorridas em infra cicloviária\n",
    "  viario_rota_cropped <- viario_rota_cropped %>% mutate(infra_ciclo = ciclo_expressa + ciclo_comum + ciclofaixa,\n",
    "                                                        .after = 'via_comum')\n",
    "  \n",
    "  # Juntar todas as infos ao dataframe original e reordenar colunas\n",
    "  trip_out <- \n",
    "    line %>% \n",
    "    left_join(viario_rota_cropped, by = 'trip_id') %>% \n",
    "    relocate(c(via_comum, infra_ciclo, ciclo_expressa, ciclo_comum, ciclofaixa), \n",
    "             .before = 'vg_contramao')\n",
    "  \n",
    "  \n",
    "  # ----------------------------------------------------------------------------\n",
    "  # Calcular acurácia da rota modelada - por pontos\n",
    "  # ----------------------------------------------------------------------------\n",
    "  \n",
    "  # Aplicar buffer de 50 metros - a distância está sendo definida pela \n",
    "  # literatura, mas poderia ser menor até\n",
    "  buffer <- st_buffer(shape_rota, 50)\n",
    "  # mapview(buffer)\n",
    "  \n",
    "  # Abrir arquivo com latlon da viagem original - as coordenadas que serão\n",
    "  # consideradas são as resultantes do map matching\n",
    "  that <- mm_files %>% filter(str_detect(arq, line$trip_id)) %>% pull()\n",
    "  that <- read_delim(that, delim = ';', col_types = \"cidddddddicddcccddd\")\n",
    "  that <- that %>% select(trip_id, lat = matched_points.lat, lon = matched_points.lon)\n",
    "  that <- that %>% distinct()\n",
    "  that <- df_latlong_to_sf(that, trip, st_type = 'POINT')\n",
    "  that <- st_transform(that, 31983) %>% add_column(idx = 1:nrow(.))\n",
    "  # mapview(that, cex = 3, zcol = 'idx') + mapview(buffer)\n",
    "  \n",
    "  # Quantos pontos do map matching estão dentro do buffer considerado?\n",
    "  those <- filter(that, st_intersects(that, buffer, sparse = FALSE))\n",
    "  # mapview(those)\n",
    "  \n",
    "  # Guardar resultados em um dataframe\n",
    "  resultado <- data.frame(trip_id      = line$trip_id,\n",
    "                          pts_intsct   = nrow(those),\n",
    "                          pts_viagem   = nrow(that),\n",
    "                          acuracia_pontos  = nrow(those) / nrow(that) * 100)\n",
    "  \n",
    "  # Juntar todas as infos ao dataframe original e reordenar colunas\n",
    "  trip_out <- \n",
    "    trip_out %>% \n",
    "    left_join(resultado, by = 'trip_id') %>% \n",
    "    relocate(c(pts_intsct, pts_viagem, acuracia_pontos), .after = 'speed')\n",
    "  \n",
    "  \n",
    "  # ----------------------------------------------------------------------------\n",
    "  # Calcular acurácia da rota modelada - por extensão\n",
    "  # ----------------------------------------------------------------------------\n",
    "  \n",
    "  # Transformar pontos da rota original (map matching) em linestring\n",
    "  this <- df_latlong_to_sf(that, line$trip_id)\n",
    "  # mapview(this)\n",
    "  \n",
    "  # Quanto das linhas da rota original está dentro do buffer considerado?\n",
    "  thou <- suppressWarnings(st_intersection(this, buffer))\n",
    "  # mapview(thou) + mapview(buffer)\n",
    "  \n",
    "  # Calcular extensão dos trechos que estão dentro do buffer\n",
    "  thou <- thou %>% mutate(ext_linhas = as.double(st_length(.)))\n",
    "  thou <- thou %>% st_drop_geometry() %>% select(trip_id = trip_id.1 , ext_linhas)\n",
    "  \n",
    "  # Calcular acurácia das linhas - se a extensão das linhas for maior do que\n",
    "  # a distância da rota, acurácia vai ser 100%\n",
    "  thou <- thou %>% mutate(acuracia_linhas = ifelse(line$distance >= ext_linhas,\n",
    "                                                   ext_linhas / line$distance * 100,\n",
    "                                                   100))\n",
    "  \n",
    "  \n",
    "  # Juntar todas as infos ao dataframe original e reordenar colunas\n",
    "  trip_out <- \n",
    "    trip_out %>% \n",
    "    left_join(thou, by = 'trip_id') %>% \n",
    "    relocate(c(ext_linhas, acuracia_linhas), .after = 'speed')\n",
    "  \n",
    "  \n",
    "  # Gravar resultados\n",
    "  out_file <- sprintf('%s/%s_modalt_c.csv', pasta_rotas_modalc, line$tmp_id)\n",
    "  write_delim(trip_out, out_file, delim = ';')\n",
    "  \n",
    "}"
   ]
  },
  {
   "cell_type": "code",
   "execution_count": 10,
   "id": "4aea6407",
   "metadata": {},
   "outputs": [
    {
     "name": "stderr",
     "output_type": "stream",
     "text": [
      "distinct: removed 19 rows (46%), 22 rows remaining\n",
      "\n",
      "mutate: new variable 'infra_ciclo' (character) with one unique value and 0% NA\n",
      "\n",
      "distinct: removed 64 rows (2%), 2,767 rows remaining\n",
      "\n",
      "mutate: new variable 'infra_ciclo' (character) with one unique value and 0% NA\n",
      "\n",
      "distinct: removed 29 rows (4%), 768 rows remaining\n",
      "\n",
      "distinct: no rows removed\n",
      "\n",
      "mutate: new variable 'infra_ciclo' (character) with one unique value and 0% NA\n",
      "\n",
      "rename: renamed one variable (arq)\n",
      "\n",
      "filter: no rows removed\n",
      "\n",
      "select: dropped 9 variables (via_comum, infra_ciclo, ciclo_expressa, ciclo_comum, ciclofaixa, …)\n",
      "\n"
     ]
    },
    {
     "data": {
      "text/html": [
       "<table class=\"dataframe\">\n",
       "<caption>A tibble: 6 × 11</caption>\n",
       "<thead>\n",
       "\t<tr><th scope=col>trip_id</th><th scope=col>qgis_id.x</th><th scope=col>qgis_id.y</th><th scope=col>vg_contramao</th><th scope=col>vg_loop</th><th scope=col>vg_exper</th><th scope=col>vg_parques</th><th scope=col>dist_total</th><th scope=col>dist_reta</th><th scope=col>dist_linha</th><th scope=col>detour_mm</th></tr>\n",
       "\t<tr><th scope=col>&lt;chr&gt;</th><th scope=col>&lt;chr&gt;</th><th scope=col>&lt;chr&gt;</th><th scope=col>&lt;chr&gt;</th><th scope=col>&lt;chr&gt;</th><th scope=col>&lt;chr&gt;</th><th scope=col>&lt;chr&gt;</th><th scope=col>&lt;dbl&gt;</th><th scope=col>&lt;dbl&gt;</th><th scope=col>&lt;dbl&gt;</th><th scope=col>&lt;dbl&gt;</th></tr>\n",
       "</thead>\n",
       "<tbody>\n",
       "\t<tr><td>000135_00</td><td>271157</td><td>104168</td><td>não</td><td>não</td><td>não</td><td>não</td><td> 821.4461</td><td> 562.5676</td><td> 802.6903</td><td>1.426834</td></tr>\n",
       "\t<tr><td>000138_00</td><td>161929</td><td>161977</td><td>não</td><td>não</td><td>não</td><td>não</td><td>1585.3999</td><td>1127.1086</td><td>1559.4857</td><td>1.383616</td></tr>\n",
       "\t<tr><td>000139_00</td><td>031336</td><td>143030</td><td>sim</td><td>não</td><td>não</td><td>não</td><td>1846.2487</td><td>1108.0927</td><td>1791.8481</td><td>1.617056</td></tr>\n",
       "\t<tr><td>000140_00</td><td>143030</td><td>255789</td><td>sim</td><td>não</td><td>não</td><td>não</td><td>1190.0806</td><td> 950.4632</td><td>1125.3632</td><td>1.184015</td></tr>\n",
       "\t<tr><td>000141_00</td><td>255788</td><td>264853</td><td>não</td><td>não</td><td>não</td><td>não</td><td> 679.3713</td><td> 525.7540</td><td> 658.4330</td><td>1.252360</td></tr>\n",
       "\t<tr><td>000142_00</td><td>264853</td><td>031336</td><td>não</td><td>não</td><td>não</td><td>não</td><td>1042.3894</td><td> 784.4423</td><td>1027.3345</td><td>1.309637</td></tr>\n",
       "</tbody>\n",
       "</table>\n"
      ],
      "text/latex": [
       "A tibble: 6 × 11\n",
       "\\begin{tabular}{lllllllllll}\n",
       " trip\\_id & qgis\\_id.x & qgis\\_id.y & vg\\_contramao & vg\\_loop & vg\\_exper & vg\\_parques & dist\\_total & dist\\_reta & dist\\_linha & detour\\_mm\\\\\n",
       " <chr> & <chr> & <chr> & <chr> & <chr> & <chr> & <chr> & <dbl> & <dbl> & <dbl> & <dbl>\\\\\n",
       "\\hline\n",
       "\t 000135\\_00 & 271157 & 104168 & não & não & não & não &  821.4461 &  562.5676 &  802.6903 & 1.426834\\\\\n",
       "\t 000138\\_00 & 161929 & 161977 & não & não & não & não & 1585.3999 & 1127.1086 & 1559.4857 & 1.383616\\\\\n",
       "\t 000139\\_00 & 031336 & 143030 & sim & não & não & não & 1846.2487 & 1108.0927 & 1791.8481 & 1.617056\\\\\n",
       "\t 000140\\_00 & 143030 & 255789 & sim & não & não & não & 1190.0806 &  950.4632 & 1125.3632 & 1.184015\\\\\n",
       "\t 000141\\_00 & 255788 & 264853 & não & não & não & não &  679.3713 &  525.7540 &  658.4330 & 1.252360\\\\\n",
       "\t 000142\\_00 & 264853 & 031336 & não & não & não & não & 1042.3894 &  784.4423 & 1027.3345 & 1.309637\\\\\n",
       "\\end{tabular}\n"
      ],
      "text/markdown": [
       "\n",
       "A tibble: 6 × 11\n",
       "\n",
       "| trip_id &lt;chr&gt; | qgis_id.x &lt;chr&gt; | qgis_id.y &lt;chr&gt; | vg_contramao &lt;chr&gt; | vg_loop &lt;chr&gt; | vg_exper &lt;chr&gt; | vg_parques &lt;chr&gt; | dist_total &lt;dbl&gt; | dist_reta &lt;dbl&gt; | dist_linha &lt;dbl&gt; | detour_mm &lt;dbl&gt; |\n",
       "|---|---|---|---|---|---|---|---|---|---|---|\n",
       "| 000135_00 | 271157 | 104168 | não | não | não | não |  821.4461 |  562.5676 |  802.6903 | 1.426834 |\n",
       "| 000138_00 | 161929 | 161977 | não | não | não | não | 1585.3999 | 1127.1086 | 1559.4857 | 1.383616 |\n",
       "| 000139_00 | 031336 | 143030 | sim | não | não | não | 1846.2487 | 1108.0927 | 1791.8481 | 1.617056 |\n",
       "| 000140_00 | 143030 | 255789 | sim | não | não | não | 1190.0806 |  950.4632 | 1125.3632 | 1.184015 |\n",
       "| 000141_00 | 255788 | 264853 | não | não | não | não |  679.3713 |  525.7540 |  658.4330 | 1.252360 |\n",
       "| 000142_00 | 264853 | 031336 | não | não | não | não | 1042.3894 |  784.4423 | 1027.3345 | 1.309637 |\n",
       "\n"
      ],
      "text/plain": [
       "  trip_id   qgis_id.x qgis_id.y vg_contramao vg_loop vg_exper vg_parques\n",
       "1 000135_00 271157    104168    não          não     não      não       \n",
       "2 000138_00 161929    161977    não          não     não      não       \n",
       "3 000139_00 031336    143030    sim          não     não      não       \n",
       "4 000140_00 143030    255789    sim          não     não      não       \n",
       "5 000141_00 255788    264853    não          não     não      não       \n",
       "6 000142_00 264853    031336    não          não     não      não       \n",
       "  dist_total dist_reta dist_linha detour_mm\n",
       "1  821.4461   562.5676  802.6903  1.426834 \n",
       "2 1585.3999  1127.1086 1559.4857  1.383616 \n",
       "3 1846.2487  1108.0927 1791.8481  1.617056 \n",
       "4 1190.0806   950.4632 1125.3632  1.184015 \n",
       "5  679.3713   525.7540  658.4330  1.252360 \n",
       "6 1042.3894   784.4423 1027.3345  1.309637 "
      ]
     },
     "metadata": {},
     "output_type": "display_data"
    },
    {
     "name": "stderr",
     "output_type": "stream",
     "text": [
      "select: dropped 3 variables (name, highway, qgis_id)\n",
      "\n",
      "Warning message in fun(libname, pkgname):\n",
      "“rgeos: versions of GEOS runtime 3.9.1-CAPI-1.14.2\n",
      "and GEOS at installation 3.9.1dev-CAPI-1.14.1differ”\n",
      "Registered S3 method overwritten by 'geojsonsf':\n",
      "  method        from   \n",
      "  print.geojson geojson\n",
      "\n"
     ]
    },
    {
     "data": {
      "application/geo+json": {
       "features": [
        {
         "geometry": {
          "coordinates": [
           [
            325675.283,
            7372276.9605
           ],
           [
            325691.3736,
            7372312.3424
           ],
           [
            325710.7099,
            7372346.5893
           ],
           [
            325781.4923,
            7372459.6289
           ],
           [
            325815.5357,
            7372514.6537
           ],
           [
            325889.9791,
            7372633.7066
           ]
          ],
          "type": "LineString"
         },
         "properties": {
          "length_m": 416.696,
          "osm_id": "1000285228"
         },
         "type": "Feature"
        },
        {
         "geometry": {
          "coordinates": [
           [
            325658.3918,
            7372179.3218
           ],
           [
            325660.5773,
            7372188.3307
           ],
           [
            325663.1204,
            7372204.056
           ],
           [
            325667.1785,
            7372220.9735
           ],
           [
            325676.127,
            7372248.3281
           ]
          ],
          "type": "LineString"
         },
         "properties": {
          "length_m": 71.38,
          "osm_id": "1000285229"
         },
         "type": "Feature"
        },
        {
         "geometry": {
          "coordinates": [
           [
            330455.7384,
            7386526.499
           ],
           [
            330372.1276,
            7386518.8259
           ]
          ],
          "type": "LineString"
         },
         "properties": {
          "length_m": 83.966,
          "osm_id": "1000285230"
         },
         "type": "Feature"
        },
        {
         "geometry": {
          "coordinates": [
           [
            330332.5579,
            7400908.9747
           ],
           [
            330325.7119,
            7400932.1206
           ]
          ],
          "type": "LineString"
         },
         "properties": {
          "length_m": 24.138,
          "osm_id": "1000532754"
         },
         "type": "Feature"
        },
        {
         "geometry": {
          "coordinates": [
           [
            326335.6825,
            7381460.8001
           ],
           [
            326339.0291,
            7381463.3211
           ]
          ],
          "type": "LineString"
         },
         "properties": {
          "length_m": 4.19,
          "osm_id": "1000623723"
         },
         "type": "Feature"
        },
        {
         "geometry": {
          "coordinates": [
           [
            326339.0291,
            7381463.3211
           ],
           [
            326342.1021,
            7381465.6947
           ]
          ],
          "type": "LineString"
         },
         "properties": {
          "length_m": 3.883,
          "osm_id": "1000623724"
         },
         "type": "Feature"
        }
       ],
       "type": "FeatureCollection"
      },
      "text/html": [
       "<table class=\"dataframe\">\n",
       "<caption>A sf: 6 × 3</caption>\n",
       "<thead>\n",
       "\t<tr><th scope=col>osm_id</th><th scope=col>length_m</th><th scope=col>geom</th></tr>\n",
       "\t<tr><th scope=col>&lt;chr&gt;</th><th scope=col>&lt;dbl&gt;</th><th scope=col>&lt;LINESTRING [m]&gt;</th></tr>\n",
       "</thead>\n",
       "<tbody>\n",
       "\t<tr><td>1000285228</td><td>416.696</td><td>LINESTRING (325675.3 737227...</td></tr>\n",
       "\t<tr><td>1000285229</td><td> 71.380</td><td>LINESTRING (325658.4 737217...</td></tr>\n",
       "\t<tr><td>1000285230</td><td> 83.966</td><td>LINESTRING (330455.7 738652...</td></tr>\n",
       "\t<tr><td>1000532754</td><td> 24.138</td><td>LINESTRING (330332.6 740090...</td></tr>\n",
       "\t<tr><td>1000623723</td><td>  4.190</td><td>LINESTRING (326335.7 738146...</td></tr>\n",
       "\t<tr><td>1000623724</td><td>  3.883</td><td>LINESTRING (326339 7381463,...</td></tr>\n",
       "</tbody>\n",
       "</table>\n"
      ],
      "text/latex": [
       "A sf: 6 × 3\n",
       "\\begin{tabular}{lll}\n",
       " osm\\_id & length\\_m & geom\\\\\n",
       " <chr> & <dbl> & <LINESTRING {[}m{]}>\\\\\n",
       "\\hline\n",
       "\t 1000285228 & 416.696 & LINESTRING (325675.3 737227...\\\\\n",
       "\t 1000285229 &  71.380 & LINESTRING (325658.4 737217...\\\\\n",
       "\t 1000285230 &  83.966 & LINESTRING (330455.7 738652...\\\\\n",
       "\t 1000532754 &  24.138 & LINESTRING (330332.6 740090...\\\\\n",
       "\t 1000623723 &   4.190 & LINESTRING (326335.7 738146...\\\\\n",
       "\t 1000623724 &   3.883 & LINESTRING (326339 7381463,...\\\\\n",
       "\\end{tabular}\n"
      ],
      "text/markdown": [
       "\n",
       "A sf: 6 × 3\n",
       "\n",
       "| osm_id &lt;chr&gt; | length_m &lt;dbl&gt; | geom &lt;LINESTRING [m]&gt; |\n",
       "|---|---|---|\n",
       "| 1000285228 | 416.696 | LINESTRING (325675.3 737227... |\n",
       "| 1000285229 |  71.380 | LINESTRING (325658.4 737217... |\n",
       "| 1000285230 |  83.966 | LINESTRING (330455.7 738652... |\n",
       "| 1000532754 |  24.138 | LINESTRING (330332.6 740090... |\n",
       "| 1000623723 |   4.190 | LINESTRING (326335.7 738146... |\n",
       "| 1000623724 |   3.883 | LINESTRING (326339 7381463,... |\n",
       "\n"
      ],
      "text/plain": [
       "  osm_id     length_m geom                          \n",
       "1 1000285228 416.696  LINESTRING (325675.3 737227...\n",
       "2 1000285229  71.380  LINESTRING (325658.4 737217...\n",
       "3 1000285230  83.966  LINESTRING (330455.7 738652...\n",
       "4 1000532754  24.138  LINESTRING (330332.6 740090...\n",
       "5 1000623723   4.190  LINESTRING (326335.7 738146...\n",
       "6 1000623724   3.883  LINESTRING (326339 7381463,..."
      ]
     },
     "metadata": {},
     "output_type": "display_data"
    }
   ],
   "source": [
    "# ------------------------------------------------------------------------------\n",
    "# Rede cicloviária 2019\n",
    "# ------------------------------------------------------------------------------\n",
    "\n",
    "# Abrir arquivo com osm_ids de ciclovias expressas em 2019 - a classificação que\n",
    "# está no dataframe de atributos do viário, acima, contém osm_ids das vias \n",
    "# próximas, já que o map matching foi feito no modo 'pedestrian' e ao passar\n",
    "# por essas vias, o osm_id que ia ser considerado era o do viário\n",
    "ciclo_expressas <- sprintf('%s/00_atributos_ciclovias_expressas_2019.csv', pasta_gh_pbfs)\n",
    "ciclo_expressas <- read_delim(ciclo_expressas, delim = ';', col_types = 'c') %>% distinct()\n",
    "ciclo_expressas <- ciclo_expressas %>% mutate(infra_ciclo = 'ciclo_expressa')\n",
    "\n",
    "# Abrir o arquivo com osm_ids de vias com ciclofaixa em 2019\n",
    "ciclo_ciclofx <- sprintf('%s/02_atributos_ciclofaixas_lcn.csv', pasta_gh_pbfs)\n",
    "ciclo_ciclofx <- read_delim(ciclo_ciclofx, delim = ';', col_types = 'c') %>% distinct()\n",
    "ciclo_ciclofx <- ciclo_ciclofx %>% mutate(infra_ciclo = 'ciclofaixa')\n",
    "\n",
    "# Abrir o arquivo com osm_ids de ciclovias comuns (não expressas) em 2019\n",
    "ciclo_comuns <- sprintf('%s/01_atributos_ciclovias_comuns_2019.csv', pasta_gh_pbfs)\n",
    "ciclo_comuns <- read_delim(ciclo_comuns, delim = ';', col_types = 'c') %>% distinct()\n",
    "\n",
    "# Abrir arquivo de trechos de ciclovias comuns em que não há semáforos ou interseções\n",
    "ciclo_ciclov_semsem <- sprintf('%s/03_atributos_ciclovias_comuns_sem_semaforo.csv', pasta_gh_pbfs)\n",
    "ciclo_ciclov_semsem <- read_delim(ciclo_ciclov_semsem, delim = ';', col_types = 'c') %>% distinct()\n",
    "\n",
    "# Ciclovias comuns serão ciclo_comuns + ciclovias sem semáforos ou interseções\n",
    "ciclo_comuns <- rbind(ciclo_comuns, ciclo_ciclov_semsem)\n",
    "ciclo_comuns <- ciclo_comuns %>% mutate(infra_ciclo = 'ciclo_comum')\n",
    "\n",
    "\n",
    "# Juntar tudo em um único dataframe\n",
    "infra_ciclo <- rbind(ciclo_expressas, ciclo_ciclofx, ciclo_comuns)\n",
    "rm(ciclo_expressas, ciclo_ciclofx, ciclo_comuns, ciclo_ciclov_semsem)\n",
    "\n",
    "\n",
    "# ------------------------------------------------------------------------------\n",
    "# Bases de dados a serem utilizadas\n",
    "# ------------------------------------------------------------------------------\n",
    "\n",
    "# Puxar listagem de viagens originais (latlon virá do map matching)\n",
    "pasta_mm_1 <- sprintf('%s/201811/viagens_processadas_csv', pasta_map_matching)\n",
    "pasta_mm_2 <- sprintf('%s/201812/viagens_processadas_csv', pasta_map_matching)\n",
    "pasta_mm_3 <- sprintf('%s/201901/viagens_processadas_csv', pasta_map_matching)\n",
    "mm_files1 <- list.files(pasta_mm_1, pattern = '^([0-9]{6})_([0-9]{2}).csv', recursive = FALSE, full.names = TRUE) %>% as.data.frame()\n",
    "mm_files2 <- list.files(pasta_mm_2, pattern = '^([0-9]{6})_([0-9]{2}).csv', recursive = FALSE, full.names = TRUE) %>% as.data.frame()\n",
    "mm_files3 <- list.files(pasta_mm_3, pattern = '^([0-9]{6})_([0-9]{2}).csv', recursive = FALSE, full.names = TRUE) %>% as.data.frame()\n",
    "mm_files <- rbind(mm_files1, mm_files2, mm_files3) %>% rename(arq = '.')\n",
    "rm(mm_files1, mm_files2, mm_files3, pasta_mm_1, pasta_mm_2, pasta_mm_3)\n",
    "# head(mm_files)\n",
    "\n",
    "\n",
    "# Abrir origens e destinos das rotas iniciais da Yellow - são consideradas aqui\n",
    "# (pelos scripts anteriores) as rotas que (a) tiveram algum trecho considerado\n",
    "# no modelo; (b) que não foram divididas em trechos menores; e (c) em que o\n",
    "# trecho único considerado é o inicial (possui trip_id com _00)\n",
    "ods_vgs <- sprintf('%s/03_rotas_originais_infraciclo_detour_carac_viagens.csv', pasta_orig_vs_mod)\n",
    "ods_vgs <- read_delim(ods_vgs, delim = ';', col_types = 'cccdddddccccdddddddd')\n",
    "# Remover viagens com origem e destino no mesmo qgis_id\n",
    "ods_vgs <- ods_vgs %>% filter(qgis_id.x != qgis_id.y)\n",
    "# Remover colunas de uso de infraestrutura cicloviária das rotas originais (map\n",
    "# matching). Dados de latlong já vão estar presentes nas rotas modeladas\n",
    "ods_vgs <- ods_vgs %>% select(-c(via_comum, infra_ciclo, ciclo_expressa, ciclo_comum, ciclofaixa,\n",
    "                                 lat.x, lon.x, lat.y, lon.y))\n",
    "head(ods_vgs)\n",
    "\n",
    "\n",
    "# Abrir viário de SP com osm_ids\n",
    "viario_sp <- read_sf(sprintf('%s/sao_paulo_osm_filtrado_com_qgis_id.gpkg', pasta_osm_sp))\n",
    "# Nos interessam os osm_ids e, talvez, a extensão original dos arcos da rede\n",
    "viario_sp <- viario_sp %>% select(osm_id, length_m)\n",
    "head(viario_sp)"
   ]
  },
  {
   "cell_type": "code",
   "execution_count": 11,
   "id": "bc325034",
   "metadata": {},
   "outputs": [
    {
     "name": "stderr",
     "output_type": "stream",
     "text": [
      "select: dropped 2 variables (qgis_id.x, qgis_id.y)\n",
      "\n",
      "left_join: added 9 columns (distance, weight, time, speed, poly, …)\n",
      "\n",
      "           > rows only in x         0\n",
      "\n",
      "           > rows only in y  (      0)\n",
      "\n",
      "           > matched rows     196,555    (includes duplicates)\n",
      "\n",
      "           >                 =========\n",
      "\n",
      "           > rows total       196,555\n",
      "\n",
      "relocate: columns reordered (trip_id, qgis_id.x, qgis_id.y, distance, weight, …)\n",
      "\n"
     ]
    },
    {
     "data": {
      "text/html": [
       "<table class=\"dataframe\">\n",
       "<caption>A tibble: 6 × 20</caption>\n",
       "<thead>\n",
       "\t<tr><th scope=col>trip_id</th><th scope=col>qgis_id.x</th><th scope=col>qgis_id.y</th><th scope=col>distance</th><th scope=col>weight</th><th scope=col>time</th><th scope=col>speed</th><th scope=col>vg_contramao</th><th scope=col>vg_loop</th><th scope=col>vg_exper</th><th scope=col>vg_parques</th><th scope=col>dist_total</th><th scope=col>dist_reta</th><th scope=col>dist_linha</th><th scope=col>detour_mm</th><th scope=col>poly</th><th scope=col>lon.x</th><th scope=col>lat.x</th><th scope=col>lon.y</th><th scope=col>lat.y</th></tr>\n",
       "\t<tr><th scope=col>&lt;chr&gt;</th><th scope=col>&lt;chr&gt;</th><th scope=col>&lt;chr&gt;</th><th scope=col>&lt;dbl&gt;</th><th scope=col>&lt;dbl&gt;</th><th scope=col>&lt;dbl&gt;</th><th scope=col>&lt;dbl&gt;</th><th scope=col>&lt;chr&gt;</th><th scope=col>&lt;chr&gt;</th><th scope=col>&lt;chr&gt;</th><th scope=col>&lt;chr&gt;</th><th scope=col>&lt;dbl&gt;</th><th scope=col>&lt;dbl&gt;</th><th scope=col>&lt;dbl&gt;</th><th scope=col>&lt;dbl&gt;</th><th scope=col>&lt;chr&gt;</th><th scope=col>&lt;dbl&gt;</th><th scope=col>&lt;dbl&gt;</th><th scope=col>&lt;dbl&gt;</th><th scope=col>&lt;dbl&gt;</th></tr>\n",
       "</thead>\n",
       "<tbody>\n",
       "\t<tr><td>000135_00</td><td>271157</td><td>104168</td><td> 779.082</td><td>252.2742</td><td>252.275</td><td>11.117611</td><td>não</td><td>não</td><td>não</td><td>não</td><td> 821.4461</td><td> 562.5676</td><td> 802.6903</td><td>1.426834</td><td>jgznCvic|G|@gENYROdNtb@                                                                         </td><td>-46.71660</td><td>-23.56869</td><td>-46.72109</td><td>-23.57161</td></tr>\n",
       "\t<tr><td>000138_00</td><td>161929</td><td>161977</td><td>1569.142</td><td>476.9260</td><td>476.628</td><td>11.851824</td><td>não</td><td>não</td><td>não</td><td>não</td><td>1585.3999</td><td>1127.1086</td><td>1559.4857</td><td>1.383616</td><td>`u{nCtu}{GGMsNjHsMnHHr@JEJC`ApCCNhClG~BlFHFF@BDAJ@JnEzJ`@dAH^A\\Sx@iBrBy@dAMPEJ                 </td><td>-46.68779</td><td>-23.57601</td><td>-46.69842</td><td>-23.57327</td></tr>\n",
       "\t<tr><td>000138_00</td><td>161929</td><td>161977</td><td>1531.061</td><td>485.7508</td><td>483.740</td><td>11.394178</td><td>não</td><td>não</td><td>não</td><td>não</td><td>1585.3999</td><td>1127.1086</td><td>1559.4857</td><td>1.383616</td><td>`u{nCtu}{GFCZx@Nr@iAl@{BlAtElKdC`FlEhKZv@?`@uHtDuDtB_CdBq@h@_Az@_AdAiBrBy@dAMPEJ                </td><td>-46.68779</td><td>-23.57601</td><td>-46.69842</td><td>-23.57327</td></tr>\n",
       "\t<tr><td>000139_00</td><td>031336</td><td>143030</td><td>1458.244</td><td>552.7571</td><td>552.576</td><td> 9.500374</td><td>sim</td><td>não</td><td>não</td><td>não</td><td>1846.2487</td><td>1108.0927</td><td>1791.8481</td><td>1.617056</td><td>bb{nCtw_|GCHM[QoAMsAK?iAH_A@QIIKW}ECWWqEA[Ag@m@{IU_HAcADw@KDIs@E[IFQHYNa@T_B|@yC{GiBmE{C~AOy@   </td><td>-46.69835</td><td>-23.57297</td><td>-46.68893</td><td>-23.56802</td></tr>\n",
       "\t<tr><td>000139_00</td><td>031336</td><td>143030</td><td>1599.440</td><td>555.3088</td><td>554.334</td><td>10.387211</td><td>sim</td><td>não</td><td>não</td><td>não</td><td>1846.2487</td><td>1108.0927</td><td>1791.8481</td><td>1.617056</td><td>bb{nCtw_|GCHM[QoAMsAK?iAH_A@QIIKW}ECWWqEA[Kg@I}@Y{Ds@yLQaBUeA_AaC}AoDIUQy@]gAiAmC]XDJ`AxBqH|DOy@</td><td>-46.69835</td><td>-23.57297</td><td>-46.68893</td><td>-23.56802</td></tr>\n",
       "\t<tr><td>000140_00</td><td>143030</td><td>255789</td><td>1223.188</td><td>413.8767</td><td>397.798</td><td>11.069630</td><td>sim</td><td>não</td><td>não</td><td>não</td><td>1190.0806</td><td> 950.4632</td><td>1125.3632</td><td>1.184015</td><td>|bznC`|}{GKk@FQDAp@c@rBuANSt@e@LIFFFENXrBhFdBxDx@dBXv@FVDZZQHr@JEJC`ApCCNhClG~BlFHFF@BDAJ@JdCrF </td><td>-46.68880</td><td>-23.56799</td><td>-46.69571</td><td>-23.57371</td></tr>\n",
       "</tbody>\n",
       "</table>\n"
      ],
      "text/latex": [
       "A tibble: 6 × 20\n",
       "\\begin{tabular}{llllllllllllllllllll}\n",
       " trip\\_id & qgis\\_id.x & qgis\\_id.y & distance & weight & time & speed & vg\\_contramao & vg\\_loop & vg\\_exper & vg\\_parques & dist\\_total & dist\\_reta & dist\\_linha & detour\\_mm & poly & lon.x & lat.x & lon.y & lat.y\\\\\n",
       " <chr> & <chr> & <chr> & <dbl> & <dbl> & <dbl> & <dbl> & <chr> & <chr> & <chr> & <chr> & <dbl> & <dbl> & <dbl> & <dbl> & <chr> & <dbl> & <dbl> & <dbl> & <dbl>\\\\\n",
       "\\hline\n",
       "\t 000135\\_00 & 271157 & 104168 &  779.082 & 252.2742 & 252.275 & 11.117611 & não & não & não & não &  821.4461 &  562.5676 &  802.6903 & 1.426834 & jgznCvic\\textbar{}G\\textbar{}@gENYROdNtb@                                                                          & -46.71660 & -23.56869 & -46.72109 & -23.57161\\\\\n",
       "\t 000138\\_00 & 161929 & 161977 & 1569.142 & 476.9260 & 476.628 & 11.851824 & não & não & não & não & 1585.3999 & 1127.1086 & 1559.4857 & 1.383616 & `u\\{nCtu\\}\\{GGMsNjHsMnHHr@JEJC`ApCCNhClG\\textasciitilde{}BlFHFF@BDAJ@JnEzJ`@dAH\\textasciicircum{}A\\textbackslash{}Sx@iBrBy@dAMPEJ                  & -46.68779 & -23.57601 & -46.69842 & -23.57327\\\\\n",
       "\t 000138\\_00 & 161929 & 161977 & 1531.061 & 485.7508 & 483.740 & 11.394178 & não & não & não & não & 1585.3999 & 1127.1086 & 1559.4857 & 1.383616 & `u\\{nCtu\\}\\{GFCZx@Nr@iAl@\\{BlAtElKdC`FlEhKZv@?`@uHtDuDtB\\_CdBq@h@\\_Az@\\_AdAiBrBy@dAMPEJ                 & -46.68779 & -23.57601 & -46.69842 & -23.57327\\\\\n",
       "\t 000139\\_00 & 031336 & 143030 & 1458.244 & 552.7571 & 552.576 &  9.500374 & sim & não & não & não & 1846.2487 & 1108.0927 & 1791.8481 & 1.617056 & bb\\{nCtw\\_\\textbar{}GCHM{[}QoAMsAK?iAH\\_A@QIIKW\\}ECWWqEA{[}Ag@m@\\{IU\\_HAcADw@KDIs@E{[}IFQHYNa@T\\_B\\textbar{}@yC\\{GiBmE\\{C\\textasciitilde{}AOy@    & -46.69835 & -23.57297 & -46.68893 & -23.56802\\\\\n",
       "\t 000139\\_00 & 031336 & 143030 & 1599.440 & 555.3088 & 554.334 & 10.387211 & sim & não & não & não & 1846.2487 & 1108.0927 & 1791.8481 & 1.617056 & bb\\{nCtw\\_\\textbar{}GCHM{[}QoAMsAK?iAH\\_A@QIIKW\\}ECWWqEA{[}Kg@I\\}@Y\\{Ds@yLQaBUeA\\_AaC\\}AoDIUQy@{]}gAiAmC{]}XDJ`AxBqH\\textbar{}DOy@ & -46.69835 & -23.57297 & -46.68893 & -23.56802\\\\\n",
       "\t 000140\\_00 & 143030 & 255789 & 1223.188 & 413.8767 & 397.798 & 11.069630 & sim & não & não & não & 1190.0806 &  950.4632 & 1125.3632 & 1.184015 & \\textbar{}bznC`\\textbar{}\\}\\{GKk@FQDAp@c@rBuANSt@e@LIFFFENXrBhFdBxDx@dBXv@FVDZZQHr@JEJC`ApCCNhClG\\textasciitilde{}BlFHFF@BDAJ@JdCrF  & -46.68880 & -23.56799 & -46.69571 & -23.57371\\\\\n",
       "\\end{tabular}\n"
      ],
      "text/markdown": [
       "\n",
       "A tibble: 6 × 20\n",
       "\n",
       "| trip_id &lt;chr&gt; | qgis_id.x &lt;chr&gt; | qgis_id.y &lt;chr&gt; | distance &lt;dbl&gt; | weight &lt;dbl&gt; | time &lt;dbl&gt; | speed &lt;dbl&gt; | vg_contramao &lt;chr&gt; | vg_loop &lt;chr&gt; | vg_exper &lt;chr&gt; | vg_parques &lt;chr&gt; | dist_total &lt;dbl&gt; | dist_reta &lt;dbl&gt; | dist_linha &lt;dbl&gt; | detour_mm &lt;dbl&gt; | poly &lt;chr&gt; | lon.x &lt;dbl&gt; | lat.x &lt;dbl&gt; | lon.y &lt;dbl&gt; | lat.y &lt;dbl&gt; |\n",
       "|---|---|---|---|---|---|---|---|---|---|---|---|---|---|---|---|---|---|---|---|\n",
       "| 000135_00 | 271157 | 104168 |  779.082 | 252.2742 | 252.275 | 11.117611 | não | não | não | não |  821.4461 |  562.5676 |  802.6903 | 1.426834 | jgznCvic|G|@gENYROdNtb@                                                                          | -46.71660 | -23.56869 | -46.72109 | -23.57161 |\n",
       "| 000138_00 | 161929 | 161977 | 1569.142 | 476.9260 | 476.628 | 11.851824 | não | não | não | não | 1585.3999 | 1127.1086 | 1559.4857 | 1.383616 | `u{nCtu}{GGMsNjHsMnHHr@JEJC`ApCCNhClG~BlFHFF@BDAJ@JnEzJ`@dAH^A\\Sx@iBrBy@dAMPEJ                  | -46.68779 | -23.57601 | -46.69842 | -23.57327 |\n",
       "| 000138_00 | 161929 | 161977 | 1531.061 | 485.7508 | 483.740 | 11.394178 | não | não | não | não | 1585.3999 | 1127.1086 | 1559.4857 | 1.383616 | `u{nCtu}{GFCZx@Nr@iAl@{BlAtElKdC`FlEhKZv@?`@uHtDuDtB_CdBq@h@_Az@_AdAiBrBy@dAMPEJ                 | -46.68779 | -23.57601 | -46.69842 | -23.57327 |\n",
       "| 000139_00 | 031336 | 143030 | 1458.244 | 552.7571 | 552.576 |  9.500374 | sim | não | não | não | 1846.2487 | 1108.0927 | 1791.8481 | 1.617056 | bb{nCtw_|GCHM[QoAMsAK?iAH_A@QIIKW}ECWWqEA[Ag@m@{IU_HAcADw@KDIs@E[IFQHYNa@T_B|@yC{GiBmE{C~AOy@    | -46.69835 | -23.57297 | -46.68893 | -23.56802 |\n",
       "| 000139_00 | 031336 | 143030 | 1599.440 | 555.3088 | 554.334 | 10.387211 | sim | não | não | não | 1846.2487 | 1108.0927 | 1791.8481 | 1.617056 | bb{nCtw_|GCHM[QoAMsAK?iAH_A@QIIKW}ECWWqEA[Kg@I}@Y{Ds@yLQaBUeA_AaC}AoDIUQy@]gAiAmC]XDJ`AxBqH|DOy@ | -46.69835 | -23.57297 | -46.68893 | -23.56802 |\n",
       "| 000140_00 | 143030 | 255789 | 1223.188 | 413.8767 | 397.798 | 11.069630 | sim | não | não | não | 1190.0806 |  950.4632 | 1125.3632 | 1.184015 | |bznC`|}{GKk@FQDAp@c@rBuANSt@e@LIFFFENXrBhFdBxDx@dBXv@FVDZZQHr@JEJC`ApCCNhClG~BlFHFF@BDAJ@JdCrF  | -46.68880 | -23.56799 | -46.69571 | -23.57371 |\n",
       "\n"
      ],
      "text/plain": [
       "  trip_id   qgis_id.x qgis_id.y distance weight   time    speed    \n",
       "1 000135_00 271157    104168     779.082 252.2742 252.275 11.117611\n",
       "2 000138_00 161929    161977    1569.142 476.9260 476.628 11.851824\n",
       "3 000138_00 161929    161977    1531.061 485.7508 483.740 11.394178\n",
       "4 000139_00 031336    143030    1458.244 552.7571 552.576  9.500374\n",
       "5 000139_00 031336    143030    1599.440 555.3088 554.334 10.387211\n",
       "6 000140_00 143030    255789    1223.188 413.8767 397.798 11.069630\n",
       "  vg_contramao vg_loop vg_exper vg_parques dist_total dist_reta dist_linha\n",
       "1 não          não     não      não         821.4461   562.5676  802.6903 \n",
       "2 não          não     não      não        1585.3999  1127.1086 1559.4857 \n",
       "3 não          não     não      não        1585.3999  1127.1086 1559.4857 \n",
       "4 sim          não     não      não        1846.2487  1108.0927 1791.8481 \n",
       "5 sim          não     não      não        1846.2487  1108.0927 1791.8481 \n",
       "6 sim          não     não      não        1190.0806   950.4632 1125.3632 \n",
       "  detour_mm\n",
       "1 1.426834 \n",
       "2 1.383616 \n",
       "3 1.383616 \n",
       "4 1.617056 \n",
       "5 1.617056 \n",
       "6 1.184015 \n",
       "  poly                                                                                            \n",
       "1 jgznCvic|G|@gENYROdNtb@                                                                         \n",
       "2 `u{nCtu}{GGMsNjHsMnHHr@JEJC`ApCCNhClG~BlFHFF@BDAJ@JnEzJ`@dAH^A\\\\Sx@iBrBy@dAMPEJ                 \n",
       "3 `u{nCtu}{GFCZx@Nr@iAl@{BlAtElKdC`FlEhKZv@?`@uHtDuDtB_CdBq@h@_Az@_AdAiBrBy@dAMPEJ                \n",
       "4 bb{nCtw_|GCHM[QoAMsAK?iAH_A@QIIKW}ECWWqEA[Ag@m@{IU_HAcADw@KDIs@E[IFQHYNa@T_B|@yC{GiBmE{C~AOy@   \n",
       "5 bb{nCtw_|GCHM[QoAMsAK?iAH_A@QIIKW}ECWWqEA[Kg@I}@Y{Ds@yLQaBUeA_AaC}AoDIUQy@]gAiAmC]XDJ`AxBqH|DOy@\n",
       "6 |bznC`|}{GKk@FQDAp@c@rBuANSt@e@LIFFFENXrBhFdBxDx@dBXv@FVDZZQHr@JEJC`ApCCNhClG~BlFHFF@BDAJ@JdCrF \n",
       "  lon.x     lat.x     lon.y     lat.y    \n",
       "1 -46.71660 -23.56869 -46.72109 -23.57161\n",
       "2 -46.68779 -23.57601 -46.69842 -23.57327\n",
       "3 -46.68779 -23.57601 -46.69842 -23.57327\n",
       "4 -46.69835 -23.57297 -46.68893 -23.56802\n",
       "5 -46.69835 -23.57297 -46.68893 -23.56802\n",
       "6 -46.68880 -23.56799 -46.69571 -23.57371"
      ]
     },
     "metadata": {},
     "output_type": "display_data"
    },
    {
     "name": "stderr",
     "output_type": "stream",
     "text": [
      "group_by: one grouping variable (trip_id)\n",
      "\n",
      "mutate (grouped): new variable 'alt' (integer) with 3 unique values and 0% NA\n",
      "\n",
      "ungroup: no grouping variables\n",
      "\n",
      "mutate: new variable 'tmp_id' (character) with 196,555 unique values and 0% NA\n",
      "\n"
     ]
    },
    {
     "data": {
      "text/html": [
       "<table class=\"dataframe\">\n",
       "<caption>A tibble: 6 × 22</caption>\n",
       "<thead>\n",
       "\t<tr><th scope=col>tmp_id</th><th scope=col>trip_id</th><th scope=col>alt</th><th scope=col>qgis_id.x</th><th scope=col>qgis_id.y</th><th scope=col>distance</th><th scope=col>weight</th><th scope=col>time</th><th scope=col>speed</th><th scope=col>vg_contramao</th><th scope=col>⋯</th><th scope=col>vg_parques</th><th scope=col>dist_total</th><th scope=col>dist_reta</th><th scope=col>dist_linha</th><th scope=col>detour_mm</th><th scope=col>poly</th><th scope=col>lon.x</th><th scope=col>lat.x</th><th scope=col>lon.y</th><th scope=col>lat.y</th></tr>\n",
       "\t<tr><th scope=col>&lt;chr&gt;</th><th scope=col>&lt;chr&gt;</th><th scope=col>&lt;int&gt;</th><th scope=col>&lt;chr&gt;</th><th scope=col>&lt;chr&gt;</th><th scope=col>&lt;dbl&gt;</th><th scope=col>&lt;dbl&gt;</th><th scope=col>&lt;dbl&gt;</th><th scope=col>&lt;dbl&gt;</th><th scope=col>&lt;chr&gt;</th><th scope=col>⋯</th><th scope=col>&lt;chr&gt;</th><th scope=col>&lt;dbl&gt;</th><th scope=col>&lt;dbl&gt;</th><th scope=col>&lt;dbl&gt;</th><th scope=col>&lt;dbl&gt;</th><th scope=col>&lt;chr&gt;</th><th scope=col>&lt;dbl&gt;</th><th scope=col>&lt;dbl&gt;</th><th scope=col>&lt;dbl&gt;</th><th scope=col>&lt;dbl&gt;</th></tr>\n",
       "</thead>\n",
       "<tbody>\n",
       "\t<tr><td>000135_00_1</td><td>000135_00</td><td>1</td><td>271157</td><td>104168</td><td> 779.082</td><td>252.2742</td><td>252.275</td><td>11.117611</td><td>não</td><td>⋯</td><td>não</td><td> 821.4461</td><td> 562.5676</td><td> 802.6903</td><td>1.426834</td><td>jgznCvic|G|@gENYROdNtb@                                                                         </td><td>-46.71660</td><td>-23.56869</td><td>-46.72109</td><td>-23.57161</td></tr>\n",
       "\t<tr><td>000138_00_1</td><td>000138_00</td><td>1</td><td>161929</td><td>161977</td><td>1569.142</td><td>476.9260</td><td>476.628</td><td>11.851824</td><td>não</td><td>⋯</td><td>não</td><td>1585.3999</td><td>1127.1086</td><td>1559.4857</td><td>1.383616</td><td>`u{nCtu}{GGMsNjHsMnHHr@JEJC`ApCCNhClG~BlFHFF@BDAJ@JnEzJ`@dAH^A\\Sx@iBrBy@dAMPEJ                 </td><td>-46.68779</td><td>-23.57601</td><td>-46.69842</td><td>-23.57327</td></tr>\n",
       "\t<tr><td>000138_00_2</td><td>000138_00</td><td>2</td><td>161929</td><td>161977</td><td>1531.061</td><td>485.7508</td><td>483.740</td><td>11.394178</td><td>não</td><td>⋯</td><td>não</td><td>1585.3999</td><td>1127.1086</td><td>1559.4857</td><td>1.383616</td><td>`u{nCtu}{GFCZx@Nr@iAl@{BlAtElKdC`FlEhKZv@?`@uHtDuDtB_CdBq@h@_Az@_AdAiBrBy@dAMPEJ                </td><td>-46.68779</td><td>-23.57601</td><td>-46.69842</td><td>-23.57327</td></tr>\n",
       "\t<tr><td>000139_00_1</td><td>000139_00</td><td>1</td><td>031336</td><td>143030</td><td>1458.244</td><td>552.7571</td><td>552.576</td><td> 9.500374</td><td>sim</td><td>⋯</td><td>não</td><td>1846.2487</td><td>1108.0927</td><td>1791.8481</td><td>1.617056</td><td>bb{nCtw_|GCHM[QoAMsAK?iAH_A@QIIKW}ECWWqEA[Ag@m@{IU_HAcADw@KDIs@E[IFQHYNa@T_B|@yC{GiBmE{C~AOy@   </td><td>-46.69835</td><td>-23.57297</td><td>-46.68893</td><td>-23.56802</td></tr>\n",
       "\t<tr><td>000139_00_2</td><td>000139_00</td><td>2</td><td>031336</td><td>143030</td><td>1599.440</td><td>555.3088</td><td>554.334</td><td>10.387211</td><td>sim</td><td>⋯</td><td>não</td><td>1846.2487</td><td>1108.0927</td><td>1791.8481</td><td>1.617056</td><td>bb{nCtw_|GCHM[QoAMsAK?iAH_A@QIIKW}ECWWqEA[Kg@I}@Y{Ds@yLQaBUeA_AaC}AoDIUQy@]gAiAmC]XDJ`AxBqH|DOy@</td><td>-46.69835</td><td>-23.57297</td><td>-46.68893</td><td>-23.56802</td></tr>\n",
       "\t<tr><td>000140_00_1</td><td>000140_00</td><td>1</td><td>143030</td><td>255789</td><td>1223.188</td><td>413.8767</td><td>397.798</td><td>11.069630</td><td>sim</td><td>⋯</td><td>não</td><td>1190.0806</td><td> 950.4632</td><td>1125.3632</td><td>1.184015</td><td>|bznC`|}{GKk@FQDAp@c@rBuANSt@e@LIFFFENXrBhFdBxDx@dBXv@FVDZZQHr@JEJC`ApCCNhClG~BlFHFF@BDAJ@JdCrF </td><td>-46.68880</td><td>-23.56799</td><td>-46.69571</td><td>-23.57371</td></tr>\n",
       "</tbody>\n",
       "</table>\n"
      ],
      "text/latex": [
       "A tibble: 6 × 22\n",
       "\\begin{tabular}{lllllllllllllllllllll}\n",
       " tmp\\_id & trip\\_id & alt & qgis\\_id.x & qgis\\_id.y & distance & weight & time & speed & vg\\_contramao & ⋯ & vg\\_parques & dist\\_total & dist\\_reta & dist\\_linha & detour\\_mm & poly & lon.x & lat.x & lon.y & lat.y\\\\\n",
       " <chr> & <chr> & <int> & <chr> & <chr> & <dbl> & <dbl> & <dbl> & <dbl> & <chr> & ⋯ & <chr> & <dbl> & <dbl> & <dbl> & <dbl> & <chr> & <dbl> & <dbl> & <dbl> & <dbl>\\\\\n",
       "\\hline\n",
       "\t 000135\\_00\\_1 & 000135\\_00 & 1 & 271157 & 104168 &  779.082 & 252.2742 & 252.275 & 11.117611 & não & ⋯ & não &  821.4461 &  562.5676 &  802.6903 & 1.426834 & jgznCvic\\textbar{}G\\textbar{}@gENYROdNtb@                                                                          & -46.71660 & -23.56869 & -46.72109 & -23.57161\\\\\n",
       "\t 000138\\_00\\_1 & 000138\\_00 & 1 & 161929 & 161977 & 1569.142 & 476.9260 & 476.628 & 11.851824 & não & ⋯ & não & 1585.3999 & 1127.1086 & 1559.4857 & 1.383616 & `u\\{nCtu\\}\\{GGMsNjHsMnHHr@JEJC`ApCCNhClG\\textasciitilde{}BlFHFF@BDAJ@JnEzJ`@dAH\\textasciicircum{}A\\textbackslash{}Sx@iBrBy@dAMPEJ                  & -46.68779 & -23.57601 & -46.69842 & -23.57327\\\\\n",
       "\t 000138\\_00\\_2 & 000138\\_00 & 2 & 161929 & 161977 & 1531.061 & 485.7508 & 483.740 & 11.394178 & não & ⋯ & não & 1585.3999 & 1127.1086 & 1559.4857 & 1.383616 & `u\\{nCtu\\}\\{GFCZx@Nr@iAl@\\{BlAtElKdC`FlEhKZv@?`@uHtDuDtB\\_CdBq@h@\\_Az@\\_AdAiBrBy@dAMPEJ                 & -46.68779 & -23.57601 & -46.69842 & -23.57327\\\\\n",
       "\t 000139\\_00\\_1 & 000139\\_00 & 1 & 031336 & 143030 & 1458.244 & 552.7571 & 552.576 &  9.500374 & sim & ⋯ & não & 1846.2487 & 1108.0927 & 1791.8481 & 1.617056 & bb\\{nCtw\\_\\textbar{}GCHM{[}QoAMsAK?iAH\\_A@QIIKW\\}ECWWqEA{[}Ag@m@\\{IU\\_HAcADw@KDIs@E{[}IFQHYNa@T\\_B\\textbar{}@yC\\{GiBmE\\{C\\textasciitilde{}AOy@    & -46.69835 & -23.57297 & -46.68893 & -23.56802\\\\\n",
       "\t 000139\\_00\\_2 & 000139\\_00 & 2 & 031336 & 143030 & 1599.440 & 555.3088 & 554.334 & 10.387211 & sim & ⋯ & não & 1846.2487 & 1108.0927 & 1791.8481 & 1.617056 & bb\\{nCtw\\_\\textbar{}GCHM{[}QoAMsAK?iAH\\_A@QIIKW\\}ECWWqEA{[}Kg@I\\}@Y\\{Ds@yLQaBUeA\\_AaC\\}AoDIUQy@{]}gAiAmC{]}XDJ`AxBqH\\textbar{}DOy@ & -46.69835 & -23.57297 & -46.68893 & -23.56802\\\\\n",
       "\t 000140\\_00\\_1 & 000140\\_00 & 1 & 143030 & 255789 & 1223.188 & 413.8767 & 397.798 & 11.069630 & sim & ⋯ & não & 1190.0806 &  950.4632 & 1125.3632 & 1.184015 & \\textbar{}bznC`\\textbar{}\\}\\{GKk@FQDAp@c@rBuANSt@e@LIFFFENXrBhFdBxDx@dBXv@FVDZZQHr@JEJC`ApCCNhClG\\textasciitilde{}BlFHFF@BDAJ@JdCrF  & -46.68880 & -23.56799 & -46.69571 & -23.57371\\\\\n",
       "\\end{tabular}\n"
      ],
      "text/markdown": [
       "\n",
       "A tibble: 6 × 22\n",
       "\n",
       "| tmp_id &lt;chr&gt; | trip_id &lt;chr&gt; | alt &lt;int&gt; | qgis_id.x &lt;chr&gt; | qgis_id.y &lt;chr&gt; | distance &lt;dbl&gt; | weight &lt;dbl&gt; | time &lt;dbl&gt; | speed &lt;dbl&gt; | vg_contramao &lt;chr&gt; | ⋯ ⋯ | vg_parques &lt;chr&gt; | dist_total &lt;dbl&gt; | dist_reta &lt;dbl&gt; | dist_linha &lt;dbl&gt; | detour_mm &lt;dbl&gt; | poly &lt;chr&gt; | lon.x &lt;dbl&gt; | lat.x &lt;dbl&gt; | lon.y &lt;dbl&gt; | lat.y &lt;dbl&gt; |\n",
       "|---|---|---|---|---|---|---|---|---|---|---|---|---|---|---|---|---|---|---|---|---|\n",
       "| 000135_00_1 | 000135_00 | 1 | 271157 | 104168 |  779.082 | 252.2742 | 252.275 | 11.117611 | não | ⋯ | não |  821.4461 |  562.5676 |  802.6903 | 1.426834 | jgznCvic|G|@gENYROdNtb@                                                                          | -46.71660 | -23.56869 | -46.72109 | -23.57161 |\n",
       "| 000138_00_1 | 000138_00 | 1 | 161929 | 161977 | 1569.142 | 476.9260 | 476.628 | 11.851824 | não | ⋯ | não | 1585.3999 | 1127.1086 | 1559.4857 | 1.383616 | `u{nCtu}{GGMsNjHsMnHHr@JEJC`ApCCNhClG~BlFHFF@BDAJ@JnEzJ`@dAH^A\\Sx@iBrBy@dAMPEJ                  | -46.68779 | -23.57601 | -46.69842 | -23.57327 |\n",
       "| 000138_00_2 | 000138_00 | 2 | 161929 | 161977 | 1531.061 | 485.7508 | 483.740 | 11.394178 | não | ⋯ | não | 1585.3999 | 1127.1086 | 1559.4857 | 1.383616 | `u{nCtu}{GFCZx@Nr@iAl@{BlAtElKdC`FlEhKZv@?`@uHtDuDtB_CdBq@h@_Az@_AdAiBrBy@dAMPEJ                 | -46.68779 | -23.57601 | -46.69842 | -23.57327 |\n",
       "| 000139_00_1 | 000139_00 | 1 | 031336 | 143030 | 1458.244 | 552.7571 | 552.576 |  9.500374 | sim | ⋯ | não | 1846.2487 | 1108.0927 | 1791.8481 | 1.617056 | bb{nCtw_|GCHM[QoAMsAK?iAH_A@QIIKW}ECWWqEA[Ag@m@{IU_HAcADw@KDIs@E[IFQHYNa@T_B|@yC{GiBmE{C~AOy@    | -46.69835 | -23.57297 | -46.68893 | -23.56802 |\n",
       "| 000139_00_2 | 000139_00 | 2 | 031336 | 143030 | 1599.440 | 555.3088 | 554.334 | 10.387211 | sim | ⋯ | não | 1846.2487 | 1108.0927 | 1791.8481 | 1.617056 | bb{nCtw_|GCHM[QoAMsAK?iAH_A@QIIKW}ECWWqEA[Kg@I}@Y{Ds@yLQaBUeA_AaC}AoDIUQy@]gAiAmC]XDJ`AxBqH|DOy@ | -46.69835 | -23.57297 | -46.68893 | -23.56802 |\n",
       "| 000140_00_1 | 000140_00 | 1 | 143030 | 255789 | 1223.188 | 413.8767 | 397.798 | 11.069630 | sim | ⋯ | não | 1190.0806 |  950.4632 | 1125.3632 | 1.184015 | |bznC`|}{GKk@FQDAp@c@rBuANSt@e@LIFFFENXrBhFdBxDx@dBXv@FVDZZQHr@JEJC`ApCCNhClG~BlFHFF@BDAJ@JdCrF  | -46.68880 | -23.56799 | -46.69571 | -23.57371 |\n",
       "\n"
      ],
      "text/plain": [
       "  tmp_id      trip_id   alt qgis_id.x qgis_id.y distance weight   time   \n",
       "1 000135_00_1 000135_00 1   271157    104168     779.082 252.2742 252.275\n",
       "2 000138_00_1 000138_00 1   161929    161977    1569.142 476.9260 476.628\n",
       "3 000138_00_2 000138_00 2   161929    161977    1531.061 485.7508 483.740\n",
       "4 000139_00_1 000139_00 1   031336    143030    1458.244 552.7571 552.576\n",
       "5 000139_00_2 000139_00 2   031336    143030    1599.440 555.3088 554.334\n",
       "6 000140_00_1 000140_00 1   143030    255789    1223.188 413.8767 397.798\n",
       "  speed     vg_contramao ⋯ vg_parques dist_total dist_reta dist_linha detour_mm\n",
       "1 11.117611 não          ⋯ não         821.4461   562.5676  802.6903  1.426834 \n",
       "2 11.851824 não          ⋯ não        1585.3999  1127.1086 1559.4857  1.383616 \n",
       "3 11.394178 não          ⋯ não        1585.3999  1127.1086 1559.4857  1.383616 \n",
       "4  9.500374 sim          ⋯ não        1846.2487  1108.0927 1791.8481  1.617056 \n",
       "5 10.387211 sim          ⋯ não        1846.2487  1108.0927 1791.8481  1.617056 \n",
       "6 11.069630 sim          ⋯ não        1190.0806   950.4632 1125.3632  1.184015 \n",
       "  poly                                                                                            \n",
       "1 jgznCvic|G|@gENYROdNtb@                                                                         \n",
       "2 `u{nCtu}{GGMsNjHsMnHHr@JEJC`ApCCNhClG~BlFHFF@BDAJ@JnEzJ`@dAH^A\\\\Sx@iBrBy@dAMPEJ                 \n",
       "3 `u{nCtu}{GFCZx@Nr@iAl@{BlAtElKdC`FlEhKZv@?`@uHtDuDtB_CdBq@h@_Az@_AdAiBrBy@dAMPEJ                \n",
       "4 bb{nCtw_|GCHM[QoAMsAK?iAH_A@QIIKW}ECWWqEA[Ag@m@{IU_HAcADw@KDIs@E[IFQHYNa@T_B|@yC{GiBmE{C~AOy@   \n",
       "5 bb{nCtw_|GCHM[QoAMsAK?iAH_A@QIIKW}ECWWqEA[Kg@I}@Y{Ds@yLQaBUeA_AaC}AoDIUQy@]gAiAmC]XDJ`AxBqH|DOy@\n",
       "6 |bznC`|}{GKk@FQDAp@c@rBuANSt@e@LIFFFENXrBhFdBxDx@dBXv@FVDZZQHr@JEJC`ApCCNhClG~BlFHFF@BDAJ@JdCrF \n",
       "  lon.x     lat.x     lon.y     lat.y    \n",
       "1 -46.71660 -23.56869 -46.72109 -23.57161\n",
       "2 -46.68779 -23.57601 -46.69842 -23.57327\n",
       "3 -46.68779 -23.57601 -46.69842 -23.57327\n",
       "4 -46.69835 -23.57297 -46.68893 -23.56802\n",
       "5 -46.69835 -23.57297 -46.68893 -23.56802\n",
       "6 -46.68880 -23.56799 -46.69571 -23.57371"
      ]
     },
     "metadata": {},
     "output_type": "display_data"
    }
   ],
   "source": [
    "# ------------------------------------------------------------------------------\n",
    "# Calcular acurácia das rotas modeladas e distâncias percorridas em infra ciclo\n",
    "# ------------------------------------------------------------------------------\n",
    "\n",
    "# Abrir rotas modeladas com alternativas\n",
    "rotas_m <- sprintf('%s/01_ttmatrix_rotas_modeladas_de_viagens_originais_com_alternativas.csv', pasta_orig_modalt)\n",
    "rotas_m <- read_delim(rotas_m, delim = ';', col_types = 'cccddddcdddd')\n",
    "rotas_m <- rotas_m %>% select(-c(qgis_id.x, qgis_id.y))\n",
    "\n",
    "# Remover rotas com origem muito perto do destino (qgis_id diferente, mas \n",
    "# distance igual a zero)\n",
    "# rotas_m <- rotas_m %>% filter(distance != 0)\n",
    "\n",
    "# Juntar com dados das viagens originais\n",
    "rotas_m <- left_join(ods_vgs, rotas_m, by = 'trip_id')\n",
    "rotas_m <- rotas_m %>% relocate(c(distance, weight, time, speed), .after = 'qgis_id.y')\n",
    "head(rotas_m)\n",
    "\n",
    "# Adicionar identificação da rota alternativa no dataframe, conforme o trip_id\n",
    "# https://stackoverflow.com/questions/28647954/add-an-index-or-counter-to-a-dataframe-by-group-in-r\n",
    "rotas_m <- rotas_m %>% group_by(trip_id) %>% mutate(alt = row_number(trip_id), .after = 'trip_id') %>% ungroup()\n",
    "rotas_m <- rotas_m %>% mutate(tmp_id = str_c(trip_id, alt, sep = '_'), .before = 'trip_id')\n",
    "head(rotas_m)"
   ]
  },
  {
   "cell_type": "code",
   "execution_count": 26,
   "id": "8b2a1ff4",
   "metadata": {},
   "outputs": [
    {
     "name": "stderr",
     "output_type": "stream",
     "text": [
      "mutate: new variable 'tmp_id' (character) with 196,554 unique values and 0% NA\n",
      "\n",
      "filter: removed 5 rows (83%), one row remaining\n",
      "\n"
     ]
    },
    {
     "data": {
      "text/html": [
       "<table class=\"dataframe\">\n",
       "<caption>A tibble: 1 × 22</caption>\n",
       "<thead>\n",
       "\t<tr><th scope=col>tmp_id</th><th scope=col>trip_id</th><th scope=col>alt</th><th scope=col>qgis_id.x</th><th scope=col>qgis_id.y</th><th scope=col>distance</th><th scope=col>weight</th><th scope=col>time</th><th scope=col>speed</th><th scope=col>vg_contramao</th><th scope=col>⋯</th><th scope=col>vg_parques</th><th scope=col>dist_total</th><th scope=col>dist_reta</th><th scope=col>dist_linha</th><th scope=col>detour_mm</th><th scope=col>poly</th><th scope=col>lon.x</th><th scope=col>lat.x</th><th scope=col>lon.y</th><th scope=col>lat.y</th></tr>\n",
       "\t<tr><th scope=col>&lt;chr&gt;</th><th scope=col>&lt;chr&gt;</th><th scope=col>&lt;int&gt;</th><th scope=col>&lt;chr&gt;</th><th scope=col>&lt;chr&gt;</th><th scope=col>&lt;dbl&gt;</th><th scope=col>&lt;dbl&gt;</th><th scope=col>&lt;dbl&gt;</th><th scope=col>&lt;dbl&gt;</th><th scope=col>&lt;chr&gt;</th><th scope=col>⋯</th><th scope=col>&lt;chr&gt;</th><th scope=col>&lt;dbl&gt;</th><th scope=col>&lt;dbl&gt;</th><th scope=col>&lt;dbl&gt;</th><th scope=col>&lt;dbl&gt;</th><th scope=col>&lt;chr&gt;</th><th scope=col>&lt;dbl&gt;</th><th scope=col>&lt;dbl&gt;</th><th scope=col>&lt;dbl&gt;</th><th scope=col>&lt;dbl&gt;</th></tr>\n",
       "</thead>\n",
       "<tbody>\n",
       "\t<tr><td>323082_00_1</td><td>323082_00</td><td>1</td><td>071935</td><td>125019</td><td>3734.246</td><td>1174.126</td><td>1173.754</td><td>11.45324</td><td>não</td><td>⋯</td><td>não</td><td>3491.539</td><td>2466.613</td><td>3397.031</td><td>1.377205</td><td>~rznCji~{GkAp@g@XkB`AGN?PzDqBrBkAh@YrMoHrNkH~CaB|HkEjDgB~CqAnHgDlAo@CYh@IR?VNzFmBlGcBjBc@~@c@H@FJzAe@bM}BhJeBvKyBDPrAUbDpQ}@R}Ct@aDr@dApF</td><td>-46.69094</td><td>-23.57056</td><td>-46.68561</td><td>-23.59217</td></tr>\n",
       "</tbody>\n",
       "</table>\n"
      ],
      "text/latex": [
       "A tibble: 1 × 22\n",
       "\\begin{tabular}{lllllllllllllllllllll}\n",
       " tmp\\_id & trip\\_id & alt & qgis\\_id.x & qgis\\_id.y & distance & weight & time & speed & vg\\_contramao & ⋯ & vg\\_parques & dist\\_total & dist\\_reta & dist\\_linha & detour\\_mm & poly & lon.x & lat.x & lon.y & lat.y\\\\\n",
       " <chr> & <chr> & <int> & <chr> & <chr> & <dbl> & <dbl> & <dbl> & <dbl> & <chr> & ⋯ & <chr> & <dbl> & <dbl> & <dbl> & <dbl> & <chr> & <dbl> & <dbl> & <dbl> & <dbl>\\\\\n",
       "\\hline\n",
       "\t 323082\\_00\\_1 & 323082\\_00 & 1 & 071935 & 125019 & 3734.246 & 1174.126 & 1173.754 & 11.45324 & não & ⋯ & não & 3491.539 & 2466.613 & 3397.031 & 1.377205 & \\textasciitilde{}rznCji\\textasciitilde{}\\{GkAp@g@XkB`AGN?PzDqBrBkAh@YrMoHrNkH\\textasciitilde{}CaB\\textbar{}HkEjDgB\\textasciitilde{}CqAnHgDlAo@CYh@IR?VNzFmBlGcBjBc@\\textasciitilde{}@c@H@FJzAe@bM\\}BhJeBvKyBDPrAUbDpQ\\}@R\\}Ct@aDr@dApF & -46.69094 & -23.57056 & -46.68561 & -23.59217\\\\\n",
       "\\end{tabular}\n"
      ],
      "text/markdown": [
       "\n",
       "A tibble: 1 × 22\n",
       "\n",
       "| tmp_id &lt;chr&gt; | trip_id &lt;chr&gt; | alt &lt;int&gt; | qgis_id.x &lt;chr&gt; | qgis_id.y &lt;chr&gt; | distance &lt;dbl&gt; | weight &lt;dbl&gt; | time &lt;dbl&gt; | speed &lt;dbl&gt; | vg_contramao &lt;chr&gt; | ⋯ ⋯ | vg_parques &lt;chr&gt; | dist_total &lt;dbl&gt; | dist_reta &lt;dbl&gt; | dist_linha &lt;dbl&gt; | detour_mm &lt;dbl&gt; | poly &lt;chr&gt; | lon.x &lt;dbl&gt; | lat.x &lt;dbl&gt; | lon.y &lt;dbl&gt; | lat.y &lt;dbl&gt; |\n",
       "|---|---|---|---|---|---|---|---|---|---|---|---|---|---|---|---|---|---|---|---|---|\n",
       "| 323082_00_1 | 323082_00 | 1 | 071935 | 125019 | 3734.246 | 1174.126 | 1173.754 | 11.45324 | não | ⋯ | não | 3491.539 | 2466.613 | 3397.031 | 1.377205 | ~rznCji~{GkAp@g@XkB`AGN?PzDqBrBkAh@YrMoHrNkH~CaB|HkEjDgB~CqAnHgDlAo@CYh@IR?VNzFmBlGcBjBc@~@c@H@FJzAe@bM}BhJeBvKyBDPrAUbDpQ}@R}Ct@aDr@dApF | -46.69094 | -23.57056 | -46.68561 | -23.59217 |\n",
       "\n"
      ],
      "text/plain": [
       "  tmp_id      trip_id   alt qgis_id.x qgis_id.y distance weight   time    \n",
       "1 323082_00_1 323082_00 1   071935    125019    3734.246 1174.126 1173.754\n",
       "  speed    vg_contramao ⋯ vg_parques dist_total dist_reta dist_linha detour_mm\n",
       "1 11.45324 não          ⋯ não        3491.539   2466.613  3397.031   1.377205 \n",
       "  poly                                                                                                                                     \n",
       "1 ~rznCji~{GkAp@g@XkB`AGN?PzDqBrBkAh@YrMoHrNkH~CaB|HkEjDgB~CqAnHgDlAo@CYh@IR?VNzFmBlGcBjBc@~@c@H@FJzAe@bM}BhJeBvKyBDPrAUbDpQ}@R}Ct@aDr@dApF\n",
       "  lon.x     lat.x     lon.y     lat.y    \n",
       "1 -46.69094 -23.57056 -46.68561 -23.59217"
      ]
     },
     "metadata": {},
     "output_type": "display_data"
    }
   ],
   "source": [
    "# suppressPackageStartupMessages(library('tidylog'))\n",
    "\n",
    "# # Listar todos os arquivos de resultados em um dataframe único\n",
    "# arqs_resultados <- data.frame(arq = list.files(pasta_rotas_modalc, recursive = FALSE, full.names = TRUE))\n",
    "# arqs_resultados <- arqs_resultados %>% mutate(tmp_id = str_sub(arq, -24, -14))\n",
    "# # head(arqs_resultados)\n",
    "\n",
    "# # Remover arquivos que já foram executados\n",
    "# rotas_m <- rotas_m %>% filter(!tmp_id %in% arqs_resultados$tmp_id)\n",
    "# rm(arqs_resultados)\n",
    "# head(rotas_m)"
   ]
  },
  {
   "cell_type": "code",
   "execution_count": 25,
   "id": "971f4d56",
   "metadata": {},
   "outputs": [
    {
     "data": {
      "text/plain": [
       "[1] \"2024-05-01 12:33:05 -03\""
      ]
     },
     "metadata": {},
     "output_type": "display_data"
    },
    {
     "name": "stderr",
     "output_type": "stream",
     "text": [
      "Warning message:\n",
      "“Unnamed `col_types` should have the same length as `col_names`. Using smaller of the two.”\n"
     ]
    },
    {
     "ename": "ERROR",
     "evalue": "Error: Can't subset columns that don't exist.\n\u001b[31m✖\u001b[39m Column `trip_id` doesn't exist.\n",
     "output_type": "error",
     "traceback": [
      "Error: Can't subset columns that don't exist.\n\u001b[31m✖\u001b[39m Column `trip_id` doesn't exist.\nTraceback:\n",
      "1. future.apply::future_lapply(X = rotas_m$tmp_id, FUN = calcular_dist_ciclo, \n .     future.seed = TRUE)",
      "2. future_xapply(FUN = FUN, nX = nX, chunk_args = X, args = list(...), \n .     get_chunk = `[`, expr = expr, envir = envir, future.envir = future.envir, \n .     future.globals = future.globals, future.packages = future.packages, \n .     future.scheduling = future.scheduling, future.chunk.size = future.chunk.size, \n .     future.stdout = future.stdout, future.conditions = future.conditions, \n .     future.seed = future.seed, future.lazy = future.lazy, future.label = future.label, \n .     fcn_name = fcn_name, args_name = args_name, debug = debug)",
      "3. value(fs)",
      "4. value.list(fs)",
      "5. resolve(y, result = TRUE, stdout = stdout, signal = signal, force = TRUE)",
      "6. resolve.list(y, result = TRUE, stdout = stdout, signal = signal, \n .     force = TRUE)",
      "7. signalConditionsASAP(obj, resignal = FALSE, pos = ii)",
      "8. signalConditions(obj, exclude = getOption(\"future.relay.immediate\", \n .     \"immediateCondition\"), resignal = resignal, ...)"
     ]
    }
   ],
   "source": [
    "# Inserir cálculos de extensões percorridas em vias comuns ou infra cicloviária\n",
    "# para cada uma das rotas calculadas\n",
    "detach(\"package:tidylog\")\n",
    "# for (tmpid in rotas_m$tmp_id) { \n",
    "#   calcular_dist_ciclo(tmpid) \n",
    "#  }\n",
    "\n",
    "# Rodar função para todos os arquivos- multi thread (Jupyter)\n",
    "(start = Sys.time())\n",
    "future::plan(future::multicore)\n",
    "invisible(future.apply::future_lapply(X   = rotas_m$tmp_id, \n",
    "                                      FUN = calcular_dist_ciclo,\n",
    "                                      future.seed = TRUE))\n",
    "Sys.time()\n",
    "Sys.time() - start"
   ]
  },
  {
   "cell_type": "code",
   "execution_count": 31,
   "id": "8ca59de5",
   "metadata": {},
   "outputs": [],
   "source": [
    "# ------------------------------------------------------------------------------\n",
    "# Juntar todos os resultados\n",
    "# ------------------------------------------------------------------------------\n",
    "\n",
    "# Arquivo de saída\n",
    "out_file <- sprintf('%s/02_ttmatrix_rotas_modeladas_alternativas_acuracia_infraciclo_carac_viagens.csv', pasta_orig_modalt)\n",
    "\n",
    "# Listar todos os arquivos de resultados em um dataframe único\n",
    "arqs_resultados <- data.frame(arq = list.files(pasta_rotas_modalc, recursive = FALSE, full.names = TRUE))\n",
    "\n",
    "# Resultados já vão estar ordenados conforme o nome, o que significa \n",
    "# que já estarão ordenados com relação ao trip_id e à coluna alt\n",
    "for (arq in arqs_resultados$arq) {\n",
    "  # Abrir arquivo de resultados\n",
    "  arq <- read_delim(arq, delim = ';', col_types = cols(.default = \"c\"))\n",
    "  \n",
    "  # Guardar resultados \n",
    "  if (file.exists(out_file)) {\n",
    "    write_delim(arq, out_file, delim = ';', append = TRUE)\n",
    "  } else {\n",
    "    write_delim(arq, out_file, delim = ';', append = FALSE)\n",
    "  }\n",
    "  \n",
    "}"
   ]
  }
 ],
 "metadata": {
  "kernelspec": {
   "display_name": "R [conda env:r4_env]",
   "language": "R",
   "name": "conda-env-r4_env-r"
  },
  "language_info": {
   "codemirror_mode": "r",
   "file_extension": ".r",
   "mimetype": "text/x-r-source",
   "name": "R",
   "pygments_lexer": "r",
   "version": "4.0.5"
  }
 },
 "nbformat": 4,
 "nbformat_minor": 5
}
