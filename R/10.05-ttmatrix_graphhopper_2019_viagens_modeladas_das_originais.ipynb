{
 "cells": [
  {
   "cell_type": "code",
   "execution_count": 1,
   "id": "e1f1ce79",
   "metadata": {},
   "outputs": [
    {
     "name": "stderr",
     "output_type": "stream",
     "text": [
      "── \u001b[1mAttaching packages\u001b[22m ─────────────────────────────────────────────────────────────────────────────── tidyverse 1.3.1 ──\n",
      "\n",
      "\u001b[32m✔\u001b[39m \u001b[34mggplot2\u001b[39m 3.3.3     \u001b[32m✔\u001b[39m \u001b[34mpurrr  \u001b[39m 0.3.4\n",
      "\u001b[32m✔\u001b[39m \u001b[34mtibble \u001b[39m 3.1.1     \u001b[32m✔\u001b[39m \u001b[34mdplyr  \u001b[39m 1.0.5\n",
      "\u001b[32m✔\u001b[39m \u001b[34mtidyr  \u001b[39m 1.1.3     \u001b[32m✔\u001b[39m \u001b[34mstringr\u001b[39m 1.4.0\n",
      "\u001b[32m✔\u001b[39m \u001b[34mreadr  \u001b[39m 1.4.0     \u001b[32m✔\u001b[39m \u001b[34mforcats\u001b[39m 0.5.1\n",
      "\n",
      "── \u001b[1mConflicts\u001b[22m ────────────────────────────────────────────────────────────────────────────────── tidyverse_conflicts() ──\n",
      "\u001b[31m✖\u001b[39m \u001b[34mdplyr\u001b[39m::\u001b[32mfilter()\u001b[39m masks \u001b[34mstats\u001b[39m::filter()\n",
      "\u001b[31m✖\u001b[39m \u001b[34mdplyr\u001b[39m::\u001b[32mlag()\u001b[39m    masks \u001b[34mstats\u001b[39m::lag()\n",
      "\n",
      "\n",
      "Attaching package: ‘tidylog’\n",
      "\n",
      "\n",
      "The following objects are masked from ‘package:dplyr’:\n",
      "\n",
      "    add_count, add_tally, anti_join, count, distinct, distinct_all,\n",
      "    distinct_at, distinct_if, filter, filter_all, filter_at, filter_if,\n",
      "    full_join, group_by, group_by_all, group_by_at, group_by_if,\n",
      "    inner_join, left_join, mutate, mutate_all, mutate_at, mutate_if,\n",
      "    relocate, rename, rename_all, rename_at, rename_if, rename_with,\n",
      "    right_join, sample_frac, sample_n, select, select_all, select_at,\n",
      "    select_if, semi_join, slice, slice_head, slice_max, slice_min,\n",
      "    slice_sample, slice_tail, summarise, summarise_all, summarise_at,\n",
      "    summarise_if, summarize, summarize_all, summarize_at, summarize_if,\n",
      "    tally, top_frac, top_n, transmute, transmute_all, transmute_at,\n",
      "    transmute_if, ungroup\n",
      "\n",
      "\n",
      "The following objects are masked from ‘package:tidyr’:\n",
      "\n",
      "    drop_na, fill, gather, pivot_longer, pivot_wider, replace_na,\n",
      "    spread, uncount\n",
      "\n",
      "\n",
      "The following object is masked from ‘package:stats’:\n",
      "\n",
      "    filter\n",
      "\n",
      "\n",
      "\n",
      "Attaching package: ‘jsonlite’\n",
      "\n",
      "\n",
      "The following object is masked from ‘package:purrr’:\n",
      "\n",
      "    flatten\n",
      "\n",
      "\n",
      "Loading required package: future\n",
      "\n"
     ]
    }
   ],
   "source": [
    "library('tidyverse')\n",
    "library('tidylog')\n",
    "library('httr')\n",
    "library('jsonlite')\n",
    "# Aplicar funcoes em paralelo\n",
    "library('future.apply')\n",
    "\n",
    "\n",
    "# Estrutura de pastas\n",
    "pasta_dados        <- \"../../yellow_dados\"\n",
    "pasta_orig_vs_mod  <- sprintf('%s/10_rotas_originais_vs_modeladas', pasta_dados)\n",
    "pasta_orig_way_ids <- sprintf(\"%s/01_osm_way_ids_rotas_modeladas\", pasta_orig_vs_mod)\n",
    "dir.create(pasta_orig_way_ids, recursive = TRUE, showWarnings = FALSE)"
   ]
  },
  {
   "cell_type": "code",
   "execution_count": 2,
   "id": "b65057af",
   "metadata": {},
   "outputs": [
    {
     "data": {
      "text/html": [
       "TRUE"
      ],
      "text/latex": [
       "TRUE"
      ],
      "text/markdown": [
       "TRUE"
      ],
      "text/plain": [
       "[1] TRUE"
      ]
     },
     "metadata": {},
     "output_type": "display_data"
    }
   ],
   "source": [
    "# Checando: Jupyter suporta multicore?\n",
    "future::supportsMulticore()"
   ]
  },
  {
   "cell_type": "code",
   "execution_count": 3,
   "id": "1410dd1d",
   "metadata": {},
   "outputs": [],
   "source": [
    "# https://stackoverflow.com/questions/40536067/how-to-adjust-future-global-maxsize\n",
    "# For 850MB: 850*1024^2 = 891289600\n",
    "# For +1.3GB: 1500*1024^2 = 1572864000\n",
    "# options(future.globals.maxSize = 891289600)"
   ]
  },
  {
   "cell_type": "code",
   "execution_count": 11,
   "id": "6f97930c",
   "metadata": {},
   "outputs": [],
   "source": [
    "# ------------------------------------------------------------------------------\n",
    "# Routing a partir de dois pontos com rotas alternativas (até 3 por par OD)\n",
    "# ------------------------------------------------------------------------------\n",
    "\n",
    "# Faz query de routing no GraphHopper e retorna resultados principais em dataframe,\n",
    "# com rotas até 3 alternativas por par OD - aceita um dataframe de uma linha como\n",
    "# entrada\n",
    "gh_route <- function(tripid, out_file, route_options) {\n",
    "  # url <- 'http://localhost:8989/route/?point=-23.5314933121698%2C-46.634354542765&point=-23.5390199310058%2C-46.6376369484305&profile=bike&instructions=false&calc_points=true&details=average_speed'\n",
    "  # url <- ods_vgs %>% slice(1) %>% select(url) %>% pull()\n",
    "  # Estação Vila Madalena: -23.546258,-46.690898\n",
    "  # IME: -23.559007,-46.73208\n",
    "  # CCSP: -23.571498,-46.639806\n",
    "  \n",
    "  # df_line$url <- paste('http://localhost:8989/route/?point=', \n",
    "  # '-23.541504', '%2C', '-46.685779', '&point=', \n",
    "  # '-23.571498', '%2C', '-46.639806', route_options,\n",
    "  # sep = '')\n",
    "  \n",
    "  df_line <- ods_vgs %>% filter(trip_id == tripid)\n",
    "  # df_line <- tmp_df\n",
    "  \n",
    "  # Fazer a GET de roteamento no Grahphopper\n",
    "  # print(df_line$url)\n",
    "  gh_response <- GET(df_line$url)\n",
    "  \n",
    "  # Mensagem tem que ser \"Success: (200) OK\"\n",
    "  if (http_status(gh_response)$message == 'Success: (200) OK') {\n",
    "    \n",
    "    # Resposta da query, já colapsada e transformada em dataframe\n",
    "    # Remover aviso de 'No encoding supplied: defaulting to UTF-8' na linha fromJSON()\n",
    "    suppressMessages(\n",
    "      response_text <- \n",
    "        # Ignorar aviso 'argument is not an atomic vector; coercing'\n",
    "        suppressWarnings(str_c(content(gh_response, 'text'), collapse = \", \")) %>% \n",
    "        # Concatenar toda a string de resultados\n",
    "        str_c(\"[\", ., \"]\") %>% \n",
    "        # Transformar em dataframe\n",
    "        fromJSON() %>% \n",
    "        as.data.frame()\n",
    "    )\n",
    "    \n",
    "    # Nos interessa a coluna de 'paths', como um novo dataframe\n",
    "    paths <- response_text$paths %>% as.data.frame()\n",
    "    \n",
    "    # Puxar osm_way_ids dos resultados \n",
    "    osm_ways <- paths$details$osm_way_id[1] %>% as.data.frame()\n",
    "      \n",
    "    if (nrow(osm_ways) > 0) {\n",
    "      osm_ways <- osm_ways %>% mutate(index = 1:nrow(.)) %>% select(index, osm_way_id = X3)\n",
    "      \n",
    "      # Gravar resultados\n",
    "      osm_way_out <- sprintf('%s/%s.csv', pasta_orig_way_ids, df_line$trip_id)\n",
    "      write_delim(osm_ways, osm_way_out, delim = ';')\n",
    "      \n",
    "    } else {\n",
    "      # Se não há osm_way_ids, é porque os pontos estão muito próximos uns dos\n",
    "      # outros, mesmo que seja um osm_way_id diferente entre a origem e o \n",
    "      # destino. A distância e a velocidade calculadas vão ser zero também - \n",
    "      # pular este registro, que vai ser vazio\n",
    "      return(sprintf('Pulando: %s não tem osm_way_ids (provavelmente tem distância = 0)', df_line$trip_id))\n",
    "    }\n",
    "     \n",
    "    \n",
    "    \n",
    "    # Isolar colunas de interesse\n",
    "    paths <- \n",
    "      paths %>% \n",
    "      # Calcular tempo em segundos e velocidade média\n",
    "      mutate(time = time / 1000,\n",
    "             speed = distance / time * 3.6) %>% \n",
    "      # Descartar colunas extras - a coluna poly é o shape da rota traçada\n",
    "      select(distance, weight, time, speed, poly = points)\n",
    "    \n",
    "    # Testar polyline:\n",
    "    # https://valhalla.github.io/demos/polyline/?unescape=true&polyline6=false#%0A\n",
    "    \n",
    "    # Adicionar colunas de informação vindas do dataframe original\n",
    "    paths <- \n",
    "      paths %>% \n",
    "      mutate(trip_id   = df_line$trip_id,\n",
    "             qgis_id.x = df_line$qgis_id.x,\n",
    "             qgis_id.y = df_line$qgis_id.y,\n",
    "             .before = 'distance') %>% \n",
    "      mutate(lon.x     = df_line$lon.x,\n",
    "             lat.x     = df_line$lat.x,\n",
    "             lon.y     = df_line$lon.y,\n",
    "             lat.y     = df_line$lat.y,\n",
    "             .after = 'poly')\n",
    "    \n",
    "  } else {\n",
    "    \n",
    "    # Se a query no GraphHopper não deu resultados, guardar como dataframe vazio\n",
    "    paths <- data.frame(trip_id   = df_line$trip_id,\n",
    "                        qgis_id.x = df_line$qgis_id.x,\n",
    "                        qgis_id.y = df_line$qgis_id.y,\n",
    "                        distance  = NA,\n",
    "                        weight    = NA,\n",
    "                        time      = NA,\n",
    "                        speed     = NA,\n",
    "                        poly      = NA,\n",
    "                        lon.x     = df_line$lon.x,\n",
    "                        lat.x     = df_line$lat.x,\n",
    "                        lon.y     = df_line$lon.y,\n",
    "                        lat.y     = df_line$lat.y\n",
    "    )\n",
    "    \n",
    "  }\n",
    "  \n",
    "  # Guardar resultados temporários\n",
    "  if (file.exists(out_file)) {\n",
    "    write_delim(paths, out_file, delim = ';', append = TRUE)\n",
    "  } else {\n",
    "    write_delim(paths, out_file, delim = ';', append = FALSE)\n",
    "  }\n",
    "  \n",
    "}"
   ]
  },
  {
   "cell_type": "code",
   "execution_count": 10,
   "id": "6f4266c5",
   "metadata": {},
   "outputs": [
    {
     "name": "stderr",
     "output_type": "stream",
     "text": [
      "filter: no rows removed\n",
      "\n",
      "select: dropped 13 variables (via_comum, infra_ciclo, ciclo_expressa, ciclo_comum, ciclofaixa, …)\n",
      "\n",
      "mutate: new variable 'url' (character) with 129,026 unique values and 0% NA\n",
      "\n"
     ]
    },
    {
     "data": {
      "text/html": [
       "129755"
      ],
      "text/latex": [
       "129755"
      ],
      "text/markdown": [
       "129755"
      ],
      "text/plain": [
       "[1] 129755"
      ]
     },
     "metadata": {},
     "output_type": "display_data"
    },
    {
     "data": {
      "text/html": [
       "<table class=\"dataframe\">\n",
       "<caption>A tibble: 6 × 8</caption>\n",
       "<thead>\n",
       "\t<tr><th scope=col>trip_id</th><th scope=col>qgis_id.x</th><th scope=col>qgis_id.y</th><th scope=col>lon.x</th><th scope=col>lat.x</th><th scope=col>lon.y</th><th scope=col>lat.y</th><th scope=col>url</th></tr>\n",
       "\t<tr><th scope=col>&lt;chr&gt;</th><th scope=col>&lt;chr&gt;</th><th scope=col>&lt;chr&gt;</th><th scope=col>&lt;dbl&gt;</th><th scope=col>&lt;dbl&gt;</th><th scope=col>&lt;dbl&gt;</th><th scope=col>&lt;dbl&gt;</th><th scope=col>&lt;chr&gt;</th></tr>\n",
       "</thead>\n",
       "<tbody>\n",
       "\t<tr><td>000135_00</td><td>271157</td><td>104168</td><td>-46.71660</td><td>-23.56869</td><td>-46.72109</td><td>-23.57161</td><td>http://localhost:8989/route/?point=-23.56869%2C-46.716596&amp;point=-23.571614%2C-46.721093&amp;profile=bike&amp;instructions=false&amp;calc_points=true&amp;details=osm_way_id </td></tr>\n",
       "\t<tr><td>000138_00</td><td>161929</td><td>161977</td><td>-46.68779</td><td>-23.57601</td><td>-46.69842</td><td>-23.57327</td><td>http://localhost:8989/route/?point=-23.576007%2C-46.687787&amp;point=-23.573271%2C-46.698423&amp;profile=bike&amp;instructions=false&amp;calc_points=true&amp;details=osm_way_id</td></tr>\n",
       "\t<tr><td>000139_00</td><td>031336</td><td>143030</td><td>-46.69835</td><td>-23.57297</td><td>-46.68893</td><td>-23.56802</td><td>http://localhost:8989/route/?point=-23.572974%2C-46.698347&amp;point=-23.568022%2C-46.688926&amp;profile=bike&amp;instructions=false&amp;calc_points=true&amp;details=osm_way_id</td></tr>\n",
       "\t<tr><td>000140_00</td><td>143030</td><td>255789</td><td>-46.68880</td><td>-23.56799</td><td>-46.69571</td><td>-23.57371</td><td>http://localhost:8989/route/?point=-23.567988%2C-46.688804&amp;point=-23.573713%2C-46.695715&amp;profile=bike&amp;instructions=false&amp;calc_points=true&amp;details=osm_way_id</td></tr>\n",
       "\t<tr><td>000141_00</td><td>255788</td><td>264853</td><td>-46.69577</td><td>-23.57374</td><td>-46.69206</td><td>-23.57702</td><td>http://localhost:8989/route/?point=-23.573744%2C-46.695772&amp;point=-23.577017%2C-46.692057&amp;profile=bike&amp;instructions=false&amp;calc_points=true&amp;details=osm_way_id</td></tr>\n",
       "\t<tr><td>000142_00</td><td>264853</td><td>031336</td><td>-46.69205</td><td>-23.57703</td><td>-46.69840</td><td>-23.57305</td><td>http://localhost:8989/route/?point=-23.577026%2C-46.692052&amp;point=-23.573045%2C-46.698396&amp;profile=bike&amp;instructions=false&amp;calc_points=true&amp;details=osm_way_id</td></tr>\n",
       "</tbody>\n",
       "</table>\n"
      ],
      "text/latex": [
       "A tibble: 6 × 8\n",
       "\\begin{tabular}{llllllll}\n",
       " trip\\_id & qgis\\_id.x & qgis\\_id.y & lon.x & lat.x & lon.y & lat.y & url\\\\\n",
       " <chr> & <chr> & <chr> & <dbl> & <dbl> & <dbl> & <dbl> & <chr>\\\\\n",
       "\\hline\n",
       "\t 000135\\_00 & 271157 & 104168 & -46.71660 & -23.56869 & -46.72109 & -23.57161 & http://localhost:8989/route/?point=-23.56869\\%2C-46.716596\\&point=-23.571614\\%2C-46.721093\\&profile=bike\\&instructions=false\\&calc\\_points=true\\&details=osm\\_way\\_id \\\\\n",
       "\t 000138\\_00 & 161929 & 161977 & -46.68779 & -23.57601 & -46.69842 & -23.57327 & http://localhost:8989/route/?point=-23.576007\\%2C-46.687787\\&point=-23.573271\\%2C-46.698423\\&profile=bike\\&instructions=false\\&calc\\_points=true\\&details=osm\\_way\\_id\\\\\n",
       "\t 000139\\_00 & 031336 & 143030 & -46.69835 & -23.57297 & -46.68893 & -23.56802 & http://localhost:8989/route/?point=-23.572974\\%2C-46.698347\\&point=-23.568022\\%2C-46.688926\\&profile=bike\\&instructions=false\\&calc\\_points=true\\&details=osm\\_way\\_id\\\\\n",
       "\t 000140\\_00 & 143030 & 255789 & -46.68880 & -23.56799 & -46.69571 & -23.57371 & http://localhost:8989/route/?point=-23.567988\\%2C-46.688804\\&point=-23.573713\\%2C-46.695715\\&profile=bike\\&instructions=false\\&calc\\_points=true\\&details=osm\\_way\\_id\\\\\n",
       "\t 000141\\_00 & 255788 & 264853 & -46.69577 & -23.57374 & -46.69206 & -23.57702 & http://localhost:8989/route/?point=-23.573744\\%2C-46.695772\\&point=-23.577017\\%2C-46.692057\\&profile=bike\\&instructions=false\\&calc\\_points=true\\&details=osm\\_way\\_id\\\\\n",
       "\t 000142\\_00 & 264853 & 031336 & -46.69205 & -23.57703 & -46.69840 & -23.57305 & http://localhost:8989/route/?point=-23.577026\\%2C-46.692052\\&point=-23.573045\\%2C-46.698396\\&profile=bike\\&instructions=false\\&calc\\_points=true\\&details=osm\\_way\\_id\\\\\n",
       "\\end{tabular}\n"
      ],
      "text/markdown": [
       "\n",
       "A tibble: 6 × 8\n",
       "\n",
       "| trip_id &lt;chr&gt; | qgis_id.x &lt;chr&gt; | qgis_id.y &lt;chr&gt; | lon.x &lt;dbl&gt; | lat.x &lt;dbl&gt; | lon.y &lt;dbl&gt; | lat.y &lt;dbl&gt; | url &lt;chr&gt; |\n",
       "|---|---|---|---|---|---|---|---|\n",
       "| 000135_00 | 271157 | 104168 | -46.71660 | -23.56869 | -46.72109 | -23.57161 | http://localhost:8989/route/?point=-23.56869%2C-46.716596&amp;point=-23.571614%2C-46.721093&amp;profile=bike&amp;instructions=false&amp;calc_points=true&amp;details=osm_way_id  |\n",
       "| 000138_00 | 161929 | 161977 | -46.68779 | -23.57601 | -46.69842 | -23.57327 | http://localhost:8989/route/?point=-23.576007%2C-46.687787&amp;point=-23.573271%2C-46.698423&amp;profile=bike&amp;instructions=false&amp;calc_points=true&amp;details=osm_way_id |\n",
       "| 000139_00 | 031336 | 143030 | -46.69835 | -23.57297 | -46.68893 | -23.56802 | http://localhost:8989/route/?point=-23.572974%2C-46.698347&amp;point=-23.568022%2C-46.688926&amp;profile=bike&amp;instructions=false&amp;calc_points=true&amp;details=osm_way_id |\n",
       "| 000140_00 | 143030 | 255789 | -46.68880 | -23.56799 | -46.69571 | -23.57371 | http://localhost:8989/route/?point=-23.567988%2C-46.688804&amp;point=-23.573713%2C-46.695715&amp;profile=bike&amp;instructions=false&amp;calc_points=true&amp;details=osm_way_id |\n",
       "| 000141_00 | 255788 | 264853 | -46.69577 | -23.57374 | -46.69206 | -23.57702 | http://localhost:8989/route/?point=-23.573744%2C-46.695772&amp;point=-23.577017%2C-46.692057&amp;profile=bike&amp;instructions=false&amp;calc_points=true&amp;details=osm_way_id |\n",
       "| 000142_00 | 264853 | 031336 | -46.69205 | -23.57703 | -46.69840 | -23.57305 | http://localhost:8989/route/?point=-23.577026%2C-46.692052&amp;point=-23.573045%2C-46.698396&amp;profile=bike&amp;instructions=false&amp;calc_points=true&amp;details=osm_way_id |\n",
       "\n"
      ],
      "text/plain": [
       "  trip_id   qgis_id.x qgis_id.y lon.x     lat.x     lon.y     lat.y    \n",
       "1 000135_00 271157    104168    -46.71660 -23.56869 -46.72109 -23.57161\n",
       "2 000138_00 161929    161977    -46.68779 -23.57601 -46.69842 -23.57327\n",
       "3 000139_00 031336    143030    -46.69835 -23.57297 -46.68893 -23.56802\n",
       "4 000140_00 143030    255789    -46.68880 -23.56799 -46.69571 -23.57371\n",
       "5 000141_00 255788    264853    -46.69577 -23.57374 -46.69206 -23.57702\n",
       "6 000142_00 264853    031336    -46.69205 -23.57703 -46.69840 -23.57305\n",
       "  url                                                                                                                                                         \n",
       "1 http://localhost:8989/route/?point=-23.56869%2C-46.716596&point=-23.571614%2C-46.721093&profile=bike&instructions=false&calc_points=true&details=osm_way_id \n",
       "2 http://localhost:8989/route/?point=-23.576007%2C-46.687787&point=-23.573271%2C-46.698423&profile=bike&instructions=false&calc_points=true&details=osm_way_id\n",
       "3 http://localhost:8989/route/?point=-23.572974%2C-46.698347&point=-23.568022%2C-46.688926&profile=bike&instructions=false&calc_points=true&details=osm_way_id\n",
       "4 http://localhost:8989/route/?point=-23.567988%2C-46.688804&point=-23.573713%2C-46.695715&profile=bike&instructions=false&calc_points=true&details=osm_way_id\n",
       "5 http://localhost:8989/route/?point=-23.573744%2C-46.695772&point=-23.577017%2C-46.692057&profile=bike&instructions=false&calc_points=true&details=osm_way_id\n",
       "6 http://localhost:8989/route/?point=-23.577026%2C-46.692052&point=-23.573045%2C-46.698396&profile=bike&instructions=false&calc_points=true&details=osm_way_id"
      ]
     },
     "metadata": {},
     "output_type": "display_data"
    }
   ],
   "source": [
    "# ------------------------------------------------------------------------------\n",
    "# Routing a partir de dois pontos\n",
    "# ------------------------------------------------------------------------------\n",
    "\n",
    "# Abrir origens e destinos das rotas iniciais da Yellow - são consideradas aqui\n",
    "# (pelos scripts anteriores) as rotas que (a) tiveram algum trecho considerado\n",
    "# no modelo; (b) que não foram divididas em trechos menores; e (c) em que o\n",
    "# trecho único considerado é o inicial (possui trip_id com _00)\n",
    "ods_vgs <- sprintf('%s/03_rotas_originais_infraciclo_detour_carac_viagens.csv', pasta_orig_vs_mod)\n",
    "ods_vgs <- read_delim(ods_vgs, delim = ';', col_types = 'cccdddddccccdddddddd')\n",
    "# Remover viagens com origem e destino no mesmo qgis_id\n",
    "ods_vgs <- ods_vgs %>% filter(qgis_id.x != qgis_id.y)\n",
    "ods_vgs <- ods_vgs %>% select(trip_id, qgis_id.x, qgis_id.y, lon.x, lat.x, lon.y, lat.y)\n",
    "# head(ods_vgs)\n",
    "\n",
    "# Criar coluna com URL para GET no GraphHopper\n",
    "route_options <- '&profile=bike&instructions=false&calc_points=true&details=osm_way_id'\n",
    "\n",
    "ods_vgs <- \n",
    "  ods_vgs %>% \n",
    "  mutate(url = paste('http://localhost:8989/route/?point=', \n",
    "                     lat.x, '%2C', lon.x, '&point=', \n",
    "                     lat.y, '%2C', lon.y, route_options,\n",
    "                     sep = ''))\n",
    "\n",
    "\n",
    "# Arquivo de saída\n",
    "out_file <- sprintf('%s/04_ttmatrix_viagens_modeladas_a_partir_das_originais.csv', pasta_orig_vs_mod)\n",
    "\n",
    "# Se arquivo de saída existe, desconsiderar viagens que já foram roteadas\n",
    "if (file.exists(out_file)) {\n",
    "  this <- read_delim(out_file, delim = ';', col_types = cols(.default = \"c\"))\n",
    "  this <- this %>% select(trip_id) %>% distinct()\n",
    "  \n",
    "  # Remover viagens que já foram roteadas\n",
    "  ods_vgs <- ods_vgs %>% filter(!trip_id %in% this$trip_id)\n",
    "  rm(this)\n",
    "  \n",
    "}\n",
    "\n",
    "nrow(ods_vgs)\n",
    "head(ods_vgs)"
   ]
  },
  {
   "cell_type": "code",
   "execution_count": 14,
   "id": "66aec385",
   "metadata": {},
   "outputs": [
    {
     "data": {
      "text/plain": [
       "[1] \"2024-04-30 09:31:28 -03\""
      ]
     },
     "metadata": {},
     "output_type": "display_data"
    },
    {
     "data": {
      "text/plain": [
       "[1] \"2024-04-30 09:58:02 -03\""
      ]
     },
     "metadata": {},
     "output_type": "display_data"
    },
    {
     "data": {
      "text/plain": [
       "Time difference of 26.56759 mins"
      ]
     },
     "metadata": {},
     "output_type": "display_data"
    }
   ],
   "source": [
    "# No terminal, iniciar GraphHopper com .pbf da rede 2019 e config.yml sem alterações de LTS\n",
    "# (base) livre@laika:/media/livre/HDINT1TB/Base_GtsRegionais$ clear && cd /home/livre/Desktop/Base_GtsRegionais/GitLab/yellow_src/graphhopper/ && rm -rf graph-cache/ && java -Ddw.graphhopper.datareader.file=/home/livre/Desktop/Base_GtsRegionais/GitLab/yellow_dados/07_graphhopper/03_PBFs_SP_rede_2019/20220216_sao_paulo_edited_20230521_A_infraciclo_atual.osm.pbf -jar graphhopper/web/target/graphhopper-web-*.jar server graphhopper/config-example.yml\n",
    "\n",
    "\n",
    "# Criar ttmatrix a partir do GrahHopper\n",
    "detach(\"package:tidylog\")\n",
    "# lapply(hex_com_vizinhos$url, gh_route, n = n_secao)\n",
    "\n",
    "# Rodar função para todos os arquivos- multi thread (Jupyter)\n",
    "(start = Sys.time())\n",
    "future::plan(future::multicore)\n",
    "invisible(future.apply::future_lapply(X   = ods_vgs$trip_id, \n",
    "                                      FUN = gh_route,\n",
    "                                      out_file = out_file,\n",
    "                                      route_options = route_options, \n",
    "                                      future.seed = TRUE))\n",
    "Sys.time()\n",
    "Sys.time() - start"
   ]
  },
  {
   "cell_type": "code",
   "execution_count": null,
   "id": "5e1397a2",
   "metadata": {},
   "outputs": [],
   "source": []
  }
 ],
 "metadata": {
  "kernelspec": {
   "display_name": "R [conda env:r4_env]",
   "language": "R",
   "name": "conda-env-r4_env-r"
  },
  "language_info": {
   "codemirror_mode": "r",
   "file_extension": ".r",
   "mimetype": "text/x-r-source",
   "name": "R",
   "pygments_lexer": "r",
   "version": "4.0.5"
  }
 },
 "nbformat": 4,
 "nbformat_minor": 5
}
