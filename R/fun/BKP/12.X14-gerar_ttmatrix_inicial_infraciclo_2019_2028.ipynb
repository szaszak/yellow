{
 "cells": [
  {
   "cell_type": "code",
   "execution_count": 1,
   "id": "4b265dfe",
   "metadata": {},
   "outputs": [],
   "source": [
    "suppressPackageStartupMessages(library('tidyverse'))\n",
    "suppressPackageStartupMessages(library('tidylog'))\n",
    "suppressPackageStartupMessages(library('sf'))\n",
    "suppressPackageStartupMessages(library('googlePolylines'))"
   ]
  },
  {
   "cell_type": "code",
   "execution_count": 2,
   "id": "9dc7dc33",
   "metadata": {},
   "outputs": [
    {
     "name": "stderr",
     "output_type": "stream",
     "text": [
      "Loading required package: future\n",
      "\n"
     ]
    },
    {
     "data": {
      "text/html": [
       "TRUE"
      ],
      "text/latex": [
       "TRUE"
      ],
      "text/markdown": [
       "TRUE"
      ],
      "text/plain": [
       "[1] TRUE"
      ]
     },
     "metadata": {},
     "output_type": "display_data"
    }
   ],
   "source": [
    "# Aplicar funcoes em paralelo\n",
    "library('future.apply')\n",
    "# Checando: Jupyter suporta multicore?\n",
    "future::supportsMulticore()"
   ]
  },
  {
   "cell_type": "code",
   "execution_count": 3,
   "id": "064ba8c9",
   "metadata": {},
   "outputs": [
    {
     "data": {
      "text/html": [
       "<strong>system:</strong> 8"
      ],
      "text/latex": [
       "\\textbf{system:} 8"
      ],
      "text/markdown": [
       "**system:** 8"
      ],
      "text/plain": [
       "system \n",
       "     8 "
      ]
     },
     "metadata": {},
     "output_type": "display_data"
    }
   ],
   "source": [
    "# https://stackoverflow.com/questions/40536067/how-to-adjust-future-global-maxsize\n",
    "# For 850MB: 850*1024^2 = 891289600\n",
    "# For +1.3GB: 1500*1024^2 = 1572864000\n",
    "# options(future.globals.maxSize = 891289600)\n",
    "options(future.globals.maxSize = 5e6) # 5 MB\n",
    "options(future.globals.maxSize = 140*1024^2) # 140 MB\n",
    "parallelly::availableCores()"
   ]
  },
  {
   "cell_type": "code",
   "execution_count": 4,
   "id": "3d5a4621",
   "metadata": {},
   "outputs": [],
   "source": [
    "# Estrutura de pastas\n",
    "pasta_dados       <- \"../../yellow_dados\"\n",
    "pasta_aop_rev     <- sprintf(\"%s/12_aop_revisitado\", pasta_dados)\n",
    "pasta_aoprv_alter <- sprintf(\"%s/03_aop_alternatives_2019_2028\", pasta_aop_rev)\n",
    "pasta_ids_aopt_19 <- sprintf(\"%s/A_2019_osm_way_ids_aop\", pasta_aoprv_alter)\n",
    "# pasta_rts_aopt_19 <- sprintf(\"%s/B_2019_rotas_modeladas_alternatives\", pasta_aoprv_alter)\n",
    "pasta_ids_aopt_28 <- sprintf(\"%s/C_2028_osm_way_ids_aop\", pasta_aoprv_alter)\n",
    "# pasta_rts_aopt_28 <- sprintf(\"%s/D_2028_rotas_modeladas_alternatives\", pasta_aoprv_alter)\n",
    "\n",
    "ano <- '2019'; min_thres <- 40; sec_thres <- min_thres * 60\n",
    "# ano <- '2028'; min_thres <- 40; sec_thres <- min_thres * 60\n",
    "\n",
    "if (ano == '2019') {\n",
    "  pasta_tmp_osmids  <- sprintf(\"%s/E_%s_osm_way_ids_tmp_%s_min\", pasta_aoprv_alter, ano, min_thres)\n",
    "} else if (ano == '2028') {\n",
    "  pasta_tmp_osmids  <- sprintf(\"%s/F_%s_osm_way_ids_tmp_%s_min\", pasta_aoprv_alter, ano, min_thres)\n",
    "}\n",
    "dir.create(pasta_tmp_osmids, recursive = TRUE, showWarnings = FALSE)\n",
    "rm(min_thres)\n",
    "\n",
    "if (ano == '2019') {\n",
    "  pasta_tmp_divididas <- sprintf(\"%s/X_%s_tmp_base_dividida\", pasta_aoprv_alter, ano)\n",
    "} else if (ano == '2028') {\n",
    "  pasta_tmp_divididas <- sprintf(\"%s/Y_%s_tmp_base_dividida\", pasta_aoprv_alter, ano)\n",
    "}"
   ]
  },
  {
   "cell_type": "code",
   "execution_count": 5,
   "id": "9fd7e43a",
   "metadata": {},
   "outputs": [],
   "source": [
    "# ------------------------------------------------------------------------------\n",
    "# Funções\n",
    "# ------------------------------------------------------------------------------\n",
    "\n",
    "# Transforma linha de polyline para dataframe com latlongs\n",
    "polyline_to_latlong <- function(polyline, trip_id){\n",
    "  # polyline <- viagem$poly; trip_id <- viagem$trip_id\n",
    "  this <- as.data.frame(decode(as.character(polyline)))\n",
    "  this <- this %>% \n",
    "    # Formatação dos pontos está fora do lugar: \n",
    "    # de -235.641 para -23.5641 - ajeitar\n",
    "    mutate(trip_id  = trip_id,\n",
    "           lat = str_replace(lat, '\\\\.', ''),\n",
    "           lon = str_replace(lon, '\\\\.', ''),\n",
    "           lat = as.double(str_replace(lat, '-23', '-23.')),\n",
    "           lon = as.double(str_replace(lon, '-46', '-46.')))\n",
    "  \n",
    "  return(this)\n",
    "}\n",
    "\n",
    "\n",
    "# Transforma dataframe com várias linhas de latlon em sf\n",
    "df_latlong_to_sf <- function(df, trip_id, st_type = 'LINESTRING'){\n",
    "  # df <- this\n",
    "  this <- df %>% \n",
    "    # Transformar em sf\n",
    "    st_as_sf(coords = c(\"lon\", \"lat\"), crs = 4326) %>% \n",
    "    # Transformar pontos em linha - ver possíveis erros em\n",
    "    # https://github.com/r-spatial/sf/issues/321\n",
    "    # # Modo 1 - Com st_coordinates, retorna matriz\n",
    "    # Retrieve coordinates in matrix form \n",
    "    # st_coordinates() %>%\n",
    "    # st_linestring()\n",
    "    # Modo 2 - Com summarize, retorna sf\n",
    "    # Aqui, o summarize pode ser qualquer coisa, o \n",
    "    # importante é o 'do_union=FALSE'\n",
    "    group_by(trip_id) %>% \n",
    "    summarize(m = n(), do_union = FALSE) %>% \n",
    "    select(-m) %>% \n",
    "    st_cast(st_type)\n",
    "  \n",
    "  return(this)\n",
    "}\n",
    "\n",
    "# Insere as distâncias calculadas em vias comuns ou infra cicloviária no df original\n",
    "dist_ciclo_sep_osmids <- function(trip_id_alt) {\n",
    "  # trip_id_alt <- rotas_ciclo$alt_id[1]\n",
    "  # 89a81044d93ffff-89a81046d53ffff-1\n",
    "  # trip_id_alt <- '000ed3-001d3b-1'\n",
    "  \n",
    "  line    <- rotas_ciclo %>% filter(alt_id == trip_id_alt)\n",
    "  line_id <- str_sub(line$alt_id, 1, 6)\n",
    "  # line$poly\n",
    "  \n",
    "  # Puxar osm_ids da rota modelada\n",
    "  if (ano == '2019') {\n",
    "    trip_osm_ids <- list.files(pasta_ids_aopt_19, pattern = line_id, recursive = FALSE, full.names = TRUE) \n",
    "  } else if (ano == '2028') {\n",
    "    trip_osm_ids <- list.files(pasta_ids_aopt_28, pattern = line_id, recursive = FALSE, full.names = TRUE) \n",
    "  }\n",
    "  \n",
    "  trip_osm_ids <- read_delim(trip_osm_ids, delim = ';', col_types = 'ciic')\n",
    "  \n",
    "  # Criar um id que contemple o número da rota alternativa\n",
    "  trip_osm_ids <- trip_osm_ids %>% mutate(alt_id = str_c(hex_id, alt, sep = '-'))\n",
    "  \n",
    "  # Isolar a viagem de interesse\n",
    "  trip_osm_ids <- trip_osm_ids %>% filter(alt_id == trip_id_alt)\n",
    "  \n",
    "  # Remover osm_ids repetidos - no momento do buffer com o shapefile da rota,\n",
    "  # o intersection vai pegar todos os trechos que os osm_ids aparecem e vai\n",
    "  # somar essas distâncias. Osm_ids repetidos são quando a rota entra, sai e\n",
    "  # entra de novo em um mesmo osm_id\n",
    "  trip_osm_ids <- trip_osm_ids %>% distinct(osm_way_id)\n",
    "  # trip_way_ids <- paste0(\"'\", trip_osm_ids$osm_way_id, \"'\", collapse = \",\")\n",
    "  \n",
    "  # Juntar infraestrutura cicloviária do ano de referência\n",
    "  trip_osm_ids <- \n",
    "    trip_osm_ids %>% \n",
    "    left_join(infra_ciclo, by = c('osm_way_id' = 'osm_id')) %>% \n",
    "    mutate(infra_ciclo = ifelse(is.na(infra_ciclo), 'via_comum', infra_ciclo))\n",
    "  \n",
    "  # Essa rota passa por estrutura cicloviária?\n",
    "  qtd_infraciclo <- trip_osm_ids %>% filter(str_detect(infra_ciclo, 'ciclo')) %>% nrow()\n",
    "  \n",
    "  # # Depurar aviso de...\n",
    "  # # In left_join(., viario_rota_cropped, by = c(osm_way_id = \"osm_id\")) :\n",
    "  # # Detected an unexpected many-to-many relationship between `x` and `y`.\n",
    "  # # ℹ Row 1 of `x` matches multiple rows in `y`.\n",
    "  # # ℹ Row 32 of `y` matches multiple rows in `x`.\n",
    "  # osm_ids_repetidos <- trip_osm_ids %>% group_by(osm_way_id) %>% tally() %>% filter(n > 1) %>% nrow()\n",
    "  # if (osm_ids_repetidos > 0 & qtd_infraciclo > 0) { print(trip_id_alt) }\n",
    "  # # trip_osm_ids %>% filter(osm_way_id == '928656996')\n",
    "  \n",
    "  if (qtd_infraciclo > 0) {\n",
    "    # Se passa, calcular as extensões por estrutura cicloviária\n",
    "    \n",
    "    # ----------------------------------------------------------------------------\n",
    "    # Calcular extensões percorridas em vias comuns e infra cicloviária\n",
    "    # ----------------------------------------------------------------------------\n",
    "    \n",
    "    # Filtrar osm_ids da rota modelada do viário completo de SP\n",
    "    viario_rota <- viario_sp %>% filter(osm_id %in% trip_osm_ids$osm_way_id)\n",
    "    # mapview(viario_rota)\n",
    "    \n",
    "    # Transformar o polyline da rota modelada em shapefile\n",
    "    shape_rota <- polyline_to_latlong(line$poly, trip_id_alt)\n",
    "    shape_rota <- df_latlong_to_sf(shape_rota, trip_id_alt)\n",
    "    shape_rota <- shape_rota %>% st_transform(31983) %>% mutate(dist = round(st_length(.), 4))\n",
    "    # mapview(shape_rota)\n",
    "    \n",
    "    # A partir de um pequeno buffer criado no polyline da rota modelada, fazer uma \n",
    "    # interseção nos osm_ids originais - isso porque os osm_ids podem ter várias \n",
    "    # quadras e o segmento percorrido ser só um trechinho dele\n",
    "    buffer_rota <- st_buffer(shape_rota, 2)\n",
    "    viario_rota_cropped <- suppressWarnings(st_intersection(viario_rota, buffer_rota))\n",
    "    # mapview(viario_rota_cropped) + mapview(buffer_rota)\n",
    "    \n",
    "    # Recaulcular as extensões dos arcos (no caso, as extensões percorridas dentro\n",
    "    # daquele osm_id), transformar em dataframe e isolar colunas de interesse\n",
    "    viario_rota_cropped <- viario_rota_cropped %>% mutate(new_ext = as.double(st_length(.)), .after = 'length_m')\n",
    "    viario_rota_cropped <- viario_rota_cropped %>% st_drop_geometry() %>% select(osm_id, new_ext)\n",
    "    \n",
    "    # Juntar com dados da infraestrutura cicloviária\n",
    "    trip_osm_ids <- trip_osm_ids %>% left_join(viario_rota_cropped, by = c('osm_way_id' = 'osm_id'))\n",
    "    \n",
    "    # Fator de ajuste para as distâncias - vamos aplicar um proporcional geral a partir\n",
    "    # da diferença entre a extensão total da rota modelada e a calculada agora\n",
    "    fator_correcao <- line$distance / sum(viario_rota_cropped$new_ext)\n",
    "    trip_osm_ids    <- trip_osm_ids %>% mutate(ext_rev = new_ext * fator_correcao)\n",
    "    \n",
    "    \n",
    "    # Exportar osm_ids com infra cicloviária e extensões percorridas\n",
    "    ids_out <- trip_osm_ids %>% filter(infra_ciclo != 'via_comum') %>% mutate(hex_id_alt = trip_id_alt, \n",
    "                                                                              .before = 'osm_way_id')\n",
    "    # if (file.exists(ids_file)) {\n",
    "    #   write_delim(ids_out, ids_file, delim = ';', append = TRUE)\n",
    "    # } else {\n",
    "    #   write_delim(ids_out, ids_file, delim = ';', append = FALSE)\n",
    "    # }\n",
    "    \n",
    "    out_ids_tmp_file <- sprintf('%s/%s_%s_tmp_osmids.csv', pasta_tmp_osmids, ano, line_id)\n",
    "    if (file.exists(out_ids_tmp_file)) {\n",
    "      write_delim(ids_out, out_ids_tmp_file, delim = ';', append = TRUE)\n",
    "    } else {\n",
    "      write_delim(ids_out, out_ids_tmp_file, delim = ';', append = FALSE)\n",
    "    }\n",
    "    \n",
    "    \n",
    "    # Agrupar extensões por tipo de viário percorrido\n",
    "    trip_osm_ids <- \n",
    "      trip_osm_ids %>% \n",
    "      group_by(infra_ciclo) %>% \n",
    "      summarise(ext = sum(ext_rev)) %>% \n",
    "      ungroup() %>% \n",
    "      mutate(hex_id_alt = trip_id_alt) %>% \n",
    "      pivot_wider(id_cols = hex_id_alt,\n",
    "                  names_from = 'infra_ciclo',\n",
    "                  values_from = ext)\n",
    "    \n",
    "    # Checar se todas as colunas de tipo de viário estão como colunas - se não, inserir\n",
    "    for (i in c('ciclo_expressa', 'ciclo_comum', 'ciclofaixa', 'via_comum')) {\n",
    "      if (!i %in% names(trip_osm_ids)) {\n",
    "        # Inserir nova coluna como NA (NA_real_, NA_character_)\n",
    "        trip_osm_ids <- trip_osm_ids %>% mutate(!!i := 0)\n",
    "      }\n",
    "      \n",
    "    }\n",
    "    \n",
    "    # Somar extensões percorridas em infra cicloviária\n",
    "    trip_osm_ids <- trip_osm_ids %>% mutate(infra_ciclo = ciclo_expressa + ciclo_comum + ciclofaixa,\n",
    "                                            .after = 'via_comum')\n",
    "    \n",
    "  } else {\n",
    "    # Se não passa, toda a extensão dela vai ser por vias comuns\n",
    "    trip_osm_ids <- data.frame(hex_id_alt     = trip_id_alt,\n",
    "                               via_comum      = line$distance, \n",
    "                               infra_ciclo    = 0, \n",
    "                               ciclo_expressa = 0, \n",
    "                               ciclo_comum    = 0, \n",
    "                               ciclofaixa     = 0)\n",
    "  }\n",
    "  \n",
    "  # Juntar todas as infos ao dataframe original e reordenar colunas\n",
    "  trip_out <- \n",
    "    line %>% \n",
    "    left_join(trip_osm_ids, by = c('alt_id' = 'hex_id_alt')) %>% \n",
    "    relocate(c(via_comum, infra_ciclo, ciclo_expressa, ciclo_comum, ciclofaixa), \n",
    "             .before = 'poly')\n",
    "  \n",
    "  # Reconstituir hex_ids originais e coluna com a numeração da rota alternativa\n",
    "  trip_out <- \n",
    "    trip_out %>% \n",
    "    mutate(alt_id = str_replace(alt_id, \n",
    "                                '^([a-z0-9]{6})-([a-z0-9]{6})-([0-9])', \n",
    "                                '89a81\\\\1ffff-89a81\\\\2ffff_\\\\3'),\n",
    "           .before = 'alt_id') %>% \n",
    "    separate(alt_id, into = c('hex_id', 'alt'), sep = '_', remove = TRUE)\n",
    "  \n",
    "  \n",
    "  # Gravar resultados\n",
    "  if (file.exists(out_file)) {\n",
    "    write_delim(trip_out, out_file, delim = ';', append = TRUE)\n",
    "  } else {\n",
    "    write_delim(trip_out, out_file, delim = ';', append = FALSE)\n",
    "  }\n",
    "  \n",
    "  # Gravar id no arquivo somente para ids já processados\n",
    "  this <- data.frame(id = trip_id_alt)\n",
    "  if (file.exists(out_file_ids)) {\n",
    "    write_delim(this, out_file_ids, delim = ';', append = TRUE)\n",
    "  } else {\n",
    "    write_delim(this, out_file_ids, delim = ';', append = FALSE)\n",
    "  }\n",
    "  \n",
    "  \n",
    "}"
   ]
  },
  {
   "cell_type": "code",
   "execution_count": 6,
   "id": "feae554a",
   "metadata": {},
   "outputs": [
    {
     "name": "stderr",
     "output_type": "stream",
     "text": [
      "Warning message in fun(libname, pkgname):\n",
      "“rgeos: versions of GEOS runtime 3.9.1-CAPI-1.14.2\n",
      "and GEOS at installation 3.9.1dev-CAPI-1.14.1differ”\n",
      "Registered S3 method overwritten by 'geojsonsf':\n",
      "  method        from   \n",
      "  print.geojson geojson\n",
      "\n"
     ]
    },
    {
     "data": {
      "application/geo+json": {
       "features": [
        {
         "geometry": {
          "coordinates": [
           [
            325675.283,
            7372276.9605
           ],
           [
            325691.3736,
            7372312.3424
           ],
           [
            325710.7099,
            7372346.5893
           ],
           [
            325781.4923,
            7372459.6289
           ],
           [
            325815.5357,
            7372514.6537
           ],
           [
            325889.9791,
            7372633.7066
           ]
          ],
          "type": "LineString"
         },
         "properties": {
          "length_m": 416.6857,
          "osm_id": "1000285228"
         },
         "type": "Feature"
        },
        {
         "geometry": {
          "coordinates": [
           [
            325658.3918,
            7372179.3218
           ],
           [
            325660.5773,
            7372188.3307
           ],
           [
            325663.1204,
            7372204.056
           ],
           [
            325667.1785,
            7372220.9735
           ],
           [
            325676.127,
            7372248.3281
           ]
          ],
          "type": "LineString"
         },
         "properties": {
          "length_m": 71.3783,
          "osm_id": "1000285229"
         },
         "type": "Feature"
        }
       ],
       "type": "FeatureCollection"
      },
      "text/html": [
       "<table class=\"dataframe\">\n",
       "<caption>A sf: 2 × 3</caption>\n",
       "<thead>\n",
       "\t<tr><th scope=col>osm_id</th><th scope=col>length_m</th><th scope=col>geom</th></tr>\n",
       "\t<tr><th scope=col>&lt;chr&gt;</th><th scope=col>&lt;dbl&gt;</th><th scope=col>&lt;LINESTRING [m]&gt;</th></tr>\n",
       "</thead>\n",
       "<tbody>\n",
       "\t<tr><td>1000285228</td><td>416.6857</td><td>LINESTRING (325675.3 737227...</td></tr>\n",
       "\t<tr><td>1000285229</td><td> 71.3783</td><td>LINESTRING (325658.4 737217...</td></tr>\n",
       "</tbody>\n",
       "</table>\n"
      ],
      "text/latex": [
       "A sf: 2 × 3\n",
       "\\begin{tabular}{lll}\n",
       " osm\\_id & length\\_m & geom\\\\\n",
       " <chr> & <dbl> & <LINESTRING {[}m{]}>\\\\\n",
       "\\hline\n",
       "\t 1000285228 & 416.6857 & LINESTRING (325675.3 737227...\\\\\n",
       "\t 1000285229 &  71.3783 & LINESTRING (325658.4 737217...\\\\\n",
       "\\end{tabular}\n"
      ],
      "text/markdown": [
       "\n",
       "A sf: 2 × 3\n",
       "\n",
       "| osm_id &lt;chr&gt; | length_m &lt;dbl&gt; | geom &lt;LINESTRING [m]&gt; |\n",
       "|---|---|---|\n",
       "| 1000285228 | 416.6857 | LINESTRING (325675.3 737227... |\n",
       "| 1000285229 |  71.3783 | LINESTRING (325658.4 737217... |\n",
       "\n"
      ],
      "text/plain": [
       "  osm_id     length_m geom                          \n",
       "1 1000285228 416.6857 LINESTRING (325675.3 737227...\n",
       "2 1000285229  71.3783 LINESTRING (325658.4 737217..."
      ]
     },
     "metadata": {},
     "output_type": "display_data"
    },
    {
     "data": {
      "text/html": [
       "<table class=\"dataframe\">\n",
       "<caption>A tibble: 2 × 2</caption>\n",
       "<thead>\n",
       "\t<tr><th scope=col>osm_id</th><th scope=col>infra_ciclo</th></tr>\n",
       "\t<tr><th scope=col>&lt;chr&gt;</th><th scope=col>&lt;chr&gt;</th></tr>\n",
       "</thead>\n",
       "<tbody>\n",
       "\t<tr><td>38937645</td><td>ciclo_expressa</td></tr>\n",
       "\t<tr><td>51392253</td><td>ciclo_expressa</td></tr>\n",
       "</tbody>\n",
       "</table>\n"
      ],
      "text/latex": [
       "A tibble: 2 × 2\n",
       "\\begin{tabular}{ll}\n",
       " osm\\_id & infra\\_ciclo\\\\\n",
       " <chr> & <chr>\\\\\n",
       "\\hline\n",
       "\t 38937645 & ciclo\\_expressa\\\\\n",
       "\t 51392253 & ciclo\\_expressa\\\\\n",
       "\\end{tabular}\n"
      ],
      "text/markdown": [
       "\n",
       "A tibble: 2 × 2\n",
       "\n",
       "| osm_id &lt;chr&gt; | infra_ciclo &lt;chr&gt; |\n",
       "|---|---|\n",
       "| 38937645 | ciclo_expressa |\n",
       "| 51392253 | ciclo_expressa |\n",
       "\n"
      ],
      "text/plain": [
       "  osm_id   infra_ciclo   \n",
       "1 38937645 ciclo_expressa\n",
       "2 51392253 ciclo_expressa"
      ]
     },
     "metadata": {},
     "output_type": "display_data"
    }
   ],
   "source": [
    "# ------------------------------------------------------------------------------\n",
    "# Tratamento - rotas que passaram por alguma infra cicloviária\n",
    "# ------------------------------------------------------------------------------\n",
    "\n",
    "# Definir arquivos de saída\n",
    "out_file     <- sprintf('%s/tmp_ttmatrix_%s_infraciclo.csv', pasta_aoprv_alter, ano)\n",
    "out_file_ids <- sprintf('%s/tmp_ttmatrix_%s_infraciclo_ids.csv', pasta_aoprv_alter, ano)\n",
    "\n",
    "# Abrir cópia do viário de SP com osm_ids\n",
    "viario_sp <- read_sf(sprintf('%s/tmp_sao_paulo_osm_filtrado.gpkg', pasta_aoprv_alter))\n",
    "head(viario_sp, 2)\n",
    "\n",
    "# Abrir infra cicloviária\n",
    "infra_ciclo <- sprintf('%s/tmp_infra_ciclo_%s.csv', pasta_aoprv_alter, ano)\n",
    "infra_ciclo <- read_delim(infra_ciclo, delim = ';', col_types = 'cc')\n",
    "head(infra_ciclo, 2)"
   ]
  },
  {
   "cell_type": "code",
   "execution_count": 7,
   "id": "73d84a18",
   "metadata": {},
   "outputs": [],
   "source": [
    "detach(\"package:tidylog\")"
   ]
  },
  {
   "cell_type": "code",
   "execution_count": 8,
   "id": "4c995b9a",
   "metadata": {},
   "outputs": [
    {
     "data": {
      "text/html": [
       "<style>\n",
       ".list-inline {list-style: none; margin:0; padding: 0}\n",
       ".list-inline>li {display: inline-block}\n",
       ".list-inline>li:not(:last-child)::after {content: \"\\00b7\"; padding: 0 .5ex}\n",
       "</style>\n",
       "<ol class=list-inline><li>'../../yellow_dados/12_aop_revisitado/03_aop_alternatives_2019_2028/X_2019_tmp_base_dividida/tmp_base_dividida_2019_003.csv'</li><li>'../../yellow_dados/12_aop_revisitado/03_aop_alternatives_2019_2028/X_2019_tmp_base_dividida/tmp_base_dividida_2019_004.csv'</li><li>'../../yellow_dados/12_aop_revisitado/03_aop_alternatives_2019_2028/X_2019_tmp_base_dividida/tmp_base_dividida_2019_005.csv'</li><li>'../../yellow_dados/12_aop_revisitado/03_aop_alternatives_2019_2028/X_2019_tmp_base_dividida/tmp_base_dividida_2019_006.csv'</li><li>'../../yellow_dados/12_aop_revisitado/03_aop_alternatives_2019_2028/X_2019_tmp_base_dividida/tmp_base_dividida_2019_007.csv'</li><li>'../../yellow_dados/12_aop_revisitado/03_aop_alternatives_2019_2028/X_2019_tmp_base_dividida/tmp_base_dividida_2019_008.csv'</li></ol>\n"
      ],
      "text/latex": [
       "\\begin{enumerate*}\n",
       "\\item '../../yellow\\_dados/12\\_aop\\_revisitado/03\\_aop\\_alternatives\\_2019\\_2028/X\\_2019\\_tmp\\_base\\_dividida/tmp\\_base\\_dividida\\_2019\\_003.csv'\n",
       "\\item '../../yellow\\_dados/12\\_aop\\_revisitado/03\\_aop\\_alternatives\\_2019\\_2028/X\\_2019\\_tmp\\_base\\_dividida/tmp\\_base\\_dividida\\_2019\\_004.csv'\n",
       "\\item '../../yellow\\_dados/12\\_aop\\_revisitado/03\\_aop\\_alternatives\\_2019\\_2028/X\\_2019\\_tmp\\_base\\_dividida/tmp\\_base\\_dividida\\_2019\\_005.csv'\n",
       "\\item '../../yellow\\_dados/12\\_aop\\_revisitado/03\\_aop\\_alternatives\\_2019\\_2028/X\\_2019\\_tmp\\_base\\_dividida/tmp\\_base\\_dividida\\_2019\\_006.csv'\n",
       "\\item '../../yellow\\_dados/12\\_aop\\_revisitado/03\\_aop\\_alternatives\\_2019\\_2028/X\\_2019\\_tmp\\_base\\_dividida/tmp\\_base\\_dividida\\_2019\\_007.csv'\n",
       "\\item '../../yellow\\_dados/12\\_aop\\_revisitado/03\\_aop\\_alternatives\\_2019\\_2028/X\\_2019\\_tmp\\_base\\_dividida/tmp\\_base\\_dividida\\_2019\\_008.csv'\n",
       "\\end{enumerate*}\n"
      ],
      "text/markdown": [
       "1. '../../yellow_dados/12_aop_revisitado/03_aop_alternatives_2019_2028/X_2019_tmp_base_dividida/tmp_base_dividida_2019_003.csv'\n",
       "2. '../../yellow_dados/12_aop_revisitado/03_aop_alternatives_2019_2028/X_2019_tmp_base_dividida/tmp_base_dividida_2019_004.csv'\n",
       "3. '../../yellow_dados/12_aop_revisitado/03_aop_alternatives_2019_2028/X_2019_tmp_base_dividida/tmp_base_dividida_2019_005.csv'\n",
       "4. '../../yellow_dados/12_aop_revisitado/03_aop_alternatives_2019_2028/X_2019_tmp_base_dividida/tmp_base_dividida_2019_006.csv'\n",
       "5. '../../yellow_dados/12_aop_revisitado/03_aop_alternatives_2019_2028/X_2019_tmp_base_dividida/tmp_base_dividida_2019_007.csv'\n",
       "6. '../../yellow_dados/12_aop_revisitado/03_aop_alternatives_2019_2028/X_2019_tmp_base_dividida/tmp_base_dividida_2019_008.csv'\n",
       "\n",
       "\n"
      ],
      "text/plain": [
       "[1] \"../../yellow_dados/12_aop_revisitado/03_aop_alternatives_2019_2028/X_2019_tmp_base_dividida/tmp_base_dividida_2019_003.csv\"\n",
       "[2] \"../../yellow_dados/12_aop_revisitado/03_aop_alternatives_2019_2028/X_2019_tmp_base_dividida/tmp_base_dividida_2019_004.csv\"\n",
       "[3] \"../../yellow_dados/12_aop_revisitado/03_aop_alternatives_2019_2028/X_2019_tmp_base_dividida/tmp_base_dividida_2019_005.csv\"\n",
       "[4] \"../../yellow_dados/12_aop_revisitado/03_aop_alternatives_2019_2028/X_2019_tmp_base_dividida/tmp_base_dividida_2019_006.csv\"\n",
       "[5] \"../../yellow_dados/12_aop_revisitado/03_aop_alternatives_2019_2028/X_2019_tmp_base_dividida/tmp_base_dividida_2019_007.csv\"\n",
       "[6] \"../../yellow_dados/12_aop_revisitado/03_aop_alternatives_2019_2028/X_2019_tmp_base_dividida/tmp_base_dividida_2019_008.csv\""
      ]
     },
     "metadata": {},
     "output_type": "display_data"
    }
   ],
   "source": [
    "# Arquivos a processar\n",
    "arqs <- list.files(pasta_tmp_divididas, pattern = '^tmp_base_dividida_20[0-9]{2}_[0-9]{3}.csv', full.names = TRUE)\n",
    "head(arqs)"
   ]
  },
  {
   "cell_type": "code",
   "execution_count": 9,
   "id": "b8ac9c5a",
   "metadata": {},
   "outputs": [],
   "source": [
    "for (arq in arqs) {\n",
    "  # arq <- arqs[1]\n",
    "  print(arq)\n",
    "  \n",
    "  # Abrir base de rotas a serem processadas\n",
    "  rotas_ciclo <- read_delim(arq, delim = ';', col_types = 'cddddc')\n",
    "  \n",
    "  # Checar quais resultados já foram rodados - abrir lista, puxar ids e remover\n",
    "  # do dataframe rotas_ciclo se houver  \n",
    "  if (file.exists(out_file)) {\n",
    "    arqs_resultados <- read_delim(out_file_ids, delim = ';', col_types = \"c\")\n",
    "    rotas_ciclo <- rotas_ciclo %>% filter(!alt_id %in% arqs_resultados$id)\n",
    "    rm(arqs_resultados)\n",
    "    print(nrow(rotas_ciclo))\n",
    "  }\n",
    "  \n",
    "  # Se arquivo já foi completamente processado, removê-lo e passar para o seguinte\n",
    "  if (nrow(rotas_ciclo) == 0) { \n",
    "    file.remove(arq) \n",
    "    next\n",
    "  }\n",
    "  \n",
    "  # Limpar memória\n",
    "  gc(T)\n",
    "  \n",
    "  # Processar rotas com infraciclo - melhor rodar no Jupyter;\n",
    "  # se forem só as rotas originais, é ok rodar no RStudio\n",
    "  # for (id in rotas_ciclo$alt_id) { dist_ciclo_sep_osmids(id) }\n",
    "  # Rodar função para todos os arquivos- multi thread (Jupyter)\n",
    "  (start = Sys.time())\n",
    "  future::plan(future::multicore)\n",
    "  invisible(future.apply::future_lapply(X   = rotas_ciclo$alt_id,\n",
    "                                        FUN = dist_ciclo_sep_osmids,\n",
    "                                        future.seed = TRUE))\n",
    "  Sys.time()\n",
    "  Sys.time() - start\n",
    "  \n",
    "  # Remover arquivo inteiramente processado\n",
    "  file.remove(arq) \n",
    "  \n",
    "  # Limpar memória\n",
    "  rm(rotas_ciclo)  \n",
    "  gc(T)\n",
    "  \n",
    "}"
   ]
  },
  {
   "cell_type": "code",
   "execution_count": null,
   "id": "34573342",
   "metadata": {},
   "outputs": [],
   "source": []
  }
 ],
 "metadata": {
  "kernelspec": {
   "display_name": "R [conda env:r4_env]",
   "language": "R",
   "name": "conda-env-r4_env-r"
  },
  "language_info": {
   "codemirror_mode": "r",
   "file_extension": ".r",
   "mimetype": "text/x-r-source",
   "name": "R",
   "pygments_lexer": "r",
   "version": "4.0.5"
  }
 },
 "nbformat": 4,
 "nbformat_minor": 5
}
