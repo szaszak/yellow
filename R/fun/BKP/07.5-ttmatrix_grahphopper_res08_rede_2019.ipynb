{
 "cells": [
  {
   "cell_type": "code",
   "execution_count": null,
   "id": "370c4af5",
   "metadata": {},
   "outputs": [],
   "source": [
    "# Comando para rodar o GraphHopper no terminal - atenção para o PBF a ser carregado\n",
    "# clear && cd /home/livre/Desktop/Base_GtsRegionais/GitLab/yellow_src/graphhopper/ && rm -rf graph-cache/ && java -Ddw.graphhopper.datareader.file=/home/livre/Desktop/Base_GtsRegionais/GitLab/yellow_dados/07_graphhopper/03_PBFs_SP/20220216_sao_paulo_edited_20230521_A_infraciclo_atual.osm.pbf -jar graphhopper/web/target/graphhopper-web-*.jar server graphhopper/config-example.yml"
   ]
  },
  {
   "cell_type": "code",
   "execution_count": 1,
   "id": "e0f422ec",
   "metadata": {},
   "outputs": [
    {
     "name": "stderr",
     "output_type": "stream",
     "text": [
      "GDAL version >= 3.1.0 | setting mapviewOptions(fgb = TRUE)\n",
      "\n",
      "Linking to GEOS 3.9.1, GDAL 3.2.2, PROJ 8.0.0\n",
      "\n",
      "\n",
      "Attaching package: ‘jsonlite’\n",
      "\n",
      "\n",
      "The following object is masked from ‘package:purrr’:\n",
      "\n",
      "    flatten\n",
      "\n",
      "\n",
      "Loading required package: future\n",
      "\n"
     ]
    }
   ],
   "source": [
    "# carregar bibliotecas\n",
    "source('fun/setup.R')\n",
    "library('httr')\n",
    "library('jsonlite')\n",
    "\n",
    "# Aplicar funcoes em paralelo\n",
    "library('future.apply')"
   ]
  },
  {
   "cell_type": "code",
   "execution_count": 2,
   "id": "9731ef8a",
   "metadata": {},
   "outputs": [
    {
     "data": {
      "text/html": [
       "TRUE"
      ],
      "text/latex": [
       "TRUE"
      ],
      "text/markdown": [
       "TRUE"
      ],
      "text/plain": [
       "[1] TRUE"
      ]
     },
     "metadata": {},
     "output_type": "display_data"
    }
   ],
   "source": [
    "# Checando: Jupyter suporta multicore?\n",
    "future::supportsMulticore()"
   ]
  },
  {
   "cell_type": "code",
   "execution_count": 3,
   "id": "77b08a4e",
   "metadata": {},
   "outputs": [],
   "source": [
    "# https://stackoverflow.com/questions/40536067/how-to-adjust-future-global-maxsize\n",
    "# For 850MB: 850*1024^2 = 891289600\n",
    "# For +1.3GB: 1500*1024^2 = 1572864000\n",
    "options(future.globals.maxSize = 891289600)"
   ]
  },
  {
   "cell_type": "code",
   "execution_count": 4,
   "id": "7506bc77",
   "metadata": {},
   "outputs": [],
   "source": [
    "# Estrutura de pastas\n",
    "pasta_dados       <- \"../../yellow_dados\"\n",
    "dados_originais   <- sprintf(\"%s/00_dados_originais/Multiplicidade\", pasta_dados)\n",
    "pasta_graphhopper <- sprintf(\"%s/07_graphhopper\", pasta_dados)\n",
    "pasta_hexagonos   <- sprintf(\"%s/02_hexagonos\", pasta_graphhopper)\n",
    "pasta_gh_ttmarix  <- sprintf(\"%s/04_ttmatrix_rede_2019\", pasta_graphhopper)\n",
    "dir.create(pasta_gh_ttmarix, recursive = TRUE, showWarnings = FALSE)"
   ]
  },
  {
   "cell_type": "code",
   "execution_count": 5,
   "id": "aff87ca8",
   "metadata": {},
   "outputs": [
    {
     "name": "stderr",
     "output_type": "stream",
     "text": [
      "select: dropped 2 variables (h3_resolution, sigla_muni)\n",
      "\n",
      "select: dropped 4 variables (x, y, z, u)\n",
      "\n",
      "left_join: added 2 columns (lat, lon)\n",
      "\n",
      "           > rows only in x           0\n",
      "\n",
      "           > rows only in y  (        0)\n",
      "\n",
      "           > matched rows     2,085,696\n",
      "\n",
      "           >                 ===========\n",
      "\n",
      "           > rows total       2,085,696\n",
      "\n",
      "left_join: added 4 columns (lat.x, lon.x, lat.y, lon.y)\n",
      "\n",
      "           > rows only in x     817,708\n",
      "\n",
      "           > rows only in y  (        0)\n",
      "\n",
      "           > matched rows     1,267,988\n",
      "\n",
      "           >                 ===========\n",
      "\n",
      "           > rows total       2,085,696\n",
      "\n",
      "filter: removed 817,708 rows (39%), 1,267,988 rows remaining\n",
      "\n",
      "filter: no rows removed\n",
      "\n"
     ]
    },
    {
     "data": {
      "text/html": [
       "<table class=\"dataframe\">\n",
       "<caption>A tibble: 6 × 6</caption>\n",
       "<thead>\n",
       "\t<tr><th scope=col>id_hex_x</th><th scope=col>id_hex_y</th><th scope=col>lat.x</th><th scope=col>lon.x</th><th scope=col>lat.y</th><th scope=col>lon.y</th></tr>\n",
       "\t<tr><th scope=col>&lt;chr&gt;</th><th scope=col>&lt;chr&gt;</th><th scope=col>&lt;chr&gt;</th><th scope=col>&lt;chr&gt;</th><th scope=col>&lt;chr&gt;</th><th scope=col>&lt;chr&gt;</th></tr>\n",
       "</thead>\n",
       "<tbody>\n",
       "\t<tr><td>88a8100c33fffff</td><td>88a8100c31fffff</td><td>-23.5314933121698</td><td>-46.634354542765</td><td>-23.5379105696712</td><td>-46.6284225024006</td></tr>\n",
       "\t<tr><td>88a8100c33fffff</td><td>88a8100c37fffff</td><td>-23.5314933121698</td><td>-46.634354542765</td><td>-23.5303835579131</td><td>-46.6251401309238</td></tr>\n",
       "\t<tr><td>88a8100c33fffff</td><td>88a8100dd9fffff</td><td>-23.5314933121698</td><td>-46.634354542765</td><td>-23.5239658768001</td><td>-46.6310721865958</td></tr>\n",
       "\t<tr><td>88a8100c33fffff</td><td>88a8100ce5fffff</td><td>-23.5314933121698</td><td>-46.634354542765</td><td>-23.5250754388817</td><td>-46.6402863659042</td></tr>\n",
       "\t<tr><td>88a8100c33fffff</td><td>88a8100cedfffff</td><td>-23.5314933121698</td><td>-46.634354542765</td><td>-23.5326024814452</td><td>-46.643568756164 </td></tr>\n",
       "\t<tr><td>88a8100c33fffff</td><td>88a8100c3bfffff</td><td>-23.5314933121698</td><td>-46.634354542765</td><td>-23.5390199310058</td><td>-46.6376369484305</td></tr>\n",
       "</tbody>\n",
       "</table>\n"
      ],
      "text/latex": [
       "A tibble: 6 × 6\n",
       "\\begin{tabular}{llllll}\n",
       " id\\_hex\\_x & id\\_hex\\_y & lat.x & lon.x & lat.y & lon.y\\\\\n",
       " <chr> & <chr> & <chr> & <chr> & <chr> & <chr>\\\\\n",
       "\\hline\n",
       "\t 88a8100c33fffff & 88a8100c31fffff & -23.5314933121698 & -46.634354542765 & -23.5379105696712 & -46.6284225024006\\\\\n",
       "\t 88a8100c33fffff & 88a8100c37fffff & -23.5314933121698 & -46.634354542765 & -23.5303835579131 & -46.6251401309238\\\\\n",
       "\t 88a8100c33fffff & 88a8100dd9fffff & -23.5314933121698 & -46.634354542765 & -23.5239658768001 & -46.6310721865958\\\\\n",
       "\t 88a8100c33fffff & 88a8100ce5fffff & -23.5314933121698 & -46.634354542765 & -23.5250754388817 & -46.6402863659042\\\\\n",
       "\t 88a8100c33fffff & 88a8100cedfffff & -23.5314933121698 & -46.634354542765 & -23.5326024814452 & -46.643568756164 \\\\\n",
       "\t 88a8100c33fffff & 88a8100c3bfffff & -23.5314933121698 & -46.634354542765 & -23.5390199310058 & -46.6376369484305\\\\\n",
       "\\end{tabular}\n"
      ],
      "text/markdown": [
       "\n",
       "A tibble: 6 × 6\n",
       "\n",
       "| id_hex_x &lt;chr&gt; | id_hex_y &lt;chr&gt; | lat.x &lt;chr&gt; | lon.x &lt;chr&gt; | lat.y &lt;chr&gt; | lon.y &lt;chr&gt; |\n",
       "|---|---|---|---|---|---|\n",
       "| 88a8100c33fffff | 88a8100c31fffff | -23.5314933121698 | -46.634354542765 | -23.5379105696712 | -46.6284225024006 |\n",
       "| 88a8100c33fffff | 88a8100c37fffff | -23.5314933121698 | -46.634354542765 | -23.5303835579131 | -46.6251401309238 |\n",
       "| 88a8100c33fffff | 88a8100dd9fffff | -23.5314933121698 | -46.634354542765 | -23.5239658768001 | -46.6310721865958 |\n",
       "| 88a8100c33fffff | 88a8100ce5fffff | -23.5314933121698 | -46.634354542765 | -23.5250754388817 | -46.6402863659042 |\n",
       "| 88a8100c33fffff | 88a8100cedfffff | -23.5314933121698 | -46.634354542765 | -23.5326024814452 | -46.643568756164  |\n",
       "| 88a8100c33fffff | 88a8100c3bfffff | -23.5314933121698 | -46.634354542765 | -23.5390199310058 | -46.6376369484305 |\n",
       "\n"
      ],
      "text/plain": [
       "  id_hex_x        id_hex_y        lat.x             lon.x           \n",
       "1 88a8100c33fffff 88a8100c31fffff -23.5314933121698 -46.634354542765\n",
       "2 88a8100c33fffff 88a8100c37fffff -23.5314933121698 -46.634354542765\n",
       "3 88a8100c33fffff 88a8100dd9fffff -23.5314933121698 -46.634354542765\n",
       "4 88a8100c33fffff 88a8100ce5fffff -23.5314933121698 -46.634354542765\n",
       "5 88a8100c33fffff 88a8100cedfffff -23.5314933121698 -46.634354542765\n",
       "6 88a8100c33fffff 88a8100c3bfffff -23.5314933121698 -46.634354542765\n",
       "  lat.y             lon.y            \n",
       "1 -23.5379105696712 -46.6284225024006\n",
       "2 -23.5303835579131 -46.6251401309238\n",
       "3 -23.5239658768001 -46.6310721865958\n",
       "4 -23.5250754388817 -46.6402863659042\n",
       "5 -23.5326024814452 -46.643568756164 \n",
       "6 -23.5390199310058 -46.6376369484305"
      ]
     },
     "metadata": {},
     "output_type": "display_data"
    }
   ],
   "source": [
    "# ------------------------------------------------------------------------------\n",
    "# Gerar latlong para as origens e destinos (centroides dos hexágonos)\n",
    "# ------------------------------------------------------------------------------\n",
    "\n",
    "# Abrir hexágonos para SP à resolução 8, com distância de ~1km entre os vértices\n",
    "hex_sp <- read_rds(sprintf(\"%s/hex_spo_08_2019.rds\", dados_originais))\n",
    "\n",
    "# Tratar como dataframe e selecionar somente colunas de interesse\n",
    "hex_sp <- hex_sp %>% st_drop_geometry() %>% select(id_hex, centroides_muni)\n",
    "\n",
    "# Separar coluna de centroides_muni em latlon\n",
    "hex_sp <-\n",
    "  hex_sp %>%\n",
    "  separate(centroides_muni, '[c\\\\(\\\\), )]', into = c('x', 'y', 'lon', 'z', 'lat', 'u')) %>%\n",
    "  select(id_hex, lat, lon)\n",
    "\n",
    "# hex_sp %>% filter(is.na(lat) | is.na(lon))\n",
    "\n",
    "# Abrir hexágonos para SP combinados com vizinhos\n",
    "hex_com_vizinhos <- sprintf(\"%s/hex_spo_res08_17vizinhos.csv\", pasta_hexagonos)\n",
    "hex_com_vizinhos <- read_delim(hex_com_vizinhos, delim = ';', col_types = cols(.default = \"c\"))\n",
    "\n",
    "# Juntar hexágonos de origem e destino às cordenadas latlong de seus centroides\n",
    "hex_com_vizinhos <-\n",
    "  hex_com_vizinhos %>%\n",
    "  left_join(hex_sp, by = c('id_hex_x' = 'id_hex')) %>%\n",
    "  left_join(hex_sp, by = c('id_hex_y' = 'id_hex'))\n",
    "\n",
    "# Remover hexágonos vizinhos que estão fora do shape de São Paulo\n",
    "hex_com_vizinhos <- hex_com_vizinhos %>% filter(!is.na(lat.y) & !is.na(lon.y))\n",
    "hex_com_vizinhos <- hex_com_vizinhos %>% filter(!is.na(lat.x) & !is.na(lon.x))\n",
    "\n",
    "head(hex_com_vizinhos)\n",
    "\n",
    "# Limpar ambiente\n",
    "rm(hex_sp)"
   ]
  },
  {
   "cell_type": "code",
   "execution_count": 6,
   "id": "d3fd92c1",
   "metadata": {},
   "outputs": [],
   "source": [
    "# ------------------------------------------------------------------------------\n",
    "# Routing a partir de dois pontos\n",
    "# ------------------------------------------------------------------------------\n",
    "\n",
    "# Faz query de routing no GraphHopper e retorna resultados principais em dataframe\n",
    "gh_route <- function(url) {\n",
    "  # url <- 'http://localhost:8989/route/?point=-23.5314933121698%2C-46.634354542765&point=-23.5390199310058%2C-46.6376369484305&profile=bike&instructions=false&calc_points=true&details=average_speed'\n",
    "  \n",
    "  # Fazer a GET de roteamento no Grahphopper\n",
    "  # print(url)\n",
    "  gh_response <- GET(url)\n",
    "  \n",
    "  # Encurtar url para guardar no dataframe de resultado\n",
    "  url <- \n",
    "    url %>% \n",
    "    str_replace('http:\\\\/\\\\/localhost:8989\\\\/route\\\\/\\\\?point=', '') %>% \n",
    "    str_replace('&point=', ';') %>%\n",
    "    str_replace_all('%2C', ',') %>% \n",
    "    str_replace('&profile=bike&instructions=false&calc_points=true&details=average_speed', '')\n",
    "  \n",
    "  # Mensagem tem que ser \"Success: (200) OK\"\n",
    "  if (http_status(gh_response)$message == 'Success: (200) OK') {\n",
    "    \n",
    "    # Resposta da query, já colapsada e transformada em dataframe\n",
    "    # Remover aviso de 'No encoding supplied: defaulting to UTF-8' na linha fromJSON()\n",
    "    suppressMessages(\n",
    "      response_text <- \n",
    "        # Ignorar aviso 'argument is not an atomic vector; coercing'\n",
    "        suppressWarnings(str_c(gh_response, collapse = \", \")) %>% \n",
    "        # Concatenar toda a string de resultados\n",
    "        str_c(\"[\", ., \"]\") %>% \n",
    "        # Transformar em dataframe\n",
    "        fromJSON() %>% \n",
    "        as.data.frame()\n",
    "    )\n",
    "    \n",
    "    # Nos interessa a coluna de 'paths', como um novo dataframe\n",
    "    paths <- response_text$paths %>% as.data.frame()\n",
    "    \n",
    "    # Isolar colunas de interesse\n",
    "    paths <- \n",
    "      paths %>% \n",
    "      # Calcular tempo em segundos e velocidade média\n",
    "      mutate(time = time / 1000,\n",
    "             speed = distance / time * 3.6) %>% \n",
    "      # Descartar colunas extras - a coluna poly é o shape da rota traçada\n",
    "      select(distance, weight, time, speed, poly = points) %>% \n",
    "      mutate(url = url)\n",
    "    \n",
    "  } else {\n",
    "    \n",
    "    # Se a query no GraphHopper não deu resultados, guardar como dataframe vazio\n",
    "    paths <- data.frame(distance = NA,\n",
    "                        weight   = NA,\n",
    "                        time     = NA,\n",
    "                        speed    = NA,\n",
    "                        poly     = NA,\n",
    "                        url      = url\n",
    "                        )\n",
    "    \n",
    "  }\n",
    "  \n",
    "  # Guardar resultados temporários\n",
    "  out_file <- sprintf('%s/ttmatrix_res08.csv', pasta_gh_ttmarix)\n",
    "  write_delim(paths, out_file, delim = ';', append = TRUE)\n",
    "  \n",
    "}"
   ]
  },
  {
   "cell_type": "code",
   "execution_count": 7,
   "id": "8f299cd7",
   "metadata": {},
   "outputs": [
    {
     "name": "stderr",
     "output_type": "stream",
     "text": [
      "mutate: new variable 'url' (character) with 1,267,988 unique values and 0% NA\n",
      "\n"
     ]
    },
    {
     "data": {
      "text/html": [
       "<table class=\"dataframe\">\n",
       "<caption>A tibble: 2 × 7</caption>\n",
       "<thead>\n",
       "\t<tr><th scope=col>id_hex_x</th><th scope=col>id_hex_y</th><th scope=col>lat.x</th><th scope=col>lon.x</th><th scope=col>lat.y</th><th scope=col>lon.y</th><th scope=col>url</th></tr>\n",
       "\t<tr><th scope=col>&lt;chr&gt;</th><th scope=col>&lt;chr&gt;</th><th scope=col>&lt;chr&gt;</th><th scope=col>&lt;chr&gt;</th><th scope=col>&lt;chr&gt;</th><th scope=col>&lt;chr&gt;</th><th scope=col>&lt;chr&gt;</th></tr>\n",
       "</thead>\n",
       "<tbody>\n",
       "\t<tr><td>88a8100c33fffff</td><td>88a8100c31fffff</td><td>-23.5314933121698</td><td>-46.634354542765</td><td>-23.5379105696712</td><td>-46.6284225024006</td><td>http://localhost:8989/route/?point=-23.5314933121698%2C-46.634354542765&amp;point=-23.5379105696712%2C-46.6284225024006&amp;profile=bike&amp;instructions=false&amp;calc_points=true&amp;details=average_speed</td></tr>\n",
       "\t<tr><td>88a8100c33fffff</td><td>88a8100c37fffff</td><td>-23.5314933121698</td><td>-46.634354542765</td><td>-23.5303835579131</td><td>-46.6251401309238</td><td>http://localhost:8989/route/?point=-23.5314933121698%2C-46.634354542765&amp;point=-23.5303835579131%2C-46.6251401309238&amp;profile=bike&amp;instructions=false&amp;calc_points=true&amp;details=average_speed</td></tr>\n",
       "</tbody>\n",
       "</table>\n"
      ],
      "text/latex": [
       "A tibble: 2 × 7\n",
       "\\begin{tabular}{lllllll}\n",
       " id\\_hex\\_x & id\\_hex\\_y & lat.x & lon.x & lat.y & lon.y & url\\\\\n",
       " <chr> & <chr> & <chr> & <chr> & <chr> & <chr> & <chr>\\\\\n",
       "\\hline\n",
       "\t 88a8100c33fffff & 88a8100c31fffff & -23.5314933121698 & -46.634354542765 & -23.5379105696712 & -46.6284225024006 & http://localhost:8989/route/?point=-23.5314933121698\\%2C-46.634354542765\\&point=-23.5379105696712\\%2C-46.6284225024006\\&profile=bike\\&instructions=false\\&calc\\_points=true\\&details=average\\_speed\\\\\n",
       "\t 88a8100c33fffff & 88a8100c37fffff & -23.5314933121698 & -46.634354542765 & -23.5303835579131 & -46.6251401309238 & http://localhost:8989/route/?point=-23.5314933121698\\%2C-46.634354542765\\&point=-23.5303835579131\\%2C-46.6251401309238\\&profile=bike\\&instructions=false\\&calc\\_points=true\\&details=average\\_speed\\\\\n",
       "\\end{tabular}\n"
      ],
      "text/markdown": [
       "\n",
       "A tibble: 2 × 7\n",
       "\n",
       "| id_hex_x &lt;chr&gt; | id_hex_y &lt;chr&gt; | lat.x &lt;chr&gt; | lon.x &lt;chr&gt; | lat.y &lt;chr&gt; | lon.y &lt;chr&gt; | url &lt;chr&gt; |\n",
       "|---|---|---|---|---|---|---|\n",
       "| 88a8100c33fffff | 88a8100c31fffff | -23.5314933121698 | -46.634354542765 | -23.5379105696712 | -46.6284225024006 | http://localhost:8989/route/?point=-23.5314933121698%2C-46.634354542765&amp;point=-23.5379105696712%2C-46.6284225024006&amp;profile=bike&amp;instructions=false&amp;calc_points=true&amp;details=average_speed |\n",
       "| 88a8100c33fffff | 88a8100c37fffff | -23.5314933121698 | -46.634354542765 | -23.5303835579131 | -46.6251401309238 | http://localhost:8989/route/?point=-23.5314933121698%2C-46.634354542765&amp;point=-23.5303835579131%2C-46.6251401309238&amp;profile=bike&amp;instructions=false&amp;calc_points=true&amp;details=average_speed |\n",
       "\n"
      ],
      "text/plain": [
       "  id_hex_x        id_hex_y        lat.x             lon.x           \n",
       "1 88a8100c33fffff 88a8100c31fffff -23.5314933121698 -46.634354542765\n",
       "2 88a8100c33fffff 88a8100c37fffff -23.5314933121698 -46.634354542765\n",
       "  lat.y             lon.y            \n",
       "1 -23.5379105696712 -46.6284225024006\n",
       "2 -23.5303835579131 -46.6251401309238\n",
       "  url                                                                                                                                                                                       \n",
       "1 http://localhost:8989/route/?point=-23.5314933121698%2C-46.634354542765&point=-23.5379105696712%2C-46.6284225024006&profile=bike&instructions=false&calc_points=true&details=average_speed\n",
       "2 http://localhost:8989/route/?point=-23.5314933121698%2C-46.634354542765&point=-23.5303835579131%2C-46.6251401309238&profile=bike&instructions=false&calc_points=true&details=average_speed"
      ]
     },
     "metadata": {},
     "output_type": "display_data"
    }
   ],
   "source": [
    "# Criar coluna com URL para GET no GraphHopper\n",
    "hex_com_vizinhos <- \n",
    "  hex_com_vizinhos %>% \n",
    "  mutate(url = paste('http://localhost:8989/route/?point=', \n",
    "                     lat.x, '%2C', lon.x, '&point=', \n",
    "                     lat.y, '%2C', lon.y, '&profile=bike&instructions=false&calc_points=true&details=average_speed',\n",
    "                     sep = ''))\n",
    "\n",
    "head(hex_com_vizinhos, 2)"
   ]
  },
  {
   "cell_type": "code",
   "execution_count": 8,
   "id": "0845e8e0",
   "metadata": {},
   "outputs": [
    {
     "data": {
      "text/plain": [
       "[1] \"2023-05-23 22:34:52 -03\""
      ]
     },
     "metadata": {},
     "output_type": "display_data"
    }
   ],
   "source": [
    "# Criar ttmatrix a partir do GrahHopper\n",
    "detach(\"package:tidylog\")\n",
    "# lapply(hex_com_vizinhos$url, gh_route)\n",
    "\n",
    "# Rodar função para todos os arquivos- multi thread (Jupyter)\n",
    "(start = Sys.time())\n",
    "future::plan(future::multicore)\n",
    "invisible(future.apply::future_lapply(X   = hex_com_vizinhos$url, \n",
    "                                      FUN = gh_route, \n",
    "                                      # future.packages = c('dplyr'), \n",
    "                                      future.seed = TRUE))\n",
    "Sys.time() - start"
   ]
  },
  {
   "cell_type": "code",
   "execution_count": null,
   "id": "6b79416e",
   "metadata": {},
   "outputs": [],
   "source": []
  }
 ],
 "metadata": {
  "kernelspec": {
   "display_name": "R [conda env:r4_env]",
   "language": "R",
   "name": "conda-env-r4_env-r"
  },
  "language_info": {
   "codemirror_mode": "r",
   "file_extension": ".r",
   "mimetype": "text/x-r-source",
   "name": "R",
   "pygments_lexer": "r",
   "version": "4.0.5"
  }
 },
 "nbformat": 4,
 "nbformat_minor": 5
}
