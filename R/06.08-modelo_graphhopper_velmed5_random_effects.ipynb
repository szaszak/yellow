{
 "cells": [
  {
   "cell_type": "code",
   "execution_count": 1,
   "id": "f530c444",
   "metadata": {},
   "outputs": [
    {
     "name": "stderr",
     "output_type": "stream",
     "text": [
      "GDAL version >= 3.1.0 | setting mapviewOptions(fgb = TRUE)\n",
      "\n",
      "Linking to GEOS 3.9.1, GDAL 3.2.2, PROJ 8.0.0\n",
      "\n",
      "\n",
      "Attaching package: ‘jsonlite’\n",
      "\n",
      "\n",
      "The following object is masked from ‘package:purrr’:\n",
      "\n",
      "    flatten\n",
      "\n",
      "\n",
      "Loading required package: lme4\n",
      "\n",
      "Loading required package: Matrix\n",
      "\n",
      "\n",
      "Attaching package: ‘Matrix’\n",
      "\n",
      "\n",
      "The following objects are masked from ‘package:tidyr’:\n",
      "\n",
      "    expand, pack, unpack\n",
      "\n",
      "\n",
      "\n",
      "Attaching package: ‘lmerTest’\n",
      "\n",
      "\n",
      "The following object is masked from ‘package:lme4’:\n",
      "\n",
      "    lmer\n",
      "\n",
      "\n",
      "The following object is masked from ‘package:stats’:\n",
      "\n",
      "    step\n",
      "\n",
      "\n"
     ]
    }
   ],
   "source": [
    "# carregar bibliotecas\n",
    "source('fun/setup.R')\n",
    "\n",
    "# https://bookdown.org/steve_midway/DAR/random-effects.html ***\n",
    "# https://rcompanion.org/handbook/G_03.html\n",
    "# https://stackoverflow.com/questions/40711912/how-to-add-a-random-effect-to-a-linear-mixed-effects-model\n",
    "library('lmerTest')\n",
    "# library('lme4')\n",
    "library('MuMIn') # require(remotes); install_version(\"MuMIn\", version = \"1.46.0\", repos = \"http://cran.us.r-project.org\") - https://stackoverflow.com/questions/17082341/installing-older-version-of-r-package\n",
    "# library('versions')"
   ]
  },
  {
   "cell_type": "code",
   "execution_count": 2,
   "id": "d6a8cfb3",
   "metadata": {},
   "outputs": [
    {
     "data": {
      "text/html": [
       "<table class=\"dataframe\">\n",
       "<caption>A tibble: 6 × 34</caption>\n",
       "<thead>\n",
       "\t<tr><th scope=col>trip_id</th><th scope=col>osm_id</th><th scope=col>qgis_id</th><th scope=col>linha_sent</th><th scope=col>speed_kph</th><th scope=col>vel_med_gps</th><th scope=col>vel_med_m3</th><th scope=col>vel_med_m5</th><th scope=col>elev_grad_rev</th><th scope=col>elev_sent</th><th scope=col>cat_grad</th><th scope=col>dist_total</th><th scope=col>dist_trecho_quadra</th><th scope=col>cat_dist_trecho</th><th scope=col>cat_dist_total</th><th scope=col>curv_h</th><th scope=col>cat_curv</th><th scope=col>inicio_fim</th><th scope=col>dens_lotes_100m</th><th scope=col>dens_lotes_100m_15m</th><th scope=col>dens_lotes_100m_30m</th><th scope=col>dia_util</th><th scope=col>cat_fx_hora</th><th scope=col>class_via</th><th scope=col>infra_ciclo</th><th scope=col>via_restr</th><th scope=col>semaforos</th><th scope=col>osm_highway</th><th scope=col>osm_oneway</th><th scope=col>contramao</th><th scope=col>vg_loop</th><th scope=col>vg_exper</th><th scope=col>vg_contramao</th><th scope=col>vg_parques</th></tr>\n",
       "\t<tr><th scope=col>&lt;chr&gt;</th><th scope=col>&lt;chr&gt;</th><th scope=col>&lt;chr&gt;</th><th scope=col>&lt;chr&gt;</th><th scope=col>&lt;dbl&gt;</th><th scope=col>&lt;dbl&gt;</th><th scope=col>&lt;dbl&gt;</th><th scope=col>&lt;dbl&gt;</th><th scope=col>&lt;dbl&gt;</th><th scope=col>&lt;chr&gt;</th><th scope=col>&lt;chr&gt;</th><th scope=col>&lt;dbl&gt;</th><th scope=col>&lt;int&gt;</th><th scope=col>&lt;chr&gt;</th><th scope=col>&lt;chr&gt;</th><th scope=col>&lt;dbl&gt;</th><th scope=col>&lt;chr&gt;</th><th scope=col>&lt;chr&gt;</th><th scope=col>&lt;dbl&gt;</th><th scope=col>&lt;dbl&gt;</th><th scope=col>&lt;dbl&gt;</th><th scope=col>&lt;chr&gt;</th><th scope=col>&lt;chr&gt;</th><th scope=col>&lt;chr&gt;</th><th scope=col>&lt;chr&gt;</th><th scope=col>&lt;chr&gt;</th><th scope=col>&lt;chr&gt;</th><th scope=col>&lt;chr&gt;</th><th scope=col>&lt;chr&gt;</th><th scope=col>&lt;chr&gt;</th><th scope=col>&lt;chr&gt;</th><th scope=col>&lt;chr&gt;</th><th scope=col>&lt;chr&gt;</th><th scope=col>&lt;chr&gt;</th></tr>\n",
       "</thead>\n",
       "<tbody>\n",
       "\t<tr><td>000135_00</td><td>396771678</td><td>271157</td><td>des_linha</td><td>1.984096</td><td>2.581532</td><td>3.234793</td><td>4.050268</td><td> 1.1397530</td><td>subida </td><td>plano</td><td> 821.4461</td><td> 21</td><td>curto      </td><td>curta</td><td>0</td><td>00 a 25 graus</td><td>início</td><td>2.318142</td><td>3.017319</td><td>2.880641</td><td>util</td><td>pico_tarde</td><td>arterial</td><td>sem_infra_ciclo</td><td>via_comum</td><td>sem_semaforos</td><td>residential</td><td>no </td><td>não</td><td>não</td><td>não</td><td>não</td><td>não</td></tr>\n",
       "\t<tr><td>000135_00</td><td>396771678</td><td>271157</td><td>opo_linha</td><td>7.143187</td><td>3.502971</td><td>4.055528</td><td>4.356572</td><td>-1.1397530</td><td>descida</td><td>plano</td><td> 821.4461</td><td>129</td><td>acima_media</td><td>curta</td><td>0</td><td>00 a 25 graus</td><td>meio  </td><td>2.318142</td><td>3.017319</td><td>2.880641</td><td>util</td><td>pico_tarde</td><td>arterial</td><td>sem_infra_ciclo</td><td>via_comum</td><td>sem_semaforos</td><td>residential</td><td>no </td><td>não</td><td>não</td><td>não</td><td>não</td><td>não</td></tr>\n",
       "\t<tr><td>000135_00</td><td>150545097</td><td>211446</td><td>des_linha</td><td>6.000300</td><td>4.660937</td><td>4.739349</td><td>4.751611</td><td> 0.4597172</td><td>subida </td><td>plano</td><td> 821.4461</td><td>100</td><td>medio      </td><td>curta</td><td>0</td><td>00 a 25 graus</td><td>meio  </td><td>3.004687</td><td>5.458913</td><td>0.000000</td><td>util</td><td>pico_tarde</td><td>arterial</td><td>sem_infra_ciclo</td><td>via_comum</td><td>fim          </td><td>primary    </td><td>yes</td><td>não</td><td>não</td><td>não</td><td>não</td><td>não</td></tr>\n",
       "\t<tr><td>000135_00</td><td>150545097</td><td>211447</td><td>des_linha</td><td>5.027570</td><td>5.038803</td><td>5.076647</td><td>5.079040</td><td> 1.0969643</td><td>subida </td><td>plano</td><td> 821.4461</td><td>426</td><td>grande     </td><td>curta</td><td>0</td><td>00 a 25 graus</td><td>meio  </td><td>1.174983</td><td>1.429278</td><td>1.503516</td><td>util</td><td>pico_tarde</td><td>arterial</td><td>sem_infra_ciclo</td><td>via_comum</td><td>inicio       </td><td>primary    </td><td>yes</td><td>não</td><td>não</td><td>não</td><td>não</td><td>não</td></tr>\n",
       "\t<tr><td>000135_00</td><td>150545097</td><td>104168</td><td>des_linha</td><td>4.340691</td><td>4.625234</td><td>4.411842</td><td>4.070812</td><td> 1.1705242</td><td>subida </td><td>plano</td><td> 821.4461</td><td>108</td><td>medio      </td><td>curta</td><td>0</td><td>00 a 25 graus</td><td>final </td><td>3.503065</td><td>2.938014</td><td>2.846124</td><td>util</td><td>pico_tarde</td><td>arterial</td><td>sem_infra_ciclo</td><td>via_comum</td><td>sem_semaforos</td><td>primary    </td><td>yes</td><td>não</td><td>não</td><td>não</td><td>não</td><td>não</td></tr>\n",
       "\t<tr><td>000138_00</td><td>185783795</td><td>161928</td><td>des_linha</td><td>3.853800</td><td>4.585846</td><td>6.600380</td><td>7.055670</td><td> 0.2440453</td><td>subida </td><td>plano</td><td>1585.3999</td><td> 21</td><td>curto      </td><td>media</td><td>0</td><td>00 a 25 graus</td><td>meio  </td><td>0.000000</td><td>0.000000</td><td>0.000000</td><td>util</td><td>pico_tarde</td><td>arterial</td><td>ciclovia       </td><td>via_comum</td><td>fim          </td><td>trunk      </td><td>yes</td><td>não</td><td>não</td><td>não</td><td>não</td><td>não</td></tr>\n",
       "</tbody>\n",
       "</table>\n"
      ],
      "text/latex": [
       "A tibble: 6 × 34\n",
       "\\begin{tabular}{llllllllllllllllllllllllllllllllll}\n",
       " trip\\_id & osm\\_id & qgis\\_id & linha\\_sent & speed\\_kph & vel\\_med\\_gps & vel\\_med\\_m3 & vel\\_med\\_m5 & elev\\_grad\\_rev & elev\\_sent & cat\\_grad & dist\\_total & dist\\_trecho\\_quadra & cat\\_dist\\_trecho & cat\\_dist\\_total & curv\\_h & cat\\_curv & inicio\\_fim & dens\\_lotes\\_100m & dens\\_lotes\\_100m\\_15m & dens\\_lotes\\_100m\\_30m & dia\\_util & cat\\_fx\\_hora & class\\_via & infra\\_ciclo & via\\_restr & semaforos & osm\\_highway & osm\\_oneway & contramao & vg\\_loop & vg\\_exper & vg\\_contramao & vg\\_parques\\\\\n",
       " <chr> & <chr> & <chr> & <chr> & <dbl> & <dbl> & <dbl> & <dbl> & <dbl> & <chr> & <chr> & <dbl> & <int> & <chr> & <chr> & <dbl> & <chr> & <chr> & <dbl> & <dbl> & <dbl> & <chr> & <chr> & <chr> & <chr> & <chr> & <chr> & <chr> & <chr> & <chr> & <chr> & <chr> & <chr> & <chr>\\\\\n",
       "\\hline\n",
       "\t 000135\\_00 & 396771678 & 271157 & des\\_linha & 1.984096 & 2.581532 & 3.234793 & 4.050268 &  1.1397530 & subida  & plano &  821.4461 &  21 & curto       & curta & 0 & 00 a 25 graus & início & 2.318142 & 3.017319 & 2.880641 & util & pico\\_tarde & arterial & sem\\_infra\\_ciclo & via\\_comum & sem\\_semaforos & residential & no  & não & não & não & não & não\\\\\n",
       "\t 000135\\_00 & 396771678 & 271157 & opo\\_linha & 7.143187 & 3.502971 & 4.055528 & 4.356572 & -1.1397530 & descida & plano &  821.4461 & 129 & acima\\_media & curta & 0 & 00 a 25 graus & meio   & 2.318142 & 3.017319 & 2.880641 & util & pico\\_tarde & arterial & sem\\_infra\\_ciclo & via\\_comum & sem\\_semaforos & residential & no  & não & não & não & não & não\\\\\n",
       "\t 000135\\_00 & 150545097 & 211446 & des\\_linha & 6.000300 & 4.660937 & 4.739349 & 4.751611 &  0.4597172 & subida  & plano &  821.4461 & 100 & medio       & curta & 0 & 00 a 25 graus & meio   & 3.004687 & 5.458913 & 0.000000 & util & pico\\_tarde & arterial & sem\\_infra\\_ciclo & via\\_comum & fim           & primary     & yes & não & não & não & não & não\\\\\n",
       "\t 000135\\_00 & 150545097 & 211447 & des\\_linha & 5.027570 & 5.038803 & 5.076647 & 5.079040 &  1.0969643 & subida  & plano &  821.4461 & 426 & grande      & curta & 0 & 00 a 25 graus & meio   & 1.174983 & 1.429278 & 1.503516 & util & pico\\_tarde & arterial & sem\\_infra\\_ciclo & via\\_comum & inicio        & primary     & yes & não & não & não & não & não\\\\\n",
       "\t 000135\\_00 & 150545097 & 104168 & des\\_linha & 4.340691 & 4.625234 & 4.411842 & 4.070812 &  1.1705242 & subida  & plano &  821.4461 & 108 & medio       & curta & 0 & 00 a 25 graus & final  & 3.503065 & 2.938014 & 2.846124 & util & pico\\_tarde & arterial & sem\\_infra\\_ciclo & via\\_comum & sem\\_semaforos & primary     & yes & não & não & não & não & não\\\\\n",
       "\t 000138\\_00 & 185783795 & 161928 & des\\_linha & 3.853800 & 4.585846 & 6.600380 & 7.055670 &  0.2440453 & subida  & plano & 1585.3999 &  21 & curto       & media & 0 & 00 a 25 graus & meio   & 0.000000 & 0.000000 & 0.000000 & util & pico\\_tarde & arterial & ciclovia        & via\\_comum & fim           & trunk       & yes & não & não & não & não & não\\\\\n",
       "\\end{tabular}\n"
      ],
      "text/markdown": [
       "\n",
       "A tibble: 6 × 34\n",
       "\n",
       "| trip_id &lt;chr&gt; | osm_id &lt;chr&gt; | qgis_id &lt;chr&gt; | linha_sent &lt;chr&gt; | speed_kph &lt;dbl&gt; | vel_med_gps &lt;dbl&gt; | vel_med_m3 &lt;dbl&gt; | vel_med_m5 &lt;dbl&gt; | elev_grad_rev &lt;dbl&gt; | elev_sent &lt;chr&gt; | cat_grad &lt;chr&gt; | dist_total &lt;dbl&gt; | dist_trecho_quadra &lt;int&gt; | cat_dist_trecho &lt;chr&gt; | cat_dist_total &lt;chr&gt; | curv_h &lt;dbl&gt; | cat_curv &lt;chr&gt; | inicio_fim &lt;chr&gt; | dens_lotes_100m &lt;dbl&gt; | dens_lotes_100m_15m &lt;dbl&gt; | dens_lotes_100m_30m &lt;dbl&gt; | dia_util &lt;chr&gt; | cat_fx_hora &lt;chr&gt; | class_via &lt;chr&gt; | infra_ciclo &lt;chr&gt; | via_restr &lt;chr&gt; | semaforos &lt;chr&gt; | osm_highway &lt;chr&gt; | osm_oneway &lt;chr&gt; | contramao &lt;chr&gt; | vg_loop &lt;chr&gt; | vg_exper &lt;chr&gt; | vg_contramao &lt;chr&gt; | vg_parques &lt;chr&gt; |\n",
       "|---|---|---|---|---|---|---|---|---|---|---|---|---|---|---|---|---|---|---|---|---|---|---|---|---|---|---|---|---|---|---|---|---|---|\n",
       "| 000135_00 | 396771678 | 271157 | des_linha | 1.984096 | 2.581532 | 3.234793 | 4.050268 |  1.1397530 | subida  | plano |  821.4461 |  21 | curto       | curta | 0 | 00 a 25 graus | início | 2.318142 | 3.017319 | 2.880641 | util | pico_tarde | arterial | sem_infra_ciclo | via_comum | sem_semaforos | residential | no  | não | não | não | não | não |\n",
       "| 000135_00 | 396771678 | 271157 | opo_linha | 7.143187 | 3.502971 | 4.055528 | 4.356572 | -1.1397530 | descida | plano |  821.4461 | 129 | acima_media | curta | 0 | 00 a 25 graus | meio   | 2.318142 | 3.017319 | 2.880641 | util | pico_tarde | arterial | sem_infra_ciclo | via_comum | sem_semaforos | residential | no  | não | não | não | não | não |\n",
       "| 000135_00 | 150545097 | 211446 | des_linha | 6.000300 | 4.660937 | 4.739349 | 4.751611 |  0.4597172 | subida  | plano |  821.4461 | 100 | medio       | curta | 0 | 00 a 25 graus | meio   | 3.004687 | 5.458913 | 0.000000 | util | pico_tarde | arterial | sem_infra_ciclo | via_comum | fim           | primary     | yes | não | não | não | não | não |\n",
       "| 000135_00 | 150545097 | 211447 | des_linha | 5.027570 | 5.038803 | 5.076647 | 5.079040 |  1.0969643 | subida  | plano |  821.4461 | 426 | grande      | curta | 0 | 00 a 25 graus | meio   | 1.174983 | 1.429278 | 1.503516 | util | pico_tarde | arterial | sem_infra_ciclo | via_comum | inicio        | primary     | yes | não | não | não | não | não |\n",
       "| 000135_00 | 150545097 | 104168 | des_linha | 4.340691 | 4.625234 | 4.411842 | 4.070812 |  1.1705242 | subida  | plano |  821.4461 | 108 | medio       | curta | 0 | 00 a 25 graus | final  | 3.503065 | 2.938014 | 2.846124 | util | pico_tarde | arterial | sem_infra_ciclo | via_comum | sem_semaforos | primary     | yes | não | não | não | não | não |\n",
       "| 000138_00 | 185783795 | 161928 | des_linha | 3.853800 | 4.585846 | 6.600380 | 7.055670 |  0.2440453 | subida  | plano | 1585.3999 |  21 | curto       | media | 0 | 00 a 25 graus | meio   | 0.000000 | 0.000000 | 0.000000 | util | pico_tarde | arterial | ciclovia        | via_comum | fim           | trunk       | yes | não | não | não | não | não |\n",
       "\n"
      ],
      "text/plain": [
       "  trip_id   osm_id    qgis_id linha_sent speed_kph vel_med_gps vel_med_m3\n",
       "1 000135_00 396771678 271157  des_linha  1.984096  2.581532    3.234793  \n",
       "2 000135_00 396771678 271157  opo_linha  7.143187  3.502971    4.055528  \n",
       "3 000135_00 150545097 211446  des_linha  6.000300  4.660937    4.739349  \n",
       "4 000135_00 150545097 211447  des_linha  5.027570  5.038803    5.076647  \n",
       "5 000135_00 150545097 104168  des_linha  4.340691  4.625234    4.411842  \n",
       "6 000138_00 185783795 161928  des_linha  3.853800  4.585846    6.600380  \n",
       "  vel_med_m5 elev_grad_rev elev_sent cat_grad dist_total dist_trecho_quadra\n",
       "1 4.050268    1.1397530    subida    plano     821.4461   21               \n",
       "2 4.356572   -1.1397530    descida   plano     821.4461  129               \n",
       "3 4.751611    0.4597172    subida    plano     821.4461  100               \n",
       "4 5.079040    1.0969643    subida    plano     821.4461  426               \n",
       "5 4.070812    1.1705242    subida    plano     821.4461  108               \n",
       "6 7.055670    0.2440453    subida    plano    1585.3999   21               \n",
       "  cat_dist_trecho cat_dist_total curv_h cat_curv      inicio_fim\n",
       "1 curto           curta          0      00 a 25 graus início    \n",
       "2 acima_media     curta          0      00 a 25 graus meio      \n",
       "3 medio           curta          0      00 a 25 graus meio      \n",
       "4 grande          curta          0      00 a 25 graus meio      \n",
       "5 medio           curta          0      00 a 25 graus final     \n",
       "6 curto           media          0      00 a 25 graus meio      \n",
       "  dens_lotes_100m dens_lotes_100m_15m dens_lotes_100m_30m dia_util cat_fx_hora\n",
       "1 2.318142        3.017319            2.880641            util     pico_tarde \n",
       "2 2.318142        3.017319            2.880641            util     pico_tarde \n",
       "3 3.004687        5.458913            0.000000            util     pico_tarde \n",
       "4 1.174983        1.429278            1.503516            util     pico_tarde \n",
       "5 3.503065        2.938014            2.846124            util     pico_tarde \n",
       "6 0.000000        0.000000            0.000000            util     pico_tarde \n",
       "  class_via infra_ciclo     via_restr semaforos     osm_highway osm_oneway\n",
       "1 arterial  sem_infra_ciclo via_comum sem_semaforos residential no        \n",
       "2 arterial  sem_infra_ciclo via_comum sem_semaforos residential no        \n",
       "3 arterial  sem_infra_ciclo via_comum fim           primary     yes       \n",
       "4 arterial  sem_infra_ciclo via_comum inicio        primary     yes       \n",
       "5 arterial  sem_infra_ciclo via_comum sem_semaforos primary     yes       \n",
       "6 arterial  ciclovia        via_comum fim           trunk       yes       \n",
       "  contramao vg_loop vg_exper vg_contramao vg_parques\n",
       "1 não       não     não      não          não       \n",
       "2 não       não     não      não          não       \n",
       "3 não       não     não      não          não       \n",
       "4 não       não     não      não          não       \n",
       "5 não       não     não      não          não       \n",
       "6 não       não     não      não          não       "
      ]
     },
     "metadata": {},
     "output_type": "display_data"
    }
   ],
   "source": [
    "# Estrutura de pastas\n",
    "pasta_dados        <- \"../../yellow_dados\"\n",
    "pasta_modelos      <- sprintf('%s/06_bases_para_modelo', pasta_dados)\n",
    "pasta_base_modelo  <- sprintf('%s/C_base_para_modelo', pasta_modelos)\n",
    "# dir.create(pasta_base_modelo, recursive = TRUE, showWarnings = FALSE)\n",
    "\n",
    "\n",
    "# Abrir arquivos processados\n",
    "# base_modelo <- sprintf('%s/yellow_base_para_modelo.csv', pasta_base_modelo)\n",
    "base_modelo <- sprintf('%s/yellow_base_para_modelo_3ptos_50vgs.csv', pasta_base_modelo)\n",
    "base_modelo <- read_delim(base_modelo, delim = ';', col_types = 'ccccdddddccdiccdccdddccccccccccccc')\n",
    "\n",
    "head(base_modelo)"
   ]
  },
  {
   "cell_type": "code",
   "execution_count": 3,
   "id": "a1fcdbfd",
   "metadata": {},
   "outputs": [
    {
     "name": "stderr",
     "output_type": "stream",
     "text": [
      "mutate: converted 'cat_grad' from character to factor (0 new NA)\n",
      "\n",
      "        converted 'cat_dist_trecho' from character to factor (0 new NA)\n",
      "\n",
      "        converted 'cat_dist_total' from character to factor (0 new NA)\n",
      "\n",
      "        converted 'cat_curv' from character to factor (0 new NA)\n",
      "\n",
      "        converted 'inicio_fim' from character to factor (0 new NA)\n",
      "\n",
      "        converted 'dia_util' from character to factor (0 new NA)\n",
      "\n",
      "        converted 'cat_fx_hora' from character to factor (0 new NA)\n",
      "\n",
      "        converted 'class_via' from character to factor (0 new NA)\n",
      "\n",
      "        converted 'infra_ciclo' from character to factor (0 new NA)\n",
      "\n",
      "        converted 'via_restr' from character to factor (0 new NA)\n",
      "\n",
      "        converted 'semaforos' from character to factor (0 new NA)\n",
      "\n",
      "        converted 'osm_oneway' from character to factor (0 new NA)\n",
      "\n",
      "        converted 'contramao' from character to factor (0 new NA)\n",
      "\n",
      "        new variable 'cat_vg_loop' (factor) with 2 unique values and 0% NA\n",
      "\n",
      "        new variable 'cat_vg_exper' (factor) with 2 unique values and 0% NA\n",
      "\n",
      "        new variable 'cat_vg_conm' (factor) with 2 unique values and 0% NA\n",
      "\n",
      "        new variable 'cat_vg_parq' (factor) with 2 unique values and 0% NA\n",
      "\n"
     ]
    }
   ],
   "source": [
    "# ------------------------------------------------------------------------------\n",
    "# Seleção das variáveis e transformação em factor/dummies\n",
    "# ------------------------------------------------------------------------------\n",
    "\n",
    "# base_modelo <- base_modelo %>% mutate(dist_total_km = dist_total/1000)\n",
    "\n",
    "# # Transformar colunas de interesse em factors\n",
    "# base_modelo <- \n",
    "#   base_modelo %>%\n",
    "#   mutate(\n",
    "#     inicio_fim = factor(inicio_fim, levels = c('meio', 'início', 'final')),\n",
    "#     cat_dist_total = factor(cat_dist_total, levels = c('media', 'acima_media', 'longa', 'muito_longa', 'curta')),\n",
    "#     cat_dist_trecho = factor(cat_dist_trecho, levels = c('medio', 'acima_media', 'grande', 'muito_grande', 'curto')),\n",
    "#     cat_grad   = factor(cat_grad,   levels = c('plano', 'desc_lev', 'desc_med', 'desc_for', 'desc_ver', 'subi_lev', 'subi_med', 'subi_for', 'subi_ver')),\n",
    "#     # cat_grad_prev   = factor(cat_grad_prev,   levels = c('plano', 'desc_lev', 'desc_med', 'desc_for', 'desc_ver', 'subi_lev', 'subi_med', 'subi_for', 'subi_ver'))\n",
    "#     class_via    = factor(class_via,   levels = c('local', 'coletora', 'arterial', 'vtr', 'ciclo_expressa', 'ped_serv')),\n",
    "#     # class_viaosm = factor(class_via,   levels = c('local', 'coletora', 'arterial', 'vtr', 'ciclo_expressa', 'ped_serv')),\n",
    "#     infra_ciclo  = factor(infra_ciclo, levels = c('sem_infra_ciclo', 'ciclofaixa', 'ciclovia')),\n",
    "#     semaforos    = factor(semaforos, levels = c('sem_semaforos', 'inicio', 'fim', 'inicio_fim')),\n",
    "#     via_restr    = factor(via_restr,   levels = c('via_comum', 'via_restrita')),\n",
    "#     osm_oneway   = factor(osm_oneway, levels = c('yes', 'no')),\n",
    "#     contramao    = factor(contramao, levels = c('não', 'sim')),\n",
    "#     dia_util     = factor(dia_util,    levels = c('util', 'desc')),\n",
    "#     cat_fx_hora  = factor(cat_fx_hora, levels = c('vale', 'pico_manha', 'pico_tarde', 'madrugada')),\n",
    "#     cat_vg_loop  = factor(vg_loop, levels = c('não', 'sim')),\n",
    "#     cat_vg_exper = factor(vg_exper, levels = c('não', 'sim')),\n",
    "#     cat_vg_conm  = factor(vg_contramao, levels = c('não', 'sim')),\n",
    "#     cat_vg_parq  = factor(vg_parques, levels = c('não', 'sim')),\n",
    "#     cat_curv     = factor(cat_curv, levels = c('00 a 25 graus', '25 a 45 graus', '45 a 90 graus', 'acima de 90 graus')),\n",
    "#   )\n",
    "\n",
    "# Transformar colunas de interesse em factors - categorização na ordem, para graphhopper\n",
    "base_modelo <- \n",
    "  base_modelo %>%\n",
    "  mutate(\n",
    "    inicio_fim = factor(inicio_fim, levels = c('meio', 'início', 'final')),\n",
    "    cat_grad   = factor(cat_grad,   levels = c('subi_ver', 'subi_for', 'subi_med',  'subi_lev', 'plano', 'desc_lev', 'desc_med', 'desc_for', 'desc_ver')),\n",
    "    class_via    = factor(class_via,   levels = c('ped_serv', 'local', 'coletora', 'arterial', 'ciclo_expressa', 'vtr')),\n",
    "    infra_ciclo  = factor(infra_ciclo, levels = c('sem_infra_ciclo', 'ciclovia', 'ciclofaixa')),\n",
    "    semaforos    = factor(semaforos, levels = c('fim', 'inicio_fim', 'inicio', 'sem_semaforos')),\n",
    "    via_restr    = factor(via_restr,   levels = c('via_comum', 'via_restrita')),\n",
    "    osm_oneway   = factor(osm_oneway, levels = c('no', 'yes')),\n",
    "    contramao    = factor(contramao, levels = c('não', 'sim')),\n",
    "    cat_dist_total  = factor(cat_dist_total, levels = c('media', 'acima_media', 'longa', 'muito_longa', 'curta')),\n",
    "    cat_dist_trecho = factor(cat_dist_trecho, levels = c('medio', 'acima_media', 'grande', 'muito_grande', 'curto')),\n",
    "    dia_util     = factor(dia_util,    levels = c('util', 'desc')),\n",
    "    cat_curv     = factor(cat_curv, levels = c('00 a 25 graus', '25 a 45 graus', '45 a 90 graus', 'acima de 90 graus')),\n",
    "    cat_fx_hora  = factor(cat_fx_hora, levels = c('pico_manha', 'vale', 'pico_tarde', 'madrugada')),\n",
    "    cat_vg_loop  = factor(vg_loop, levels = c('não', 'sim')),\n",
    "    cat_vg_exper = factor(vg_exper, levels = c('não', 'sim')),\n",
    "    cat_vg_conm  = factor(vg_contramao, levels = c('não', 'sim')),\n",
    "    cat_vg_parq  = factor(vg_parques, levels = c('não', 'sim')),\n",
    "    \n",
    "  )\n",
    "\n",
    "# Quantos NAs temos na base e onde?\n",
    "# colSums(is.na(base_modelo))"
   ]
  },
  {
   "cell_type": "code",
   "execution_count": 4,
   "id": "66342951",
   "metadata": {},
   "outputs": [
    {
     "name": "stderr",
     "output_type": "stream",
     "text": [
      "select: dropped 17 variables (osm_id, linha_sent, speed_kph, vel_med_gps, vel_med_m3, …)\n",
      "\n"
     ]
    },
    {
     "data": {
      "text/html": [
       "<table class=\"dataframe\">\n",
       "<caption>A tibble: 6 × 21</caption>\n",
       "<thead>\n",
       "\t<tr><th scope=col>vel_med_m5</th><th scope=col>inicio_fim</th><th scope=col>cat_grad</th><th scope=col>class_via</th><th scope=col>infra_ciclo</th><th scope=col>semaforos</th><th scope=col>via_restr</th><th scope=col>osm_oneway</th><th scope=col>contramao</th><th scope=col>cat_dist_total</th><th scope=col>cat_dist_trecho</th><th scope=col>cat_curv</th><th scope=col>dens_lotes_100m</th><th scope=col>dia_util</th><th scope=col>cat_fx_hora</th><th scope=col>cat_vg_loop</th><th scope=col>cat_vg_exper</th><th scope=col>cat_vg_conm</th><th scope=col>cat_vg_parq</th><th scope=col>qgis_id</th><th scope=col>trip_id</th></tr>\n",
       "\t<tr><th scope=col>&lt;dbl&gt;</th><th scope=col>&lt;fct&gt;</th><th scope=col>&lt;fct&gt;</th><th scope=col>&lt;fct&gt;</th><th scope=col>&lt;fct&gt;</th><th scope=col>&lt;fct&gt;</th><th scope=col>&lt;fct&gt;</th><th scope=col>&lt;fct&gt;</th><th scope=col>&lt;fct&gt;</th><th scope=col>&lt;fct&gt;</th><th scope=col>&lt;fct&gt;</th><th scope=col>&lt;fct&gt;</th><th scope=col>&lt;dbl&gt;</th><th scope=col>&lt;fct&gt;</th><th scope=col>&lt;fct&gt;</th><th scope=col>&lt;fct&gt;</th><th scope=col>&lt;fct&gt;</th><th scope=col>&lt;fct&gt;</th><th scope=col>&lt;fct&gt;</th><th scope=col>&lt;chr&gt;</th><th scope=col>&lt;chr&gt;</th></tr>\n",
       "</thead>\n",
       "<tbody>\n",
       "\t<tr><td>4.050268</td><td>início</td><td>plano</td><td>arterial</td><td>sem_infra_ciclo</td><td>sem_semaforos</td><td>via_comum</td><td>no </td><td>não</td><td>curta</td><td>curto      </td><td>00 a 25 graus</td><td>2.318142</td><td>util</td><td>pico_tarde</td><td>não</td><td>não</td><td>não</td><td>não</td><td>271157</td><td>000135_00</td></tr>\n",
       "\t<tr><td>4.356572</td><td>meio  </td><td>plano</td><td>arterial</td><td>sem_infra_ciclo</td><td>sem_semaforos</td><td>via_comum</td><td>no </td><td>não</td><td>curta</td><td>acima_media</td><td>00 a 25 graus</td><td>2.318142</td><td>util</td><td>pico_tarde</td><td>não</td><td>não</td><td>não</td><td>não</td><td>271157</td><td>000135_00</td></tr>\n",
       "\t<tr><td>4.751611</td><td>meio  </td><td>plano</td><td>arterial</td><td>sem_infra_ciclo</td><td>fim          </td><td>via_comum</td><td>yes</td><td>não</td><td>curta</td><td>medio      </td><td>00 a 25 graus</td><td>3.004687</td><td>util</td><td>pico_tarde</td><td>não</td><td>não</td><td>não</td><td>não</td><td>211446</td><td>000135_00</td></tr>\n",
       "\t<tr><td>5.079040</td><td>meio  </td><td>plano</td><td>arterial</td><td>sem_infra_ciclo</td><td>inicio       </td><td>via_comum</td><td>yes</td><td>não</td><td>curta</td><td>grande     </td><td>00 a 25 graus</td><td>1.174983</td><td>util</td><td>pico_tarde</td><td>não</td><td>não</td><td>não</td><td>não</td><td>211447</td><td>000135_00</td></tr>\n",
       "\t<tr><td>4.070812</td><td>final </td><td>plano</td><td>arterial</td><td>sem_infra_ciclo</td><td>sem_semaforos</td><td>via_comum</td><td>yes</td><td>não</td><td>curta</td><td>medio      </td><td>00 a 25 graus</td><td>3.503065</td><td>util</td><td>pico_tarde</td><td>não</td><td>não</td><td>não</td><td>não</td><td>104168</td><td>000135_00</td></tr>\n",
       "\t<tr><td>7.055670</td><td>meio  </td><td>plano</td><td>arterial</td><td>ciclovia       </td><td>fim          </td><td>via_comum</td><td>yes</td><td>não</td><td>media</td><td>curto      </td><td>00 a 25 graus</td><td>0.000000</td><td>util</td><td>pico_tarde</td><td>não</td><td>não</td><td>não</td><td>não</td><td>161928</td><td>000138_00</td></tr>\n",
       "</tbody>\n",
       "</table>\n"
      ],
      "text/latex": [
       "A tibble: 6 × 21\n",
       "\\begin{tabular}{lllllllllllllllllllll}\n",
       " vel\\_med\\_m5 & inicio\\_fim & cat\\_grad & class\\_via & infra\\_ciclo & semaforos & via\\_restr & osm\\_oneway & contramao & cat\\_dist\\_total & cat\\_dist\\_trecho & cat\\_curv & dens\\_lotes\\_100m & dia\\_util & cat\\_fx\\_hora & cat\\_vg\\_loop & cat\\_vg\\_exper & cat\\_vg\\_conm & cat\\_vg\\_parq & qgis\\_id & trip\\_id\\\\\n",
       " <dbl> & <fct> & <fct> & <fct> & <fct> & <fct> & <fct> & <fct> & <fct> & <fct> & <fct> & <fct> & <dbl> & <fct> & <fct> & <fct> & <fct> & <fct> & <fct> & <chr> & <chr>\\\\\n",
       "\\hline\n",
       "\t 4.050268 & início & plano & arterial & sem\\_infra\\_ciclo & sem\\_semaforos & via\\_comum & no  & não & curta & curto       & 00 a 25 graus & 2.318142 & util & pico\\_tarde & não & não & não & não & 271157 & 000135\\_00\\\\\n",
       "\t 4.356572 & meio   & plano & arterial & sem\\_infra\\_ciclo & sem\\_semaforos & via\\_comum & no  & não & curta & acima\\_media & 00 a 25 graus & 2.318142 & util & pico\\_tarde & não & não & não & não & 271157 & 000135\\_00\\\\\n",
       "\t 4.751611 & meio   & plano & arterial & sem\\_infra\\_ciclo & fim           & via\\_comum & yes & não & curta & medio       & 00 a 25 graus & 3.004687 & util & pico\\_tarde & não & não & não & não & 211446 & 000135\\_00\\\\\n",
       "\t 5.079040 & meio   & plano & arterial & sem\\_infra\\_ciclo & inicio        & via\\_comum & yes & não & curta & grande      & 00 a 25 graus & 1.174983 & util & pico\\_tarde & não & não & não & não & 211447 & 000135\\_00\\\\\n",
       "\t 4.070812 & final  & plano & arterial & sem\\_infra\\_ciclo & sem\\_semaforos & via\\_comum & yes & não & curta & medio       & 00 a 25 graus & 3.503065 & util & pico\\_tarde & não & não & não & não & 104168 & 000135\\_00\\\\\n",
       "\t 7.055670 & meio   & plano & arterial & ciclovia        & fim           & via\\_comum & yes & não & media & curto       & 00 a 25 graus & 0.000000 & util & pico\\_tarde & não & não & não & não & 161928 & 000138\\_00\\\\\n",
       "\\end{tabular}\n"
      ],
      "text/markdown": [
       "\n",
       "A tibble: 6 × 21\n",
       "\n",
       "| vel_med_m5 &lt;dbl&gt; | inicio_fim &lt;fct&gt; | cat_grad &lt;fct&gt; | class_via &lt;fct&gt; | infra_ciclo &lt;fct&gt; | semaforos &lt;fct&gt; | via_restr &lt;fct&gt; | osm_oneway &lt;fct&gt; | contramao &lt;fct&gt; | cat_dist_total &lt;fct&gt; | cat_dist_trecho &lt;fct&gt; | cat_curv &lt;fct&gt; | dens_lotes_100m &lt;dbl&gt; | dia_util &lt;fct&gt; | cat_fx_hora &lt;fct&gt; | cat_vg_loop &lt;fct&gt; | cat_vg_exper &lt;fct&gt; | cat_vg_conm &lt;fct&gt; | cat_vg_parq &lt;fct&gt; | qgis_id &lt;chr&gt; | trip_id &lt;chr&gt; |\n",
       "|---|---|---|---|---|---|---|---|---|---|---|---|---|---|---|---|---|---|---|---|---|\n",
       "| 4.050268 | início | plano | arterial | sem_infra_ciclo | sem_semaforos | via_comum | no  | não | curta | curto       | 00 a 25 graus | 2.318142 | util | pico_tarde | não | não | não | não | 271157 | 000135_00 |\n",
       "| 4.356572 | meio   | plano | arterial | sem_infra_ciclo | sem_semaforos | via_comum | no  | não | curta | acima_media | 00 a 25 graus | 2.318142 | util | pico_tarde | não | não | não | não | 271157 | 000135_00 |\n",
       "| 4.751611 | meio   | plano | arterial | sem_infra_ciclo | fim           | via_comum | yes | não | curta | medio       | 00 a 25 graus | 3.004687 | util | pico_tarde | não | não | não | não | 211446 | 000135_00 |\n",
       "| 5.079040 | meio   | plano | arterial | sem_infra_ciclo | inicio        | via_comum | yes | não | curta | grande      | 00 a 25 graus | 1.174983 | util | pico_tarde | não | não | não | não | 211447 | 000135_00 |\n",
       "| 4.070812 | final  | plano | arterial | sem_infra_ciclo | sem_semaforos | via_comum | yes | não | curta | medio       | 00 a 25 graus | 3.503065 | util | pico_tarde | não | não | não | não | 104168 | 000135_00 |\n",
       "| 7.055670 | meio   | plano | arterial | ciclovia        | fim           | via_comum | yes | não | media | curto       | 00 a 25 graus | 0.000000 | util | pico_tarde | não | não | não | não | 161928 | 000138_00 |\n",
       "\n"
      ],
      "text/plain": [
       "  vel_med_m5 inicio_fim cat_grad class_via infra_ciclo     semaforos    \n",
       "1 4.050268   início     plano    arterial  sem_infra_ciclo sem_semaforos\n",
       "2 4.356572   meio       plano    arterial  sem_infra_ciclo sem_semaforos\n",
       "3 4.751611   meio       plano    arterial  sem_infra_ciclo fim          \n",
       "4 5.079040   meio       plano    arterial  sem_infra_ciclo inicio       \n",
       "5 4.070812   final      plano    arterial  sem_infra_ciclo sem_semaforos\n",
       "6 7.055670   meio       plano    arterial  ciclovia        fim          \n",
       "  via_restr osm_oneway contramao cat_dist_total cat_dist_trecho cat_curv     \n",
       "1 via_comum no         não       curta          curto           00 a 25 graus\n",
       "2 via_comum no         não       curta          acima_media     00 a 25 graus\n",
       "3 via_comum yes        não       curta          medio           00 a 25 graus\n",
       "4 via_comum yes        não       curta          grande          00 a 25 graus\n",
       "5 via_comum yes        não       curta          medio           00 a 25 graus\n",
       "6 via_comum yes        não       media          curto           00 a 25 graus\n",
       "  dens_lotes_100m dia_util cat_fx_hora cat_vg_loop cat_vg_exper cat_vg_conm\n",
       "1 2.318142        util     pico_tarde  não         não          não        \n",
       "2 2.318142        util     pico_tarde  não         não          não        \n",
       "3 3.004687        util     pico_tarde  não         não          não        \n",
       "4 1.174983        util     pico_tarde  não         não          não        \n",
       "5 3.503065        util     pico_tarde  não         não          não        \n",
       "6 0.000000        util     pico_tarde  não         não          não        \n",
       "  cat_vg_parq qgis_id trip_id  \n",
       "1 não         271157  000135_00\n",
       "2 não         271157  000135_00\n",
       "3 não         211446  000135_00\n",
       "4 não         211447  000135_00\n",
       "5 não         104168  000135_00\n",
       "6 não         161928  000138_00"
      ]
     },
     "metadata": {},
     "output_type": "display_data"
    }
   ],
   "source": [
    "# ------------------------------------------------------------------------------\n",
    "# Segundo modelo: OLS com regressão simples e random effects\n",
    "# ------------------------------------------------------------------------------\n",
    "\n",
    "base_modelo <- base_modelo %>% select(vel_med_m5,\n",
    "                                      # log_speed ~\n",
    "                                      # sqrt_speed ~\n",
    "                                      inicio_fim, \n",
    "                                      # elev_grad_rev,\n",
    "                                      # I(elev_grad_rev^2),\n",
    "                                      # I(elev_grad_rev^3),\n",
    "                                      cat_grad, \n",
    "                                      class_via,\n",
    "                                      infra_ciclo,\n",
    "                                      semaforos,\n",
    "                                      via_restr,\n",
    "                                      osm_oneway,\n",
    "                                      contramao,\n",
    "                                      # dist_total_km,\n",
    "                                      cat_dist_total,\n",
    "                                      # dist_trecho_quadra,\n",
    "                                      cat_dist_trecho,\n",
    "                                      # curv_h,\n",
    "                                      cat_curv,\n",
    "                                      dens_lotes_100m,\n",
    "                                      # dens_lotes_100m_15m,\n",
    "                                      # dens_lotes_100m_30m,\n",
    "                                      dia_util,\n",
    "                                      cat_fx_hora,\n",
    "                                      cat_vg_loop,\n",
    "                                      cat_vg_exper,\n",
    "                                      cat_vg_conm,\n",
    "                                      cat_vg_parq,\n",
    "                                      qgis_id,\n",
    "                                      trip_id)\n",
    "\n",
    "\n",
    "head(base_modelo)"
   ]
  },
  {
   "cell_type": "code",
   "execution_count": 5,
   "id": "b9bcdf08",
   "metadata": {},
   "outputs": [],
   "source": [
    "# # Checar ordem dos resultados, se serão só somatórias\n",
    "# ols_resultados <- lm(vel_med_m5 ~\n",
    "#                        # log_speed ~\n",
    "#                        # sqrt_speed ~\n",
    "#                        inicio_fim + \n",
    "#                        # elev_grad_rev +\n",
    "#                        # I(elev_grad_rev^2) +\n",
    "#                        # I(elev_grad_rev^3) +\n",
    "#                        cat_grad + \n",
    "#                        class_via +\n",
    "#                        infra_ciclo +\n",
    "#                        semaforos +\n",
    "#                        via_restr +\n",
    "#                        osm_oneway +\n",
    "#                        contramao +\n",
    "#                        # dist_total_km +\n",
    "#                        cat_dist_total +\n",
    "#                        # dist_trecho_quadra +\n",
    "#                        cat_dist_trecho +\n",
    "#                        # curv_h +\n",
    "#                        cat_curv +\n",
    "#                        dens_lotes_100m +\n",
    "#                        # dens_lotes_100m_15m +\n",
    "#                        # dens_lotes_100m_30m +\n",
    "#                        dia_util +\n",
    "#                        cat_fx_hora +\n",
    "#                        cat_vg_loop +\n",
    "#                        cat_vg_exper +\n",
    "#                        cat_vg_conm +\n",
    "#                        cat_vg_parq\n",
    "#                      ,\n",
    "#                      data = base_modelo)\n",
    "\n",
    "# summary(ols_resultados)\n",
    "\n",
    "# gc(T)"
   ]
  },
  {
   "cell_type": "code",
   "execution_count": 6,
   "id": "395e685b",
   "metadata": {},
   "outputs": [
    {
     "data": {
      "text/plain": [
       "[1] \"2023-05-21 16:36:53 -03\""
      ]
     },
     "metadata": {},
     "output_type": "display_data"
    }
   ],
   "source": [
    "(start = Sys.time())"
   ]
  },
  {
   "cell_type": "code",
   "execution_count": 7,
   "id": "2d1135ba",
   "metadata": {},
   "outputs": [
    {
     "name": "stderr",
     "output_type": "stream",
     "text": [
      "Warning message in checkConv(attr(opt, \"derivs\"), opt$par, ctrl = control$checkConv, :\n",
      "“Model failed to converge with max|grad| = 0.00753216 (tol = 0.002, component 1)”\n",
      "\n",
      "Correlation matrix not shown by default, as p = 43 > 12.\n",
      "Use print(obj, correlation=TRUE)  or\n",
      "    vcov(obj)        if you need it\n",
      "\n",
      "\n"
     ]
    },
    {
     "data": {
      "text/plain": [
       "Linear mixed model fit by REML. t-tests use Satterthwaite's method [\n",
       "lmerModLmerTest]\n",
       "Formula: vel_med_m5 ~ inicio_fim + cat_grad + class_via + infra_ciclo +  \n",
       "    semaforos + via_restr + osm_oneway + contramao + cat_dist_total +  \n",
       "    cat_dist_trecho + cat_curv + dens_lotes_100m + dia_util +  \n",
       "    cat_fx_hora + cat_vg_loop + cat_vg_exper + cat_vg_conm +  \n",
       "    cat_vg_parq + (1 | qgis_id) + (1 | trip_id)\n",
       "   Data: base_modelo\n",
       "\n",
       "REML criterion at convergence: 10214724\n",
       "\n",
       "Scaled residuals: \n",
       "    Min      1Q  Median      3Q     Max \n",
       "-6.4197 -0.5842 -0.0148  0.5538 15.3416 \n",
       "\n",
       "Random effects:\n",
       " Groups   Name        Variance Std.Dev.\n",
       " trip_id  (Intercept)  3.571   1.890   \n",
       " qgis_id  (Intercept)  1.280   1.131   \n",
       " Residual             10.927   3.306   \n",
       "Number of obs: 1903888, groups:  trip_id, 177796; qgis_id, 6704\n",
       "\n",
       "Fixed effects:\n",
       "                                  Estimate     Std. Error             df\n",
       "(Intercept)                       7.252981       0.293969    8721.311919\n",
       "inicio_fiminício                 -1.866320       0.014132 1324691.554271\n",
       "inicio_fimfinal                  -5.927916       0.012533 1315515.701386\n",
       "cat_gradsubi_for                  0.123657       0.304071    8654.085232\n",
       "cat_gradsubi_med                  1.049897       0.289297    8790.584363\n",
       "cat_gradsubi_lev                  1.729904       0.280851    8890.773842\n",
       "cat_gradplano                     2.857679       0.278548    8922.270256\n",
       "cat_graddesc_lev                  3.585612       0.280900    8896.916159\n",
       "cat_graddesc_med                  4.098814       0.289773    8848.141315\n",
       "cat_graddesc_for                  4.272474       0.304970    8755.425306\n",
       "cat_graddesc_ver                  3.570954       0.163135 1790579.727478\n",
       "class_vialocal                    0.388965       0.087457    6738.381889\n",
       "class_viacoletora                 0.792313       0.090769    6761.006009\n",
       "class_viaarterial                 0.672970       0.093245    6766.387915\n",
       "class_viaciclo_expressa           4.244244       0.268679    8479.965906\n",
       "infra_ciclociclofaixa             0.351754       0.077014    6518.678724\n",
       "infra_ciclociclovia               0.139447       0.048354    6705.781925\n",
       "semaforosinicio_fim               0.013766       0.074459    6344.845660\n",
       "semaforosinicio                   0.335959       0.057428    6407.753656\n",
       "semaforossem_semaforos            0.583671       0.044791    6488.612939\n",
       "via_restrvia_restrita             0.501401       0.071374    7109.850285\n",
       "osm_onewayyes                     0.165795       0.036147    6912.388404\n",
       "contramaosim                     -0.568915       0.009979 1902238.483284\n",
       "cat_dist_totalacima_media         0.304340       0.022886  124253.260809\n",
       "cat_dist_totallonga               0.516446       0.027073  116773.560534\n",
       "cat_dist_totalmuito_longa         0.812331       0.044418  109092.229949\n",
       "cat_dist_totalcurta              -0.438146       0.011815  191679.739868\n",
       "cat_dist_trechoacima_media        0.512350       0.018545  183074.230083\n",
       "cat_dist_trechogrande             0.389288       0.037357  263520.116422\n",
       "cat_dist_trechomuito_grande      -1.277790       0.083512 1229066.130341\n",
       "cat_dist_trechocurto             -1.767785       0.014964  208602.028563\n",
       "cat_curv25 a 45 graus            -0.175681       0.122735    6452.214301\n",
       "cat_curv45 a 90 graus            -0.470159       0.139767    6510.301669\n",
       "cat_curvacima de 90 graus        -0.401928       0.198639    6572.242386\n",
       "dens_lotes_100m                   0.011381       0.002406    6814.563533\n",
       "dia_utildesc                     -0.457848       0.012674  166785.778066\n",
       "cat_fx_horavale                  -0.467949       0.014296  218724.294008\n",
       "cat_fx_horapico_tarde            -0.490306       0.013897  189531.818456\n",
       "cat_fx_horamadrugada              0.127680       0.026265  213265.201418\n",
       "cat_vg_loopsim                   -0.011995       0.048179  131171.305507\n",
       "cat_vg_expersim                   0.273926       0.035363  159994.282578\n",
       "cat_vg_conmsim                    0.115572       0.011996  193823.640686\n",
       "cat_vg_parqsim                   -0.855125       0.021247  292242.518437\n",
       "                             t value             Pr(>|t|)    \n",
       "(Intercept)                   24.673 < 0.0000000000000002 ***\n",
       "inicio_fiminício            -132.067 < 0.0000000000000002 ***\n",
       "inicio_fimfinal             -472.980 < 0.0000000000000002 ***\n",
       "cat_gradsubi_for               0.407             0.684260    \n",
       "cat_gradsubi_med               3.629             0.000286 ***\n",
       "cat_gradsubi_lev               6.160  0.00000000076138477 ***\n",
       "cat_gradplano                 10.259 < 0.0000000000000002 ***\n",
       "cat_graddesc_lev              12.765 < 0.0000000000000002 ***\n",
       "cat_graddesc_med              14.145 < 0.0000000000000002 ***\n",
       "cat_graddesc_for              14.009 < 0.0000000000000002 ***\n",
       "cat_graddesc_ver              21.890 < 0.0000000000000002 ***\n",
       "class_vialocal                 4.447  0.00000882730907778 ***\n",
       "class_viacoletora              8.729 < 0.0000000000000002 ***\n",
       "class_viaarterial              7.217  0.00000000000058850 ***\n",
       "class_viaciclo_expressa       15.797 < 0.0000000000000002 ***\n",
       "infra_ciclociclofaixa          4.567  0.00000502883263937 ***\n",
       "infra_ciclociclovia            2.884             0.003941 ** \n",
       "semaforosinicio_fim            0.185             0.853329    \n",
       "semaforosinicio                5.850  0.00000000515524749 ***\n",
       "semaforossem_semaforos        13.031 < 0.0000000000000002 ***\n",
       "via_restrvia_restrita          7.025  0.00000000000233965 ***\n",
       "osm_onewayyes                  4.587  0.00000458373397094 ***\n",
       "contramaosim                 -57.009 < 0.0000000000000002 ***\n",
       "cat_dist_totalacima_media     13.298 < 0.0000000000000002 ***\n",
       "cat_dist_totallonga           19.076 < 0.0000000000000002 ***\n",
       "cat_dist_totalmuito_longa     18.288 < 0.0000000000000002 ***\n",
       "cat_dist_totalcurta          -37.083 < 0.0000000000000002 ***\n",
       "cat_dist_trechoacima_media    27.627 < 0.0000000000000002 ***\n",
       "cat_dist_trechogrande         10.421 < 0.0000000000000002 ***\n",
       "cat_dist_trechomuito_grande  -15.301 < 0.0000000000000002 ***\n",
       "cat_dist_trechocurto        -118.139 < 0.0000000000000002 ***\n",
       "cat_curv25 a 45 graus         -1.431             0.152369    \n",
       "cat_curv45 a 90 graus         -3.364             0.000773 ***\n",
       "cat_curvacima de 90 graus     -2.023             0.043071 *  \n",
       "dens_lotes_100m                4.731  0.00000228180487720 ***\n",
       "dia_utildesc                 -36.124 < 0.0000000000000002 ***\n",
       "cat_fx_horavale              -32.734 < 0.0000000000000002 ***\n",
       "cat_fx_horapico_tarde        -35.282 < 0.0000000000000002 ***\n",
       "cat_fx_horamadrugada           4.861  0.00000116730528312 ***\n",
       "cat_vg_loopsim                -0.249             0.803380    \n",
       "cat_vg_expersim                7.746  0.00000000000000954 ***\n",
       "cat_vg_conmsim                 9.634 < 0.0000000000000002 ***\n",
       "cat_vg_parqsim               -40.247 < 0.0000000000000002 ***\n",
       "---\n",
       "Signif. codes:  0 ‘***’ 0.001 ‘**’ 0.01 ‘*’ 0.05 ‘.’ 0.1 ‘ ’ 1\n",
       "optimizer (nloptwrap) convergence code: 0 (OK)\n",
       "Model failed to converge with max|grad| = 0.00753216 (tol = 0.002, component 1)\n"
      ]
     },
     "metadata": {},
     "output_type": "display_data"
    }
   ],
   "source": [
    "ols_resultados <- lmer(vel_med_m5 ~\n",
    "                         # log_speed ~\n",
    "                         # sqrt_speed ~\n",
    "                         inicio_fim + \n",
    "                         # elev_grad_rev +\n",
    "                         # I(elev_grad_rev^2) +\n",
    "                         # I(elev_grad_rev^3) +\n",
    "                         cat_grad + \n",
    "                         class_via +\n",
    "                         infra_ciclo +\n",
    "                         semaforos +\n",
    "                         via_restr +\n",
    "                         osm_oneway +\n",
    "                         contramao +\n",
    "                         # dist_total_km +\n",
    "                         cat_dist_total +\n",
    "                         # dist_trecho_quadra +\n",
    "                         cat_dist_trecho +\n",
    "                         # curv_h +\n",
    "                         cat_curv +\n",
    "                         dens_lotes_100m +\n",
    "                         # dens_lotes_100m_15m +\n",
    "                         # dens_lotes_100m_30m +\n",
    "                         dia_util +\n",
    "                         cat_fx_hora +\n",
    "                         cat_vg_loop +\n",
    "                         cat_vg_exper +\n",
    "                         cat_vg_conm +\n",
    "                         cat_vg_parq +\n",
    "                         (1 | qgis_id) +\n",
    "                         (1 | trip_id)\n",
    "                       ,\n",
    "                       data = base_modelo)\n",
    "\n",
    "summary(ols_resultados)"
   ]
  },
  {
   "cell_type": "code",
   "execution_count": 8,
   "id": "2ca649f4",
   "metadata": {},
   "outputs": [
    {
     "name": "stderr",
     "output_type": "stream",
     "text": [
      "Warning message:\n",
      "“'r.squaredGLMM' now calculates a revised statistic. See the help page.”\n"
     ]
    },
    {
     "data": {
      "text/html": [
       "<table class=\"dataframe\">\n",
       "<caption>A matrix: 1 × 2 of type dbl</caption>\n",
       "<thead>\n",
       "\t<tr><th scope=col>R2m</th><th scope=col>R2c</th></tr>\n",
       "</thead>\n",
       "<tbody>\n",
       "\t<tr><td>0.1972249</td><td>0.4440182</td></tr>\n",
       "</tbody>\n",
       "</table>\n"
      ],
      "text/latex": [
       "A matrix: 1 × 2 of type dbl\n",
       "\\begin{tabular}{ll}\n",
       " R2m & R2c\\\\\n",
       "\\hline\n",
       "\t 0.1972249 & 0.4440182\\\\\n",
       "\\end{tabular}\n"
      ],
      "text/markdown": [
       "\n",
       "A matrix: 1 × 2 of type dbl\n",
       "\n",
       "| R2m | R2c |\n",
       "|---|---|\n",
       "| 0.1972249 | 0.4440182 |\n",
       "\n"
      ],
      "text/plain": [
       "     R2m       R2c      \n",
       "[1,] 0.1972249 0.4440182"
      ]
     },
     "metadata": {},
     "output_type": "display_data"
    },
    {
     "data": {
      "text/html": [
       "1903888"
      ],
      "text/latex": [
       "1903888"
      ],
      "text/markdown": [
       "1903888"
      ],
      "text/plain": [
       "[1] 1903888"
      ]
     },
     "metadata": {},
     "output_type": "display_data"
    },
    {
     "data": {
      "text/html": [
       "10215389.1724142"
      ],
      "text/latex": [
       "10215389.1724142"
      ],
      "text/markdown": [
       "10215389.1724142"
      ],
      "text/plain": [
       "[1] 10215389"
      ]
     },
     "metadata": {},
     "output_type": "display_data"
    },
    {
     "data": {
      "text/plain": [
       "'log Lik.' -5107362 (df=46)"
      ]
     },
     "metadata": {},
     "output_type": "display_data"
    },
    {
     "data": {
      "text/html": [
       "10214816.0396154"
      ],
      "text/latex": [
       "10214816.0396154"
      ],
      "text/markdown": [
       "10214816.0396154"
      ],
      "text/plain": [
       "[1] 10214816"
      ]
     },
     "metadata": {},
     "output_type": "display_data"
    }
   ],
   "source": [
    "MuMIn::r.squaredGLMM(ols_resultados)\n",
    "\n",
    "# https://stats.stackexchange.com/questions/232465/how-to-compare-models-on-the-basis-of-aic\n",
    "nobs(ols_resultados)\n",
    "BIC(ols_resultados)\n",
    "logLik(ols_resultados)\n",
    "AIC(ols_resultados)"
   ]
  },
  {
   "cell_type": "code",
   "execution_count": 9,
   "id": "216619b8",
   "metadata": {},
   "outputs": [
    {
     "data": {
      "text/plain": [
       "[1] \"2023-05-21 17:02:27 -03\""
      ]
     },
     "metadata": {},
     "output_type": "display_data"
    }
   ],
   "source": [
    "Sys.time()"
   ]
  },
  {
   "cell_type": "code",
   "execution_count": 10,
   "id": "1526018a",
   "metadata": {},
   "outputs": [
    {
     "data": {
      "text/plain": [
       "Time difference of 25.56091 mins"
      ]
     },
     "metadata": {},
     "output_type": "display_data"
    }
   ],
   "source": [
    "Sys.time() - start"
   ]
  }
 ],
 "metadata": {
  "kernelspec": {
   "display_name": "R [conda env:r4_env]",
   "language": "R",
   "name": "conda-env-r4_env-r"
  },
  "language_info": {
   "codemirror_mode": "r",
   "file_extension": ".r",
   "mimetype": "text/x-r-source",
   "name": "R",
   "pygments_lexer": "r",
   "version": "4.0.5"
  }
 },
 "nbformat": 4,
 "nbformat_minor": 5
}
